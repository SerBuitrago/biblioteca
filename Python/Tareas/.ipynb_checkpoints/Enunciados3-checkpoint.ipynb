{
 "cells": [
  {
   "cell_type": "markdown",
   "metadata": {},
   "source": [
    "# Tema 03: Control de flujo (Enunciados)\n",
    "*Nota: Estos ejercicios son optativos para hacer al final de la unidad y están pensados para apoyar tu aprendizaje*."
   ]
  },
  {
   "cell_type": "markdown",
   "metadata": {},
   "source": [
    "**1) Realiza un programa que lea dos números por teclado y permita elegir entre 3 opciones en un menú:** \n",
    "* Mostrar una suma de los dos números\n",
    "* Mostrar una resta de los dos números (el primero menos el segundo)\n",
    "* Mostrar una multiplicación de los dos números\n",
    "* En caso de no introducir una opción válida, el programa informará de que no es correcta."
   ]
  },
  {
   "cell_type": "code",
   "execution_count": null,
   "metadata": {},
   "outputs": [],
   "source": [
    "# Completa el ejercicio aquí\n",
    "print(\"Bienvenido al menú interactivo\")\n",
    "while(True):\n",
    "    print(\"\"\"¿Qué quieres hacer? Escribe una opción\n",
    "    1) Suma de dos numeros\n",
    "    2) Resta de dos numeros\n",
    "    3) Multiplicar\"\"\")\n",
    "    opcion = input()\n",
    "    \n",
    "    valor = input(\"Introduce un valor numerico: \")\n",
    "    valor2 =input(\"Introduce otro valor numerico: \")\n",
    "\n",
    "    if opcion == '1':\n",
    "        suma= int(valor)+int(valor2)\n",
    "        print(\"la suma de los 2 numeros es\", suma)\n",
    "        \n",
    "    elif opcion == '2':\n",
    "        resta=int(valor)-int(valor2)\n",
    "        print(\"la resta de los 2 numeros es\", resta)\n",
    "        \n",
    "    elif opcion =='3':\n",
    "        \n",
    "        multi=int(valor)*int(valor2)\n",
    "        print(\"la multiplicacion de los 2 numeros es\", multi)\n",
    "         \n",
    "    else:\n",
    "        print(\"Comando desconocido, vuelve a intentarlo\")\n",
    "        \n"
   ]
  },
  {
   "cell_type": "markdown",
   "metadata": {},
   "source": [
    "**2) Realiza un programa que lea un número impar por teclado. Si el usuario no introduce un número impar, debe repetise el proceso hasta que lo introduzca correctamente.**"
   ]
  },
  {
   "cell_type": "code",
   "execution_count": null,
   "metadata": {},
   "outputs": [],
   "source": [
    "while(True):\n",
    "    valor=int(input(\"Introduce un valor:\"))\n",
    "    valor =  valor % 2\n",
    "    if valor != 0:\n",
    "        print(\"Numero Impar\")\n",
    "        break\n",
    "    else: print(\"Solo recibe numeros impares\")"
   ]
  },
  {
   "cell_type": "markdown",
   "metadata": {},
   "source": [
    "**3) Realiza un programa que sume todos los números enteros pares desde el 0 hasta el 100:**\n",
    "\n",
    "*Sugerencia: Puedes utilizar la funciones sum() y range() para hacerlo más fácil. El tercer parámetro en la función range(inicio, fin, salto) indica un salto de números, pruébalo.*"
   ]
  },
  {
   "cell_type": "code",
   "execution_count": null,
   "metadata": {},
   "outputs": [],
   "source": [
    "x = range(0, 101, 2)\n",
    "l = 0\n",
    "for n in x:\n",
    "    print(n)\n",
    "    l=l+n\n",
    "    print(\"suma\",l)\n"
   ]
  },
  {
   "cell_type": "markdown",
   "metadata": {},
   "source": [
    "**4) Realiza un programa que pida al usuario cuantos números quiere introducir. Luego lee todos los números y realiza una media aritmética:**\n"
   ]
  },
  {
   "cell_type": "code",
   "execution_count": null,
   "metadata": {},
   "outputs": [],
   "source": [
    "numeros = int(input(\"Cuantos números quiere introducir\"))\n",
    "size = numeros\n",
    "tmp = 0\n",
    "while(numeros > 0):\n",
    "    tmp += int(input(\"Ingrese Numeros:\"))\n",
    "    numeros-= 1\n",
    "print(tmp / size)"
   ]
  },
  {
   "cell_type": "markdown",
   "metadata": {},
   "source": [
    "**5) Realiza un programa que pida al usuario un número entero del 0 al 9, y que mientras el número no sea correcto se repita el proceso. Luego debe comprobar si el número se encuentra en la lista de números y notificarlo:**\n",
    "\n",
    "*Consejo: La sintaxis \"valor in lista\" permite comprobar fácilmente si un valor se encuentra en una lista (devuelve True o False)*"
   ]
  },
  {
   "cell_type": "code",
   "execution_count": null,
   "metadata": {},
   "outputs": [],
   "source": [
    "numeros = [1, 3, 6, 9]\n",
    "while(True):\n",
    "    numero = int(input(\"Ingrese Numero: )\n",
    "    if numero>=0 and numero<=9:\n",
    "        try:\n",
    "            isExist = numeros.index(numero)\n",
    "            print(\"El numero existe en la lista\")\n",
    "        except:\n",
    "              print(\"El numero no existe en la lista\")\n",
    "    else: \n",
    "        print(\"El numero debe estar entre el rango de 0 a 9\")\n",
    "    "
   ]
  },
  {
   "cell_type": "markdown",
   "metadata": {},
   "source": [
    "**6) Utilizando la función range() y la conversión a listas genera las siguientes listas dinámicamente:**\n",
    "* Todos los números del 0 al 10 [0, 1, 2, ..., 10]\n",
    "* Todos los números del -10 al 0 [-10, -9, -8, ..., 0]\n",
    "* Todos los números pares del 0 al 20 [0, 2, 4, ..., 20]\n",
    "* Todos los números impares entre -20 y 0 [-19, -17, -15, ..., -1]\n",
    "* Todos los números múltiples de 5 del 0 al 50 [0, 5, 10, ..., 50]\n",
    "\n",
    "*Pista: Utiliza el tercer parámetro de la función range(inicio, fin, salto).*"
   ]
  },
  {
   "cell_type": "code",
   "execution_count": null,
   "metadata": {},
   "outputs": [],
   "source": [
    "def add(i, j, k):\n",
    "    return list(range(i, j+1, k))\n",
    "\n",
    "list_one= add(0, 10, 1)\n",
    "list_two= add(-10, 0, 1)\n",
    "list_three= add(0, 20, 2)\n",
    "list_four= add(-19, 0, 2)\n",
    "list_five= add(0, 50, 5)\n",
    "\n",
    "print(list_one)\n",
    "print(list_two)\n",
    "print(list_three)\n",
    "print(list_four)\n",
    "print(list_five)"
   ]
  },
  {
   "cell_type": "markdown",
   "metadata": {},
   "source": [
    "**7) Dadas dos listas, debes generar una tercera con todos los elementos que se repitan en ellas, pero no debe repetise ningún elemento en la nueva lista:**"
   ]
  },
  {
   "cell_type": "code",
   "execution_count": null,
   "metadata": {},
   "outputs": [],
   "source": [
    "list_one= [\"Sergio\", \"Stives\", 2000, 22, \"Panamericano\"]\n",
    "list_two= [\"Stives\", \"Buitrago\", 2, 2000]\n",
    "list_three= set(list_one + list_two)\n",
    "print(list_three)"
   ]
  }
 ],
 "metadata": {
  "anaconda-cloud": {},
  "kernelspec": {
   "display_name": "Python 3",
   "language": "python",
   "name": "python3"
  },
  "language_info": {
   "codemirror_mode": {
    "name": "ipython",
    "version": 3
   },
   "file_extension": ".py",
   "mimetype": "text/x-python",
   "name": "python",
   "nbconvert_exporter": "python",
   "pygments_lexer": "ipython3",
   "version": "3.8.8"
  }
 },
 "nbformat": 4,
 "nbformat_minor": 1
}
