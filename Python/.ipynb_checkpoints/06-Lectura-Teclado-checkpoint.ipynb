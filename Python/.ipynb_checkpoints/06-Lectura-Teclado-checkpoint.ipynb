{
 "cells": [
  {
   "cell_type": "markdown",
   "id": "3bd6f84d",
   "metadata": {},
   "source": [
    "# 06 - Lectura Teclado\n",
    "Se consigue utilizando las instrucción **input()** que lee y devulve una cadena:"
   ]
  },
  {
   "cell_type": "code",
   "execution_count": null,
   "id": "3f8a97d8",
   "metadata": {},
   "outputs": [],
   "source": []
  }
 ],
 "metadata": {
  "kernelspec": {
   "display_name": "Python 3",
   "language": "python",
   "name": "python3"
  },
  "language_info": {
   "codemirror_mode": {
    "name": "ipython",
    "version": 3
   },
   "file_extension": ".py",
   "mimetype": "text/x-python",
   "name": "python",
   "nbconvert_exporter": "python",
   "pygments_lexer": "ipython3",
   "version": "3.8.8"
  }
 },
 "nbformat": 4,
 "nbformat_minor": 5
}
