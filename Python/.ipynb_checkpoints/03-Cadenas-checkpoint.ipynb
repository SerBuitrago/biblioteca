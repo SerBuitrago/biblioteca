{
 "cells": [
  {
   "cell_type": "markdown",
   "id": "147aca3f",
   "metadata": {},
   "source": [
    "# 03 - Cadenas"
   ]
  },
  {
   "cell_type": "code",
   "execution_count": 1,
   "id": "5a803116",
   "metadata": {},
   "outputs": [
    {
     "data": {
      "text/plain": [
       "'Hola Mundo'"
      ]
     },
     "execution_count": 1,
     "metadata": {},
     "output_type": "execute_result"
    }
   ],
   "source": [
    "'Hola Mundo'"
   ]
  },
  {
   "cell_type": "code",
   "execution_count": 2,
   "id": "1ed56a85",
   "metadata": {},
   "outputs": [
    {
     "data": {
      "text/plain": [
       "'Hola Mundo'"
      ]
     },
     "execution_count": 2,
     "metadata": {},
     "output_type": "execute_result"
    }
   ],
   "source": [
    "\"Hola Mundo\""
   ]
  },
  {
   "cell_type": "code",
   "execution_count": 3,
   "id": "f41fdd7d",
   "metadata": {},
   "outputs": [
    {
     "data": {
      "text/plain": [
       "'Este texto incluye unas \" \"'"
      ]
     },
     "execution_count": 3,
     "metadata": {},
     "output_type": "execute_result"
    }
   ],
   "source": [
    "'Este texto incluye unas \" \"'"
   ]
  },
  {
   "cell_type": "code",
   "execution_count": 4,
   "id": "b1f5383f",
   "metadata": {},
   "outputs": [
    {
     "data": {
      "text/plain": [
       "\"Esta 'palabra' se encuentra escrita entre comillas simples\""
      ]
     },
     "execution_count": 4,
     "metadata": {},
     "output_type": "execute_result"
    }
   ],
   "source": [
    "\"Esta 'palabra' se encuentra escrita entre comillas simples\""
   ]
  },
  {
   "cell_type": "markdown",
   "id": "0e3c7a6c",
   "metadata": {},
   "source": [
    "#### Escapar caracter"
   ]
  },
  {
   "cell_type": "code",
   "execution_count": 5,
   "id": "7bfd8dab",
   "metadata": {},
   "outputs": [
    {
     "data": {
      "text/plain": [
       "'Esta \"palabra\" se encuentra entre comillas dobles y escapada'"
      ]
     },
     "execution_count": 5,
     "metadata": {},
     "output_type": "execute_result"
    }
   ],
   "source": [
    "\"Esta \\\"palabra\\\" se encuentra entre comillas dobles y escapada\""
   ]
  },
  {
   "cell_type": "code",
   "execution_count": 6,
   "id": "8d29c34d",
   "metadata": {},
   "outputs": [
    {
     "data": {
      "text/plain": [
       "\"Esta 'palabra' se encuentra entre comillas simple y escapada\""
      ]
     },
     "execution_count": 6,
     "metadata": {},
     "output_type": "execute_result"
    }
   ],
   "source": [
    "'Esta \\'palabra\\' se encuentra entre comillas simple y escapada'"
   ]
  },
  {
   "cell_type": "markdown",
   "id": "30a8735e",
   "metadata": {},
   "source": [
    "#### Multiplicación\n",
    "\n",
    "Es posible multiplicar una cadena, lo que hace es repetir el contenido de la cadena indicada por la cantidad que se quiere."
   ]
  },
  {
   "cell_type": "code",
   "execution_count": 9,
   "id": "0010de7b",
   "metadata": {},
   "outputs": [
    {
     "data": {
      "text/plain": [
       "'Hola Mundo Hola Mundo Hola Mundo '"
      ]
     },
     "execution_count": 9,
     "metadata": {},
     "output_type": "execute_result"
    }
   ],
   "source": [
    "\"Hola Mundo \" * 3"
   ]
  },
  {
   "cell_type": "markdown",
   "id": "0b1e5d82",
   "metadata": {},
   "source": [
    "## Funciones Cadenas"
   ]
  },
  {
   "cell_type": "markdown",
   "id": "5044fe94",
   "metadata": {},
   "source": [
    "### Indice\n",
    "Los índices nos permiten posicionarnos en un carácter específico de una cadena.\n",
    "\n",
    "Representan un numero [índice], empezando por el 0 el carácter de la primera posición y así sucesivamente."
   ]
  },
  {
   "cell_type": "code",
   "execution_count": 10,
   "id": "fb04c65e",
   "metadata": {},
   "outputs": [],
   "source": [
    "palabra = \"Python\""
   ]
  },
  {
   "cell_type": "code",
   "execution_count": 12,
   "id": "c78c5492",
   "metadata": {},
   "outputs": [
    {
     "data": {
      "text/plain": [
       "'P'"
      ]
     },
     "execution_count": 12,
     "metadata": {},
     "output_type": "execute_result"
    }
   ],
   "source": [
    "palabra[0]"
   ]
  },
  {
   "cell_type": "code",
   "execution_count": 13,
   "id": "50baeb14",
   "metadata": {},
   "outputs": [
    {
     "data": {
      "text/plain": [
       "'y'"
      ]
     },
     "execution_count": 13,
     "metadata": {},
     "output_type": "execute_result"
    }
   ],
   "source": [
    "palabra[1]"
   ]
  },
  {
   "cell_type": "markdown",
   "id": "01712de0",
   "metadata": {},
   "source": [
    "El índice negativo hace comenzar desde la penúltima a la primera, entonces **-1** es la última posición."
   ]
  },
  {
   "cell_type": "code",
   "execution_count": 14,
   "id": "25c7589f",
   "metadata": {},
   "outputs": [
    {
     "data": {
      "text/plain": [
       "'n'"
      ]
     },
     "execution_count": 14,
     "metadata": {},
     "output_type": "execute_result"
    }
   ],
   "source": [
    "palabra[-1]"
   ]
  },
  {
   "cell_type": "code",
   "execution_count": 15,
   "id": "f187a7bf",
   "metadata": {},
   "outputs": [
    {
     "data": {
      "text/plain": [
       "'o'"
      ]
     },
     "execution_count": 15,
     "metadata": {},
     "output_type": "execute_result"
    }
   ],
   "source": [
    "palabra[-2]"
   ]
  },
  {
   "cell_type": "markdown",
   "id": "549951d3",
   "metadata": {},
   "source": [
    "### Slicing\n",
    "Es una capacidad de las cadenas que devuelve un subconjunto o subcadena utilizando dos índices [**inicio**:**fin**]\n",
    "* El primer indice indica donde empieza la subcadena (Se incluye el caracter)\n",
    "* El segundo indice indica donde acaba la subcadena (Se excluye el caracter)"
   ]
  },
  {
   "cell_type": "code",
   "execution_count": 16,
   "id": "c547272f",
   "metadata": {},
   "outputs": [],
   "source": [
    "palabra = \"Python\""
   ]
  },
  {
   "cell_type": "code",
   "execution_count": 17,
   "id": "6fcc3877",
   "metadata": {},
   "outputs": [
    {
     "data": {
      "text/plain": [
       "'Py'"
      ]
     },
     "execution_count": 17,
     "metadata": {},
     "output_type": "execute_result"
    }
   ],
   "source": [
    "palabra[0:2]"
   ]
  },
  {
   "cell_type": "code",
   "execution_count": 18,
   "id": "d277790d",
   "metadata": {},
   "outputs": [
    {
     "data": {
      "text/plain": [
       "'thon'"
      ]
     },
     "execution_count": 18,
     "metadata": {},
     "output_type": "execute_result"
    }
   ],
   "source": [
    "palabra[2:]"
   ]
  },
  {
   "cell_type": "code",
   "execution_count": 19,
   "id": "7487ee35",
   "metadata": {},
   "outputs": [
    {
     "data": {
      "text/plain": [
       "'Py'"
      ]
     },
     "execution_count": 19,
     "metadata": {},
     "output_type": "execute_result"
    }
   ],
   "source": [
    "palabra[:2]"
   ]
  },
  {
   "cell_type": "code",
   "execution_count": 20,
   "id": "5328f20b",
   "metadata": {},
   "outputs": [
    {
     "data": {
      "text/plain": [
       "'Python'"
      ]
     },
     "execution_count": 20,
     "metadata": {},
     "output_type": "execute_result"
    }
   ],
   "source": [
    "palabra[:]"
   ]
  },
  {
   "cell_type": "code",
   "execution_count": 21,
   "id": "7abb8406",
   "metadata": {},
   "outputs": [
    {
     "data": {
      "text/plain": [
       "'on'"
      ]
     },
     "execution_count": 21,
     "metadata": {},
     "output_type": "execute_result"
    }
   ],
   "source": [
    "palabra[-2:]"
   ]
  },
  {
   "cell_type": "markdown",
   "id": "cee9525c",
   "metadata": {},
   "source": [
    "#### Inmutabilidad\n",
    "Una propiedad de las cadenas es que no se pueden modificar. Si intentamos reeasignar un caracter, no nos dejara:"
   ]
  },
  {
   "cell_type": "code",
   "execution_count": 22,
   "id": "201b24e6",
   "metadata": {},
   "outputs": [
    {
     "ename": "TypeError",
     "evalue": "'str' object does not support item assignment",
     "output_type": "error",
     "traceback": [
      "\u001b[1;31m---------------------------------------------------------------------------\u001b[0m",
      "\u001b[1;31mTypeError\u001b[0m                                 Traceback (most recent call last)",
      "\u001b[1;32m<ipython-input-22-59c3697fa6c2>\u001b[0m in \u001b[0;36m<module>\u001b[1;34m\u001b[0m\n\u001b[1;32m----> 1\u001b[1;33m \u001b[0mpalabra\u001b[0m\u001b[1;33m[\u001b[0m\u001b[1;36m0\u001b[0m\u001b[1;33m]\u001b[0m \u001b[1;33m=\u001b[0m \u001b[1;34m\"N\"\u001b[0m\u001b[1;33m\u001b[0m\u001b[1;33m\u001b[0m\u001b[0m\n\u001b[0m",
      "\u001b[1;31mTypeError\u001b[0m: 'str' object does not support item assignment"
     ]
    }
   ],
   "source": [
    "palabra[0] = \"N\""
   ]
  },
  {
   "cell_type": "markdown",
   "id": "6e3056e5",
   "metadata": {},
   "source": [
    "Si se desea cambiar el primer valor de la cadena se tiene que hacer"
   ]
  },
  {
   "cell_type": "code",
   "execution_count": 23,
   "id": "41b967e4",
   "metadata": {},
   "outputs": [],
   "source": [
    "palabra= \"Python\""
   ]
  },
  {
   "cell_type": "code",
   "execution_count": 24,
   "id": "607a5e70",
   "metadata": {},
   "outputs": [
    {
     "data": {
      "text/plain": [
       "'Nython'"
      ]
     },
     "execution_count": 24,
     "metadata": {},
     "output_type": "execute_result"
    }
   ],
   "source": [
    "\"N\" + palabra[1:]"
   ]
  },
  {
   "cell_type": "markdown",
   "id": "82e8a76d",
   "metadata": {},
   "source": [
    "### Len\n",
    "Nos permite saber la longitud de una cadena (El numero de caracteres que contienen)"
   ]
  },
  {
   "cell_type": "code",
   "execution_count": 25,
   "id": "552ed87f",
   "metadata": {},
   "outputs": [],
   "source": [
    "palabra= \"Python\""
   ]
  },
  {
   "cell_type": "code",
   "execution_count": 26,
   "id": "c6a1e6a1",
   "metadata": {},
   "outputs": [
    {
     "data": {
      "text/plain": [
       "6"
      ]
     },
     "execution_count": 26,
     "metadata": {},
     "output_type": "execute_result"
    }
   ],
   "source": [
    "len(palabra)"
   ]
  },
  {
   "cell_type": "code",
   "execution_count": null,
   "id": "cca89b99",
   "metadata": {},
   "outputs": [],
   "source": []
  }
 ],
 "metadata": {
  "kernelspec": {
   "display_name": "Python 3",
   "language": "python",
   "name": "python3"
  },
  "language_info": {
   "codemirror_mode": {
    "name": "ipython",
    "version": 3
   },
   "file_extension": ".py",
   "mimetype": "text/x-python",
   "name": "python",
   "nbconvert_exporter": "python",
   "pygments_lexer": "ipython3",
   "version": "3.8.8"
  }
 },
 "nbformat": 4,
 "nbformat_minor": 5
}
