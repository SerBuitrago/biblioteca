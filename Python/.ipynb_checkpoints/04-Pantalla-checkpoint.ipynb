{
 "cells": [
  {
   "cell_type": "markdown",
   "id": "5d45bd53",
   "metadata": {},
   "source": [
    "# 04 - Pantalla\n",
    "Para mostrar una valor en la pantalla de utiliza la función **print()**.\n",
    "\n",
    "Es una instrucción que nos permite mostrar correctamente el valor de una cadena (u otros valores/variables) por pantalla."
   ]
  },
  {
   "cell_type": "code",
   "execution_count": 1,
   "id": "0791be4f",
   "metadata": {},
   "outputs": [
    {
     "data": {
      "text/plain": [
       "10"
      ]
     },
     "execution_count": 1,
     "metadata": {},
     "output_type": "execute_result"
    }
   ],
   "source": [
    "\"Hola Mundo\"\n",
    "m = 10\n",
    "m"
   ]
  },
  {
   "cell_type": "code",
   "execution_count": 2,
   "id": "598d7b12",
   "metadata": {},
   "outputs": [
    {
     "name": "stdout",
     "output_type": "stream",
     "text": [
      "Hola Mundo\n",
      "10\n"
     ]
    }
   ],
   "source": [
    "print(\"Hola Mundo\")\n",
    "print(m)"
   ]
  },
  {
   "cell_type": "markdown",
   "id": "d9d07f6f",
   "metadata": {},
   "source": [
    "Acepta caracteres especiales:\n",
    "* **/t**: Tabulación\n",
    "* **/n**: Salto de linea\n",
    "* **r**: Cadena cruda"
   ]
  },
  {
   "cell_type": "code",
   "execution_count": 3,
   "id": "7a8c5c50",
   "metadata": {},
   "outputs": [
    {
     "name": "stdout",
     "output_type": "stream",
     "text": [
      "Un texto \tuna tabulación\n"
     ]
    }
   ],
   "source": [
    "print(\"Un texto \\tuna tabulación\")"
   ]
  },
  {
   "cell_type": "code",
   "execution_count": 4,
   "id": "60e4fd7e",
   "metadata": {},
   "outputs": [
    {
     "name": "stdout",
     "output_type": "stream",
     "text": [
      "Un texto\n",
      "una nueva linea\n"
     ]
    }
   ],
   "source": [
    "print(\"Un texto\\nuna nueva linea\")"
   ]
  },
  {
   "cell_type": "code",
   "execution_count": 5,
   "id": "11472eb0",
   "metadata": {},
   "outputs": [
    {
     "name": "stdout",
     "output_type": "stream",
     "text": [
      "C:\n",
      "ombre\\directorio\n",
      "C:\\nombre\\directorio\n"
     ]
    }
   ],
   "source": [
    "print(\"C:\\nombre\\directorio\")\n",
    "print(r\"C:\\nombre\\directorio\")"
   ]
  },
  {
   "cell_type": "code",
   "execution_count": null,
   "id": "72090c32",
   "metadata": {},
   "outputs": [],
   "source": []
  }
 ],
 "metadata": {
  "kernelspec": {
   "display_name": "Python 3",
   "language": "python",
   "name": "python3"
  },
  "language_info": {
   "codemirror_mode": {
    "name": "ipython",
    "version": 3
   },
   "file_extension": ".py",
   "mimetype": "text/x-python",
   "name": "python",
   "nbconvert_exporter": "python",
   "pygments_lexer": "ipython3",
   "version": "3.8.8"
  }
 },
 "nbformat": 4,
 "nbformat_minor": 5
}
