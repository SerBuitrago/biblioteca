{
 "cells": [
  {
   "cell_type": "markdown",
   "id": "7dd6c159",
   "metadata": {},
   "source": [
    "# Mineria de Datos"
   ]
  },
  {
   "cell_type": "markdown",
   "id": "1e046d45",
   "metadata": {},
   "source": [
    "> ## Conceptos"
   ]
  },
  {
   "cell_type": "markdown",
   "id": "eeff7d7a",
   "metadata": {},
   "source": [
    "- **Supervisados**: Es por que hay algo que me ayuda  a supervisar a decir que si lo que se esta haciendo esta bien o lo esta haciendo mal, ese algo es la repuesta que biene con datos, es facil de saber si se esta equivocando de su decisión. Comparo con otras respuestas y llego a una respuesta.\n",
    "    - **Clasificación**: Es cuando se va a predecir una categoria, tambien esta el reconocimiento de imagenes.\n",
    "    - **Regresión**: Es cuando se va a predecir un numero que puede ser continuo. \n",
    "    \n",
    "        **Ejemplo:** El valor de una casa, el valor de las ventas o compras.\n",
    "\n",
    "\n",
    "- **No Supervisados**: Son aquellos que esa respuesta no viene, problemas de agrupamiento (Clientes buenos, malos y regulares), asociasiones entre datos \n",
    "    \n",
    "    **Por ejemplo:** los que compran de noche compra huevos.\n",
    "\n",
    "\n",
    "- **Reforzamiento**: Son los que van construyendo la data apartir de experiencia o interación que tienen con el medio ambiente.\n",
    "\n",
    "    Se usa en juegos el va interactuando con los usuarios (Jugadores) las jugadas que son buenas tiene un premio y las que son malas son castigadas.\n",
    "    \n",
    "    Apartir de esas jugadas el va aprender de esas experiencias, como aprende el cuando cometio esa jugada sabe si es mala y puede evitarla."
   ]
  },
  {
   "cell_type": "markdown",
   "id": "5b651963",
   "metadata": {},
   "source": [
    "### Fases Proyecto Machine Learning\n",
    "\n",
    "- Definir objetivos.\n",
    "- Obtener datos.\n",
    "- Analisis exploratorios de los datos.\n",
    "- Modelo.\n",
    "- Ajustar el modelo.\n",
    "- Hacer despliegue del modelo."
   ]
  },
  {
   "cell_type": "markdown",
   "id": "2b50b9cb",
   "metadata": {},
   "source": [
    "### Métodos de escalado de datos numéricos \n",
    "\n",
    "- **Normalización**: Es un cambio de escala de los datos del rango original para que todos los valores estén dentro del nuevo rango de **0** y **1**. \n",
    "\n",
    "  Requiere que conozca o sea capaz de estimar con precisión los valores observables mínimo y máximo. Es posible que pueda estimar estos valores a partir de sus datos disponibles.\n",
    "\n",
    "  Un valor se normaliza de la siguiente manera: \n",
    "\n",
    "                      y = (x – min) / (max – min)\n",
    "                      \n",
    "  - Va dar **1** cuando x = max\n",
    "  - Va dar **0** cuando x = min\n",
    "  \n",
    "  Donde los valores mínimo y máximo pertenecen al valor **x** que se está normalizando.\n",
    "\n",
    "    **Por ejemplo**, para un conjunto de datos, podríamos estimar los valores observables mínimo y máximo como 30 y -10. Entonces podemos normalizar cualquier valor, como sigue:\n",
    "\n",
    "                     y = (x - min) / (max - min)\n",
    "                     y = (18,8 - (-10)) / (30 - (-10))\n",
    "                     y = 28,8 / 40\n",
    "                     y = 0,72 \n",
    "  \n",
    "  #### Se Usa: \n",
    "  \n",
    "  from numpy import asarray from sklearn.preprocessing import MinMaxScaler\n",
    "  \n",
    "   data = asarray([[100, 0.001], [8, 0.05], [50, 0.005], [88, 0.07], [4, 0.1]]) print(data)\n",
    "   \n",
    "    scaler = **MinMaxScaler()**\n",
    "    \n",
    "    scaled = scaler.fit_transform(data) print(scaled)\n",
    "    \n",
    " \n",
    "- **Estandarización**: Un conjunto de datos implica reescalar la distribución de valores para que la **media** de los valores observados sea **0** y la **desviación** estándar sea **1**. \n",
    "\n",
    "    Esto se puede considerar restar el valor medio o centrar los datos.\n",
    "\n",
    "    Al igual que la normalización, la estandarización puede ser útil e incluso necesaria en algunos algoritmos de aprendizaje automático cuando sus datos tienen valores de entrada con diferentes escalas.\n",
    "\n",
    "    La estandarización supone que sus observaciones se ajustan a una distribución gaussiana (curva de campana) con una media y una desviación estándar de buen comportamiento. Aún puede estandarizar sus datos si no se cumple esta expectativa, pero es posible que no obtenga resultados confiables. \n",
    "    \n",
    "    Un valor se estandariza de la siguiente manera:\n",
    "    \n",
    "                    y = (x – mean) / standard_deviation\n",
    "           \n",
    "    Donde la media se calcula como:\n",
    "                \n",
    "                    mean = sum(x) / count(x)\n",
    "                    \n",
    "    Y la desviación estándar se calcula como: \n",
    "    \n",
    "          standard_deviation = sqrt( sum( (x – mean)^2 ) / count(x))\n",
    "    \n",
    "    **Por ejemplo**: Podemos estimar una media de 10.0 y una desviación estándar de aproximadamente 5.0. Usando estos valores, podemos estandarizar el primer valor de 20,7 de la siguiente manera: \n",
    "    \n",
    "                    y = (x – mean) / standard_deviation\n",
    "                    y = (20.7 – 10) / 5\n",
    "                    y = (10.7) / 5\n",
    "                    y = 2.14\n",
    "                    \n",
    "    Las estimaciones de la desviación estándar y media de un conjunto de datos pueden ser más robustas para los datos nuevos que el mínimo y el máximo.\n",
    "\n",
    "    Puede estandarizar su conjunto de datos utilizando el objeto scikit-learn StandardScaler. \n",
    "    \n",
    "    ### Se usa:\n",
    "    from numpy import asarray from sklearn.preprocessing import StandardScaler\n",
    "\n",
    "    data = asarray([[100, 0.001], [8, 0.05], [50, 0.005], [88, 0.07], [4, 0.1]]) print(data)\n",
    "\n",
    "    scaler = **StandardScaler()**\n",
    "\n",
    "    scaled = scaler.fit_transform(data) print(scaled)"
   ]
  },
  {
   "cell_type": "markdown",
   "id": "f9d51356",
   "metadata": {},
   "source": [
    "> ## Instalaciones"
   ]
  },
  {
   "cell_type": "code",
   "execution_count": null,
   "id": "afb85874",
   "metadata": {},
   "outputs": [],
   "source": [
    "conda install matplotlib"
   ]
  },
  {
   "cell_type": "markdown",
   "id": "162fdf00",
   "metadata": {},
   "source": [
    "> ## Importaciones"
   ]
  },
  {
   "cell_type": "code",
   "execution_count": 60,
   "id": "35ad66da",
   "metadata": {},
   "outputs": [],
   "source": [
    "import pandas as pd\n",
    "\n",
    "import numpy as np\n",
    "\n",
    "import matplotlib.pyplot as plt\n",
    "\n",
    "## GRAFICAR LA CORRELACIÓN\n",
    "import seaborn as sns\n",
    "\n",
    "## CONVERTIDOR\n",
    "from sklearn.preprocessing import LabelEncoder\n",
    "\n",
    "## NORMALIZACIÓN Y ESTADARIZACIÓN\n",
    "from sklearn.preprocessing import MinMaxScaler\n",
    "from sklearn.preprocessing import StandardScaler"
   ]
  },
  {
   "cell_type": "markdown",
   "id": "7885a124",
   "metadata": {},
   "source": [
    "> # Funciones"
   ]
  },
  {
   "cell_type": "markdown",
   "id": "3ddae4b8",
   "metadata": {},
   "source": [
    "### Elimina una categoria de una columna categorica."
   ]
  },
  {
   "cell_type": "code",
   "execution_count": 46,
   "id": "3fd5137c",
   "metadata": {},
   "outputs": [],
   "source": [
    "def createDummies(df, var_name):\n",
    "    dummy = pd.get_dummies(df[var_name], prefix=var_name, drop_first=True)\n",
    "    df = df.drop(var_name, axis = 1)\n",
    "    df = pd.concat([df, dummy], axis = 1)\n",
    "    return df"
   ]
  },
  {
   "cell_type": "markdown",
   "id": "aec20d7f",
   "metadata": {},
   "source": [
    "### Convierte  DataFrame Categorico a 1 o 0\n",
    "\n",
    "Permite convertir:\n",
    "- Yes: 1\n",
    "- No: 0"
   ]
  },
  {
   "cell_type": "code",
   "execution_count": 55,
   "id": "7e291386",
   "metadata": {},
   "outputs": [],
   "source": [
    "def convertLabelEncoderZeroOrOne(y):\n",
    "    sc_y = LabelEncoder()\n",
    "    sc_y.fit(y)\n",
    "    y = sc_y.transform(y)\n",
    "    return y"
   ]
  },
  {
   "cell_type": "markdown",
   "id": "f4d23bf1",
   "metadata": {},
   "source": [
    "### Concatenar DataFrame"
   ]
  },
  {
   "cell_type": "code",
   "execution_count": 116,
   "id": "4909a15a",
   "metadata": {},
   "outputs": [],
   "source": [
    "def concatDataFrames(df, df2, cols):\n",
    "    df = df.drop(columns = cols)\n",
    "    df = pd.concat([df, df2], axis= 1)\n",
    "    return df"
   ]
  },
  {
   "cell_type": "markdown",
   "id": "37ded41b",
   "metadata": {},
   "source": [
    "### Calcular IQR"
   ]
  },
  {
   "cell_type": "code",
   "execution_count": 138,
   "id": "3b9114e8",
   "metadata": {},
   "outputs": [],
   "source": [
    "def get_iqr_values(df_in, col_name):\n",
    "    median = df_in[col_name].median()\n",
    "    q1 = df_in[col_name].quantile(0.25) # 25th percentile / 1st quartile\n",
    "    q3 = df_in[col_name].quantile(0.75) # 7th percentile / 3rd quartile\n",
    "    iqr = q3-q1 #Interquartile range\n",
    "    minimum  = q1-1.5*iqr # The minimum value or the |- marker in the box plot\n",
    "    maximum = q3+1.5*iqr # The maximum value or the -| marker in the box plot\n",
    "    return median, q1, q3, iqr, minimum, maximum\n",
    "\n",
    "def get_iqr_text(df_in, col_name):\n",
    "    median, q1, q3, iqr, minimum, maximum = get_iqr_values(df_in, col_name)\n",
    "    text = f\"median={median:.2f}, q1={q1:.2f}, q3={q3:.2f}, iqr={iqr:.2f}, minimum={minimum:.2f}, maximum={maximum:.2f}\"\n",
    "    return text\n",
    "\n",
    "def remove_outliers(df_in, col_name):\n",
    "    _, _, _, _, minimum, maximum = get_iqr_values(df_in, col_name)\n",
    "    df_out = df_in.loc[(df_in[col_name] > minimum) & (df_in[col_name] < maximum)]\n",
    "    return df_out\n",
    "\n",
    "def count_outliers(df_in, col_name):\n",
    "    _, _, _, _, minimum, maximum = get_iqr_values(df_in, col_name)\n",
    "    df_outliers = df_in.loc[(df_in[col_name] <= minimum) | (df_in[col_name] >= maximum)]\n",
    "    return df_outliers.shape[0]\n",
    "\n",
    "def box_and_whisker(df_in, col_name):\n",
    "    title = get_iqr_text(df_in, col_name)\n",
    "    sns.boxplot(df_in[col_name])\n",
    "    plt.title(title)\n",
    "    plt.show()"
   ]
  },
  {
   "cell_type": "markdown",
   "id": "db8306d0",
   "metadata": {},
   "source": [
    "> # Ejercicio Compra o No Compra"
   ]
  },
  {
   "cell_type": "markdown",
   "id": "2d1b3ad6",
   "metadata": {},
   "source": [
    "## Cargar DataSet"
   ]
  },
  {
   "cell_type": "code",
   "execution_count": 151,
   "id": "36039b8a",
   "metadata": {},
   "outputs": [],
   "source": [
    "df = pd.read_csv(\"data/01-data.csv\")"
   ]
  },
  {
   "cell_type": "markdown",
   "id": "678473ae",
   "metadata": {},
   "source": [
    "Para saber si leyo el archivo"
   ]
  },
  {
   "cell_type": "code",
   "execution_count": 152,
   "id": "23aa1ccb",
   "metadata": {},
   "outputs": [
    {
     "data": {
      "text/html": [
       "<div>\n",
       "<style scoped>\n",
       "    .dataframe tbody tr th:only-of-type {\n",
       "        vertical-align: middle;\n",
       "    }\n",
       "\n",
       "    .dataframe tbody tr th {\n",
       "        vertical-align: top;\n",
       "    }\n",
       "\n",
       "    .dataframe thead th {\n",
       "        text-align: right;\n",
       "    }\n",
       "</style>\n",
       "<table border=\"1\" class=\"dataframe\">\n",
       "  <thead>\n",
       "    <tr style=\"text-align: right;\">\n",
       "      <th></th>\n",
       "      <th>Country</th>\n",
       "      <th>Age</th>\n",
       "      <th>Salary</th>\n",
       "      <th>Purchased</th>\n",
       "    </tr>\n",
       "  </thead>\n",
       "  <tbody>\n",
       "    <tr>\n",
       "      <th>0</th>\n",
       "      <td>France</td>\n",
       "      <td>44.0</td>\n",
       "      <td>72000.0</td>\n",
       "      <td>No</td>\n",
       "    </tr>\n",
       "    <tr>\n",
       "      <th>1</th>\n",
       "      <td>Spain</td>\n",
       "      <td>27.0</td>\n",
       "      <td>48000.0</td>\n",
       "      <td>Yes</td>\n",
       "    </tr>\n",
       "    <tr>\n",
       "      <th>2</th>\n",
       "      <td>Germany</td>\n",
       "      <td>30.0</td>\n",
       "      <td>54000.0</td>\n",
       "      <td>No</td>\n",
       "    </tr>\n",
       "    <tr>\n",
       "      <th>3</th>\n",
       "      <td>Spain</td>\n",
       "      <td>38.0</td>\n",
       "      <td>61000.0</td>\n",
       "      <td>No</td>\n",
       "    </tr>\n",
       "    <tr>\n",
       "      <th>4</th>\n",
       "      <td>Germany</td>\n",
       "      <td>40.0</td>\n",
       "      <td>NaN</td>\n",
       "      <td>Yes</td>\n",
       "    </tr>\n",
       "    <tr>\n",
       "      <th>5</th>\n",
       "      <td>France</td>\n",
       "      <td>35.0</td>\n",
       "      <td>58000.0</td>\n",
       "      <td>Yes</td>\n",
       "    </tr>\n",
       "    <tr>\n",
       "      <th>6</th>\n",
       "      <td>Spain</td>\n",
       "      <td>NaN</td>\n",
       "      <td>52000.0</td>\n",
       "      <td>No</td>\n",
       "    </tr>\n",
       "    <tr>\n",
       "      <th>7</th>\n",
       "      <td>France</td>\n",
       "      <td>48.0</td>\n",
       "      <td>79000.0</td>\n",
       "      <td>Yes</td>\n",
       "    </tr>\n",
       "    <tr>\n",
       "      <th>8</th>\n",
       "      <td>Germany</td>\n",
       "      <td>50.0</td>\n",
       "      <td>83000.0</td>\n",
       "      <td>No</td>\n",
       "    </tr>\n",
       "    <tr>\n",
       "      <th>9</th>\n",
       "      <td>France</td>\n",
       "      <td>37.0</td>\n",
       "      <td>67000.0</td>\n",
       "      <td>Yes</td>\n",
       "    </tr>\n",
       "  </tbody>\n",
       "</table>\n",
       "</div>"
      ],
      "text/plain": [
       "   Country   Age   Salary Purchased\n",
       "0   France  44.0  72000.0        No\n",
       "1    Spain  27.0  48000.0       Yes\n",
       "2  Germany  30.0  54000.0        No\n",
       "3    Spain  38.0  61000.0        No\n",
       "4  Germany  40.0      NaN       Yes\n",
       "5   France  35.0  58000.0       Yes\n",
       "6    Spain   NaN  52000.0        No\n",
       "7   France  48.0  79000.0       Yes\n",
       "8  Germany  50.0  83000.0        No\n",
       "9   France  37.0  67000.0       Yes"
      ]
     },
     "execution_count": 152,
     "metadata": {},
     "output_type": "execute_result"
    }
   ],
   "source": [
    "df"
   ]
  },
  {
   "cell_type": "markdown",
   "id": "0ff51411",
   "metadata": {},
   "source": [
    "La función **head()** permite visualizar los 5 primeras entradas."
   ]
  },
  {
   "cell_type": "code",
   "execution_count": 153,
   "id": "14e038e0",
   "metadata": {},
   "outputs": [
    {
     "data": {
      "text/html": [
       "<div>\n",
       "<style scoped>\n",
       "    .dataframe tbody tr th:only-of-type {\n",
       "        vertical-align: middle;\n",
       "    }\n",
       "\n",
       "    .dataframe tbody tr th {\n",
       "        vertical-align: top;\n",
       "    }\n",
       "\n",
       "    .dataframe thead th {\n",
       "        text-align: right;\n",
       "    }\n",
       "</style>\n",
       "<table border=\"1\" class=\"dataframe\">\n",
       "  <thead>\n",
       "    <tr style=\"text-align: right;\">\n",
       "      <th></th>\n",
       "      <th>Country</th>\n",
       "      <th>Age</th>\n",
       "      <th>Salary</th>\n",
       "      <th>Purchased</th>\n",
       "    </tr>\n",
       "  </thead>\n",
       "  <tbody>\n",
       "    <tr>\n",
       "      <th>0</th>\n",
       "      <td>France</td>\n",
       "      <td>44.0</td>\n",
       "      <td>72000.0</td>\n",
       "      <td>No</td>\n",
       "    </tr>\n",
       "    <tr>\n",
       "      <th>1</th>\n",
       "      <td>Spain</td>\n",
       "      <td>27.0</td>\n",
       "      <td>48000.0</td>\n",
       "      <td>Yes</td>\n",
       "    </tr>\n",
       "    <tr>\n",
       "      <th>2</th>\n",
       "      <td>Germany</td>\n",
       "      <td>30.0</td>\n",
       "      <td>54000.0</td>\n",
       "      <td>No</td>\n",
       "    </tr>\n",
       "    <tr>\n",
       "      <th>3</th>\n",
       "      <td>Spain</td>\n",
       "      <td>38.0</td>\n",
       "      <td>61000.0</td>\n",
       "      <td>No</td>\n",
       "    </tr>\n",
       "    <tr>\n",
       "      <th>4</th>\n",
       "      <td>Germany</td>\n",
       "      <td>40.0</td>\n",
       "      <td>NaN</td>\n",
       "      <td>Yes</td>\n",
       "    </tr>\n",
       "  </tbody>\n",
       "</table>\n",
       "</div>"
      ],
      "text/plain": [
       "   Country   Age   Salary Purchased\n",
       "0   France  44.0  72000.0        No\n",
       "1    Spain  27.0  48000.0       Yes\n",
       "2  Germany  30.0  54000.0        No\n",
       "3    Spain  38.0  61000.0        No\n",
       "4  Germany  40.0      NaN       Yes"
      ]
     },
     "execution_count": 153,
     "metadata": {},
     "output_type": "execute_result"
    }
   ],
   "source": [
    "df.head()"
   ]
  },
  {
   "cell_type": "markdown",
   "id": "5f675956",
   "metadata": {},
   "source": [
    "La función **info()** permite conocer:\n",
    "- Posición de la columna\n",
    "- Nombre columna\n",
    "- Numeros de entradas\n",
    "- Tipo de dato\n",
    "- Valores no nulos"
   ]
  },
  {
   "cell_type": "code",
   "execution_count": 154,
   "id": "3df465a4",
   "metadata": {},
   "outputs": [
    {
     "name": "stdout",
     "output_type": "stream",
     "text": [
      "<class 'pandas.core.frame.DataFrame'>\n",
      "RangeIndex: 10 entries, 0 to 9\n",
      "Data columns (total 4 columns):\n",
      " #   Column     Non-Null Count  Dtype  \n",
      "---  ------     --------------  -----  \n",
      " 0   Country    10 non-null     object \n",
      " 1   Age        9 non-null      float64\n",
      " 2   Salary     9 non-null      float64\n",
      " 3   Purchased  10 non-null     object \n",
      "dtypes: float64(2), object(2)\n",
      "memory usage: 448.0+ bytes\n"
     ]
    }
   ],
   "source": [
    "df.info()"
   ]
  },
  {
   "cell_type": "markdown",
   "id": "589ff804",
   "metadata": {},
   "source": [
    "Conocer la cantidad de filas y columnas se usa **shape**"
   ]
  },
  {
   "cell_type": "code",
   "execution_count": 156,
   "id": "79d6cc01",
   "metadata": {},
   "outputs": [
    {
     "data": {
      "text/plain": [
       "(10, 4)"
      ]
     },
     "execution_count": 156,
     "metadata": {},
     "output_type": "execute_result"
    }
   ],
   "source": [
    "df.shape"
   ]
  },
  {
   "cell_type": "markdown",
   "id": "a5852d3e",
   "metadata": {},
   "source": [
    "Conocer la valor de la media, min, max, 50% y otros con la función **describe** de los valores numericos"
   ]
  },
  {
   "cell_type": "code",
   "execution_count": 157,
   "id": "96be20db",
   "metadata": {},
   "outputs": [
    {
     "data": {
      "text/html": [
       "<div>\n",
       "<style scoped>\n",
       "    .dataframe tbody tr th:only-of-type {\n",
       "        vertical-align: middle;\n",
       "    }\n",
       "\n",
       "    .dataframe tbody tr th {\n",
       "        vertical-align: top;\n",
       "    }\n",
       "\n",
       "    .dataframe thead th {\n",
       "        text-align: right;\n",
       "    }\n",
       "</style>\n",
       "<table border=\"1\" class=\"dataframe\">\n",
       "  <thead>\n",
       "    <tr style=\"text-align: right;\">\n",
       "      <th></th>\n",
       "      <th>Age</th>\n",
       "      <th>Salary</th>\n",
       "    </tr>\n",
       "  </thead>\n",
       "  <tbody>\n",
       "    <tr>\n",
       "      <th>count</th>\n",
       "      <td>9.000000</td>\n",
       "      <td>9.000000</td>\n",
       "    </tr>\n",
       "    <tr>\n",
       "      <th>mean</th>\n",
       "      <td>38.777778</td>\n",
       "      <td>63777.777778</td>\n",
       "    </tr>\n",
       "    <tr>\n",
       "      <th>std</th>\n",
       "      <td>7.693793</td>\n",
       "      <td>12265.579662</td>\n",
       "    </tr>\n",
       "    <tr>\n",
       "      <th>min</th>\n",
       "      <td>27.000000</td>\n",
       "      <td>48000.000000</td>\n",
       "    </tr>\n",
       "    <tr>\n",
       "      <th>25%</th>\n",
       "      <td>35.000000</td>\n",
       "      <td>54000.000000</td>\n",
       "    </tr>\n",
       "    <tr>\n",
       "      <th>50%</th>\n",
       "      <td>38.000000</td>\n",
       "      <td>61000.000000</td>\n",
       "    </tr>\n",
       "    <tr>\n",
       "      <th>75%</th>\n",
       "      <td>44.000000</td>\n",
       "      <td>72000.000000</td>\n",
       "    </tr>\n",
       "    <tr>\n",
       "      <th>max</th>\n",
       "      <td>50.000000</td>\n",
       "      <td>83000.000000</td>\n",
       "    </tr>\n",
       "  </tbody>\n",
       "</table>\n",
       "</div>"
      ],
      "text/plain": [
       "             Age        Salary\n",
       "count   9.000000      9.000000\n",
       "mean   38.777778  63777.777778\n",
       "std     7.693793  12265.579662\n",
       "min    27.000000  48000.000000\n",
       "25%    35.000000  54000.000000\n",
       "50%    38.000000  61000.000000\n",
       "75%    44.000000  72000.000000\n",
       "max    50.000000  83000.000000"
      ]
     },
     "execution_count": 157,
     "metadata": {},
     "output_type": "execute_result"
    }
   ],
   "source": [
    "df.describe()"
   ]
  },
  {
   "cell_type": "markdown",
   "id": "1a28f335",
   "metadata": {},
   "source": [
    "## Analizando"
   ]
  },
  {
   "cell_type": "code",
   "execution_count": 119,
   "id": "fd4e4010",
   "metadata": {},
   "outputs": [
    {
     "data": {
      "text/html": [
       "<div>\n",
       "<style scoped>\n",
       "    .dataframe tbody tr th:only-of-type {\n",
       "        vertical-align: middle;\n",
       "    }\n",
       "\n",
       "    .dataframe tbody tr th {\n",
       "        vertical-align: top;\n",
       "    }\n",
       "\n",
       "    .dataframe thead th {\n",
       "        text-align: right;\n",
       "    }\n",
       "</style>\n",
       "<table border=\"1\" class=\"dataframe\">\n",
       "  <thead>\n",
       "    <tr style=\"text-align: right;\">\n",
       "      <th></th>\n",
       "      <th>Country</th>\n",
       "      <th>Age</th>\n",
       "      <th>Salary</th>\n",
       "      <th>Purchased</th>\n",
       "    </tr>\n",
       "  </thead>\n",
       "  <tbody>\n",
       "    <tr>\n",
       "      <th>0</th>\n",
       "      <td>France</td>\n",
       "      <td>44.0</td>\n",
       "      <td>72000.0</td>\n",
       "      <td>No</td>\n",
       "    </tr>\n",
       "    <tr>\n",
       "      <th>1</th>\n",
       "      <td>Spain</td>\n",
       "      <td>27.0</td>\n",
       "      <td>48000.0</td>\n",
       "      <td>Yes</td>\n",
       "    </tr>\n",
       "    <tr>\n",
       "      <th>2</th>\n",
       "      <td>Germany</td>\n",
       "      <td>30.0</td>\n",
       "      <td>54000.0</td>\n",
       "      <td>No</td>\n",
       "    </tr>\n",
       "    <tr>\n",
       "      <th>3</th>\n",
       "      <td>Spain</td>\n",
       "      <td>38.0</td>\n",
       "      <td>61000.0</td>\n",
       "      <td>No</td>\n",
       "    </tr>\n",
       "    <tr>\n",
       "      <th>4</th>\n",
       "      <td>Germany</td>\n",
       "      <td>40.0</td>\n",
       "      <td>NaN</td>\n",
       "      <td>Yes</td>\n",
       "    </tr>\n",
       "    <tr>\n",
       "      <th>5</th>\n",
       "      <td>France</td>\n",
       "      <td>35.0</td>\n",
       "      <td>58000.0</td>\n",
       "      <td>Yes</td>\n",
       "    </tr>\n",
       "    <tr>\n",
       "      <th>6</th>\n",
       "      <td>Spain</td>\n",
       "      <td>NaN</td>\n",
       "      <td>52000.0</td>\n",
       "      <td>No</td>\n",
       "    </tr>\n",
       "    <tr>\n",
       "      <th>7</th>\n",
       "      <td>France</td>\n",
       "      <td>48.0</td>\n",
       "      <td>79000.0</td>\n",
       "      <td>Yes</td>\n",
       "    </tr>\n",
       "    <tr>\n",
       "      <th>8</th>\n",
       "      <td>Germany</td>\n",
       "      <td>50.0</td>\n",
       "      <td>83000.0</td>\n",
       "      <td>No</td>\n",
       "    </tr>\n",
       "    <tr>\n",
       "      <th>9</th>\n",
       "      <td>France</td>\n",
       "      <td>37.0</td>\n",
       "      <td>67000.0</td>\n",
       "      <td>Yes</td>\n",
       "    </tr>\n",
       "  </tbody>\n",
       "</table>\n",
       "</div>"
      ],
      "text/plain": [
       "   Country   Age   Salary Purchased\n",
       "0   France  44.0  72000.0        No\n",
       "1    Spain  27.0  48000.0       Yes\n",
       "2  Germany  30.0  54000.0        No\n",
       "3    Spain  38.0  61000.0        No\n",
       "4  Germany  40.0      NaN       Yes\n",
       "5   France  35.0  58000.0       Yes\n",
       "6    Spain   NaN  52000.0        No\n",
       "7   France  48.0  79000.0       Yes\n",
       "8  Germany  50.0  83000.0        No\n",
       "9   France  37.0  67000.0       Yes"
      ]
     },
     "execution_count": 119,
     "metadata": {},
     "output_type": "execute_result"
    }
   ],
   "source": [
    "df"
   ]
  },
  {
   "cell_type": "markdown",
   "id": "128cec65",
   "metadata": {},
   "source": [
    "### Conocer Categorias"
   ]
  },
  {
   "cell_type": "markdown",
   "id": "74cbc663",
   "metadata": {},
   "source": [
    "Las columnas **categoricas** hay que convertirlas **numerico**.\n",
    "\n",
    "Las columnas categoricas son:\n",
    "- Country: Tiene tres categorias: \n",
    "    - France\n",
    "    - Spain\n",
    "    - Germany\n",
    "- Purchased: Tiene dos categorias:\n",
    "    - No\n",
    "    - Yes"
   ]
  },
  {
   "cell_type": "markdown",
   "id": "a52e506e",
   "metadata": {},
   "source": [
    "Para conocer el numero de categorias de una columna:\n",
    "- Se selecciona el dataset.\n",
    "- Se selecciona la columna.\n",
    "- Se usa el metodo **value_counts()**."
   ]
  },
  {
   "cell_type": "markdown",
   "id": "219ea1b2",
   "metadata": {},
   "source": [
    "#### Metodo Conocer Categorias"
   ]
  },
  {
   "cell_type": "code",
   "execution_count": 89,
   "id": "882f92cc",
   "metadata": {},
   "outputs": [
    {
     "data": {
      "text/plain": [
       "France     4\n",
       "Spain      3\n",
       "Germany    3\n",
       "Name: Country, dtype: int64"
      ]
     },
     "execution_count": 89,
     "metadata": {},
     "output_type": "execute_result"
    }
   ],
   "source": [
    "df.Country.value_counts()"
   ]
  },
  {
   "cell_type": "markdown",
   "id": "d23de2fa",
   "metadata": {},
   "source": [
    "Otra forma es necesaria cuando el nombre de la columna tiene espacios."
   ]
  },
  {
   "cell_type": "code",
   "execution_count": 90,
   "id": "2cd0b2ac",
   "metadata": {},
   "outputs": [
    {
     "data": {
      "text/plain": [
       "No     5\n",
       "Yes    5\n",
       "Name: Purchased, dtype: int64"
      ]
     },
     "execution_count": 90,
     "metadata": {},
     "output_type": "execute_result"
    }
   ],
   "source": [
    "df[\"Purchased\"].value_counts()"
   ]
  },
  {
   "cell_type": "markdown",
   "id": "c05b512c",
   "metadata": {},
   "source": [
    "### Conocer Valores Nulos"
   ]
  },
  {
   "cell_type": "markdown",
   "id": "7a084122",
   "metadata": {},
   "source": [
    "Las columnas que tenga valores nulos hay que quitar esos valores nulos:\n",
    "- Age\n",
    "- Salary"
   ]
  },
  {
   "cell_type": "markdown",
   "id": "d971252d",
   "metadata": {},
   "source": [
    "#### Metodo Conocer Valores Nulos"
   ]
  },
  {
   "cell_type": "markdown",
   "id": "71080f91",
   "metadata": {},
   "source": [
    "Para conocer los valores nulos de una columna:\n",
    "- Se selecciona el dataset.\n",
    "- Se selecciona la columna.\n",
    "- Se usa el metodo **isnull()** o **isna()**."
   ]
  },
  {
   "cell_type": "code",
   "execution_count": 91,
   "id": "0fcd7815",
   "metadata": {},
   "outputs": [
    {
     "data": {
      "text/plain": [
       "0    False\n",
       "1    False\n",
       "2    False\n",
       "3    False\n",
       "4    False\n",
       "5    False\n",
       "6     True\n",
       "7    False\n",
       "8    False\n",
       "9    False\n",
       "Name: Age, dtype: bool"
      ]
     },
     "execution_count": 91,
     "metadata": {},
     "output_type": "execute_result"
    }
   ],
   "source": [
    "df.Age.isnull()"
   ]
  },
  {
   "cell_type": "markdown",
   "id": "4eb3f62e",
   "metadata": {},
   "source": [
    "o"
   ]
  },
  {
   "cell_type": "code",
   "execution_count": 92,
   "id": "50e2a448",
   "metadata": {},
   "outputs": [
    {
     "data": {
      "text/plain": [
       "0    False\n",
       "1    False\n",
       "2    False\n",
       "3    False\n",
       "4    False\n",
       "5    False\n",
       "6     True\n",
       "7    False\n",
       "8    False\n",
       "9    False\n",
       "Name: Age, dtype: bool"
      ]
     },
     "execution_count": 92,
     "metadata": {},
     "output_type": "execute_result"
    }
   ],
   "source": [
    "df.Age.isna()"
   ]
  },
  {
   "cell_type": "markdown",
   "id": "e87262c7",
   "metadata": {},
   "source": [
    "Para conocer la cantidad de nulos: \n",
    "- Se selecciona el dataset.\n",
    "- Se selecciona la columna.\n",
    "- Se usa el metodo **isnull().sum()** o **isna().sum()**"
   ]
  },
  {
   "cell_type": "code",
   "execution_count": 93,
   "id": "850ab020",
   "metadata": {},
   "outputs": [
    {
     "data": {
      "text/plain": [
       "1"
      ]
     },
     "execution_count": 93,
     "metadata": {},
     "output_type": "execute_result"
    }
   ],
   "source": [
    "df.Age.isnull().sum()"
   ]
  },
  {
   "cell_type": "markdown",
   "id": "c976751d",
   "metadata": {},
   "source": [
    "o"
   ]
  },
  {
   "cell_type": "code",
   "execution_count": 94,
   "id": "28c3c046",
   "metadata": {},
   "outputs": [
    {
     "data": {
      "text/plain": [
       "1"
      ]
     },
     "execution_count": 94,
     "metadata": {},
     "output_type": "execute_result"
    }
   ],
   "source": [
    "df.Age.isna().sum()"
   ]
  },
  {
   "cell_type": "markdown",
   "id": "3b98fcca",
   "metadata": {},
   "source": [
    "### Llenar valores nulos\n",
    "\n",
    "Para llenar los valores nulos se puede usar:\n",
    "- La formula de la media.\n",
    "- El metodo valor anterior.\n",
    "- El metodo valor despues.\n",
    "- Valor especifico."
   ]
  },
  {
   "cell_type": "markdown",
   "id": "e599888c",
   "metadata": {},
   "source": [
    "#### La formula de la media"
   ]
  },
  {
   "cell_type": "code",
   "execution_count": 95,
   "id": "9172ca7d",
   "metadata": {},
   "outputs": [
    {
     "data": {
      "text/plain": [
       "0    44.000000\n",
       "1    27.000000\n",
       "2    30.000000\n",
       "3    38.000000\n",
       "4    40.000000\n",
       "5    35.000000\n",
       "6    38.777778\n",
       "7    48.000000\n",
       "8    50.000000\n",
       "9    37.000000\n",
       "Name: Age, dtype: float64"
      ]
     },
     "execution_count": 95,
     "metadata": {},
     "output_type": "execute_result"
    }
   ],
   "source": [
    "df[\"Age\"].fillna(df[\"Age\"].mean())"
   ]
  },
  {
   "cell_type": "markdown",
   "id": "d5e64441",
   "metadata": {},
   "source": [
    "#### El metodo valor anterior"
   ]
  },
  {
   "cell_type": "code",
   "execution_count": 96,
   "id": "cdca852d",
   "metadata": {},
   "outputs": [
    {
     "data": {
      "text/plain": [
       "0    44.0\n",
       "1    27.0\n",
       "2    30.0\n",
       "3    38.0\n",
       "4    40.0\n",
       "5    35.0\n",
       "6    48.0\n",
       "7    48.0\n",
       "8    50.0\n",
       "9    37.0\n",
       "Name: Age, dtype: float64"
      ]
     },
     "execution_count": 96,
     "metadata": {},
     "output_type": "execute_result"
    }
   ],
   "source": [
    "df[\"Age\"].fillna(method=\"backfill\")"
   ]
  },
  {
   "cell_type": "markdown",
   "id": "c37045a1",
   "metadata": {},
   "source": [
    "#### El metodo valor despues"
   ]
  },
  {
   "cell_type": "code",
   "execution_count": 97,
   "id": "627c18a8",
   "metadata": {},
   "outputs": [
    {
     "data": {
      "text/plain": [
       "0    44.0\n",
       "1    27.0\n",
       "2    30.0\n",
       "3    38.0\n",
       "4    40.0\n",
       "5    35.0\n",
       "6    35.0\n",
       "7    48.0\n",
       "8    50.0\n",
       "9    37.0\n",
       "Name: Age, dtype: float64"
      ]
     },
     "execution_count": 97,
     "metadata": {},
     "output_type": "execute_result"
    }
   ],
   "source": [
    "df[\"Age\"].fillna(method=\"ffill\")"
   ]
  },
  {
   "cell_type": "markdown",
   "id": "8c593034",
   "metadata": {},
   "source": [
    "#### Valor especifico\n",
    "\n",
    "Se va a llenar los nulos con el valor 30"
   ]
  },
  {
   "cell_type": "code",
   "execution_count": 98,
   "id": "c9f0f6ab",
   "metadata": {},
   "outputs": [
    {
     "data": {
      "text/plain": [
       "0    44.0\n",
       "1    27.0\n",
       "2    30.0\n",
       "3    38.0\n",
       "4    40.0\n",
       "5    35.0\n",
       "6    30.0\n",
       "7    48.0\n",
       "8    50.0\n",
       "9    37.0\n",
       "Name: Age, dtype: float64"
      ]
     },
     "execution_count": 98,
     "metadata": {},
     "output_type": "execute_result"
    }
   ],
   "source": [
    "df[\"Age\"].fillna(30)"
   ]
  },
  {
   "cell_type": "markdown",
   "id": "ad8044be",
   "metadata": {},
   "source": [
    "### Asignando valor del llenado valores nulos\n",
    "\n",
    "Se pueden hacer de dos formas:\n",
    "- Asignandolo\n",
    "- Inplace= True"
   ]
  },
  {
   "cell_type": "markdown",
   "id": "71f0a774",
   "metadata": {},
   "source": [
    "#### Asignandolo"
   ]
  },
  {
   "cell_type": "code",
   "execution_count": 120,
   "id": "5ab4aaae",
   "metadata": {},
   "outputs": [
    {
     "data": {
      "text/plain": [
       "0    44.000000\n",
       "1    27.000000\n",
       "2    30.000000\n",
       "3    38.000000\n",
       "4    40.000000\n",
       "5    35.000000\n",
       "6    38.777778\n",
       "7    48.000000\n",
       "8    50.000000\n",
       "9    37.000000\n",
       "Name: Age, dtype: float64"
      ]
     },
     "execution_count": 120,
     "metadata": {},
     "output_type": "execute_result"
    }
   ],
   "source": [
    "df[\"Age\"]= df[\"Age\"].fillna(df[\"Age\"].mean())\n",
    "df[\"Age\"]"
   ]
  },
  {
   "cell_type": "markdown",
   "id": "42c2283c",
   "metadata": {},
   "source": [
    "#### Inplace= True"
   ]
  },
  {
   "cell_type": "code",
   "execution_count": 121,
   "id": "237236f4",
   "metadata": {},
   "outputs": [
    {
     "data": {
      "text/plain": [
       "0    72000.0\n",
       "1    48000.0\n",
       "2    54000.0\n",
       "3    61000.0\n",
       "4    61000.0\n",
       "5    58000.0\n",
       "6    52000.0\n",
       "7    79000.0\n",
       "8    83000.0\n",
       "9    67000.0\n",
       "Name: Salary, dtype: float64"
      ]
     },
     "execution_count": 121,
     "metadata": {},
     "output_type": "execute_result"
    }
   ],
   "source": [
    "df[\"Salary\"].fillna(method=\"ffill\", inplace=True)\n",
    "df[\"Salary\"]"
   ]
  },
  {
   "cell_type": "markdown",
   "id": "fd847723",
   "metadata": {},
   "source": [
    "Despues se verifica que esta lleno **info()**."
   ]
  },
  {
   "cell_type": "code",
   "execution_count": 122,
   "id": "a42e0c11",
   "metadata": {},
   "outputs": [
    {
     "name": "stdout",
     "output_type": "stream",
     "text": [
      "<class 'pandas.core.frame.DataFrame'>\n",
      "RangeIndex: 10 entries, 0 to 9\n",
      "Data columns (total 4 columns):\n",
      " #   Column     Non-Null Count  Dtype  \n",
      "---  ------     --------------  -----  \n",
      " 0   Country    10 non-null     object \n",
      " 1   Age        10 non-null     float64\n",
      " 2   Salary     10 non-null     float64\n",
      " 3   Purchased  10 non-null     object \n",
      "dtypes: float64(2), object(2)\n",
      "memory usage: 448.0+ bytes\n"
     ]
    }
   ],
   "source": [
    "df.info()"
   ]
  },
  {
   "cell_type": "markdown",
   "id": "998c9476",
   "metadata": {},
   "source": [
    "### Eliminar las categoricas"
   ]
  },
  {
   "cell_type": "markdown",
   "id": "fe70a128",
   "metadata": {},
   "source": [
    "Primero se va a guardar la columna **Purchased** en una variable **y** con el objetivo de convertirla a numerica."
   ]
  },
  {
   "cell_type": "code",
   "execution_count": 123,
   "id": "3a0f748c",
   "metadata": {},
   "outputs": [
    {
     "data": {
      "text/plain": [
       "0     No\n",
       "1    Yes\n",
       "2     No\n",
       "3     No\n",
       "4    Yes\n",
       "5    Yes\n",
       "6     No\n",
       "7    Yes\n",
       "8     No\n",
       "9    Yes\n",
       "Name: Purchased, dtype: object"
      ]
     },
     "execution_count": 123,
     "metadata": {},
     "output_type": "execute_result"
    }
   ],
   "source": [
    "y = df[\"Purchased\"]\n",
    "y"
   ]
  },
  {
   "cell_type": "markdown",
   "id": "3d38a495",
   "metadata": {},
   "source": [
    "#### Eliminar una o varias columna \n",
    "\n",
    "Se usa el metodo **drop()**:\n",
    "- Eliminar una: se le indica la columna **drop(columns=\"Columna\")**.\n",
    "- Eliminar mas de una: se le indica en una lista en numero de columnas a eliminar **drop(columns=[\"Columna A\", \"Columna B\"])**."
   ]
  },
  {
   "cell_type": "code",
   "execution_count": 124,
   "id": "12b72746",
   "metadata": {},
   "outputs": [
    {
     "data": {
      "text/html": [
       "<div>\n",
       "<style scoped>\n",
       "    .dataframe tbody tr th:only-of-type {\n",
       "        vertical-align: middle;\n",
       "    }\n",
       "\n",
       "    .dataframe tbody tr th {\n",
       "        vertical-align: top;\n",
       "    }\n",
       "\n",
       "    .dataframe thead th {\n",
       "        text-align: right;\n",
       "    }\n",
       "</style>\n",
       "<table border=\"1\" class=\"dataframe\">\n",
       "  <thead>\n",
       "    <tr style=\"text-align: right;\">\n",
       "      <th></th>\n",
       "      <th>Country</th>\n",
       "      <th>Age</th>\n",
       "      <th>Salary</th>\n",
       "    </tr>\n",
       "  </thead>\n",
       "  <tbody>\n",
       "    <tr>\n",
       "      <th>0</th>\n",
       "      <td>France</td>\n",
       "      <td>44.000000</td>\n",
       "      <td>72000.0</td>\n",
       "    </tr>\n",
       "    <tr>\n",
       "      <th>1</th>\n",
       "      <td>Spain</td>\n",
       "      <td>27.000000</td>\n",
       "      <td>48000.0</td>\n",
       "    </tr>\n",
       "    <tr>\n",
       "      <th>2</th>\n",
       "      <td>Germany</td>\n",
       "      <td>30.000000</td>\n",
       "      <td>54000.0</td>\n",
       "    </tr>\n",
       "    <tr>\n",
       "      <th>3</th>\n",
       "      <td>Spain</td>\n",
       "      <td>38.000000</td>\n",
       "      <td>61000.0</td>\n",
       "    </tr>\n",
       "    <tr>\n",
       "      <th>4</th>\n",
       "      <td>Germany</td>\n",
       "      <td>40.000000</td>\n",
       "      <td>61000.0</td>\n",
       "    </tr>\n",
       "    <tr>\n",
       "      <th>5</th>\n",
       "      <td>France</td>\n",
       "      <td>35.000000</td>\n",
       "      <td>58000.0</td>\n",
       "    </tr>\n",
       "    <tr>\n",
       "      <th>6</th>\n",
       "      <td>Spain</td>\n",
       "      <td>38.777778</td>\n",
       "      <td>52000.0</td>\n",
       "    </tr>\n",
       "    <tr>\n",
       "      <th>7</th>\n",
       "      <td>France</td>\n",
       "      <td>48.000000</td>\n",
       "      <td>79000.0</td>\n",
       "    </tr>\n",
       "    <tr>\n",
       "      <th>8</th>\n",
       "      <td>Germany</td>\n",
       "      <td>50.000000</td>\n",
       "      <td>83000.0</td>\n",
       "    </tr>\n",
       "    <tr>\n",
       "      <th>9</th>\n",
       "      <td>France</td>\n",
       "      <td>37.000000</td>\n",
       "      <td>67000.0</td>\n",
       "    </tr>\n",
       "  </tbody>\n",
       "</table>\n",
       "</div>"
      ],
      "text/plain": [
       "   Country        Age   Salary\n",
       "0   France  44.000000  72000.0\n",
       "1    Spain  27.000000  48000.0\n",
       "2  Germany  30.000000  54000.0\n",
       "3    Spain  38.000000  61000.0\n",
       "4  Germany  40.000000  61000.0\n",
       "5   France  35.000000  58000.0\n",
       "6    Spain  38.777778  52000.0\n",
       "7   France  48.000000  79000.0\n",
       "8  Germany  50.000000  83000.0\n",
       "9   France  37.000000  67000.0"
      ]
     },
     "execution_count": 124,
     "metadata": {},
     "output_type": "execute_result"
    }
   ],
   "source": [
    "df.drop(columns=\"Purchased\", inplace=True)\n",
    "df"
   ]
  },
  {
   "cell_type": "markdown",
   "id": "44237720",
   "metadata": {},
   "source": [
    "- Son los datos para el resultados, los que son supervisados van a quedar en la **y**.\n",
    "- En las **x** van a quedar lo que yo voy a predecir."
   ]
  },
  {
   "cell_type": "markdown",
   "id": "d7fbf50e",
   "metadata": {},
   "source": [
    "### Correlación \n",
    "\n",
    "Se debe mirar que no haya relación entre las variables\n",
    "\n",
    "Para saber si hay correlación entre variables se usa el metodo **corr()**.\n",
    "\n",
    "Se dice que hay correlación cuando el valor es muy cercano a **1**."
   ]
  },
  {
   "cell_type": "code",
   "execution_count": 125,
   "id": "f1aad205",
   "metadata": {},
   "outputs": [
    {
     "data": {
      "text/html": [
       "<div>\n",
       "<style scoped>\n",
       "    .dataframe tbody tr th:only-of-type {\n",
       "        vertical-align: middle;\n",
       "    }\n",
       "\n",
       "    .dataframe tbody tr th {\n",
       "        vertical-align: top;\n",
       "    }\n",
       "\n",
       "    .dataframe thead th {\n",
       "        text-align: right;\n",
       "    }\n",
       "</style>\n",
       "<table border=\"1\" class=\"dataframe\">\n",
       "  <thead>\n",
       "    <tr style=\"text-align: right;\">\n",
       "      <th></th>\n",
       "      <th>Age</th>\n",
       "      <th>Salary</th>\n",
       "    </tr>\n",
       "  </thead>\n",
       "  <tbody>\n",
       "    <tr>\n",
       "      <th>Age</th>\n",
       "      <td>1.000000</td>\n",
       "      <td>0.905472</td>\n",
       "    </tr>\n",
       "    <tr>\n",
       "      <th>Salary</th>\n",
       "      <td>0.905472</td>\n",
       "      <td>1.000000</td>\n",
       "    </tr>\n",
       "  </tbody>\n",
       "</table>\n",
       "</div>"
      ],
      "text/plain": [
       "             Age    Salary\n",
       "Age     1.000000  0.905472\n",
       "Salary  0.905472  1.000000"
      ]
     },
     "execution_count": 125,
     "metadata": {},
     "output_type": "execute_result"
    }
   ],
   "source": [
    "df.corr()"
   ]
  },
  {
   "cell_type": "markdown",
   "id": "75a68c2f",
   "metadata": {},
   "source": [
    "Se dice que entre mas edad hay mas salario."
   ]
  },
  {
   "cell_type": "markdown",
   "id": "f8969046",
   "metadata": {},
   "source": [
    "### Graficar la Correlación\n"
   ]
  },
  {
   "cell_type": "code",
   "execution_count": 126,
   "id": "31e07765",
   "metadata": {},
   "outputs": [
    {
     "data": {
      "text/plain": [
       "<AxesSubplot:>"
      ]
     },
     "execution_count": 126,
     "metadata": {},
     "output_type": "execute_result"
    },
    {
     "data": {
      "image/png": "[encoded data removed]",
      "text/plain": [
       "<Figure size 432x288 with 2 Axes>"
      ]
     },
     "metadata": {
      "needs_background": "light"
     },
     "output_type": "display_data"
    }
   ],
   "source": [
    "correlacion = df.corr()\n",
    "sns.heatmap(correlacion)"
   ]
  },
  {
   "cell_type": "markdown",
   "id": "9e3da981",
   "metadata": {},
   "source": [
    "### Graficar Histograma columnas"
   ]
  },
  {
   "cell_type": "code",
   "execution_count": 127,
   "id": "faa2fb79",
   "metadata": {},
   "outputs": [
    {
     "data": {
      "text/plain": [
       "array([[<AxesSubplot:title={'center':'Age'}>,\n",
       "        <AxesSubplot:title={'center':'Salary'}>]], dtype=object)"
      ]
     },
     "execution_count": 127,
     "metadata": {},
     "output_type": "execute_result"
    },
    {
     "data": {
      "image/png": "[encoded data removed]",
      "text/plain": [
       "<Figure size 432x288 with 2 Axes>"
      ]
     },
     "metadata": {
      "needs_background": "light"
     },
     "output_type": "display_data"
    }
   ],
   "source": [
    "df.hist()"
   ]
  },
  {
   "cell_type": "code",
   "execution_count": 128,
   "id": "9b6fd4e3",
   "metadata": {},
   "outputs": [
    {
     "data": {
      "text/html": [
       "<div>\n",
       "<style scoped>\n",
       "    .dataframe tbody tr th:only-of-type {\n",
       "        vertical-align: middle;\n",
       "    }\n",
       "\n",
       "    .dataframe tbody tr th {\n",
       "        vertical-align: top;\n",
       "    }\n",
       "\n",
       "    .dataframe thead th {\n",
       "        text-align: right;\n",
       "    }\n",
       "</style>\n",
       "<table border=\"1\" class=\"dataframe\">\n",
       "  <thead>\n",
       "    <tr style=\"text-align: right;\">\n",
       "      <th></th>\n",
       "      <th>Age</th>\n",
       "      <th>Salary</th>\n",
       "      <th>Country_Germany</th>\n",
       "      <th>Country_Spain</th>\n",
       "    </tr>\n",
       "  </thead>\n",
       "  <tbody>\n",
       "    <tr>\n",
       "      <th>0</th>\n",
       "      <td>44.000000</td>\n",
       "      <td>72000.0</td>\n",
       "      <td>0</td>\n",
       "      <td>0</td>\n",
       "    </tr>\n",
       "    <tr>\n",
       "      <th>1</th>\n",
       "      <td>27.000000</td>\n",
       "      <td>48000.0</td>\n",
       "      <td>0</td>\n",
       "      <td>1</td>\n",
       "    </tr>\n",
       "    <tr>\n",
       "      <th>2</th>\n",
       "      <td>30.000000</td>\n",
       "      <td>54000.0</td>\n",
       "      <td>1</td>\n",
       "      <td>0</td>\n",
       "    </tr>\n",
       "    <tr>\n",
       "      <th>3</th>\n",
       "      <td>38.000000</td>\n",
       "      <td>61000.0</td>\n",
       "      <td>0</td>\n",
       "      <td>1</td>\n",
       "    </tr>\n",
       "    <tr>\n",
       "      <th>4</th>\n",
       "      <td>40.000000</td>\n",
       "      <td>61000.0</td>\n",
       "      <td>1</td>\n",
       "      <td>0</td>\n",
       "    </tr>\n",
       "    <tr>\n",
       "      <th>5</th>\n",
       "      <td>35.000000</td>\n",
       "      <td>58000.0</td>\n",
       "      <td>0</td>\n",
       "      <td>0</td>\n",
       "    </tr>\n",
       "    <tr>\n",
       "      <th>6</th>\n",
       "      <td>38.777778</td>\n",
       "      <td>52000.0</td>\n",
       "      <td>0</td>\n",
       "      <td>1</td>\n",
       "    </tr>\n",
       "    <tr>\n",
       "      <th>7</th>\n",
       "      <td>48.000000</td>\n",
       "      <td>79000.0</td>\n",
       "      <td>0</td>\n",
       "      <td>0</td>\n",
       "    </tr>\n",
       "    <tr>\n",
       "      <th>8</th>\n",
       "      <td>50.000000</td>\n",
       "      <td>83000.0</td>\n",
       "      <td>1</td>\n",
       "      <td>0</td>\n",
       "    </tr>\n",
       "    <tr>\n",
       "      <th>9</th>\n",
       "      <td>37.000000</td>\n",
       "      <td>67000.0</td>\n",
       "      <td>0</td>\n",
       "      <td>0</td>\n",
       "    </tr>\n",
       "  </tbody>\n",
       "</table>\n",
       "</div>"
      ],
      "text/plain": [
       "         Age   Salary  Country_Germany  Country_Spain\n",
       "0  44.000000  72000.0                0              0\n",
       "1  27.000000  48000.0                0              1\n",
       "2  30.000000  54000.0                1              0\n",
       "3  38.000000  61000.0                0              1\n",
       "4  40.000000  61000.0                1              0\n",
       "5  35.000000  58000.0                0              0\n",
       "6  38.777778  52000.0                0              1\n",
       "7  48.000000  79000.0                0              0\n",
       "8  50.000000  83000.0                1              0\n",
       "9  37.000000  67000.0                0              0"
      ]
     },
     "execution_count": 128,
     "metadata": {},
     "output_type": "execute_result"
    }
   ],
   "source": [
    "df= createDummies(df, \"Country\")\n",
    "df"
   ]
  },
  {
   "cell_type": "markdown",
   "id": "05567b63",
   "metadata": {},
   "source": [
    "### Convertir la \"Y\" en numerica\n",
    "\n",
    "Para convertir la y en numerica se uso la función **convertLabelEncoderZeroOrOne(df)** que retorna un array convertido el dataframe categorico a numerico."
   ]
  },
  {
   "cell_type": "code",
   "execution_count": 129,
   "id": "9ad570b6",
   "metadata": {},
   "outputs": [
    {
     "data": {
      "text/plain": [
       "array([0, 1, 0, 0, 1, 1, 0, 1, 0, 1])"
      ]
     },
     "execution_count": 129,
     "metadata": {},
     "output_type": "execute_result"
    }
   ],
   "source": [
    "y = convertLabelEncoderZeroOrOne(y)\n",
    "y"
   ]
  },
  {
   "cell_type": "markdown",
   "id": "6c7089d4",
   "metadata": {},
   "source": [
    "### Normalizando Y Estandarizando"
   ]
  },
  {
   "cell_type": "markdown",
   "id": "5459f746",
   "metadata": {},
   "source": [
    "#### Normalizando"
   ]
  },
  {
   "cell_type": "code",
   "execution_count": 130,
   "id": "15794628",
   "metadata": {},
   "outputs": [
    {
     "data": {
      "text/html": [
       "<div>\n",
       "<style scoped>\n",
       "    .dataframe tbody tr th:only-of-type {\n",
       "        vertical-align: middle;\n",
       "    }\n",
       "\n",
       "    .dataframe tbody tr th {\n",
       "        vertical-align: top;\n",
       "    }\n",
       "\n",
       "    .dataframe thead th {\n",
       "        text-align: right;\n",
       "    }\n",
       "</style>\n",
       "<table border=\"1\" class=\"dataframe\">\n",
       "  <thead>\n",
       "    <tr style=\"text-align: right;\">\n",
       "      <th></th>\n",
       "      <th>Age</th>\n",
       "      <th>Salary</th>\n",
       "    </tr>\n",
       "  </thead>\n",
       "  <tbody>\n",
       "    <tr>\n",
       "      <th>0</th>\n",
       "      <td>44.000000</td>\n",
       "      <td>72000.0</td>\n",
       "    </tr>\n",
       "    <tr>\n",
       "      <th>1</th>\n",
       "      <td>27.000000</td>\n",
       "      <td>48000.0</td>\n",
       "    </tr>\n",
       "    <tr>\n",
       "      <th>2</th>\n",
       "      <td>30.000000</td>\n",
       "      <td>54000.0</td>\n",
       "    </tr>\n",
       "    <tr>\n",
       "      <th>3</th>\n",
       "      <td>38.000000</td>\n",
       "      <td>61000.0</td>\n",
       "    </tr>\n",
       "    <tr>\n",
       "      <th>4</th>\n",
       "      <td>40.000000</td>\n",
       "      <td>61000.0</td>\n",
       "    </tr>\n",
       "    <tr>\n",
       "      <th>5</th>\n",
       "      <td>35.000000</td>\n",
       "      <td>58000.0</td>\n",
       "    </tr>\n",
       "    <tr>\n",
       "      <th>6</th>\n",
       "      <td>38.777778</td>\n",
       "      <td>52000.0</td>\n",
       "    </tr>\n",
       "    <tr>\n",
       "      <th>7</th>\n",
       "      <td>48.000000</td>\n",
       "      <td>79000.0</td>\n",
       "    </tr>\n",
       "    <tr>\n",
       "      <th>8</th>\n",
       "      <td>50.000000</td>\n",
       "      <td>83000.0</td>\n",
       "    </tr>\n",
       "    <tr>\n",
       "      <th>9</th>\n",
       "      <td>37.000000</td>\n",
       "      <td>67000.0</td>\n",
       "    </tr>\n",
       "  </tbody>\n",
       "</table>\n",
       "</div>"
      ],
      "text/plain": [
       "         Age   Salary\n",
       "0  44.000000  72000.0\n",
       "1  27.000000  48000.0\n",
       "2  30.000000  54000.0\n",
       "3  38.000000  61000.0\n",
       "4  40.000000  61000.0\n",
       "5  35.000000  58000.0\n",
       "6  38.777778  52000.0\n",
       "7  48.000000  79000.0\n",
       "8  50.000000  83000.0\n",
       "9  37.000000  67000.0"
      ]
     },
     "execution_count": 130,
     "metadata": {},
     "output_type": "execute_result"
    }
   ],
   "source": [
    "data = df[[\"Age\", \"Salary\"]]\n",
    "data"
   ]
  },
  {
   "cell_type": "code",
   "execution_count": 131,
   "id": "9bd8526a",
   "metadata": {},
   "outputs": [
    {
     "data": {
      "text/plain": [
       "array([[0.73913043, 0.68571429],\n",
       "       [0.        , 0.        ],\n",
       "       [0.13043478, 0.17142857],\n",
       "       [0.47826087, 0.37142857],\n",
       "       [0.56521739, 0.37142857],\n",
       "       [0.34782609, 0.28571429],\n",
       "       [0.51207729, 0.11428571],\n",
       "       [0.91304348, 0.88571429],\n",
       "       [1.        , 1.        ],\n",
       "       [0.43478261, 0.54285714]])"
      ]
     },
     "execution_count": 131,
     "metadata": {},
     "output_type": "execute_result"
    }
   ],
   "source": [
    "trans = MinMaxScaler()\n",
    "data = trans.fit_transform(data)\n",
    "data"
   ]
  },
  {
   "cell_type": "markdown",
   "id": "77d9a244",
   "metadata": {},
   "source": [
    "#### Estandarizando"
   ]
  },
  {
   "cell_type": "code",
   "execution_count": 132,
   "id": "0e55e520",
   "metadata": {},
   "outputs": [
    {
     "data": {
      "text/html": [
       "<div>\n",
       "<style scoped>\n",
       "    .dataframe tbody tr th:only-of-type {\n",
       "        vertical-align: middle;\n",
       "    }\n",
       "\n",
       "    .dataframe tbody tr th {\n",
       "        vertical-align: top;\n",
       "    }\n",
       "\n",
       "    .dataframe thead th {\n",
       "        text-align: right;\n",
       "    }\n",
       "</style>\n",
       "<table border=\"1\" class=\"dataframe\">\n",
       "  <thead>\n",
       "    <tr style=\"text-align: right;\">\n",
       "      <th></th>\n",
       "      <th>Age</th>\n",
       "      <th>Salary</th>\n",
       "    </tr>\n",
       "  </thead>\n",
       "  <tbody>\n",
       "    <tr>\n",
       "      <th>0</th>\n",
       "      <td>44.000000</td>\n",
       "      <td>72000.0</td>\n",
       "    </tr>\n",
       "    <tr>\n",
       "      <th>1</th>\n",
       "      <td>27.000000</td>\n",
       "      <td>48000.0</td>\n",
       "    </tr>\n",
       "    <tr>\n",
       "      <th>2</th>\n",
       "      <td>30.000000</td>\n",
       "      <td>54000.0</td>\n",
       "    </tr>\n",
       "    <tr>\n",
       "      <th>3</th>\n",
       "      <td>38.000000</td>\n",
       "      <td>61000.0</td>\n",
       "    </tr>\n",
       "    <tr>\n",
       "      <th>4</th>\n",
       "      <td>40.000000</td>\n",
       "      <td>61000.0</td>\n",
       "    </tr>\n",
       "    <tr>\n",
       "      <th>5</th>\n",
       "      <td>35.000000</td>\n",
       "      <td>58000.0</td>\n",
       "    </tr>\n",
       "    <tr>\n",
       "      <th>6</th>\n",
       "      <td>38.777778</td>\n",
       "      <td>52000.0</td>\n",
       "    </tr>\n",
       "    <tr>\n",
       "      <th>7</th>\n",
       "      <td>48.000000</td>\n",
       "      <td>79000.0</td>\n",
       "    </tr>\n",
       "    <tr>\n",
       "      <th>8</th>\n",
       "      <td>50.000000</td>\n",
       "      <td>83000.0</td>\n",
       "    </tr>\n",
       "    <tr>\n",
       "      <th>9</th>\n",
       "      <td>37.000000</td>\n",
       "      <td>67000.0</td>\n",
       "    </tr>\n",
       "  </tbody>\n",
       "</table>\n",
       "</div>"
      ],
      "text/plain": [
       "         Age   Salary\n",
       "0  44.000000  72000.0\n",
       "1  27.000000  48000.0\n",
       "2  30.000000  54000.0\n",
       "3  38.000000  61000.0\n",
       "4  40.000000  61000.0\n",
       "5  35.000000  58000.0\n",
       "6  38.777778  52000.0\n",
       "7  48.000000  79000.0\n",
       "8  50.000000  83000.0\n",
       "9  37.000000  67000.0"
      ]
     },
     "execution_count": 132,
     "metadata": {},
     "output_type": "execute_result"
    }
   ],
   "source": [
    "data = df[[\"Age\", \"Salary\"]]\n",
    "data"
   ]
  },
  {
   "cell_type": "code",
   "execution_count": 133,
   "id": "262c32fd",
   "metadata": {},
   "outputs": [
    {
     "data": {
      "text/plain": [
       "array([[ 0.75887436,  0.77256767],\n",
       "       [-1.71150388, -1.40879986],\n",
       "       [-1.27555478, -0.86345798],\n",
       "       [-0.11302384, -0.22722578],\n",
       "       [ 0.17760889, -0.22722578],\n",
       "       [-0.54897294, -0.49989673],\n",
       "       [ 0.        , -1.04523861],\n",
       "       [ 1.34013983,  1.40879986],\n",
       "       [ 1.63077256,  1.77236112],\n",
       "       [-0.25834021,  0.3181161 ]])"
      ]
     },
     "execution_count": 133,
     "metadata": {},
     "output_type": "execute_result"
    }
   ],
   "source": [
    "trans = StandardScaler()\n",
    "data = trans.fit_transform(data)\n",
    "data"
   ]
  },
  {
   "cell_type": "markdown",
   "id": "983a3fe7",
   "metadata": {},
   "source": [
    "Si se suma debe dar **0**\n",
    "\n",
    "Y la desbiación debe dar **1** que tanto se aleja."
   ]
  },
  {
   "cell_type": "markdown",
   "id": "a81cdb9b",
   "metadata": {},
   "source": [
    "#### Convertir Array a DataFrame\n",
    "\n",
    "Se usa la función **DataFrame(df)**"
   ]
  },
  {
   "cell_type": "code",
   "execution_count": 134,
   "id": "1850be68",
   "metadata": {},
   "outputs": [
    {
     "data": {
      "text/html": [
       "<div>\n",
       "<style scoped>\n",
       "    .dataframe tbody tr th:only-of-type {\n",
       "        vertical-align: middle;\n",
       "    }\n",
       "\n",
       "    .dataframe tbody tr th {\n",
       "        vertical-align: top;\n",
       "    }\n",
       "\n",
       "    .dataframe thead th {\n",
       "        text-align: right;\n",
       "    }\n",
       "</style>\n",
       "<table border=\"1\" class=\"dataframe\">\n",
       "  <thead>\n",
       "    <tr style=\"text-align: right;\">\n",
       "      <th></th>\n",
       "      <th>Age_std</th>\n",
       "      <th>Salary_std</th>\n",
       "    </tr>\n",
       "  </thead>\n",
       "  <tbody>\n",
       "    <tr>\n",
       "      <th>0</th>\n",
       "      <td>0.758874</td>\n",
       "      <td>0.772568</td>\n",
       "    </tr>\n",
       "    <tr>\n",
       "      <th>1</th>\n",
       "      <td>-1.711504</td>\n",
       "      <td>-1.408800</td>\n",
       "    </tr>\n",
       "    <tr>\n",
       "      <th>2</th>\n",
       "      <td>-1.275555</td>\n",
       "      <td>-0.863458</td>\n",
       "    </tr>\n",
       "    <tr>\n",
       "      <th>3</th>\n",
       "      <td>-0.113024</td>\n",
       "      <td>-0.227226</td>\n",
       "    </tr>\n",
       "    <tr>\n",
       "      <th>4</th>\n",
       "      <td>0.177609</td>\n",
       "      <td>-0.227226</td>\n",
       "    </tr>\n",
       "    <tr>\n",
       "      <th>5</th>\n",
       "      <td>-0.548973</td>\n",
       "      <td>-0.499897</td>\n",
       "    </tr>\n",
       "    <tr>\n",
       "      <th>6</th>\n",
       "      <td>0.000000</td>\n",
       "      <td>-1.045239</td>\n",
       "    </tr>\n",
       "    <tr>\n",
       "      <th>7</th>\n",
       "      <td>1.340140</td>\n",
       "      <td>1.408800</td>\n",
       "    </tr>\n",
       "    <tr>\n",
       "      <th>8</th>\n",
       "      <td>1.630773</td>\n",
       "      <td>1.772361</td>\n",
       "    </tr>\n",
       "    <tr>\n",
       "      <th>9</th>\n",
       "      <td>-0.258340</td>\n",
       "      <td>0.318116</td>\n",
       "    </tr>\n",
       "  </tbody>\n",
       "</table>\n",
       "</div>"
      ],
      "text/plain": [
       "    Age_std  Salary_std\n",
       "0  0.758874    0.772568\n",
       "1 -1.711504   -1.408800\n",
       "2 -1.275555   -0.863458\n",
       "3 -0.113024   -0.227226\n",
       "4  0.177609   -0.227226\n",
       "5 -0.548973   -0.499897\n",
       "6  0.000000   -1.045239\n",
       "7  1.340140    1.408800\n",
       "8  1.630773    1.772361\n",
       "9 -0.258340    0.318116"
      ]
     },
     "execution_count": 134,
     "metadata": {},
     "output_type": "execute_result"
    }
   ],
   "source": [
    "data =pd.DataFrame(data, columns= [\"Age_std\", \"Salary_std\"])\n",
    "data"
   ]
  },
  {
   "cell_type": "markdown",
   "id": "f947873a",
   "metadata": {},
   "source": [
    "#### Concatenar DataFrames"
   ]
  },
  {
   "cell_type": "code",
   "execution_count": 136,
   "id": "ea630e5f",
   "metadata": {},
   "outputs": [
    {
     "data": {
      "text/html": [
       "<div>\n",
       "<style scoped>\n",
       "    .dataframe tbody tr th:only-of-type {\n",
       "        vertical-align: middle;\n",
       "    }\n",
       "\n",
       "    .dataframe tbody tr th {\n",
       "        vertical-align: top;\n",
       "    }\n",
       "\n",
       "    .dataframe thead th {\n",
       "        text-align: right;\n",
       "    }\n",
       "</style>\n",
       "<table border=\"1\" class=\"dataframe\">\n",
       "  <thead>\n",
       "    <tr style=\"text-align: right;\">\n",
       "      <th></th>\n",
       "      <th>Country_Germany</th>\n",
       "      <th>Country_Spain</th>\n",
       "      <th>Age_std</th>\n",
       "      <th>Salary_std</th>\n",
       "    </tr>\n",
       "  </thead>\n",
       "  <tbody>\n",
       "    <tr>\n",
       "      <th>0</th>\n",
       "      <td>0</td>\n",
       "      <td>0</td>\n",
       "      <td>0.758874</td>\n",
       "      <td>0.772568</td>\n",
       "    </tr>\n",
       "    <tr>\n",
       "      <th>1</th>\n",
       "      <td>0</td>\n",
       "      <td>1</td>\n",
       "      <td>-1.711504</td>\n",
       "      <td>-1.408800</td>\n",
       "    </tr>\n",
       "    <tr>\n",
       "      <th>2</th>\n",
       "      <td>1</td>\n",
       "      <td>0</td>\n",
       "      <td>-1.275555</td>\n",
       "      <td>-0.863458</td>\n",
       "    </tr>\n",
       "    <tr>\n",
       "      <th>3</th>\n",
       "      <td>0</td>\n",
       "      <td>1</td>\n",
       "      <td>-0.113024</td>\n",
       "      <td>-0.227226</td>\n",
       "    </tr>\n",
       "    <tr>\n",
       "      <th>4</th>\n",
       "      <td>1</td>\n",
       "      <td>0</td>\n",
       "      <td>0.177609</td>\n",
       "      <td>-0.227226</td>\n",
       "    </tr>\n",
       "    <tr>\n",
       "      <th>5</th>\n",
       "      <td>0</td>\n",
       "      <td>0</td>\n",
       "      <td>-0.548973</td>\n",
       "      <td>-0.499897</td>\n",
       "    </tr>\n",
       "    <tr>\n",
       "      <th>6</th>\n",
       "      <td>0</td>\n",
       "      <td>1</td>\n",
       "      <td>0.000000</td>\n",
       "      <td>-1.045239</td>\n",
       "    </tr>\n",
       "    <tr>\n",
       "      <th>7</th>\n",
       "      <td>0</td>\n",
       "      <td>0</td>\n",
       "      <td>1.340140</td>\n",
       "      <td>1.408800</td>\n",
       "    </tr>\n",
       "    <tr>\n",
       "      <th>8</th>\n",
       "      <td>1</td>\n",
       "      <td>0</td>\n",
       "      <td>1.630773</td>\n",
       "      <td>1.772361</td>\n",
       "    </tr>\n",
       "    <tr>\n",
       "      <th>9</th>\n",
       "      <td>0</td>\n",
       "      <td>0</td>\n",
       "      <td>-0.258340</td>\n",
       "      <td>0.318116</td>\n",
       "    </tr>\n",
       "  </tbody>\n",
       "</table>\n",
       "</div>"
      ],
      "text/plain": [
       "   Country_Germany  Country_Spain   Age_std  Salary_std\n",
       "0                0              0  0.758874    0.772568\n",
       "1                0              1 -1.711504   -1.408800\n",
       "2                1              0 -1.275555   -0.863458\n",
       "3                0              1 -0.113024   -0.227226\n",
       "4                1              0  0.177609   -0.227226\n",
       "5                0              0 -0.548973   -0.499897\n",
       "6                0              1  0.000000   -1.045239\n",
       "7                0              0  1.340140    1.408800\n",
       "8                1              0  1.630773    1.772361\n",
       "9                0              0 -0.258340    0.318116"
      ]
     },
     "execution_count": 136,
     "metadata": {},
     "output_type": "execute_result"
    }
   ],
   "source": [
    "df= concatDataFrames(df, data, [\"Age\", \"Salary\"])\n",
    "df"
   ]
  },
  {
   "cell_type": "markdown",
   "id": "6f37db83",
   "metadata": {},
   "source": [
    "Solo los campos categoricos son los que dejamos, ya que con esos valores podemos predecir."
   ]
  },
  {
   "attachments": {},
   "cell_type": "markdown",
   "id": "8e4b466a",
   "metadata": {},
   "source": [
    "## Valores Atípicos\n",
    "\n",
    "![alt text](https://ichi.pro/assets/images/max/724/1*wz--poSokEehPaqt6Kyxmw.png)\n",
    "\n",
    "Estos valores se deben eliminar, estos valores son:\n",
    "- Los que estan por debajo del valor minimo\n",
    "\n",
    "    **Q1 - 1.5 x IQR**\n",
    "    \n",
    "    \n",
    "- Los que estan por encima del valor maximo\n",
    "\n",
    "    **Q3 + 1.5 x IQR**\n",
    "    \n"
   ]
  },
  {
   "cell_type": "markdown",
   "id": "0529f6aa",
   "metadata": {},
   "source": [
    "### Rango intercuartil (IQR)\n",
    "\n",
    "Es la resta de **Q3 - Q1**\n",
    "\n",
    "**La mediana:** Es donde el **50%** estan por debajo de el y **50%** estan por encima de el.\n",
    " - **Impar**: mitad + 1\n",
    " - **Par**: (mitad_1 + mitad_2) / 2 \n",
    " \n",
    "Entonces:\n",
    " - **Q1**: **25%** por debajo mitad.\n",
    " - **Q3**: **25%** por encima mitad.\n",
    "    "
   ]
  },
  {
   "cell_type": "code",
   "execution_count": 142,
   "id": "a01cc8de",
   "metadata": {},
   "outputs": [
    {
     "data": {
      "text/html": [
       "<div>\n",
       "<style scoped>\n",
       "    .dataframe tbody tr th:only-of-type {\n",
       "        vertical-align: middle;\n",
       "    }\n",
       "\n",
       "    .dataframe tbody tr th {\n",
       "        vertical-align: top;\n",
       "    }\n",
       "\n",
       "    .dataframe thead th {\n",
       "        text-align: right;\n",
       "    }\n",
       "</style>\n",
       "<table border=\"1\" class=\"dataframe\">\n",
       "  <thead>\n",
       "    <tr style=\"text-align: right;\">\n",
       "      <th></th>\n",
       "      <th>Age_std</th>\n",
       "      <th>Salary_std</th>\n",
       "    </tr>\n",
       "  </thead>\n",
       "  <tbody>\n",
       "    <tr>\n",
       "      <th>0</th>\n",
       "      <td>0.758874</td>\n",
       "      <td>0.772568</td>\n",
       "    </tr>\n",
       "    <tr>\n",
       "      <th>1</th>\n",
       "      <td>-1.711504</td>\n",
       "      <td>-1.408800</td>\n",
       "    </tr>\n",
       "    <tr>\n",
       "      <th>2</th>\n",
       "      <td>-1.275555</td>\n",
       "      <td>-0.863458</td>\n",
       "    </tr>\n",
       "    <tr>\n",
       "      <th>3</th>\n",
       "      <td>-0.113024</td>\n",
       "      <td>-0.227226</td>\n",
       "    </tr>\n",
       "    <tr>\n",
       "      <th>4</th>\n",
       "      <td>0.177609</td>\n",
       "      <td>-0.227226</td>\n",
       "    </tr>\n",
       "    <tr>\n",
       "      <th>5</th>\n",
       "      <td>-0.548973</td>\n",
       "      <td>-0.499897</td>\n",
       "    </tr>\n",
       "    <tr>\n",
       "      <th>6</th>\n",
       "      <td>0.000000</td>\n",
       "      <td>-1.045239</td>\n",
       "    </tr>\n",
       "    <tr>\n",
       "      <th>7</th>\n",
       "      <td>1.340140</td>\n",
       "      <td>1.408800</td>\n",
       "    </tr>\n",
       "    <tr>\n",
       "      <th>8</th>\n",
       "      <td>1.630773</td>\n",
       "      <td>1.772361</td>\n",
       "    </tr>\n",
       "    <tr>\n",
       "      <th>9</th>\n",
       "      <td>-0.258340</td>\n",
       "      <td>0.318116</td>\n",
       "    </tr>\n",
       "  </tbody>\n",
       "</table>\n",
       "</div>"
      ],
      "text/plain": [
       "    Age_std  Salary_std\n",
       "0  0.758874    0.772568\n",
       "1 -1.711504   -1.408800\n",
       "2 -1.275555   -0.863458\n",
       "3 -0.113024   -0.227226\n",
       "4  0.177609   -0.227226\n",
       "5 -0.548973   -0.499897\n",
       "6  0.000000   -1.045239\n",
       "7  1.340140    1.408800\n",
       "8  1.630773    1.772361\n",
       "9 -0.258340    0.318116"
      ]
     },
     "execution_count": 142,
     "metadata": {},
     "output_type": "execute_result"
    }
   ],
   "source": [
    "data"
   ]
  },
  {
   "cell_type": "markdown",
   "id": "d5ef57d6",
   "metadata": {},
   "source": [
    "### Probando Función IQR"
   ]
  },
  {
   "cell_type": "code",
   "execution_count": 143,
   "id": "235fee0c",
   "metadata": {},
   "outputs": [
    {
     "data": {
      "text/html": [
       "<div>\n",
       "<style scoped>\n",
       "    .dataframe tbody tr th:only-of-type {\n",
       "        vertical-align: middle;\n",
       "    }\n",
       "\n",
       "    .dataframe tbody tr th {\n",
       "        vertical-align: top;\n",
       "    }\n",
       "\n",
       "    .dataframe thead th {\n",
       "        text-align: right;\n",
       "    }\n",
       "</style>\n",
       "<table border=\"1\" class=\"dataframe\">\n",
       "  <thead>\n",
       "    <tr style=\"text-align: right;\">\n",
       "      <th></th>\n",
       "      <th>Country_Germany</th>\n",
       "      <th>Country_Spain</th>\n",
       "      <th>Age_std</th>\n",
       "      <th>Salary_std</th>\n",
       "    </tr>\n",
       "  </thead>\n",
       "  <tbody>\n",
       "    <tr>\n",
       "      <th>0</th>\n",
       "      <td>0</td>\n",
       "      <td>0</td>\n",
       "      <td>0.758874</td>\n",
       "      <td>0.772568</td>\n",
       "    </tr>\n",
       "    <tr>\n",
       "      <th>1</th>\n",
       "      <td>0</td>\n",
       "      <td>1</td>\n",
       "      <td>-1.711504</td>\n",
       "      <td>-1.408800</td>\n",
       "    </tr>\n",
       "    <tr>\n",
       "      <th>2</th>\n",
       "      <td>1</td>\n",
       "      <td>0</td>\n",
       "      <td>-1.275555</td>\n",
       "      <td>-0.863458</td>\n",
       "    </tr>\n",
       "    <tr>\n",
       "      <th>3</th>\n",
       "      <td>0</td>\n",
       "      <td>1</td>\n",
       "      <td>-0.113024</td>\n",
       "      <td>-0.227226</td>\n",
       "    </tr>\n",
       "    <tr>\n",
       "      <th>4</th>\n",
       "      <td>1</td>\n",
       "      <td>0</td>\n",
       "      <td>0.177609</td>\n",
       "      <td>-0.227226</td>\n",
       "    </tr>\n",
       "    <tr>\n",
       "      <th>5</th>\n",
       "      <td>0</td>\n",
       "      <td>0</td>\n",
       "      <td>-0.548973</td>\n",
       "      <td>-0.499897</td>\n",
       "    </tr>\n",
       "    <tr>\n",
       "      <th>6</th>\n",
       "      <td>0</td>\n",
       "      <td>1</td>\n",
       "      <td>0.000000</td>\n",
       "      <td>-1.045239</td>\n",
       "    </tr>\n",
       "    <tr>\n",
       "      <th>7</th>\n",
       "      <td>0</td>\n",
       "      <td>0</td>\n",
       "      <td>1.340140</td>\n",
       "      <td>1.408800</td>\n",
       "    </tr>\n",
       "    <tr>\n",
       "      <th>8</th>\n",
       "      <td>1</td>\n",
       "      <td>0</td>\n",
       "      <td>1.630773</td>\n",
       "      <td>1.772361</td>\n",
       "    </tr>\n",
       "    <tr>\n",
       "      <th>9</th>\n",
       "      <td>0</td>\n",
       "      <td>0</td>\n",
       "      <td>-0.258340</td>\n",
       "      <td>0.318116</td>\n",
       "    </tr>\n",
       "  </tbody>\n",
       "</table>\n",
       "</div>"
      ],
      "text/plain": [
       "   Country_Germany  Country_Spain   Age_std  Salary_std\n",
       "0                0              0  0.758874    0.772568\n",
       "1                0              1 -1.711504   -1.408800\n",
       "2                1              0 -1.275555   -0.863458\n",
       "3                0              1 -0.113024   -0.227226\n",
       "4                1              0  0.177609   -0.227226\n",
       "5                0              0 -0.548973   -0.499897\n",
       "6                0              1  0.000000   -1.045239\n",
       "7                0              0  1.340140    1.408800\n",
       "8                1              0  1.630773    1.772361\n",
       "9                0              0 -0.258340    0.318116"
      ]
     },
     "execution_count": 143,
     "metadata": {},
     "output_type": "execute_result"
    }
   ],
   "source": [
    "df_aux = df\n",
    "df_aux"
   ]
  },
  {
   "cell_type": "code",
   "execution_count": 148,
   "id": "d45f9261",
   "metadata": {},
   "outputs": [
    {
     "data": {
      "text/plain": [
       "'median=-0.23, q1=-0.77, q3=0.66, iqr=1.43, minimum=-2.92, maximum=2.81'"
      ]
     },
     "execution_count": 148,
     "metadata": {},
     "output_type": "execute_result"
    }
   ],
   "source": [
    "get_iqr_text(df_aux, \"Salary_std\")"
   ]
  },
  {
   "cell_type": "markdown",
   "id": "99809c27",
   "metadata": {},
   "source": [
    "### Graficar IQR"
   ]
  },
  {
   "cell_type": "code",
   "execution_count": 149,
   "id": "3be69c40",
   "metadata": {},
   "outputs": [
    {
     "name": "stderr",
     "output_type": "stream",
     "text": [
      "C:\\Users\\SerBuitrago2\\anaconda3\\lib\\site-packages\\seaborn\\_decorators.py:36: FutureWarning: Pass the following variable as a keyword arg: x. From version 0.12, the only valid positional argument will be `data`, and passing other arguments without an explicit keyword will result in an error or misinterpretation.\n",
      "  warnings.warn(\n"
     ]
    },
    {
     "data": {
      "image/png": "[encoded data removed]",
      "text/plain": [
       "<Figure size 432x288 with 1 Axes>"
      ]
     },
     "metadata": {
      "needs_background": "light"
     },
     "output_type": "display_data"
    }
   ],
   "source": [
    "box_and_whisker(df_aux, \"Salary_std\")"
   ]
  },
  {
   "cell_type": "code",
   "execution_count": null,
   "id": "e853d2ec",
   "metadata": {},
   "outputs": [],
   "source": []
  }
 ],
 "metadata": {
  "kernelspec": {
   "display_name": "Python 3",
   "language": "python",
   "name": "python3"
  },
  "language_info": {
   "codemirror_mode": {
    "name": "ipython",
    "version": 3
   },
   "file_extension": ".py",
   "mimetype": "text/x-python",
   "name": "python",
   "nbconvert_exporter": "python",
   "pygments_lexer": "ipython3",
   "version": "3.8.8"
  }
 },
 "nbformat": 4,
 "nbformat_minor": 5
}
