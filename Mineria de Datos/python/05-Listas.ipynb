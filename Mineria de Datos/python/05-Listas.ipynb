{
 "cells": [
  {
   "cell_type": "markdown",
   "id": "71a6e9a2",
   "metadata": {},
   "source": [
    "# 05 - Listas\n",
    "Tipo compuesto de dato que puede almacenar cientos valores (llamados items) ordenados entre [] y separados con comas."
   ]
  },
  {
   "cell_type": "code",
   "execution_count": 1,
   "id": "08e298a8",
   "metadata": {},
   "outputs": [
    {
     "data": {
      "text/plain": [
       "[1, 2, 3, 4]"
      ]
     },
     "execution_count": 1,
     "metadata": {},
     "output_type": "execute_result"
    }
   ],
   "source": [
    "numeros = [1,2,3,4]\n",
    "numeros"
   ]
  },
  {
   "cell_type": "code",
   "execution_count": 3,
   "id": "b2b35f04",
   "metadata": {},
   "outputs": [
    {
     "data": {
      "text/plain": [
       "['Sergio', 'Stives', 21, 'años', 2]"
      ]
     },
     "execution_count": 3,
     "metadata": {},
     "output_type": "execute_result"
    }
   ],
   "source": [
    "datos = [\"Sergio\", \"Stives\", 21, \"años\", 2]\n",
    "datos"
   ]
  },
  {
   "cell_type": "markdown",
   "id": "15a10451",
   "metadata": {},
   "source": [
    "### Indices y Slicing\n",
    "Funcionan de una forma muy similar a las cadenas de caracteres."
   ]
  },
  {
   "cell_type": "code",
   "execution_count": 4,
   "id": "a8beca2e",
   "metadata": {},
   "outputs": [
    {
     "data": {
      "text/plain": [
       "'Stives'"
      ]
     },
     "execution_count": 4,
     "metadata": {},
     "output_type": "execute_result"
    }
   ],
   "source": [
    "datos[1]"
   ]
  },
  {
   "cell_type": "code",
   "execution_count": 5,
   "id": "b77f0729",
   "metadata": {},
   "outputs": [
    {
     "data": {
      "text/plain": [
       "2"
      ]
     },
     "execution_count": 5,
     "metadata": {},
     "output_type": "execute_result"
    }
   ],
   "source": [
    "datos[-1]"
   ]
  },
  {
   "cell_type": "markdown",
   "id": "26d9f6eb",
   "metadata": {},
   "source": [
    "Cuando se hace un **slicing** devulve otra lista"
   ]
  },
  {
   "cell_type": "code",
   "execution_count": 6,
   "id": "1f969ee5",
   "metadata": {},
   "outputs": [
    {
     "data": {
      "text/plain": [
       "['años', 2]"
      ]
     },
     "execution_count": 6,
     "metadata": {},
     "output_type": "execute_result"
    }
   ],
   "source": [
    "datos[-2:]"
   ]
  },
  {
   "cell_type": "markdown",
   "id": "8ef432d5",
   "metadata": {},
   "source": [
    "### Suma de Listas\n",
    "Da como resultado una nueva lista que incluye todos los items."
   ]
  },
  {
   "cell_type": "code",
   "execution_count": 7,
   "id": "bd5ddc64",
   "metadata": {},
   "outputs": [
    {
     "data": {
      "text/plain": [
       "[1, 2, 3, 4, 5, 6, 7, 8]"
      ]
     },
     "execution_count": 7,
     "metadata": {},
     "output_type": "execute_result"
    }
   ],
   "source": [
    "numeros = [1,2,3,4]\n",
    "numeros + [5,6,7,8]"
   ]
  },
  {
   "cell_type": "markdown",
   "id": "dfd922d6",
   "metadata": {},
   "source": [
    "### Son Modificables\n",
    "A diferencia de las cadenas, en las listas si podemos modificar sus items utilizando indices:"
   ]
  },
  {
   "cell_type": "code",
   "execution_count": 8,
   "id": "59dabd59",
   "metadata": {},
   "outputs": [
    {
     "data": {
      "text/plain": [
       "[0, 2, 4, 6, 8, 10]"
      ]
     },
     "execution_count": 8,
     "metadata": {},
     "output_type": "execute_result"
    }
   ],
   "source": [
    "pares = [0,2,4,5,8,10]\n",
    "pares[3]= 6\n",
    "pares"
   ]
  },
  {
   "cell_type": "markdown",
   "id": "1ffa751d",
   "metadata": {},
   "source": [
    "### Insertar\n",
    "Para añadir un item a la lista se usa la función **append** este siempre insertara al final de la lista."
   ]
  },
  {
   "cell_type": "code",
   "execution_count": 9,
   "id": "498fc3bb",
   "metadata": {},
   "outputs": [
    {
     "data": {
      "text/plain": [
       "[0, 2, 4, 5, 8, 10, 12]"
      ]
     },
     "execution_count": 9,
     "metadata": {},
     "output_type": "execute_result"
    }
   ],
   "source": [
    "pares = [0,2,4,5,8,10]\n",
    "pares.append(12)\n",
    "pares"
   ]
  },
  {
   "cell_type": "code",
   "execution_count": 17,
   "id": "866fd32d",
   "metadata": {},
   "outputs": [
    {
     "data": {
      "text/plain": [
       "[0, 2, 4, 5, 8, 10, 14]"
      ]
     },
     "execution_count": 17,
     "metadata": {},
     "output_type": "execute_result"
    }
   ],
   "source": [
    "pares = [0,2,4,5,8,10]\n",
    "pares.append(7*2)\n",
    "pares"
   ]
  },
  {
   "cell_type": "markdown",
   "id": "eb167a05",
   "metadata": {},
   "source": [
    "Una peculiaridad, es que también acepta asignación con **slicing** para modificar varios ítems en conjuntos"
   ]
  },
  {
   "cell_type": "code",
   "execution_count": 13,
   "id": "ce82642d",
   "metadata": {},
   "outputs": [
    {
     "data": {
      "text/plain": [
       "['a', 'b', 'c']"
      ]
     },
     "execution_count": 13,
     "metadata": {},
     "output_type": "execute_result"
    }
   ],
   "source": [
    "letras = ['a', 'b', 'c', 'd', 'e', 'f']\n",
    "letras[:3]"
   ]
  },
  {
   "cell_type": "code",
   "execution_count": 12,
   "id": "8ce3e18c",
   "metadata": {},
   "outputs": [
    {
     "data": {
      "text/plain": [
       "['A', 'B', 'C', 'd', 'e', 'f']"
      ]
     },
     "execution_count": 12,
     "metadata": {},
     "output_type": "execute_result"
    }
   ],
   "source": [
    "letras = ['a', 'b', 'c', 'd', 'e', 'f']\n",
    "letras[:3]= ['A', 'B', 'C']\n",
    "letras"
   ]
  },
  {
   "cell_type": "markdown",
   "id": "6c8587b4",
   "metadata": {},
   "source": [
    "Asignar una lista vacía equivale a borrar los ítems de la lista o sublista."
   ]
  },
  {
   "cell_type": "code",
   "execution_count": 15,
   "id": "80869348",
   "metadata": {},
   "outputs": [
    {
     "data": {
      "text/plain": [
       "['d', 'e', 'f']"
      ]
     },
     "execution_count": 15,
     "metadata": {},
     "output_type": "execute_result"
    }
   ],
   "source": [
    "letras = ['a', 'b', 'c', 'd', 'e', 'f']\n",
    "letras[:3]= []\n",
    "letras"
   ]
  },
  {
   "cell_type": "code",
   "execution_count": 16,
   "id": "e99d57ea",
   "metadata": {},
   "outputs": [
    {
     "data": {
      "text/plain": [
       "[]"
      ]
     },
     "execution_count": 16,
     "metadata": {},
     "output_type": "execute_result"
    }
   ],
   "source": [
    "letras = ['a', 'b', 'c', 'd', 'e', 'f']\n",
    "letras = []\n",
    "letras"
   ]
  },
  {
   "cell_type": "markdown",
   "id": "59e521c8",
   "metadata": {},
   "source": [
    "### Len\n",
    "Tambien funciona con las listas del mismo modo que en las cadenas(Permite conocer el numero de items en este caso la lista)."
   ]
  },
  {
   "cell_type": "code",
   "execution_count": 18,
   "id": "02685768",
   "metadata": {},
   "outputs": [
    {
     "data": {
      "text/plain": [
       "6"
      ]
     },
     "execution_count": 18,
     "metadata": {},
     "output_type": "execute_result"
    }
   ],
   "source": [
    "letras = ['a', 'b', 'c', 'd', 'e', 'f']\n",
    "len(letras)"
   ]
  },
  {
   "cell_type": "code",
   "execution_count": 19,
   "id": "6dae293a",
   "metadata": {},
   "outputs": [
    {
     "data": {
      "text/plain": [
       "6"
      ]
     },
     "execution_count": 19,
     "metadata": {},
     "output_type": "execute_result"
    }
   ],
   "source": [
    "pares = [0,2,4,5,8,10]\n",
    "len(pares)"
   ]
  },
  {
   "cell_type": "markdown",
   "id": "0b53bfdc",
   "metadata": {},
   "source": [
    "### Listas dentro de listas (Anidadas)\n",
    "Se puede manipular facilmente este tipo de estructuras utilizando multiples indices, como si nos refieramos a las filas y columnas de una tabla."
   ]
  },
  {
   "cell_type": "code",
   "execution_count": 20,
   "id": "f8f609f0",
   "metadata": {},
   "outputs": [
    {
     "data": {
      "text/plain": [
       "[[1, 2, 3], [2, 5, 6], [7, 8, 9]]"
      ]
     },
     "execution_count": 20,
     "metadata": {},
     "output_type": "execute_result"
    }
   ],
   "source": [
    "a = [1,2,3]\n",
    "b = [2,5,6]\n",
    "c = [7,8,9]\n",
    "r = [a,b,c]\n",
    "r"
   ]
  },
  {
   "cell_type": "markdown",
   "id": "c0e5f300",
   "metadata": {},
   "source": [
    "Primera sublista"
   ]
  },
  {
   "cell_type": "code",
   "execution_count": 21,
   "id": "8de328bc",
   "metadata": {},
   "outputs": [
    {
     "data": {
      "text/plain": [
       "[1, 2, 3]"
      ]
     },
     "execution_count": 21,
     "metadata": {},
     "output_type": "execute_result"
    }
   ],
   "source": [
    "r[0]"
   ]
  },
  {
   "cell_type": "markdown",
   "id": "6e8643ef",
   "metadata": {},
   "source": [
    "Ultima sublista"
   ]
  },
  {
   "cell_type": "code",
   "execution_count": 22,
   "id": "4b842b87",
   "metadata": {},
   "outputs": [
    {
     "data": {
      "text/plain": [
       "[7, 8, 9]"
      ]
     },
     "execution_count": 22,
     "metadata": {},
     "output_type": "execute_result"
    }
   ],
   "source": [
    "r[-1]"
   ]
  },
  {
   "cell_type": "markdown",
   "id": "9aba33ad",
   "metadata": {},
   "source": [
    "Primera sublista y de ella, el primer item"
   ]
  },
  {
   "cell_type": "code",
   "execution_count": 23,
   "id": "07d7a9d2",
   "metadata": {},
   "outputs": [
    {
     "data": {
      "text/plain": [
       "1"
      ]
     },
     "execution_count": 23,
     "metadata": {},
     "output_type": "execute_result"
    }
   ],
   "source": [
    "r[0][0]"
   ]
  },
  {
   "cell_type": "code",
   "execution_count": null,
   "id": "aea3788b",
   "metadata": {},
   "outputs": [],
   "source": []
  }
 ],
 "metadata": {
  "kernelspec": {
   "display_name": "Python 3",
   "language": "python",
   "name": "python3"
  },
  "language_info": {
   "codemirror_mode": {
    "name": "ipython",
    "version": 3
   },
   "file_extension": ".py",
   "mimetype": "text/x-python",
   "name": "python",
   "nbconvert_exporter": "python",
   "pygments_lexer": "ipython3",
   "version": "3.8.8"
  }
 },
 "nbformat": 4,
 "nbformat_minor": 5
}
