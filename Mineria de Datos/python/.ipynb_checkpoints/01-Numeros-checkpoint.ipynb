{
 "cells": [
  {
   "cell_type": "markdown",
   "id": "795204cd",
   "metadata": {},
   "source": [
    "# 01 - Numeros"
   ]
  },
  {
   "cell_type": "code",
   "execution_count": null,
   "id": "0adfe931",
   "metadata": {},
   "outputs": [],
   "source": [
    "3+2"
   ]
  },
  {
   "cell_type": "code",
   "execution_count": null,
   "id": "814c0f77",
   "metadata": {},
   "outputs": [],
   "source": [
    "3-2"
   ]
  },
  {
   "cell_type": "code",
   "execution_count": null,
   "id": "488fbd5a",
   "metadata": {},
   "outputs": [],
   "source": [
    "3*2"
   ]
  },
  {
   "cell_type": "code",
   "execution_count": null,
   "id": "266a39c7",
   "metadata": {},
   "outputs": [],
   "source": [
    "3/2"
   ]
  },
  {
   "cell_type": "code",
   "execution_count": null,
   "id": "92c0f425",
   "metadata": {},
   "outputs": [],
   "source": [
    "3%2"
   ]
  },
  {
   "cell_type": "code",
   "execution_count": null,
   "id": "83f6c130",
   "metadata": {},
   "outputs": [],
   "source": [
    "3**2"
   ]
  },
  {
   "cell_type": "markdown",
   "id": "aa8a70c4",
   "metadata": {},
   "source": [
    "## Podemos Distinguir 2 tipos de numeros\n",
    "* **Enteros:** No tienen una parte decimal y van desde menos infinito a mas infinito.\n",
    "* **Flotantes o decimales:** Tienen una parte decimal escrita con un punto."
   ]
  },
  {
   "cell_type": "markdown",
   "id": "29a6ed39",
   "metadata": {},
   "source": [
    "### Entero"
   ]
  },
  {
   "cell_type": "code",
   "execution_count": null,
   "id": "02fb5918",
   "metadata": {},
   "outputs": [],
   "source": [
    "1"
   ]
  },
  {
   "cell_type": "markdown",
   "id": "f0c7674c",
   "metadata": {},
   "source": [
    "### Decimal"
   ]
  },
  {
   "cell_type": "code",
   "execution_count": null,
   "id": "851fb7f3",
   "metadata": {},
   "outputs": [],
   "source": [
    "3.1416"
   ]
  },
  {
   "cell_type": "markdown",
   "id": "9340766e",
   "metadata": {},
   "source": [
    "#### Conocer tipo dato"
   ]
  },
  {
   "cell_type": "code",
   "execution_count": 4,
   "id": "67e648b8",
   "metadata": {},
   "outputs": [
    {
     "data": {
      "text/plain": [
       "int"
      ]
     },
     "execution_count": 4,
     "metadata": {},
     "output_type": "execute_result"
    }
   ],
   "source": [
    "type(1)"
   ]
  },
  {
   "cell_type": "code",
   "execution_count": 3,
   "id": "79eb8fca",
   "metadata": {},
   "outputs": [
    {
     "data": {
      "text/plain": [
       "float"
      ]
     },
     "execution_count": 3,
     "metadata": {},
     "output_type": "execute_result"
    }
   ],
   "source": [
    "type(1.8)"
   ]
  },
  {
   "cell_type": "markdown",
   "id": "37bdcbd9",
   "metadata": {},
   "source": [
    "#### Operaciones un poco mas complejas"
   ]
  },
  {
   "cell_type": "code",
   "execution_count": 5,
   "id": "7bcab7f5",
   "metadata": {},
   "outputs": [
    {
     "data": {
      "text/plain": [
       "41"
      ]
     },
     "execution_count": 5,
     "metadata": {},
     "output_type": "execute_result"
    }
   ],
   "source": [
    "3-2+4*10"
   ]
  },
  {
   "cell_type": "markdown",
   "id": "9f75c9dc",
   "metadata": {},
   "source": [
    "#### Orden Operaciones\n",
    "* Corchetes y parentesis \n",
    "* Potencias y raices\n",
    "* Multiplicacion y division\n",
    "* Suma y resta"
   ]
  },
  {
   "cell_type": "code",
   "execution_count": null,
   "id": "81964df2",
   "metadata": {},
   "outputs": [],
   "source": []
  }
 ],
 "metadata": {
  "kernelspec": {
   "display_name": "Python 3",
   "language": "python",
   "name": "python3"
  },
  "language_info": {
   "codemirror_mode": {
    "name": "ipython",
    "version": 3
   },
   "file_extension": ".py",
   "mimetype": "text/x-python",
   "name": "python",
   "nbconvert_exporter": "python",
   "pygments_lexer": "ipython3",
   "version": "3.8.8"
  }
 },
 "nbformat": 4,
 "nbformat_minor": 5
}
