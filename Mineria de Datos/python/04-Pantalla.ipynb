{
 "cells": [
  {
   "cell_type": "markdown",
   "id": "a37cbdef",
   "metadata": {},
   "source": [
    "# 04 - Pantalla\n",
    "Para mostrar una valor en la pantalla de utiliza la función **print()**.\n",
    "\n",
    "Es una instrucción que nos permite mostrar correctamente el valor de una cadena (u otros valores/variables) por pantalla."
   ]
  },
  {
   "cell_type": "code",
   "execution_count": 1,
   "id": "0dc716d0",
   "metadata": {},
   "outputs": [
    {
     "data": {
      "text/plain": [
       "10"
      ]
     },
     "execution_count": 1,
     "metadata": {},
     "output_type": "execute_result"
    }
   ],
   "source": [
    "\"Hola Mundo\"\n",
    "m = 10\n",
    "m"
   ]
  },
  {
   "cell_type": "code",
   "execution_count": 2,
   "id": "7274239b",
   "metadata": {},
   "outputs": [
    {
     "name": "stdout",
     "output_type": "stream",
     "text": [
      "Hola Mundo\n",
      "10\n"
     ]
    }
   ],
   "source": [
    "print(\"Hola Mundo\")\n",
    "print(m)"
   ]
  },
  {
   "cell_type": "markdown",
   "id": "630f7f84",
   "metadata": {},
   "source": [
    "Acepta caracteres especiales:\n",
    "* **/t**: Tabulación\n",
    "* **/n**: Salto de linea\n",
    "* **r**: Cadena cruda"
   ]
  },
  {
   "cell_type": "code",
   "execution_count": 3,
   "id": "f3af4afd",
   "metadata": {},
   "outputs": [
    {
     "name": "stdout",
     "output_type": "stream",
     "text": [
      "Un texto \tuna tabulación\n"
     ]
    }
   ],
   "source": [
    "print(\"Un texto \\tuna tabulación\")"
   ]
  },
  {
   "cell_type": "code",
   "execution_count": 4,
   "id": "d57a2f91",
   "metadata": {},
   "outputs": [
    {
     "name": "stdout",
     "output_type": "stream",
     "text": [
      "Un texto\n",
      "una nueva linea\n"
     ]
    }
   ],
   "source": [
    "print(\"Un texto\\nuna nueva linea\")"
   ]
  },
  {
   "cell_type": "code",
   "execution_count": 5,
   "id": "03dd4766",
   "metadata": {},
   "outputs": [
    {
     "name": "stdout",
     "output_type": "stream",
     "text": [
      "C:\n",
      "ombre\\directorio\n",
      "C:\\nombre\\directorio\n"
     ]
    }
   ],
   "source": [
    "print(\"C:\\nombre\\directorio\")\n",
    "print(r\"C:\\nombre\\directorio\")"
   ]
  },
  {
   "cell_type": "markdown",
   "id": "c2c9eb1b",
   "metadata": {},
   "source": []
  }
 ],
 "metadata": {
  "kernelspec": {
   "display_name": "Python 3",
   "language": "python",
   "name": "python3"
  },
  "language_info": {
   "codemirror_mode": {
    "name": "ipython",
    "version": 3
   },
   "file_extension": ".py",
   "mimetype": "text/x-python",
   "name": "python",
   "nbconvert_exporter": "python",
   "pygments_lexer": "ipython3",
   "version": "3.8.8"
  }
 },
 "nbformat": 4,
 "nbformat_minor": 5
}
