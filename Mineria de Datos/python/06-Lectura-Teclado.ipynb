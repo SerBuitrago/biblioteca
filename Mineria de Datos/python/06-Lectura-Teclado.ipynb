{
 "cells": [
  {
   "cell_type": "markdown",
   "id": "e86a4a40",
   "metadata": {},
   "source": [
    "# 06 - Lectura Teclado\n",
    "\n",
    "Se consigue utilizando las instrucción input() que lee y devuelve una cadena:\n"
   ]
  },
  {
   "cell_type": "code",
   "execution_count": 1,
   "id": "08922bb6",
   "metadata": {},
   "outputs": [
    {
     "name": "stdout",
     "output_type": "stream",
     "text": [
      "Hola\n"
     ]
    }
   ],
   "source": [
    "valor = input()"
   ]
  },
  {
   "cell_type": "code",
   "execution_count": null,
   "id": "cccc9e1f",
   "metadata": {},
   "outputs": [],
   "source": []
  }
 ],
 "metadata": {
  "kernelspec": {
   "display_name": "Python 3",
   "language": "python",
   "name": "python3"
  },
  "language_info": {
   "codemirror_mode": {
    "name": "ipython",
    "version": 3
   },
   "file_extension": ".py",
   "mimetype": "text/x-python",
   "name": "python",
   "nbconvert_exporter": "python",
   "pygments_lexer": "ipython3",
   "version": "3.8.8"
  }
 },
 "nbformat": 4,
 "nbformat_minor": 5
}
