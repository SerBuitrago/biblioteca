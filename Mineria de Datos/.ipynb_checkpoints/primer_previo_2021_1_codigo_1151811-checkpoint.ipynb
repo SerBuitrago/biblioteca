{
 "cells": [
  {
   "cell_type": "markdown",
   "metadata": {
    "id": "blS-cPmhg5M8"
   },
   "source": [
    "### Primer Previo Final de Mineria de Datos"
   ]
  },
  {
   "cell_type": "markdown",
   "metadata": {
    "id": "bpwj4xtWg5ND"
   },
   "source": [
    "#### Descripción\n",
    "\n",
    "\n",
    "El dataset consiste en información relativa al alquiler de habitaciones utilizando la aplicación de Airbnb. Dicha información incluye la siguiente informacion \n",
    "room_id: numero del cuarto\n",
    "host_id: numero del cliente\n",
    "room_type:tipo_de_habitacion\n",
    "neighborhood:barrio\n",
    "reviews:cantidad de comentarios\n",
    "overall_satisfaction: calificación de satisfaccion\n",
    "accommodates:cantidad de personas en la acomodacion\n",
    "bedrooms:cantidad de dormitorios\n",
    "price:precio\n",
    "\n",
    "EJERCICIOS\n",
    "\n",
    "1. leer el archivo airbnb.csv y llame al dataframe df (valor 0.2)\n",
    "    - cambiar los nombres de las columnas de la siguiente manera:\n",
    "                room_id: room_id\n",
    "                host_id: host_id\n",
    "                room_type:tipo_de_habitacion\n",
    "                neighborhood:barrio\n",
    "                reviews:comentarios\n",
    "                overall_satisfaction: satisfaccion\n",
    "                accommodates:acomodacion\n",
    "                bedrooms:dormitorios\n",
    "                price:precio\n",
    "    - valor 0.3\n",
    "    - Muestre las primeras 5 filas\n",
    "    - Muestre el tamaño del dataframe"
   ]
  },
  {
   "cell_type": "code",
   "execution_count": 53,
   "metadata": {
    "executionInfo": {
     "elapsed": 941,
     "status": "ok",
     "timestamp": 1618864656570,
     "user": {
      "displayName": "STIWARD JHERIKOF CARRILLO RAMIREZ",
      "photoUrl": "https://lh3.googleusercontent.com/a-/AOh14GjfzniVHGCh7d3_wtWDwsXC_iVN1kQfXdo12vF_cQ=s64",
      "userId": "14913105575458408419"
     },
     "user_tz": 300
    },
    "id": "VyBscfDAhUsb"
   },
   "outputs": [],
   "source": [
    "import numpy as np\n",
    "import pandas as pd\n",
    "import matplotlib.pyplot as plt"
   ]
  },
  {
   "cell_type": "code",
   "execution_count": 54,
   "metadata": {
    "colab": {
     "base_uri": "https://localhost:8080/",
     "height": 72,
     "resources": {
      "http://localhost:8080/nbextensions/google.colab/files.js": {
       "data": "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",
       "headers": [
        [
         "content-type",
         "application/javascript"
        ]
       ],
       "ok": true,
       "status": 200,
       "status_text": ""
      }
     }
    },
    "executionInfo": {
     "elapsed": 21003,
     "status": "ok",
     "timestamp": 1618864679304,
     "user": {
      "displayName": "STIWARD JHERIKOF CARRILLO RAMIREZ",
      "photoUrl": "https://lh3.googleusercontent.com/a-/AOh14GjfzniVHGCh7d3_wtWDwsXC_iVN1kQfXdo12vF_cQ=s64",
      "userId": "14913105575458408419"
     },
     "user_tz": 300
    },
    "id": "Hn29Hc0dhWrC",
    "outputId": "84e664d7-8557-48fe-fe35-af233544e628"
   },
   "outputs": [
    {
     "data": {
      "text/html": [
       "\n",
       "     <input type=\"file\" id=\"files-6ea846d6-4e7c-4469-b310-8e26877c3dd2\" name=\"files[]\" multiple disabled\n",
       "        style=\"border:none\" />\n",
       "     <output id=\"result-6ea846d6-4e7c-4469-b310-8e26877c3dd2\">\n",
       "      Upload widget is only available when the cell has been executed in the\n",
       "      current browser session. Please rerun this cell to enable.\n",
       "      </output>\n",
       "      <script src=\"/nbextensions/google.colab/files.js\"></script> "
      ],
      "text/plain": [
       "<IPython.core.display.HTML object>"
      ]
     },
     "metadata": {
      "tags": []
     },
     "output_type": "display_data"
    },
    {
     "name": "stdout",
     "output_type": "stream",
     "text": [
      "Saving airbnb.csv to airbnb.csv\n"
     ]
    }
   ],
   "source": [
    "from google.colab import files\n",
    "uploaded = files.upload()"
   ]
  },
  {
   "cell_type": "code",
   "execution_count": null,
   "metadata": {
    "id": "XQpRPRzGg5NE",
    "outputId": "c318d8fa-6340-4873-fdff-c03c94534347"
   },
   "outputs": [
    {
     "data": {
      "text/html": [
       "<div>\n",
       "<style scoped>\n",
       "    .dataframe tbody tr th:only-of-type {\n",
       "        vertical-align: middle;\n",
       "    }\n",
       "\n",
       "    .dataframe tbody tr th {\n",
       "        vertical-align: top;\n",
       "    }\n",
       "\n",
       "    .dataframe thead th {\n",
       "        text-align: right;\n",
       "    }\n",
       "</style>\n",
       "<table border=\"1\" class=\"dataframe\">\n",
       "  <thead>\n",
       "    <tr style=\"text-align: right;\">\n",
       "      <th></th>\n",
       "      <th>room_id</th>\n",
       "      <th>host_id</th>\n",
       "      <th>tipo_de_habitacion</th>\n",
       "      <th>barrio</th>\n",
       "      <th>comentarios</th>\n",
       "      <th>satisfaccion</th>\n",
       "      <th>acomodacion</th>\n",
       "      <th>dormitorios</th>\n",
       "      <th>precio</th>\n",
       "    </tr>\n",
       "  </thead>\n",
       "  <tbody>\n",
       "    <tr>\n",
       "      <th>0</th>\n",
       "      <td>6499</td>\n",
       "      <td>14455</td>\n",
       "      <td>Entire home/apt</td>\n",
       "      <td>Belém</td>\n",
       "      <td>8</td>\n",
       "      <td>5.0</td>\n",
       "      <td>2.0</td>\n",
       "      <td>1.0</td>\n",
       "      <td>57.0</td>\n",
       "    </tr>\n",
       "    <tr>\n",
       "      <th>1</th>\n",
       "      <td>17031</td>\n",
       "      <td>66015</td>\n",
       "      <td>Entire home/apt</td>\n",
       "      <td>Alvalade</td>\n",
       "      <td>6</td>\n",
       "      <td>1.0</td>\n",
       "      <td>NaN</td>\n",
       "      <td>1.0</td>\n",
       "      <td>46.0</td>\n",
       "    </tr>\n",
       "    <tr>\n",
       "      <th>2</th>\n",
       "      <td>25659</td>\n",
       "      <td>107347</td>\n",
       "      <td>Entire home/apt</td>\n",
       "      <td>Santa Maria Maior</td>\n",
       "      <td>63</td>\n",
       "      <td>5.0</td>\n",
       "      <td>3.0</td>\n",
       "      <td>1.0</td>\n",
       "      <td>69.0</td>\n",
       "    </tr>\n",
       "    <tr>\n",
       "      <th>3</th>\n",
       "      <td>29248</td>\n",
       "      <td>125768</td>\n",
       "      <td>Entire home/apt</td>\n",
       "      <td>Santa Maria Maior</td>\n",
       "      <td>225</td>\n",
       "      <td>4.5</td>\n",
       "      <td>4.0</td>\n",
       "      <td>1.0</td>\n",
       "      <td>58.0</td>\n",
       "    </tr>\n",
       "    <tr>\n",
       "      <th>4</th>\n",
       "      <td>29396</td>\n",
       "      <td>126415</td>\n",
       "      <td>Entire home/apt</td>\n",
       "      <td>Santa Maria Maior</td>\n",
       "      <td>132</td>\n",
       "      <td>5.0</td>\n",
       "      <td>4.0</td>\n",
       "      <td>1.0</td>\n",
       "      <td>67.0</td>\n",
       "    </tr>\n",
       "  </tbody>\n",
       "</table>\n",
       "</div>"
      ],
      "text/plain": [
       "   room_id  host_id tipo_de_habitacion             barrio  comentarios  \\\n",
       "0     6499    14455    Entire home/apt              Belém            8   \n",
       "1    17031    66015    Entire home/apt           Alvalade            6   \n",
       "2    25659   107347    Entire home/apt  Santa Maria Maior           63   \n",
       "3    29248   125768    Entire home/apt  Santa Maria Maior          225   \n",
       "4    29396   126415    Entire home/apt  Santa Maria Maior          132   \n",
       "\n",
       "   satisfaccion  acomodacion  dormitorios  precio  \n",
       "0           5.0          2.0          1.0    57.0  \n",
       "1           1.0          NaN          1.0    46.0  \n",
       "2           5.0          3.0          1.0    69.0  \n",
       "3           4.5          4.0          1.0    58.0  \n",
       "4           5.0          4.0          1.0    67.0  "
      ]
     },
     "execution_count": 1,
     "metadata": {
      "tags": []
     },
     "output_type": "execute_result"
    }
   ],
   "source": []
  },
  {
   "cell_type": "code",
   "execution_count": 55,
   "metadata": {
    "colab": {
     "base_uri": "https://localhost:8080/",
     "height": 204
    },
    "executionInfo": {
     "elapsed": 1052,
     "status": "ok",
     "timestamp": 1618864684265,
     "user": {
      "displayName": "STIWARD JHERIKOF CARRILLO RAMIREZ",
      "photoUrl": "https://lh3.googleusercontent.com/a-/AOh14GjfzniVHGCh7d3_wtWDwsXC_iVN1kQfXdo12vF_cQ=s64",
      "userId": "14913105575458408419"
     },
     "user_tz": 300
    },
    "id": "1NjdXEKSkuvJ",
    "outputId": "9d632bfa-84e1-43cd-fbc4-1c1df4602bb8"
   },
   "outputs": [
    {
     "data": {
      "text/html": [
       "<div>\n",
       "<style scoped>\n",
       "    .dataframe tbody tr th:only-of-type {\n",
       "        vertical-align: middle;\n",
       "    }\n",
       "\n",
       "    .dataframe tbody tr th {\n",
       "        vertical-align: top;\n",
       "    }\n",
       "\n",
       "    .dataframe thead th {\n",
       "        text-align: right;\n",
       "    }\n",
       "</style>\n",
       "<table border=\"1\" class=\"dataframe\">\n",
       "  <thead>\n",
       "    <tr style=\"text-align: right;\">\n",
       "      <th></th>\n",
       "      <th>room_id</th>\n",
       "      <th>host_id</th>\n",
       "      <th>tipo_de_habitacion</th>\n",
       "      <th>barrio</th>\n",
       "      <th>comentarios</th>\n",
       "      <th>satisfaccion</th>\n",
       "      <th>acomodacion</th>\n",
       "      <th>dormitorios</th>\n",
       "      <th>precio</th>\n",
       "    </tr>\n",
       "  </thead>\n",
       "  <tbody>\n",
       "    <tr>\n",
       "      <th>0</th>\n",
       "      <td>6499</td>\n",
       "      <td>14455</td>\n",
       "      <td>Entire home/apt</td>\n",
       "      <td>Belém</td>\n",
       "      <td>8</td>\n",
       "      <td>5.0</td>\n",
       "      <td>2.0</td>\n",
       "      <td>1.0</td>\n",
       "      <td>57.0</td>\n",
       "    </tr>\n",
       "    <tr>\n",
       "      <th>1</th>\n",
       "      <td>17031</td>\n",
       "      <td>66015</td>\n",
       "      <td>Entire home/apt</td>\n",
       "      <td>Alvalade</td>\n",
       "      <td>6</td>\n",
       "      <td>1.0</td>\n",
       "      <td>NaN</td>\n",
       "      <td>1.0</td>\n",
       "      <td>46.0</td>\n",
       "    </tr>\n",
       "    <tr>\n",
       "      <th>2</th>\n",
       "      <td>25659</td>\n",
       "      <td>107347</td>\n",
       "      <td>Entire home/apt</td>\n",
       "      <td>Santa Maria Maior</td>\n",
       "      <td>63</td>\n",
       "      <td>5.0</td>\n",
       "      <td>3.0</td>\n",
       "      <td>1.0</td>\n",
       "      <td>69.0</td>\n",
       "    </tr>\n",
       "    <tr>\n",
       "      <th>3</th>\n",
       "      <td>29248</td>\n",
       "      <td>125768</td>\n",
       "      <td>Entire home/apt</td>\n",
       "      <td>Santa Maria Maior</td>\n",
       "      <td>225</td>\n",
       "      <td>4.5</td>\n",
       "      <td>4.0</td>\n",
       "      <td>1.0</td>\n",
       "      <td>58.0</td>\n",
       "    </tr>\n",
       "    <tr>\n",
       "      <th>4</th>\n",
       "      <td>29396</td>\n",
       "      <td>126415</td>\n",
       "      <td>Entire home/apt</td>\n",
       "      <td>Santa Maria Maior</td>\n",
       "      <td>132</td>\n",
       "      <td>5.0</td>\n",
       "      <td>4.0</td>\n",
       "      <td>1.0</td>\n",
       "      <td>67.0</td>\n",
       "    </tr>\n",
       "  </tbody>\n",
       "</table>\n",
       "</div>"
      ],
      "text/plain": [
       "   room_id  host_id tipo_de_habitacion  ... acomodacion  dormitorios  precio\n",
       "0     6499    14455    Entire home/apt  ...         2.0          1.0    57.0\n",
       "1    17031    66015    Entire home/apt  ...         NaN          1.0    46.0\n",
       "2    25659   107347    Entire home/apt  ...         3.0          1.0    69.0\n",
       "3    29248   125768    Entire home/apt  ...         4.0          1.0    58.0\n",
       "4    29396   126415    Entire home/apt  ...         4.0          1.0    67.0\n",
       "\n",
       "[5 rows x 9 columns]"
      ]
     },
     "execution_count": 55,
     "metadata": {
      "tags": []
     },
     "output_type": "execute_result"
    }
   ],
   "source": [
    "nombres = [\"room_id\", \"host_id\", \"tipo_de_habitacion\", \"barrio\", \"comentarios\", \"satisfaccion\", \"acomodacion\", \"dormitorios\", \"precio\"]\n",
    "df = pd.read_csv('airbnb.csv')\n",
    "df.columns = nombres\n",
    "df.head(5)"
   ]
  },
  {
   "cell_type": "code",
   "execution_count": null,
   "metadata": {
    "id": "hwUSFXd8g5NF",
    "outputId": "5c2d9271-a300-4fe4-ed81-8ec436ca9980"
   },
   "outputs": [
    {
     "data": {
      "text/plain": [
       "(13232, 9)"
      ]
     },
     "execution_count": 53,
     "metadata": {
      "tags": []
     },
     "output_type": "execute_result"
    }
   ],
   "source": []
  },
  {
   "cell_type": "code",
   "execution_count": 56,
   "metadata": {
    "colab": {
     "base_uri": "https://localhost:8080/"
    },
    "executionInfo": {
     "elapsed": 656,
     "status": "ok",
     "timestamp": 1618864693772,
     "user": {
      "displayName": "STIWARD JHERIKOF CARRILLO RAMIREZ",
      "photoUrl": "https://lh3.googleusercontent.com/a-/AOh14GjfzniVHGCh7d3_wtWDwsXC_iVN1kQfXdo12vF_cQ=s64",
      "userId": "14913105575458408419"
     },
     "user_tz": 300
    },
    "id": "aCFlVFQZkrsC",
    "outputId": "ba3b4c4d-4cc6-4f8f-a095-3d6d48fd2109"
   },
   "outputs": [
    {
     "data": {
      "text/plain": [
       "(13232, 9)"
      ]
     },
     "execution_count": 56,
     "metadata": {
      "tags": []
     },
     "output_type": "execute_result"
    }
   ],
   "source": [
    "df.shape"
   ]
  },
  {
   "cell_type": "markdown",
   "metadata": {
    "id": "a8HhyRrKg5NF"
   },
   "source": [
    "# Analisis exploratorio de datos (EDA)"
   ]
  },
  {
   "cell_type": "markdown",
   "metadata": {
    "id": "OZ7CP0dyg5NF"
   },
   "source": [
    "- Muestre la descripcion del dataframe df vale (0.2)"
   ]
  },
  {
   "cell_type": "code",
   "execution_count": null,
   "metadata": {
    "id": "4lfhhTnHg5NF",
    "outputId": "66c3c6fb-7766-48c0-ee0c-cf12dc2b8b83"
   },
   "outputs": [
    {
     "data": {
      "text/html": [
       "<div>\n",
       "<style scoped>\n",
       "    .dataframe tbody tr th:only-of-type {\n",
       "        vertical-align: middle;\n",
       "    }\n",
       "\n",
       "    .dataframe tbody tr th {\n",
       "        vertical-align: top;\n",
       "    }\n",
       "\n",
       "    .dataframe thead th {\n",
       "        text-align: right;\n",
       "    }\n",
       "</style>\n",
       "<table border=\"1\" class=\"dataframe\">\n",
       "  <thead>\n",
       "    <tr style=\"text-align: right;\">\n",
       "      <th></th>\n",
       "      <th>room_id</th>\n",
       "      <th>host_id</th>\n",
       "      <th>comentarios</th>\n",
       "      <th>satisfaccion</th>\n",
       "      <th>acomodacion</th>\n",
       "      <th>dormitorios</th>\n",
       "      <th>precio</th>\n",
       "    </tr>\n",
       "  </thead>\n",
       "  <tbody>\n",
       "    <tr>\n",
       "      <th>count</th>\n",
       "      <td>1.323200e+04</td>\n",
       "      <td>1.323200e+04</td>\n",
       "      <td>13232.000000</td>\n",
       "      <td>13222.000000</td>\n",
       "      <td>13231.000000</td>\n",
       "      <td>13231.000000</td>\n",
       "      <td>13232.000000</td>\n",
       "    </tr>\n",
       "    <tr>\n",
       "      <th>mean</th>\n",
       "      <td>1.055081e+07</td>\n",
       "      <td>3.616444e+07</td>\n",
       "      <td>29.130517</td>\n",
       "      <td>3.284753</td>\n",
       "      <td>3.917920</td>\n",
       "      <td>1.549392</td>\n",
       "      <td>86.592352</td>\n",
       "    </tr>\n",
       "    <tr>\n",
       "      <th>std</th>\n",
       "      <td>6.069884e+06</td>\n",
       "      <td>3.706975e+07</td>\n",
       "      <td>42.802485</td>\n",
       "      <td>2.123136</td>\n",
       "      <td>2.293783</td>\n",
       "      <td>1.062786</td>\n",
       "      <td>135.208926</td>\n",
       "    </tr>\n",
       "    <tr>\n",
       "      <th>min</th>\n",
       "      <td>6.499000e+03</td>\n",
       "      <td>1.445500e+04</td>\n",
       "      <td>0.000000</td>\n",
       "      <td>0.000000</td>\n",
       "      <td>1.000000</td>\n",
       "      <td>0.000000</td>\n",
       "      <td>10.000000</td>\n",
       "    </tr>\n",
       "    <tr>\n",
       "      <th>25%</th>\n",
       "      <td>5.054848e+06</td>\n",
       "      <td>6.197930e+06</td>\n",
       "      <td>2.000000</td>\n",
       "      <td>0.000000</td>\n",
       "      <td>2.000000</td>\n",
       "      <td>1.000000</td>\n",
       "      <td>45.000000</td>\n",
       "    </tr>\n",
       "    <tr>\n",
       "      <th>50%</th>\n",
       "      <td>1.166226e+07</td>\n",
       "      <td>2.207571e+07</td>\n",
       "      <td>11.000000</td>\n",
       "      <td>4.500000</td>\n",
       "      <td>4.000000</td>\n",
       "      <td>1.000000</td>\n",
       "      <td>64.000000</td>\n",
       "    </tr>\n",
       "    <tr>\n",
       "      <th>75%</th>\n",
       "      <td>1.609631e+07</td>\n",
       "      <td>5.546697e+07</td>\n",
       "      <td>39.000000</td>\n",
       "      <td>5.000000</td>\n",
       "      <td>5.000000</td>\n",
       "      <td>2.000000</td>\n",
       "      <td>93.000000</td>\n",
       "    </tr>\n",
       "    <tr>\n",
       "      <th>max</th>\n",
       "      <td>1.940072e+07</td>\n",
       "      <td>1.359156e+08</td>\n",
       "      <td>438.000000</td>\n",
       "      <td>5.000000</td>\n",
       "      <td>16.000000</td>\n",
       "      <td>10.000000</td>\n",
       "      <td>7496.000000</td>\n",
       "    </tr>\n",
       "  </tbody>\n",
       "</table>\n",
       "</div>"
      ],
      "text/plain": [
       "            room_id       host_id   comentarios  satisfaccion   acomodacion  \\\n",
       "count  1.323200e+04  1.323200e+04  13232.000000  13222.000000  13231.000000   \n",
       "mean   1.055081e+07  3.616444e+07     29.130517      3.284753      3.917920   \n",
       "std    6.069884e+06  3.706975e+07     42.802485      2.123136      2.293783   \n",
       "min    6.499000e+03  1.445500e+04      0.000000      0.000000      1.000000   \n",
       "25%    5.054848e+06  6.197930e+06      2.000000      0.000000      2.000000   \n",
       "50%    1.166226e+07  2.207571e+07     11.000000      4.500000      4.000000   \n",
       "75%    1.609631e+07  5.546697e+07     39.000000      5.000000      5.000000   \n",
       "max    1.940072e+07  1.359156e+08    438.000000      5.000000     16.000000   \n",
       "\n",
       "        dormitorios        precio  \n",
       "count  13231.000000  13232.000000  \n",
       "mean       1.549392     86.592352  \n",
       "std        1.062786    135.208926  \n",
       "min        0.000000     10.000000  \n",
       "25%        1.000000     45.000000  \n",
       "50%        1.000000     64.000000  \n",
       "75%        2.000000     93.000000  \n",
       "max       10.000000   7496.000000  "
      ]
     },
     "execution_count": 54,
     "metadata": {
      "tags": []
     },
     "output_type": "execute_result"
    }
   ],
   "source": []
  },
  {
   "cell_type": "code",
   "execution_count": 57,
   "metadata": {
    "colab": {
     "base_uri": "https://localhost:8080/",
     "height": 297
    },
    "executionInfo": {
     "elapsed": 767,
     "status": "ok",
     "timestamp": 1618864697995,
     "user": {
      "displayName": "STIWARD JHERIKOF CARRILLO RAMIREZ",
      "photoUrl": "https://lh3.googleusercontent.com/a-/AOh14GjfzniVHGCh7d3_wtWDwsXC_iVN1kQfXdo12vF_cQ=s64",
      "userId": "14913105575458408419"
     },
     "user_tz": 300
    },
    "id": "9LfAVwotkDjL",
    "outputId": "2ea7afa4-b54c-434d-8811-67cabd249cb4"
   },
   "outputs": [
    {
     "data": {
      "text/html": [
       "<div>\n",
       "<style scoped>\n",
       "    .dataframe tbody tr th:only-of-type {\n",
       "        vertical-align: middle;\n",
       "    }\n",
       "\n",
       "    .dataframe tbody tr th {\n",
       "        vertical-align: top;\n",
       "    }\n",
       "\n",
       "    .dataframe thead th {\n",
       "        text-align: right;\n",
       "    }\n",
       "</style>\n",
       "<table border=\"1\" class=\"dataframe\">\n",
       "  <thead>\n",
       "    <tr style=\"text-align: right;\">\n",
       "      <th></th>\n",
       "      <th>room_id</th>\n",
       "      <th>host_id</th>\n",
       "      <th>comentarios</th>\n",
       "      <th>satisfaccion</th>\n",
       "      <th>acomodacion</th>\n",
       "      <th>dormitorios</th>\n",
       "      <th>precio</th>\n",
       "    </tr>\n",
       "  </thead>\n",
       "  <tbody>\n",
       "    <tr>\n",
       "      <th>count</th>\n",
       "      <td>1.323200e+04</td>\n",
       "      <td>1.323200e+04</td>\n",
       "      <td>13232.000000</td>\n",
       "      <td>13222.000000</td>\n",
       "      <td>13231.000000</td>\n",
       "      <td>13231.000000</td>\n",
       "      <td>13232.000000</td>\n",
       "    </tr>\n",
       "    <tr>\n",
       "      <th>mean</th>\n",
       "      <td>1.055081e+07</td>\n",
       "      <td>3.616444e+07</td>\n",
       "      <td>29.130517</td>\n",
       "      <td>3.284753</td>\n",
       "      <td>3.917920</td>\n",
       "      <td>1.549392</td>\n",
       "      <td>86.592352</td>\n",
       "    </tr>\n",
       "    <tr>\n",
       "      <th>std</th>\n",
       "      <td>6.069884e+06</td>\n",
       "      <td>3.706975e+07</td>\n",
       "      <td>42.802485</td>\n",
       "      <td>2.123136</td>\n",
       "      <td>2.293783</td>\n",
       "      <td>1.062786</td>\n",
       "      <td>135.208926</td>\n",
       "    </tr>\n",
       "    <tr>\n",
       "      <th>min</th>\n",
       "      <td>6.499000e+03</td>\n",
       "      <td>1.445500e+04</td>\n",
       "      <td>0.000000</td>\n",
       "      <td>0.000000</td>\n",
       "      <td>1.000000</td>\n",
       "      <td>0.000000</td>\n",
       "      <td>10.000000</td>\n",
       "    </tr>\n",
       "    <tr>\n",
       "      <th>25%</th>\n",
       "      <td>5.054848e+06</td>\n",
       "      <td>6.197930e+06</td>\n",
       "      <td>2.000000</td>\n",
       "      <td>0.000000</td>\n",
       "      <td>2.000000</td>\n",
       "      <td>1.000000</td>\n",
       "      <td>45.000000</td>\n",
       "    </tr>\n",
       "    <tr>\n",
       "      <th>50%</th>\n",
       "      <td>1.166226e+07</td>\n",
       "      <td>2.207571e+07</td>\n",
       "      <td>11.000000</td>\n",
       "      <td>4.500000</td>\n",
       "      <td>4.000000</td>\n",
       "      <td>1.000000</td>\n",
       "      <td>64.000000</td>\n",
       "    </tr>\n",
       "    <tr>\n",
       "      <th>75%</th>\n",
       "      <td>1.609631e+07</td>\n",
       "      <td>5.546697e+07</td>\n",
       "      <td>39.000000</td>\n",
       "      <td>5.000000</td>\n",
       "      <td>5.000000</td>\n",
       "      <td>2.000000</td>\n",
       "      <td>93.000000</td>\n",
       "    </tr>\n",
       "    <tr>\n",
       "      <th>max</th>\n",
       "      <td>1.940072e+07</td>\n",
       "      <td>1.359156e+08</td>\n",
       "      <td>438.000000</td>\n",
       "      <td>5.000000</td>\n",
       "      <td>16.000000</td>\n",
       "      <td>10.000000</td>\n",
       "      <td>7496.000000</td>\n",
       "    </tr>\n",
       "  </tbody>\n",
       "</table>\n",
       "</div>"
      ],
      "text/plain": [
       "            room_id       host_id  ...   dormitorios        precio\n",
       "count  1.323200e+04  1.323200e+04  ...  13231.000000  13232.000000\n",
       "mean   1.055081e+07  3.616444e+07  ...      1.549392     86.592352\n",
       "std    6.069884e+06  3.706975e+07  ...      1.062786    135.208926\n",
       "min    6.499000e+03  1.445500e+04  ...      0.000000     10.000000\n",
       "25%    5.054848e+06  6.197930e+06  ...      1.000000     45.000000\n",
       "50%    1.166226e+07  2.207571e+07  ...      1.000000     64.000000\n",
       "75%    1.609631e+07  5.546697e+07  ...      2.000000     93.000000\n",
       "max    1.940072e+07  1.359156e+08  ...     10.000000   7496.000000\n",
       "\n",
       "[8 rows x 7 columns]"
      ]
     },
     "execution_count": 57,
     "metadata": {
      "tags": []
     },
     "output_type": "execute_result"
    }
   ],
   "source": [
    "df.describe()"
   ]
  },
  {
   "cell_type": "markdown",
   "metadata": {
    "id": "XooifDb4g5NG"
   },
   "source": [
    "### Valores inexistentes\n"
   ]
  },
  {
   "cell_type": "markdown",
   "metadata": {
    "id": "-LlF6RNhg5NG"
   },
   "source": [
    "Muchos algoritmos de Machine Learning requieren que no existan valores inexistentes (o NaN como se llaman a veces).\n",
    "\n",
    "Hay varias técnicas para tratar dichos valores:"
   ]
  },
  {
   "cell_type": "markdown",
   "metadata": {
    "id": "3aZs3IgYg5NG"
   },
   "source": [
    "2. eliminar records con valores inexistentes valor 0.3\n",
    "    - Elimine las filas con valores nulos en \"acomodacion\", \"dormitorios\" en un nuevo dataframe llamado df_sin_null\n",
    "    - Muestre el tamaño de este nuevo dataframe df_sin_null"
   ]
  },
  {
   "cell_type": "code",
   "execution_count": null,
   "metadata": {
    "id": "c-xhzNpmg5NG",
    "outputId": "d6f5a290-7d5d-4c7d-cc52-c271eca364d9"
   },
   "outputs": [
    {
     "data": {
      "text/plain": [
       "(13230, 9)"
      ]
     },
     "execution_count": 55,
     "metadata": {
      "tags": []
     },
     "output_type": "execute_result"
    }
   ],
   "source": []
  },
  {
   "cell_type": "code",
   "execution_count": 58,
   "metadata": {
    "colab": {
     "base_uri": "https://localhost:8080/"
    },
    "executionInfo": {
     "elapsed": 637,
     "status": "ok",
     "timestamp": 1618864708873,
     "user": {
      "displayName": "STIWARD JHERIKOF CARRILLO RAMIREZ",
      "photoUrl": "https://lh3.googleusercontent.com/a-/AOh14GjfzniVHGCh7d3_wtWDwsXC_iVN1kQfXdo12vF_cQ=s64",
      "userId": "14913105575458408419"
     },
     "user_tz": 300
    },
    "id": "NhnRryvtk7rq",
    "outputId": "e8cc1acd-4d08-407f-a7c2-091c3fa64e40"
   },
   "outputs": [
    {
     "data": {
      "text/plain": [
       "(13230, 9)"
      ]
     },
     "execution_count": 58,
     "metadata": {
      "tags": []
     },
     "output_type": "execute_result"
    }
   ],
   "source": [
    "df_sin_null = df.dropna(subset=[\"acomodacion\", \"dormitorios\"])\n",
    "df_sin_null.shape"
   ]
  },
  {
   "cell_type": "markdown",
   "metadata": {
    "id": "raGFRvnng5NG"
   },
   "source": [
    "3. elimine en el dataframe df las filas que tengan satisfaccion en 0. \n",
    "    - muestre el nuevo tamaño .valor 0.2"
   ]
  },
  {
   "cell_type": "code",
   "execution_count": null,
   "metadata": {
    "id": "HPGE0qUkg5NH",
    "outputId": "15cda43f-8bd0-4fb8-814c-18e1567b5a6c"
   },
   "outputs": [
    {
     "data": {
      "text/plain": [
       "(9398, 9)"
      ]
     },
     "execution_count": 56,
     "metadata": {
      "tags": []
     },
     "output_type": "execute_result"
    }
   ],
   "source": []
  },
  {
   "cell_type": "code",
   "execution_count": 59,
   "metadata": {
    "colab": {
     "base_uri": "https://localhost:8080/"
    },
    "executionInfo": {
     "elapsed": 642,
     "status": "ok",
     "timestamp": 1618864712718,
     "user": {
      "displayName": "STIWARD JHERIKOF CARRILLO RAMIREZ",
      "photoUrl": "https://lh3.googleusercontent.com/a-/AOh14GjfzniVHGCh7d3_wtWDwsXC_iVN1kQfXdo12vF_cQ=s64",
      "userId": "14913105575458408419"
     },
     "user_tz": 300
    },
    "id": "L2ARMMPpljgK",
    "outputId": "b83e9358-637d-4c0d-f259-6f459adb6ae0"
   },
   "outputs": [
    {
     "data": {
      "text/plain": [
       "(9398, 9)"
      ]
     },
     "execution_count": 59,
     "metadata": {
      "tags": []
     },
     "output_type": "execute_result"
    }
   ],
   "source": [
    "df = df.drop(df[df['satisfaccion'] == 0].index, axis = 0)\n",
    "df.shape"
   ]
  },
  {
   "cell_type": "markdown",
   "metadata": {
    "id": "S1jg7Yoeg5NH"
   },
   "source": [
    "4.\n",
    "Imputacion de datos: Reemplazar los valores inexistentes por un valor en particular, pero que está elegido con cierto criterio. Prácticas comunes de imputacion de datos son reemplazar los valores inexistentes de una variable con su media, moda o mediana.\n",
    "- Calcule la mediana de acomodacion y la mediana de dormitorios\n",
    "- En la columna acomodacion reemplace los nulos por la mediana de esa columna\n",
    "- En la columna dormitorios reemplace los nulos por la mediana de esa columna\n",
    "- muestre las primeras 20 filas\n",
    "valor 0.5"
   ]
  },
  {
   "cell_type": "code",
   "execution_count": null,
   "metadata": {
    "id": "mlPH2Yopg5NH",
    "outputId": "7e3adbb1-2e21-41c3-d209-fe62d455e209"
   },
   "outputs": [
    {
     "data": {
      "text/html": [
       "<div>\n",
       "<style scoped>\n",
       "    .dataframe tbody tr th:only-of-type {\n",
       "        vertical-align: middle;\n",
       "    }\n",
       "\n",
       "    .dataframe tbody tr th {\n",
       "        vertical-align: top;\n",
       "    }\n",
       "\n",
       "    .dataframe thead th {\n",
       "        text-align: right;\n",
       "    }\n",
       "</style>\n",
       "<table border=\"1\" class=\"dataframe\">\n",
       "  <thead>\n",
       "    <tr style=\"text-align: right;\">\n",
       "      <th></th>\n",
       "      <th>room_id</th>\n",
       "      <th>host_id</th>\n",
       "      <th>tipo_de_habitacion</th>\n",
       "      <th>barrio</th>\n",
       "      <th>comentarios</th>\n",
       "      <th>satisfaccion</th>\n",
       "      <th>acomodacion</th>\n",
       "      <th>dormitorios</th>\n",
       "      <th>precio</th>\n",
       "    </tr>\n",
       "  </thead>\n",
       "  <tbody>\n",
       "    <tr>\n",
       "      <th>0</th>\n",
       "      <td>6499</td>\n",
       "      <td>14455</td>\n",
       "      <td>Entire home/apt</td>\n",
       "      <td>Belém</td>\n",
       "      <td>8</td>\n",
       "      <td>5.0</td>\n",
       "      <td>2.0</td>\n",
       "      <td>1.0</td>\n",
       "      <td>57.0</td>\n",
       "    </tr>\n",
       "    <tr>\n",
       "      <th>1</th>\n",
       "      <td>17031</td>\n",
       "      <td>66015</td>\n",
       "      <td>Entire home/apt</td>\n",
       "      <td>Alvalade</td>\n",
       "      <td>6</td>\n",
       "      <td>1.0</td>\n",
       "      <td>4.0</td>\n",
       "      <td>1.0</td>\n",
       "      <td>46.0</td>\n",
       "    </tr>\n",
       "    <tr>\n",
       "      <th>2</th>\n",
       "      <td>25659</td>\n",
       "      <td>107347</td>\n",
       "      <td>Entire home/apt</td>\n",
       "      <td>Santa Maria Maior</td>\n",
       "      <td>63</td>\n",
       "      <td>5.0</td>\n",
       "      <td>3.0</td>\n",
       "      <td>1.0</td>\n",
       "      <td>69.0</td>\n",
       "    </tr>\n",
       "    <tr>\n",
       "      <th>3</th>\n",
       "      <td>29248</td>\n",
       "      <td>125768</td>\n",
       "      <td>Entire home/apt</td>\n",
       "      <td>Santa Maria Maior</td>\n",
       "      <td>225</td>\n",
       "      <td>4.5</td>\n",
       "      <td>4.0</td>\n",
       "      <td>1.0</td>\n",
       "      <td>58.0</td>\n",
       "    </tr>\n",
       "    <tr>\n",
       "      <th>4</th>\n",
       "      <td>29396</td>\n",
       "      <td>126415</td>\n",
       "      <td>Entire home/apt</td>\n",
       "      <td>Santa Maria Maior</td>\n",
       "      <td>132</td>\n",
       "      <td>5.0</td>\n",
       "      <td>4.0</td>\n",
       "      <td>1.0</td>\n",
       "      <td>67.0</td>\n",
       "    </tr>\n",
       "    <tr>\n",
       "      <th>5</th>\n",
       "      <td>29720</td>\n",
       "      <td>128075</td>\n",
       "      <td>Entire home/apt</td>\n",
       "      <td>Estrela</td>\n",
       "      <td>14</td>\n",
       "      <td>5.0</td>\n",
       "      <td>16.0</td>\n",
       "      <td>9.0</td>\n",
       "      <td>1154.0</td>\n",
       "    </tr>\n",
       "    <tr>\n",
       "      <th>6</th>\n",
       "      <td>29872</td>\n",
       "      <td>128698</td>\n",
       "      <td>Entire home/apt</td>\n",
       "      <td>Alcântara</td>\n",
       "      <td>25</td>\n",
       "      <td>5.0</td>\n",
       "      <td>2.0</td>\n",
       "      <td>1.0</td>\n",
       "      <td>75.0</td>\n",
       "    </tr>\n",
       "    <tr>\n",
       "      <th>7</th>\n",
       "      <td>29891</td>\n",
       "      <td>128792</td>\n",
       "      <td>Entire home/apt</td>\n",
       "      <td>Misericórdia</td>\n",
       "      <td>28</td>\n",
       "      <td>5.0</td>\n",
       "      <td>3.0</td>\n",
       "      <td>1.0</td>\n",
       "      <td>49.0</td>\n",
       "    </tr>\n",
       "    <tr>\n",
       "      <th>8</th>\n",
       "      <td>29915</td>\n",
       "      <td>128890</td>\n",
       "      <td>Entire home/apt</td>\n",
       "      <td>Avenidas Novas</td>\n",
       "      <td>28</td>\n",
       "      <td>4.5</td>\n",
       "      <td>3.0</td>\n",
       "      <td>1.0</td>\n",
       "      <td>58.0</td>\n",
       "    </tr>\n",
       "    <tr>\n",
       "      <th>9</th>\n",
       "      <td>33312</td>\n",
       "      <td>144398</td>\n",
       "      <td>Entire home/apt</td>\n",
       "      <td>Misericórdia</td>\n",
       "      <td>24</td>\n",
       "      <td>4.5</td>\n",
       "      <td>4.0</td>\n",
       "      <td>1.0</td>\n",
       "      <td>66.0</td>\n",
       "    </tr>\n",
       "    <tr>\n",
       "      <th>12</th>\n",
       "      <td>34977</td>\n",
       "      <td>146695</td>\n",
       "      <td>Entire home/apt</td>\n",
       "      <td>Santa Maria Maior</td>\n",
       "      <td>54</td>\n",
       "      <td>4.5</td>\n",
       "      <td>6.0</td>\n",
       "      <td>2.0</td>\n",
       "      <td>60.0</td>\n",
       "    </tr>\n",
       "    <tr>\n",
       "      <th>13</th>\n",
       "      <td>40817</td>\n",
       "      <td>176410</td>\n",
       "      <td>Entire home/apt</td>\n",
       "      <td>Misericórdia</td>\n",
       "      <td>229</td>\n",
       "      <td>4.5</td>\n",
       "      <td>2.0</td>\n",
       "      <td>1.0</td>\n",
       "      <td>52.0</td>\n",
       "    </tr>\n",
       "    <tr>\n",
       "      <th>14</th>\n",
       "      <td>42172</td>\n",
       "      <td>184400</td>\n",
       "      <td>Entire home/apt</td>\n",
       "      <td>Santa Maria Maior</td>\n",
       "      <td>45</td>\n",
       "      <td>4.5</td>\n",
       "      <td>6.0</td>\n",
       "      <td>2.0</td>\n",
       "      <td>138.0</td>\n",
       "    </tr>\n",
       "    <tr>\n",
       "      <th>15</th>\n",
       "      <td>42519</td>\n",
       "      <td>136230</td>\n",
       "      <td>Entire home/apt</td>\n",
       "      <td>Misericórdia</td>\n",
       "      <td>79</td>\n",
       "      <td>4.5</td>\n",
       "      <td>3.0</td>\n",
       "      <td>1.0</td>\n",
       "      <td>87.0</td>\n",
       "    </tr>\n",
       "    <tr>\n",
       "      <th>16</th>\n",
       "      <td>44043</td>\n",
       "      <td>192830</td>\n",
       "      <td>Entire home/apt</td>\n",
       "      <td>Santa Maria Maior</td>\n",
       "      <td>316</td>\n",
       "      <td>5.0</td>\n",
       "      <td>7.0</td>\n",
       "      <td>1.0</td>\n",
       "      <td>80.0</td>\n",
       "    </tr>\n",
       "    <tr>\n",
       "      <th>17</th>\n",
       "      <td>46567</td>\n",
       "      <td>208343</td>\n",
       "      <td>Private room</td>\n",
       "      <td>Avenidas Novas</td>\n",
       "      <td>3</td>\n",
       "      <td>5.0</td>\n",
       "      <td>2.0</td>\n",
       "      <td>1.0</td>\n",
       "      <td>39.0</td>\n",
       "    </tr>\n",
       "    <tr>\n",
       "      <th>18</th>\n",
       "      <td>47717</td>\n",
       "      <td>217058</td>\n",
       "      <td>Entire home/apt</td>\n",
       "      <td>Santa Maria Maior</td>\n",
       "      <td>70</td>\n",
       "      <td>4.5</td>\n",
       "      <td>3.0</td>\n",
       "      <td>1.0</td>\n",
       "      <td>57.0</td>\n",
       "    </tr>\n",
       "    <tr>\n",
       "      <th>19</th>\n",
       "      <td>50108</td>\n",
       "      <td>229376</td>\n",
       "      <td>Entire home/apt</td>\n",
       "      <td>Estrela</td>\n",
       "      <td>33</td>\n",
       "      <td>4.5</td>\n",
       "      <td>4.0</td>\n",
       "      <td>1.0</td>\n",
       "      <td>69.0</td>\n",
       "    </tr>\n",
       "    <tr>\n",
       "      <th>21</th>\n",
       "      <td>56906</td>\n",
       "      <td>270457</td>\n",
       "      <td>Entire home/apt</td>\n",
       "      <td>São Vicente</td>\n",
       "      <td>86</td>\n",
       "      <td>4.5</td>\n",
       "      <td>3.0</td>\n",
       "      <td>1.0</td>\n",
       "      <td>52.0</td>\n",
       "    </tr>\n",
       "    <tr>\n",
       "      <th>22</th>\n",
       "      <td>57850</td>\n",
       "      <td>276092</td>\n",
       "      <td>Entire home/apt</td>\n",
       "      <td>Estrela</td>\n",
       "      <td>52</td>\n",
       "      <td>4.5</td>\n",
       "      <td>3.0</td>\n",
       "      <td>2.0</td>\n",
       "      <td>70.0</td>\n",
       "    </tr>\n",
       "  </tbody>\n",
       "</table>\n",
       "</div>"
      ],
      "text/plain": [
       "    room_id  host_id tipo_de_habitacion             barrio  comentarios  \\\n",
       "0      6499    14455    Entire home/apt              Belém            8   \n",
       "1     17031    66015    Entire home/apt           Alvalade            6   \n",
       "2     25659   107347    Entire home/apt  Santa Maria Maior           63   \n",
       "3     29248   125768    Entire home/apt  Santa Maria Maior          225   \n",
       "4     29396   126415    Entire home/apt  Santa Maria Maior          132   \n",
       "5     29720   128075    Entire home/apt            Estrela           14   \n",
       "6     29872   128698    Entire home/apt          Alcântara           25   \n",
       "7     29891   128792    Entire home/apt       Misericórdia           28   \n",
       "8     29915   128890    Entire home/apt     Avenidas Novas           28   \n",
       "9     33312   144398    Entire home/apt       Misericórdia           24   \n",
       "12    34977   146695    Entire home/apt  Santa Maria Maior           54   \n",
       "13    40817   176410    Entire home/apt       Misericórdia          229   \n",
       "14    42172   184400    Entire home/apt  Santa Maria Maior           45   \n",
       "15    42519   136230    Entire home/apt       Misericórdia           79   \n",
       "16    44043   192830    Entire home/apt  Santa Maria Maior          316   \n",
       "17    46567   208343       Private room     Avenidas Novas            3   \n",
       "18    47717   217058    Entire home/apt  Santa Maria Maior           70   \n",
       "19    50108   229376    Entire home/apt            Estrela           33   \n",
       "21    56906   270457    Entire home/apt        São Vicente           86   \n",
       "22    57850   276092    Entire home/apt            Estrela           52   \n",
       "\n",
       "    satisfaccion  acomodacion  dormitorios  precio  \n",
       "0            5.0          2.0          1.0    57.0  \n",
       "1            1.0          4.0          1.0    46.0  \n",
       "2            5.0          3.0          1.0    69.0  \n",
       "3            4.5          4.0          1.0    58.0  \n",
       "4            5.0          4.0          1.0    67.0  \n",
       "5            5.0         16.0          9.0  1154.0  \n",
       "6            5.0          2.0          1.0    75.0  \n",
       "7            5.0          3.0          1.0    49.0  \n",
       "8            4.5          3.0          1.0    58.0  \n",
       "9            4.5          4.0          1.0    66.0  \n",
       "12           4.5          6.0          2.0    60.0  \n",
       "13           4.5          2.0          1.0    52.0  \n",
       "14           4.5          6.0          2.0   138.0  \n",
       "15           4.5          3.0          1.0    87.0  \n",
       "16           5.0          7.0          1.0    80.0  \n",
       "17           5.0          2.0          1.0    39.0  \n",
       "18           4.5          3.0          1.0    57.0  \n",
       "19           4.5          4.0          1.0    69.0  \n",
       "21           4.5          3.0          1.0    52.0  \n",
       "22           4.5          3.0          2.0    70.0  "
      ]
     },
     "execution_count": 57,
     "metadata": {
      "tags": []
     },
     "output_type": "execute_result"
    }
   ],
   "source": []
  },
  {
   "cell_type": "code",
   "execution_count": 60,
   "metadata": {
    "colab": {
     "base_uri": "https://localhost:8080/",
     "height": 669
    },
    "executionInfo": {
     "elapsed": 654,
     "status": "ok",
     "timestamp": 1618864728089,
     "user": {
      "displayName": "STIWARD JHERIKOF CARRILLO RAMIREZ",
      "photoUrl": "https://lh3.googleusercontent.com/a-/AOh14GjfzniVHGCh7d3_wtWDwsXC_iVN1kQfXdo12vF_cQ=s64",
      "userId": "14913105575458408419"
     },
     "user_tz": 300
    },
    "id": "WcBCEXufnQgK",
    "outputId": "2e033196-7693-45e8-9b03-abea7ce3a840"
   },
   "outputs": [
    {
     "data": {
      "text/html": [
       "<div>\n",
       "<style scoped>\n",
       "    .dataframe tbody tr th:only-of-type {\n",
       "        vertical-align: middle;\n",
       "    }\n",
       "\n",
       "    .dataframe tbody tr th {\n",
       "        vertical-align: top;\n",
       "    }\n",
       "\n",
       "    .dataframe thead th {\n",
       "        text-align: right;\n",
       "    }\n",
       "</style>\n",
       "<table border=\"1\" class=\"dataframe\">\n",
       "  <thead>\n",
       "    <tr style=\"text-align: right;\">\n",
       "      <th></th>\n",
       "      <th>room_id</th>\n",
       "      <th>host_id</th>\n",
       "      <th>tipo_de_habitacion</th>\n",
       "      <th>barrio</th>\n",
       "      <th>comentarios</th>\n",
       "      <th>satisfaccion</th>\n",
       "      <th>acomodacion</th>\n",
       "      <th>dormitorios</th>\n",
       "      <th>precio</th>\n",
       "    </tr>\n",
       "  </thead>\n",
       "  <tbody>\n",
       "    <tr>\n",
       "      <th>0</th>\n",
       "      <td>6499</td>\n",
       "      <td>14455</td>\n",
       "      <td>Entire home/apt</td>\n",
       "      <td>Belém</td>\n",
       "      <td>8</td>\n",
       "      <td>5.0</td>\n",
       "      <td>2.0</td>\n",
       "      <td>1.0</td>\n",
       "      <td>57.0</td>\n",
       "    </tr>\n",
       "    <tr>\n",
       "      <th>1</th>\n",
       "      <td>17031</td>\n",
       "      <td>66015</td>\n",
       "      <td>Entire home/apt</td>\n",
       "      <td>Alvalade</td>\n",
       "      <td>6</td>\n",
       "      <td>1.0</td>\n",
       "      <td>4.0</td>\n",
       "      <td>1.0</td>\n",
       "      <td>46.0</td>\n",
       "    </tr>\n",
       "    <tr>\n",
       "      <th>2</th>\n",
       "      <td>25659</td>\n",
       "      <td>107347</td>\n",
       "      <td>Entire home/apt</td>\n",
       "      <td>Santa Maria Maior</td>\n",
       "      <td>63</td>\n",
       "      <td>5.0</td>\n",
       "      <td>3.0</td>\n",
       "      <td>1.0</td>\n",
       "      <td>69.0</td>\n",
       "    </tr>\n",
       "    <tr>\n",
       "      <th>3</th>\n",
       "      <td>29248</td>\n",
       "      <td>125768</td>\n",
       "      <td>Entire home/apt</td>\n",
       "      <td>Santa Maria Maior</td>\n",
       "      <td>225</td>\n",
       "      <td>4.5</td>\n",
       "      <td>4.0</td>\n",
       "      <td>1.0</td>\n",
       "      <td>58.0</td>\n",
       "    </tr>\n",
       "    <tr>\n",
       "      <th>4</th>\n",
       "      <td>29396</td>\n",
       "      <td>126415</td>\n",
       "      <td>Entire home/apt</td>\n",
       "      <td>Santa Maria Maior</td>\n",
       "      <td>132</td>\n",
       "      <td>5.0</td>\n",
       "      <td>4.0</td>\n",
       "      <td>1.0</td>\n",
       "      <td>67.0</td>\n",
       "    </tr>\n",
       "    <tr>\n",
       "      <th>5</th>\n",
       "      <td>29720</td>\n",
       "      <td>128075</td>\n",
       "      <td>Entire home/apt</td>\n",
       "      <td>Estrela</td>\n",
       "      <td>14</td>\n",
       "      <td>5.0</td>\n",
       "      <td>16.0</td>\n",
       "      <td>9.0</td>\n",
       "      <td>1154.0</td>\n",
       "    </tr>\n",
       "    <tr>\n",
       "      <th>6</th>\n",
       "      <td>29872</td>\n",
       "      <td>128698</td>\n",
       "      <td>Entire home/apt</td>\n",
       "      <td>Alcântara</td>\n",
       "      <td>25</td>\n",
       "      <td>5.0</td>\n",
       "      <td>2.0</td>\n",
       "      <td>1.0</td>\n",
       "      <td>75.0</td>\n",
       "    </tr>\n",
       "    <tr>\n",
       "      <th>7</th>\n",
       "      <td>29891</td>\n",
       "      <td>128792</td>\n",
       "      <td>Entire home/apt</td>\n",
       "      <td>Misericórdia</td>\n",
       "      <td>28</td>\n",
       "      <td>5.0</td>\n",
       "      <td>3.0</td>\n",
       "      <td>1.0</td>\n",
       "      <td>49.0</td>\n",
       "    </tr>\n",
       "    <tr>\n",
       "      <th>8</th>\n",
       "      <td>29915</td>\n",
       "      <td>128890</td>\n",
       "      <td>Entire home/apt</td>\n",
       "      <td>Avenidas Novas</td>\n",
       "      <td>28</td>\n",
       "      <td>4.5</td>\n",
       "      <td>3.0</td>\n",
       "      <td>1.0</td>\n",
       "      <td>58.0</td>\n",
       "    </tr>\n",
       "    <tr>\n",
       "      <th>9</th>\n",
       "      <td>33312</td>\n",
       "      <td>144398</td>\n",
       "      <td>Entire home/apt</td>\n",
       "      <td>Misericórdia</td>\n",
       "      <td>24</td>\n",
       "      <td>4.5</td>\n",
       "      <td>4.0</td>\n",
       "      <td>1.0</td>\n",
       "      <td>66.0</td>\n",
       "    </tr>\n",
       "    <tr>\n",
       "      <th>12</th>\n",
       "      <td>34977</td>\n",
       "      <td>146695</td>\n",
       "      <td>Entire home/apt</td>\n",
       "      <td>Santa Maria Maior</td>\n",
       "      <td>54</td>\n",
       "      <td>4.5</td>\n",
       "      <td>6.0</td>\n",
       "      <td>2.0</td>\n",
       "      <td>60.0</td>\n",
       "    </tr>\n",
       "    <tr>\n",
       "      <th>13</th>\n",
       "      <td>40817</td>\n",
       "      <td>176410</td>\n",
       "      <td>Entire home/apt</td>\n",
       "      <td>Misericórdia</td>\n",
       "      <td>229</td>\n",
       "      <td>4.5</td>\n",
       "      <td>2.0</td>\n",
       "      <td>1.0</td>\n",
       "      <td>52.0</td>\n",
       "    </tr>\n",
       "    <tr>\n",
       "      <th>14</th>\n",
       "      <td>42172</td>\n",
       "      <td>184400</td>\n",
       "      <td>Entire home/apt</td>\n",
       "      <td>Santa Maria Maior</td>\n",
       "      <td>45</td>\n",
       "      <td>4.5</td>\n",
       "      <td>6.0</td>\n",
       "      <td>2.0</td>\n",
       "      <td>138.0</td>\n",
       "    </tr>\n",
       "    <tr>\n",
       "      <th>15</th>\n",
       "      <td>42519</td>\n",
       "      <td>136230</td>\n",
       "      <td>Entire home/apt</td>\n",
       "      <td>Misericórdia</td>\n",
       "      <td>79</td>\n",
       "      <td>4.5</td>\n",
       "      <td>3.0</td>\n",
       "      <td>1.0</td>\n",
       "      <td>87.0</td>\n",
       "    </tr>\n",
       "    <tr>\n",
       "      <th>16</th>\n",
       "      <td>44043</td>\n",
       "      <td>192830</td>\n",
       "      <td>Entire home/apt</td>\n",
       "      <td>Santa Maria Maior</td>\n",
       "      <td>316</td>\n",
       "      <td>5.0</td>\n",
       "      <td>7.0</td>\n",
       "      <td>4.0</td>\n",
       "      <td>80.0</td>\n",
       "    </tr>\n",
       "    <tr>\n",
       "      <th>17</th>\n",
       "      <td>46567</td>\n",
       "      <td>208343</td>\n",
       "      <td>Private room</td>\n",
       "      <td>Avenidas Novas</td>\n",
       "      <td>3</td>\n",
       "      <td>5.0</td>\n",
       "      <td>2.0</td>\n",
       "      <td>1.0</td>\n",
       "      <td>39.0</td>\n",
       "    </tr>\n",
       "    <tr>\n",
       "      <th>18</th>\n",
       "      <td>47717</td>\n",
       "      <td>217058</td>\n",
       "      <td>Entire home/apt</td>\n",
       "      <td>Santa Maria Maior</td>\n",
       "      <td>70</td>\n",
       "      <td>4.5</td>\n",
       "      <td>3.0</td>\n",
       "      <td>1.0</td>\n",
       "      <td>57.0</td>\n",
       "    </tr>\n",
       "    <tr>\n",
       "      <th>19</th>\n",
       "      <td>50108</td>\n",
       "      <td>229376</td>\n",
       "      <td>Entire home/apt</td>\n",
       "      <td>Estrela</td>\n",
       "      <td>33</td>\n",
       "      <td>4.5</td>\n",
       "      <td>4.0</td>\n",
       "      <td>1.0</td>\n",
       "      <td>69.0</td>\n",
       "    </tr>\n",
       "    <tr>\n",
       "      <th>21</th>\n",
       "      <td>56906</td>\n",
       "      <td>270457</td>\n",
       "      <td>Entire home/apt</td>\n",
       "      <td>São Vicente</td>\n",
       "      <td>86</td>\n",
       "      <td>4.5</td>\n",
       "      <td>3.0</td>\n",
       "      <td>1.0</td>\n",
       "      <td>52.0</td>\n",
       "    </tr>\n",
       "    <tr>\n",
       "      <th>22</th>\n",
       "      <td>57850</td>\n",
       "      <td>276092</td>\n",
       "      <td>Entire home/apt</td>\n",
       "      <td>Estrela</td>\n",
       "      <td>52</td>\n",
       "      <td>4.5</td>\n",
       "      <td>3.0</td>\n",
       "      <td>2.0</td>\n",
       "      <td>70.0</td>\n",
       "    </tr>\n",
       "  </tbody>\n",
       "</table>\n",
       "</div>"
      ],
      "text/plain": [
       "    room_id  host_id tipo_de_habitacion  ... acomodacion  dormitorios  precio\n",
       "0      6499    14455    Entire home/apt  ...         2.0          1.0    57.0\n",
       "1     17031    66015    Entire home/apt  ...         4.0          1.0    46.0\n",
       "2     25659   107347    Entire home/apt  ...         3.0          1.0    69.0\n",
       "3     29248   125768    Entire home/apt  ...         4.0          1.0    58.0\n",
       "4     29396   126415    Entire home/apt  ...         4.0          1.0    67.0\n",
       "5     29720   128075    Entire home/apt  ...        16.0          9.0  1154.0\n",
       "6     29872   128698    Entire home/apt  ...         2.0          1.0    75.0\n",
       "7     29891   128792    Entire home/apt  ...         3.0          1.0    49.0\n",
       "8     29915   128890    Entire home/apt  ...         3.0          1.0    58.0\n",
       "9     33312   144398    Entire home/apt  ...         4.0          1.0    66.0\n",
       "12    34977   146695    Entire home/apt  ...         6.0          2.0    60.0\n",
       "13    40817   176410    Entire home/apt  ...         2.0          1.0    52.0\n",
       "14    42172   184400    Entire home/apt  ...         6.0          2.0   138.0\n",
       "15    42519   136230    Entire home/apt  ...         3.0          1.0    87.0\n",
       "16    44043   192830    Entire home/apt  ...         7.0          4.0    80.0\n",
       "17    46567   208343       Private room  ...         2.0          1.0    39.0\n",
       "18    47717   217058    Entire home/apt  ...         3.0          1.0    57.0\n",
       "19    50108   229376    Entire home/apt  ...         4.0          1.0    69.0\n",
       "21    56906   270457    Entire home/apt  ...         3.0          1.0    52.0\n",
       "22    57850   276092    Entire home/apt  ...         3.0          2.0    70.0\n",
       "\n",
       "[20 rows x 9 columns]"
      ]
     },
     "execution_count": 60,
     "metadata": {
      "tags": []
     },
     "output_type": "execute_result"
    }
   ],
   "source": [
    "df = df.fillna(df['acomodacion'].median())\n",
    "df = df.fillna(df['dormitorios'].median())\n",
    "df.head(20)"
   ]
  },
  {
   "cell_type": "markdown",
   "metadata": {
    "id": "8f8IETkPg5NH"
   },
   "source": [
    "### Tambien es importante dejar las columnas que nos sirven para realizar el modelo de predicción\n",
    "#### Valor 0.3"
   ]
  },
  {
   "cell_type": "markdown",
   "metadata": {
    "id": "9cZlCG_Cg5NH"
   },
   "source": [
    "- Elimine las columnas \"room_id\", \"host_id\", \"barrio\"\n",
    "- muestre las prieras 5 filas"
   ]
  },
  {
   "cell_type": "code",
   "execution_count": 49,
   "metadata": {
    "executionInfo": {
     "elapsed": 674,
     "status": "ok",
     "timestamp": 1618862231735,
     "user": {
      "displayName": "STIWARD JHERIKOF CARRILLO RAMIREZ",
      "photoUrl": "https://lh3.googleusercontent.com/a-/AOh14GjfzniVHGCh7d3_wtWDwsXC_iVN1kQfXdo12vF_cQ=s64",
      "userId": "14913105575458408419"
     },
     "user_tz": 300
    },
    "id": "btmFxrOfg5NI"
   },
   "outputs": [],
   "source": []
  },
  {
   "cell_type": "code",
   "execution_count": 61,
   "metadata": {
    "colab": {
     "base_uri": "https://localhost:8080/",
     "height": 204
    },
    "executionInfo": {
     "elapsed": 658,
     "status": "ok",
     "timestamp": 1618864732322,
     "user": {
      "displayName": "STIWARD JHERIKOF CARRILLO RAMIREZ",
      "photoUrl": "https://lh3.googleusercontent.com/a-/AOh14GjfzniVHGCh7d3_wtWDwsXC_iVN1kQfXdo12vF_cQ=s64",
      "userId": "14913105575458408419"
     },
     "user_tz": 300
    },
    "id": "bBP5LCxgnWHJ",
    "outputId": "75fff822-2207-4b82-edc3-e672cc08adef"
   },
   "outputs": [
    {
     "data": {
      "text/html": [
       "<div>\n",
       "<style scoped>\n",
       "    .dataframe tbody tr th:only-of-type {\n",
       "        vertical-align: middle;\n",
       "    }\n",
       "\n",
       "    .dataframe tbody tr th {\n",
       "        vertical-align: top;\n",
       "    }\n",
       "\n",
       "    .dataframe thead th {\n",
       "        text-align: right;\n",
       "    }\n",
       "</style>\n",
       "<table border=\"1\" class=\"dataframe\">\n",
       "  <thead>\n",
       "    <tr style=\"text-align: right;\">\n",
       "      <th></th>\n",
       "      <th>tipo_de_habitacion</th>\n",
       "      <th>comentarios</th>\n",
       "      <th>satisfaccion</th>\n",
       "      <th>acomodacion</th>\n",
       "      <th>dormitorios</th>\n",
       "      <th>precio</th>\n",
       "    </tr>\n",
       "  </thead>\n",
       "  <tbody>\n",
       "    <tr>\n",
       "      <th>0</th>\n",
       "      <td>Entire home/apt</td>\n",
       "      <td>8</td>\n",
       "      <td>5.0</td>\n",
       "      <td>2.0</td>\n",
       "      <td>1.0</td>\n",
       "      <td>57.0</td>\n",
       "    </tr>\n",
       "    <tr>\n",
       "      <th>1</th>\n",
       "      <td>Entire home/apt</td>\n",
       "      <td>6</td>\n",
       "      <td>1.0</td>\n",
       "      <td>4.0</td>\n",
       "      <td>1.0</td>\n",
       "      <td>46.0</td>\n",
       "    </tr>\n",
       "    <tr>\n",
       "      <th>2</th>\n",
       "      <td>Entire home/apt</td>\n",
       "      <td>63</td>\n",
       "      <td>5.0</td>\n",
       "      <td>3.0</td>\n",
       "      <td>1.0</td>\n",
       "      <td>69.0</td>\n",
       "    </tr>\n",
       "    <tr>\n",
       "      <th>3</th>\n",
       "      <td>Entire home/apt</td>\n",
       "      <td>225</td>\n",
       "      <td>4.5</td>\n",
       "      <td>4.0</td>\n",
       "      <td>1.0</td>\n",
       "      <td>58.0</td>\n",
       "    </tr>\n",
       "    <tr>\n",
       "      <th>4</th>\n",
       "      <td>Entire home/apt</td>\n",
       "      <td>132</td>\n",
       "      <td>5.0</td>\n",
       "      <td>4.0</td>\n",
       "      <td>1.0</td>\n",
       "      <td>67.0</td>\n",
       "    </tr>\n",
       "  </tbody>\n",
       "</table>\n",
       "</div>"
      ],
      "text/plain": [
       "  tipo_de_habitacion  comentarios  ...  dormitorios  precio\n",
       "0    Entire home/apt            8  ...          1.0    57.0\n",
       "1    Entire home/apt            6  ...          1.0    46.0\n",
       "2    Entire home/apt           63  ...          1.0    69.0\n",
       "3    Entire home/apt          225  ...          1.0    58.0\n",
       "4    Entire home/apt          132  ...          1.0    67.0\n",
       "\n",
       "[5 rows x 6 columns]"
      ]
     },
     "execution_count": 61,
     "metadata": {
      "tags": []
     },
     "output_type": "execute_result"
    }
   ],
   "source": [
    "df = df.drop([\"room_id\", \"host_id\", \"barrio\"], axis=1)\n",
    "df.head()"
   ]
  },
  {
   "cell_type": "markdown",
   "metadata": {
    "id": "JBNgeqk7g5NI"
   },
   "source": [
    "- Convierta a variables dummy a la columna \"tipo_de habitacion\" coloque como prefijo la palabra \"tipo\"\n",
    "- muestre las primeras 5 filas. valor 0.5"
   ]
  },
  {
   "cell_type": "code",
   "execution_count": null,
   "metadata": {
    "id": "m-9lb2tJg5NI",
    "outputId": "64817085-dbb6-411e-930b-35833b7c02c8"
   },
   "outputs": [
    {
     "data": {
      "text/html": [
       "<div>\n",
       "<style scoped>\n",
       "    .dataframe tbody tr th:only-of-type {\n",
       "        vertical-align: middle;\n",
       "    }\n",
       "\n",
       "    .dataframe tbody tr th {\n",
       "        vertical-align: top;\n",
       "    }\n",
       "\n",
       "    .dataframe thead th {\n",
       "        text-align: right;\n",
       "    }\n",
       "</style>\n",
       "<table border=\"1\" class=\"dataframe\">\n",
       "  <thead>\n",
       "    <tr style=\"text-align: right;\">\n",
       "      <th></th>\n",
       "      <th>tipo_Private room</th>\n",
       "      <th>tipo_Shared room</th>\n",
       "      <th>comentarios</th>\n",
       "      <th>satisfaccion</th>\n",
       "      <th>acomodacion</th>\n",
       "      <th>dormitorios</th>\n",
       "      <th>precio</th>\n",
       "    </tr>\n",
       "  </thead>\n",
       "  <tbody>\n",
       "    <tr>\n",
       "      <th>0</th>\n",
       "      <td>0</td>\n",
       "      <td>0</td>\n",
       "      <td>8</td>\n",
       "      <td>5.0</td>\n",
       "      <td>2.0</td>\n",
       "      <td>1.0</td>\n",
       "      <td>57.0</td>\n",
       "    </tr>\n",
       "    <tr>\n",
       "      <th>1</th>\n",
       "      <td>0</td>\n",
       "      <td>0</td>\n",
       "      <td>6</td>\n",
       "      <td>1.0</td>\n",
       "      <td>4.0</td>\n",
       "      <td>1.0</td>\n",
       "      <td>46.0</td>\n",
       "    </tr>\n",
       "    <tr>\n",
       "      <th>2</th>\n",
       "      <td>0</td>\n",
       "      <td>0</td>\n",
       "      <td>63</td>\n",
       "      <td>5.0</td>\n",
       "      <td>3.0</td>\n",
       "      <td>1.0</td>\n",
       "      <td>69.0</td>\n",
       "    </tr>\n",
       "    <tr>\n",
       "      <th>3</th>\n",
       "      <td>0</td>\n",
       "      <td>0</td>\n",
       "      <td>225</td>\n",
       "      <td>4.5</td>\n",
       "      <td>4.0</td>\n",
       "      <td>1.0</td>\n",
       "      <td>58.0</td>\n",
       "    </tr>\n",
       "    <tr>\n",
       "      <th>4</th>\n",
       "      <td>0</td>\n",
       "      <td>0</td>\n",
       "      <td>132</td>\n",
       "      <td>5.0</td>\n",
       "      <td>4.0</td>\n",
       "      <td>1.0</td>\n",
       "      <td>67.0</td>\n",
       "    </tr>\n",
       "  </tbody>\n",
       "</table>\n",
       "</div>"
      ],
      "text/plain": [
       "   tipo_Private room  tipo_Shared room  comentarios  satisfaccion  \\\n",
       "0                  0                 0            8           5.0   \n",
       "1                  0                 0            6           1.0   \n",
       "2                  0                 0           63           5.0   \n",
       "3                  0                 0          225           4.5   \n",
       "4                  0                 0          132           5.0   \n",
       "\n",
       "   acomodacion  dormitorios  precio  \n",
       "0          2.0          1.0    57.0  \n",
       "1          4.0          1.0    46.0  \n",
       "2          3.0          1.0    69.0  \n",
       "3          4.0          1.0    58.0  \n",
       "4          4.0          1.0    67.0  "
      ]
     },
     "execution_count": 59,
     "metadata": {
      "tags": []
     },
     "output_type": "execute_result"
    }
   ],
   "source": []
  },
  {
   "cell_type": "code",
   "execution_count": 62,
   "metadata": {
    "colab": {
     "base_uri": "https://localhost:8080/",
     "height": 204
    },
    "executionInfo": {
     "elapsed": 662,
     "status": "ok",
     "timestamp": 1618864737066,
     "user": {
      "displayName": "STIWARD JHERIKOF CARRILLO RAMIREZ",
      "photoUrl": "https://lh3.googleusercontent.com/a-/AOh14GjfzniVHGCh7d3_wtWDwsXC_iVN1kQfXdo12vF_cQ=s64",
      "userId": "14913105575458408419"
     },
     "user_tz": 300
    },
    "id": "DutbO_VXnZUS",
    "outputId": "2aa52cf8-7a0e-4007-ed7d-d724bc22ac47"
   },
   "outputs": [
    {
     "data": {
      "text/html": [
       "<div>\n",
       "<style scoped>\n",
       "    .dataframe tbody tr th:only-of-type {\n",
       "        vertical-align: middle;\n",
       "    }\n",
       "\n",
       "    .dataframe tbody tr th {\n",
       "        vertical-align: top;\n",
       "    }\n",
       "\n",
       "    .dataframe thead th {\n",
       "        text-align: right;\n",
       "    }\n",
       "</style>\n",
       "<table border=\"1\" class=\"dataframe\">\n",
       "  <thead>\n",
       "    <tr style=\"text-align: right;\">\n",
       "      <th></th>\n",
       "      <th>tipo_Private room</th>\n",
       "      <th>tipo_Shared room</th>\n",
       "      <th>comentarios</th>\n",
       "      <th>satisfaccion</th>\n",
       "      <th>acomodacion</th>\n",
       "      <th>dormitorios</th>\n",
       "      <th>precio</th>\n",
       "    </tr>\n",
       "  </thead>\n",
       "  <tbody>\n",
       "    <tr>\n",
       "      <th>0</th>\n",
       "      <td>0</td>\n",
       "      <td>0</td>\n",
       "      <td>8</td>\n",
       "      <td>5.0</td>\n",
       "      <td>2.0</td>\n",
       "      <td>1.0</td>\n",
       "      <td>57.0</td>\n",
       "    </tr>\n",
       "    <tr>\n",
       "      <th>1</th>\n",
       "      <td>0</td>\n",
       "      <td>0</td>\n",
       "      <td>6</td>\n",
       "      <td>1.0</td>\n",
       "      <td>4.0</td>\n",
       "      <td>1.0</td>\n",
       "      <td>46.0</td>\n",
       "    </tr>\n",
       "    <tr>\n",
       "      <th>2</th>\n",
       "      <td>0</td>\n",
       "      <td>0</td>\n",
       "      <td>63</td>\n",
       "      <td>5.0</td>\n",
       "      <td>3.0</td>\n",
       "      <td>1.0</td>\n",
       "      <td>69.0</td>\n",
       "    </tr>\n",
       "    <tr>\n",
       "      <th>3</th>\n",
       "      <td>0</td>\n",
       "      <td>0</td>\n",
       "      <td>225</td>\n",
       "      <td>4.5</td>\n",
       "      <td>4.0</td>\n",
       "      <td>1.0</td>\n",
       "      <td>58.0</td>\n",
       "    </tr>\n",
       "    <tr>\n",
       "      <th>4</th>\n",
       "      <td>0</td>\n",
       "      <td>0</td>\n",
       "      <td>132</td>\n",
       "      <td>5.0</td>\n",
       "      <td>4.0</td>\n",
       "      <td>1.0</td>\n",
       "      <td>67.0</td>\n",
       "    </tr>\n",
       "  </tbody>\n",
       "</table>\n",
       "</div>"
      ],
      "text/plain": [
       "   tipo_Private room  tipo_Shared room  ...  dormitorios  precio\n",
       "0                  0                 0  ...          1.0    57.0\n",
       "1                  0                 0  ...          1.0    46.0\n",
       "2                  0                 0  ...          1.0    69.0\n",
       "3                  0                 0  ...          1.0    58.0\n",
       "4                  0                 0  ...          1.0    67.0\n",
       "\n",
       "[5 rows x 7 columns]"
      ]
     },
     "execution_count": 62,
     "metadata": {
      "tags": []
     },
     "output_type": "execute_result"
    }
   ],
   "source": [
    "dummy = pd.get_dummies(df.tipo_de_habitacion, prefix = \"tipo\", drop_first=True)\n",
    "union = pd.concat([dummy,df], axis = 1)\n",
    "datos_tipo_de_habitacion = union.drop([\"tipo_de_habitacion\"], axis = 1)\n",
    "datos_tipo_de_habitacion.head()"
   ]
  },
  {
   "cell_type": "markdown",
   "metadata": {
    "id": "J-fR7p1Mg5NI"
   },
   "source": [
    "### Graficación\n",
    "#### Valor 0.2"
   ]
  },
  {
   "cell_type": "markdown",
   "metadata": {
    "id": "P1soI84mg5NI"
   },
   "source": [
    "-  Realice un diagrama de dispersion entre satisfaccion y la variable precio"
   ]
  },
  {
   "cell_type": "code",
   "execution_count": null,
   "metadata": {
    "id": "CRZrAP9Tg5NI",
    "outputId": "f5a22bdb-b8bc-46db-e1a1-a41b475bb9e2"
   },
   "outputs": [
    {
     "data": {
      "text/plain": [
       "<matplotlib.collections.PathCollection at 0x1eac869c6a0>"
      ]
     },
     "execution_count": 61,
     "metadata": {
      "tags": []
     },
     "output_type": "execute_result"
    },
    {
     "data": {
      "image/png": "[encoded data removed]",
      "text/plain": [
       "<Figure size 432x288 with 1 Axes>"
      ]
     },
     "metadata": {
      "needs_background": "light",
      "tags": []
     },
     "output_type": "display_data"
    }
   ],
   "source": []
  },
  {
   "cell_type": "code",
   "execution_count": null,
   "metadata": {
    "id": "ZiySAgIXreau"
   },
   "outputs": [],
   "source": []
  },
  {
   "cell_type": "code",
   "execution_count": 63,
   "metadata": {
    "colab": {
     "base_uri": "https://localhost:8080/",
     "height": 282
    },
    "executionInfo": {
     "elapsed": 1109,
     "status": "ok",
     "timestamp": 1618864826066,
     "user": {
      "displayName": "STIWARD JHERIKOF CARRILLO RAMIREZ",
      "photoUrl": "https://lh3.googleusercontent.com/a-/AOh14GjfzniVHGCh7d3_wtWDwsXC_iVN1kQfXdo12vF_cQ=s64",
      "userId": "14913105575458408419"
     },
     "user_tz": 300
    },
    "id": "zObRp7iz3B_h",
    "outputId": "3bb0cc7a-84da-4b50-c20c-a5b017ecb89c"
   },
   "outputs": [
    {
     "data": {
      "text/plain": [
       "<matplotlib.collections.PathCollection at 0x7f43503db850>"
      ]
     },
     "execution_count": 63,
     "metadata": {
      "tags": []
     },
     "output_type": "execute_result"
    },
    {
     "data": {
      "image/png": "[encoded data removed]",
      "text/plain": [
       "<Figure size 432x288 with 1 Axes>"
      ]
     },
     "metadata": {
      "needs_background": "light",
      "tags": []
     },
     "output_type": "display_data"
    }
   ],
   "source": [
    "plt.scatter(df['satisfaccion'], df['precio'])"
   ]
  },
  {
   "cell_type": "markdown",
   "metadata": {
    "id": "zG617Vrgg5NJ"
   },
   "source": [
    "### Modelamiento\n"
   ]
  },
  {
   "cell_type": "markdown",
   "metadata": {
    "id": "Kd0tfCd1g5NJ"
   },
   "source": [
    "- Conteste las siguientes preguntas"
   ]
  },
  {
   "cell_type": "markdown",
   "metadata": {
    "id": "qq9rUE_Eg5NJ"
   },
   "source": [
    "¿Cuales son los procesos del Data Science?"
   ]
  },
  {
   "cell_type": "markdown",
   "metadata": {
    "id": "YWmEq_Vtg5NJ"
   },
   "source": [
    "***RTA***:"
   ]
  },
  {
   "cell_type": "markdown",
   "metadata": {
    "id": "smjuhAFNutTi"
   },
   "source": [
    "\n",
    "\n",
    "1.   Definición de Objectivos\n",
    "2.   Obtención de Datos\n",
    "3.   Análisis Exploratorio \n",
    "4.   Modelo de Datos\n",
    "5.   Despliegue\n",
    "\n"
   ]
  },
  {
   "cell_type": "markdown",
   "metadata": {
    "id": "xlGzaMqig5NJ"
   },
   "source": [
    "¿ Cuales son las fuentes de datos generalmente utilizados en Data Science? Expliquelos"
   ]
  },
  {
   "cell_type": "markdown",
   "metadata": {
    "id": "4QnFqB6Lg5NJ"
   },
   "source": [
    "RTA"
   ]
  },
  {
   "cell_type": "markdown",
   "metadata": {
    "id": "jeGj2rXJxNMR"
   },
   "source": [
    "\n",
    "\n",
    "1.   Bases de Datos Relacionales: Es una recopilación de elementos de datos con relaciones predefinidas entre ellos.\n",
    "2.   Bases de Datos Multidimencionales (DW): Almacenan la información en tablas. Sin embargo, la diferencia radica en la estructura que forman estas tablas, ya que en este los datos se ven como cubos de información.\n",
    "3.   Bases de Datos Transaccionales: Son bases de datos que tiene como fin el envío y recepción de datos a gran velocidad. \n",
    "4.   Bases de Datos Multimedia: Se caracterizan por almacenar, además de texto y otros datos discretos, información de Audio y Vídeo, permitiendo su manipulación y\n",
    "recuperación.\n",
    "\n"
   ]
  },
  {
   "cell_type": "markdown",
   "metadata": {
    "id": "bpmZ-Hweg5NJ"
   },
   "source": [
    "¿ Las variables que son utilizados en Data Science deben ser numericas, ¿Como se clasifican las variables segun el tipo de dato? de un ejemplo de cada una."
   ]
  },
  {
   "cell_type": "markdown",
   "metadata": {
    "id": "Vw2IzJxeg5NK"
   },
   "source": [
    "RTA"
   ]
  },
  {
   "cell_type": "markdown",
   "metadata": {
    "id": "JY0mcO-RxxFC"
   },
   "source": [
    "Las variables en Data Science deben ser numericas debido a que los modelos de Machine Learning requieren que los datos sean numericos para poder realizar los calculos respectivos.\n",
    "\n",
    "Tipos de Datos - Variables\n",
    "\n",
    "1.   Continuas: Edad, Altura, Colores RGB\n",
    "2.   Ordinales: Niveles Educativos, Ratings\n",
    "3.   Categóricas: Hombre/Mujer, Apto/No Apto, Dias de la Semana\n",
    "\n"
   ]
  },
  {
   "cell_type": "markdown",
   "metadata": {
    "id": "0Favht2Ag5NK"
   },
   "source": [
    "¿ Cual es la clasificción de los datos según su estructura? De un ejemplo de cada una"
   ]
  },
  {
   "cell_type": "markdown",
   "metadata": {
    "id": "UC9bmWDAg5NK"
   },
   "source": [
    "RTA"
   ]
  },
  {
   "cell_type": "markdown",
   "metadata": {
    "id": "ZiTqDsg6zX4a"
   },
   "source": [
    "Tipos de Datos - Estructura\n",
    "\n",
    "1.   Estructurados: Bases de Datos SQL\n",
    "2.   Semiestructurados: XML, JSON, CSV\n",
    "3.   No Estructurados: Emails, Fotos, PDF \n",
    "\n"
   ]
  },
  {
   "cell_type": "markdown",
   "metadata": {
    "id": "cnsQKEong5NK"
   },
   "source": [
    "Los modelos de Machine Learning se clasifican en varios tipos; ¿Cuales son y de una definición de cada uno de los tipos de modelos de ML?"
   ]
  },
  {
   "cell_type": "markdown",
   "metadata": {
    "id": "xp-nT5cFg5NK"
   },
   "source": [
    "RTA"
   ]
  },
  {
   "cell_type": "markdown",
   "metadata": {
    "id": "ZM-yWz7L0t9K"
   },
   "source": [
    "\n",
    "\n",
    "1.   Aprendizaje Supervisado:  Este tipo de modelo los datos y las etiquetas correspondientes son suministrados.\n",
    "2.   Aprendizaje No Supervisado: Solo se dan datos, no se proporcionan etiquetas.\n",
    "3.   Aprendizaje Reforzado: Un agente que interactúa con el mundo hace observaciones, toma decisiones y es recompensado o castigado. \n",
    "\n"
   ]
  },
  {
   "cell_type": "markdown",
   "metadata": {
    "id": "XleWA7KsvgXp"
   },
   "source": []
  }
 ],
 "metadata": {
  "colab": {
   "name": "primer_previo_2021_1_codigo_1151811.ipynb",
   "provenance": [],
   "toc_visible": true
  },
  "kernelspec": {
   "display_name": "Python 3",
   "language": "python",
   "name": "python3"
  },
  "language_info": {
   "codemirror_mode": {
    "name": "ipython",
    "version": 3
   },
   "file_extension": ".py",
   "mimetype": "text/x-python",
   "name": "python",
   "nbconvert_exporter": "python",
   "pygments_lexer": "ipython3",
   "version": "3.8.8"
  }
 },
 "nbformat": 4,
 "nbformat_minor": 1
}
