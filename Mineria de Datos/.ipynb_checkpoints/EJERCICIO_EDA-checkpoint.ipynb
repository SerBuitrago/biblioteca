{
 "cells": [
  {
   "cell_type": "markdown",
   "metadata": {
    "id": "_tPdp-zapkqh"
   },
   "source": [
    "# EJERCICIOS MINERIA DE DATOS"
   ]
  },
  {
   "cell_type": "markdown",
   "metadata": {
    "id": "0HeXIQyYpkql"
   },
   "source": [
    "0. importe pandas"
   ]
  },
  {
   "cell_type": "code",
   "execution_count": 76,
   "metadata": {
    "executionInfo": {
     "elapsed": 459,
     "status": "ok",
     "timestamp": 1618859755030,
     "user": {
      "displayName": "STIWARD JHERIKOF CARRILLO RAMIREZ",
      "photoUrl": "https://lh3.googleusercontent.com/a-/AOh14GjfzniVHGCh7d3_wtWDwsXC_iVN1kQfXdo12vF_cQ=s64",
      "userId": "14913105575458408419"
     },
     "user_tz": 300
    },
    "id": "191RJNUypkqm"
   },
   "outputs": [],
   "source": [
    "import numpy as np\n",
    "import pandas as pd\n",
    "import matplotlib.pyplot as plt"
   ]
  },
  {
   "cell_type": "markdown",
   "metadata": {
    "id": "-R8yAccnpkqm"
   },
   "source": [
    "1. leer un archivo csv (breast-cancer-wisconsin.data.txt situado en el dataset cancer) en un DataFrame llamado datos. Coloquele los nombres de las columnas como esta especificado en el archivo breast-cancer-wisconsin.names.txt"
   ]
  },
  {
   "cell_type": "code",
   "execution_count": null,
   "metadata": {
    "colab": {
     "base_uri": "https://localhost:8080/",
     "height": 72,
     "resources": {
      "http://localhost:8080/nbextensions/google.colab/files.js": {
       "data": "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",
       "headers": [
        [
         "content-type",
         "application/javascript"
        ]
       ],
       "ok": true,
       "status": 200,
       "status_text": ""
      }
     }
    },
    "executionInfo": {
     "elapsed": 14187,
     "status": "ok",
     "timestamp": 1618845956326,
     "user": {
      "displayName": "STIWARD JHERIKOF CARRILLO RAMIREZ",
      "photoUrl": "https://lh3.googleusercontent.com/a-/AOh14GjfzniVHGCh7d3_wtWDwsXC_iVN1kQfXdo12vF_cQ=s64",
      "userId": "14913105575458408419"
     },
     "user_tz": 300
    },
    "id": "JgrZTz89pkqm",
    "outputId": "b39b2dca-f537-468b-fb47-a887f8ebbc18"
   },
   "outputs": [
    {
     "data": {
      "text/html": [
       "\n",
       "     <input type=\"file\" id=\"files-c09e5e06-e438-40ad-b3da-c2070e5075a5\" name=\"files[]\" multiple disabled\n",
       "        style=\"border:none\" />\n",
       "     <output id=\"result-c09e5e06-e438-40ad-b3da-c2070e5075a5\">\n",
       "      Upload widget is only available when the cell has been executed in the\n",
       "      current browser session. Please rerun this cell to enable.\n",
       "      </output>\n",
       "      <script src=\"/nbextensions/google.colab/files.js\"></script> "
      ],
      "text/plain": [
       "<IPython.core.display.HTML object>"
      ]
     },
     "metadata": {
      "tags": []
     },
     "output_type": "display_data"
    },
    {
     "name": "stdout",
     "output_type": "stream",
     "text": [
      "Saving breast-cancer-wisconsin.data.txt to breast-cancer-wisconsin.data.txt\n"
     ]
    }
   ],
   "source": [
    "from google.colab import files\n",
    "uploaded = files.upload()"
   ]
  },
  {
   "cell_type": "code",
   "execution_count": 77,
   "metadata": {
    "executionInfo": {
     "elapsed": 417,
     "status": "ok",
     "timestamp": 1618859757023,
     "user": {
      "displayName": "STIWARD JHERIKOF CARRILLO RAMIREZ",
      "photoUrl": "https://lh3.googleusercontent.com/a-/AOh14GjfzniVHGCh7d3_wtWDwsXC_iVN1kQfXdo12vF_cQ=s64",
      "userId": "14913105575458408419"
     },
     "user_tz": 300
    },
    "id": "0LXOZwZH7e7V"
   },
   "outputs": [],
   "source": [
    "nombres = [\"Sample code number\", \"Clump Thickness\", \"Uniformity of Cell Size\", \"Uniformity of Cell Shape\", \"Marginal Adhesion\", \"Single Epithelial Cell Size\", \"Bare Nuclei\", \"Bland Chromatin\", \"Normal Nucleoli\", \"Mitoses\", \"Class\"]\n",
    "datos = pd.read_csv('breast-cancer-wisconsin.data.txt',names=nombres)"
   ]
  },
  {
   "cell_type": "markdown",
   "metadata": {
    "id": "hsI8vusKpkqn"
   },
   "source": [
    "2. mostrar las primeras 10 lineas"
   ]
  },
  {
   "cell_type": "code",
   "execution_count": null,
   "metadata": {
    "colab": {
     "base_uri": "https://localhost:8080/",
     "height": 376
    },
    "executionInfo": {
     "elapsed": 445,
     "status": "ok",
     "timestamp": 1618849447339,
     "user": {
      "displayName": "STIWARD JHERIKOF CARRILLO RAMIREZ",
      "photoUrl": "https://lh3.googleusercontent.com/a-/AOh14GjfzniVHGCh7d3_wtWDwsXC_iVN1kQfXdo12vF_cQ=s64",
      "userId": "14913105575458408419"
     },
     "user_tz": 300
    },
    "id": "K5j1NftRpkqn",
    "outputId": "dadc66f3-e7ca-4459-c8ba-4f763ca49b61"
   },
   "outputs": [
    {
     "data": {
      "text/html": [
       "<div>\n",
       "<style scoped>\n",
       "    .dataframe tbody tr th:only-of-type {\n",
       "        vertical-align: middle;\n",
       "    }\n",
       "\n",
       "    .dataframe tbody tr th {\n",
       "        vertical-align: top;\n",
       "    }\n",
       "\n",
       "    .dataframe thead th {\n",
       "        text-align: right;\n",
       "    }\n",
       "</style>\n",
       "<table border=\"1\" class=\"dataframe\">\n",
       "  <thead>\n",
       "    <tr style=\"text-align: right;\">\n",
       "      <th></th>\n",
       "      <th>Sample code number</th>\n",
       "      <th>Clump Thickness</th>\n",
       "      <th>Uniformity of Cell Size</th>\n",
       "      <th>Uniformity of Cell Shape</th>\n",
       "      <th>Marginal Adhesion</th>\n",
       "      <th>Single Epithelial Cell Size</th>\n",
       "      <th>Bare Nuclei</th>\n",
       "      <th>Bland Chromatin</th>\n",
       "      <th>Normal Nucleoli</th>\n",
       "      <th>Mitoses</th>\n",
       "      <th>Class</th>\n",
       "    </tr>\n",
       "  </thead>\n",
       "  <tbody>\n",
       "    <tr>\n",
       "      <th>0</th>\n",
       "      <td>1000025</td>\n",
       "      <td>5</td>\n",
       "      <td>1</td>\n",
       "      <td>1</td>\n",
       "      <td>1</td>\n",
       "      <td>2</td>\n",
       "      <td>1</td>\n",
       "      <td>3</td>\n",
       "      <td>1</td>\n",
       "      <td>1</td>\n",
       "      <td>2</td>\n",
       "    </tr>\n",
       "    <tr>\n",
       "      <th>1</th>\n",
       "      <td>1002945</td>\n",
       "      <td>5</td>\n",
       "      <td>4</td>\n",
       "      <td>4</td>\n",
       "      <td>5</td>\n",
       "      <td>7</td>\n",
       "      <td>10</td>\n",
       "      <td>3</td>\n",
       "      <td>2</td>\n",
       "      <td>1</td>\n",
       "      <td>2</td>\n",
       "    </tr>\n",
       "    <tr>\n",
       "      <th>2</th>\n",
       "      <td>1015425</td>\n",
       "      <td>3</td>\n",
       "      <td>1</td>\n",
       "      <td>1</td>\n",
       "      <td>1</td>\n",
       "      <td>2</td>\n",
       "      <td>2</td>\n",
       "      <td>3</td>\n",
       "      <td>1</td>\n",
       "      <td>1</td>\n",
       "      <td>2</td>\n",
       "    </tr>\n",
       "    <tr>\n",
       "      <th>3</th>\n",
       "      <td>1016277</td>\n",
       "      <td>6</td>\n",
       "      <td>8</td>\n",
       "      <td>8</td>\n",
       "      <td>1</td>\n",
       "      <td>3</td>\n",
       "      <td>4</td>\n",
       "      <td>3</td>\n",
       "      <td>7</td>\n",
       "      <td>1</td>\n",
       "      <td>2</td>\n",
       "    </tr>\n",
       "    <tr>\n",
       "      <th>4</th>\n",
       "      <td>1017023</td>\n",
       "      <td>4</td>\n",
       "      <td>1</td>\n",
       "      <td>1</td>\n",
       "      <td>3</td>\n",
       "      <td>2</td>\n",
       "      <td>1</td>\n",
       "      <td>3</td>\n",
       "      <td>1</td>\n",
       "      <td>1</td>\n",
       "      <td>2</td>\n",
       "    </tr>\n",
       "    <tr>\n",
       "      <th>5</th>\n",
       "      <td>1017122</td>\n",
       "      <td>8</td>\n",
       "      <td>10</td>\n",
       "      <td>10</td>\n",
       "      <td>8</td>\n",
       "      <td>7</td>\n",
       "      <td>10</td>\n",
       "      <td>9</td>\n",
       "      <td>7</td>\n",
       "      <td>1</td>\n",
       "      <td>4</td>\n",
       "    </tr>\n",
       "    <tr>\n",
       "      <th>6</th>\n",
       "      <td>1018099</td>\n",
       "      <td>1</td>\n",
       "      <td>1</td>\n",
       "      <td>1</td>\n",
       "      <td>1</td>\n",
       "      <td>2</td>\n",
       "      <td>10</td>\n",
       "      <td>3</td>\n",
       "      <td>1</td>\n",
       "      <td>1</td>\n",
       "      <td>2</td>\n",
       "    </tr>\n",
       "    <tr>\n",
       "      <th>7</th>\n",
       "      <td>1018561</td>\n",
       "      <td>2</td>\n",
       "      <td>1</td>\n",
       "      <td>2</td>\n",
       "      <td>1</td>\n",
       "      <td>2</td>\n",
       "      <td>1</td>\n",
       "      <td>3</td>\n",
       "      <td>1</td>\n",
       "      <td>1</td>\n",
       "      <td>2</td>\n",
       "    </tr>\n",
       "    <tr>\n",
       "      <th>8</th>\n",
       "      <td>1033078</td>\n",
       "      <td>2</td>\n",
       "      <td>1</td>\n",
       "      <td>1</td>\n",
       "      <td>1</td>\n",
       "      <td>2</td>\n",
       "      <td>1</td>\n",
       "      <td>1</td>\n",
       "      <td>1</td>\n",
       "      <td>5</td>\n",
       "      <td>2</td>\n",
       "    </tr>\n",
       "    <tr>\n",
       "      <th>9</th>\n",
       "      <td>1033078</td>\n",
       "      <td>4</td>\n",
       "      <td>2</td>\n",
       "      <td>1</td>\n",
       "      <td>1</td>\n",
       "      <td>2</td>\n",
       "      <td>1</td>\n",
       "      <td>2</td>\n",
       "      <td>1</td>\n",
       "      <td>1</td>\n",
       "      <td>2</td>\n",
       "    </tr>\n",
       "  </tbody>\n",
       "</table>\n",
       "</div>"
      ],
      "text/plain": [
       "   Sample code number  Clump Thickness  ...  Mitoses  Class\n",
       "0             1000025                5  ...        1      2\n",
       "1             1002945                5  ...        1      2\n",
       "2             1015425                3  ...        1      2\n",
       "3             1016277                6  ...        1      2\n",
       "4             1017023                4  ...        1      2\n",
       "5             1017122                8  ...        1      4\n",
       "6             1018099                1  ...        1      2\n",
       "7             1018561                2  ...        1      2\n",
       "8             1033078                2  ...        5      2\n",
       "9             1033078                4  ...        1      2\n",
       "\n",
       "[10 rows x 11 columns]"
      ]
     },
     "execution_count": 11,
     "metadata": {
      "tags": []
     },
     "output_type": "execute_result"
    }
   ],
   "source": [
    "datos.head(10)"
   ]
  },
  {
   "cell_type": "markdown",
   "metadata": {
    "id": "SyB2LuZipkqn"
   },
   "source": [
    "3. mostrar las ultimas lineas"
   ]
  },
  {
   "cell_type": "code",
   "execution_count": null,
   "metadata": {
    "colab": {
     "base_uri": "https://localhost:8080/",
     "height": 221
    },
    "executionInfo": {
     "elapsed": 406,
     "status": "ok",
     "timestamp": 1618849458908,
     "user": {
      "displayName": "STIWARD JHERIKOF CARRILLO RAMIREZ",
      "photoUrl": "https://lh3.googleusercontent.com/a-/AOh14GjfzniVHGCh7d3_wtWDwsXC_iVN1kQfXdo12vF_cQ=s64",
      "userId": "14913105575458408419"
     },
     "user_tz": 300
    },
    "id": "DBo0skDepkqn",
    "outputId": "46e8acae-12a6-4713-b435-4a3b1b1a1608"
   },
   "outputs": [
    {
     "data": {
      "text/html": [
       "<div>\n",
       "<style scoped>\n",
       "    .dataframe tbody tr th:only-of-type {\n",
       "        vertical-align: middle;\n",
       "    }\n",
       "\n",
       "    .dataframe tbody tr th {\n",
       "        vertical-align: top;\n",
       "    }\n",
       "\n",
       "    .dataframe thead th {\n",
       "        text-align: right;\n",
       "    }\n",
       "</style>\n",
       "<table border=\"1\" class=\"dataframe\">\n",
       "  <thead>\n",
       "    <tr style=\"text-align: right;\">\n",
       "      <th></th>\n",
       "      <th>Sample code number</th>\n",
       "      <th>Clump Thickness</th>\n",
       "      <th>Uniformity of Cell Size</th>\n",
       "      <th>Uniformity of Cell Shape</th>\n",
       "      <th>Marginal Adhesion</th>\n",
       "      <th>Single Epithelial Cell Size</th>\n",
       "      <th>Bare Nuclei</th>\n",
       "      <th>Bland Chromatin</th>\n",
       "      <th>Normal Nucleoli</th>\n",
       "      <th>Mitoses</th>\n",
       "      <th>Class</th>\n",
       "    </tr>\n",
       "  </thead>\n",
       "  <tbody>\n",
       "    <tr>\n",
       "      <th>694</th>\n",
       "      <td>776715</td>\n",
       "      <td>3</td>\n",
       "      <td>1</td>\n",
       "      <td>1</td>\n",
       "      <td>1</td>\n",
       "      <td>3</td>\n",
       "      <td>2</td>\n",
       "      <td>1</td>\n",
       "      <td>1</td>\n",
       "      <td>1</td>\n",
       "      <td>2</td>\n",
       "    </tr>\n",
       "    <tr>\n",
       "      <th>695</th>\n",
       "      <td>841769</td>\n",
       "      <td>2</td>\n",
       "      <td>1</td>\n",
       "      <td>1</td>\n",
       "      <td>1</td>\n",
       "      <td>2</td>\n",
       "      <td>1</td>\n",
       "      <td>1</td>\n",
       "      <td>1</td>\n",
       "      <td>1</td>\n",
       "      <td>2</td>\n",
       "    </tr>\n",
       "    <tr>\n",
       "      <th>696</th>\n",
       "      <td>888820</td>\n",
       "      <td>5</td>\n",
       "      <td>10</td>\n",
       "      <td>10</td>\n",
       "      <td>3</td>\n",
       "      <td>7</td>\n",
       "      <td>3</td>\n",
       "      <td>8</td>\n",
       "      <td>10</td>\n",
       "      <td>2</td>\n",
       "      <td>4</td>\n",
       "    </tr>\n",
       "    <tr>\n",
       "      <th>697</th>\n",
       "      <td>897471</td>\n",
       "      <td>4</td>\n",
       "      <td>8</td>\n",
       "      <td>6</td>\n",
       "      <td>4</td>\n",
       "      <td>3</td>\n",
       "      <td>4</td>\n",
       "      <td>10</td>\n",
       "      <td>6</td>\n",
       "      <td>1</td>\n",
       "      <td>4</td>\n",
       "    </tr>\n",
       "    <tr>\n",
       "      <th>698</th>\n",
       "      <td>897471</td>\n",
       "      <td>4</td>\n",
       "      <td>8</td>\n",
       "      <td>8</td>\n",
       "      <td>5</td>\n",
       "      <td>4</td>\n",
       "      <td>5</td>\n",
       "      <td>10</td>\n",
       "      <td>4</td>\n",
       "      <td>1</td>\n",
       "      <td>4</td>\n",
       "    </tr>\n",
       "  </tbody>\n",
       "</table>\n",
       "</div>"
      ],
      "text/plain": [
       "     Sample code number  Clump Thickness  ...  Mitoses  Class\n",
       "694              776715                3  ...        1      2\n",
       "695              841769                2  ...        1      2\n",
       "696              888820                5  ...        2      4\n",
       "697              897471                4  ...        1      4\n",
       "698              897471                4  ...        1      4\n",
       "\n",
       "[5 rows x 11 columns]"
      ]
     },
     "execution_count": 12,
     "metadata": {
      "tags": []
     },
     "output_type": "execute_result"
    }
   ],
   "source": [
    "datos.tail()"
   ]
  },
  {
   "cell_type": "markdown",
   "metadata": {
    "id": "JiDMGEsGpkqn"
   },
   "source": [
    "4. muestre las dimensiones del DF"
   ]
  },
  {
   "cell_type": "code",
   "execution_count": null,
   "metadata": {
    "colab": {
     "base_uri": "https://localhost:8080/"
    },
    "executionInfo": {
     "elapsed": 436,
     "status": "ok",
     "timestamp": 1618849498333,
     "user": {
      "displayName": "STIWARD JHERIKOF CARRILLO RAMIREZ",
      "photoUrl": "https://lh3.googleusercontent.com/a-/AOh14GjfzniVHGCh7d3_wtWDwsXC_iVN1kQfXdo12vF_cQ=s64",
      "userId": "14913105575458408419"
     },
     "user_tz": 300
    },
    "id": "ZhiPUTddpkqo",
    "outputId": "aa58b5d9-b0f8-460e-94cc-53a023f3704a"
   },
   "outputs": [
    {
     "data": {
      "text/plain": [
       "(699, 11)"
      ]
     },
     "execution_count": 14,
     "metadata": {
      "tags": []
     },
     "output_type": "execute_result"
    }
   ],
   "source": [
    "datos.shape"
   ]
  },
  {
   "cell_type": "markdown",
   "metadata": {
    "id": "N9jCDfx3pkqo"
   },
   "source": [
    "5. muestre las estadísticas del DataFrame"
   ]
  },
  {
   "cell_type": "code",
   "execution_count": null,
   "metadata": {
    "colab": {
     "base_uri": "https://localhost:8080/",
     "height": 314
    },
    "executionInfo": {
     "elapsed": 609,
     "status": "ok",
     "timestamp": 1618849554836,
     "user": {
      "displayName": "STIWARD JHERIKOF CARRILLO RAMIREZ",
      "photoUrl": "https://lh3.googleusercontent.com/a-/AOh14GjfzniVHGCh7d3_wtWDwsXC_iVN1kQfXdo12vF_cQ=s64",
      "userId": "14913105575458408419"
     },
     "user_tz": 300
    },
    "id": "63PMNzETpkqo",
    "outputId": "16c06a97-a0a6-4262-e0f7-5f25dcbe6c00"
   },
   "outputs": [
    {
     "data": {
      "text/html": [
       "<div>\n",
       "<style scoped>\n",
       "    .dataframe tbody tr th:only-of-type {\n",
       "        vertical-align: middle;\n",
       "    }\n",
       "\n",
       "    .dataframe tbody tr th {\n",
       "        vertical-align: top;\n",
       "    }\n",
       "\n",
       "    .dataframe thead th {\n",
       "        text-align: right;\n",
       "    }\n",
       "</style>\n",
       "<table border=\"1\" class=\"dataframe\">\n",
       "  <thead>\n",
       "    <tr style=\"text-align: right;\">\n",
       "      <th></th>\n",
       "      <th>Sample code number</th>\n",
       "      <th>Clump Thickness</th>\n",
       "      <th>Uniformity of Cell Size</th>\n",
       "      <th>Uniformity of Cell Shape</th>\n",
       "      <th>Marginal Adhesion</th>\n",
       "      <th>Single Epithelial Cell Size</th>\n",
       "      <th>Bland Chromatin</th>\n",
       "      <th>Normal Nucleoli</th>\n",
       "      <th>Mitoses</th>\n",
       "      <th>Class</th>\n",
       "    </tr>\n",
       "  </thead>\n",
       "  <tbody>\n",
       "    <tr>\n",
       "      <th>count</th>\n",
       "      <td>6.990000e+02</td>\n",
       "      <td>699.000000</td>\n",
       "      <td>699.000000</td>\n",
       "      <td>699.000000</td>\n",
       "      <td>699.000000</td>\n",
       "      <td>699.000000</td>\n",
       "      <td>699.000000</td>\n",
       "      <td>699.000000</td>\n",
       "      <td>699.000000</td>\n",
       "      <td>699.000000</td>\n",
       "    </tr>\n",
       "    <tr>\n",
       "      <th>mean</th>\n",
       "      <td>1.071704e+06</td>\n",
       "      <td>4.417740</td>\n",
       "      <td>3.134478</td>\n",
       "      <td>3.207439</td>\n",
       "      <td>2.806867</td>\n",
       "      <td>3.216023</td>\n",
       "      <td>3.437768</td>\n",
       "      <td>2.866953</td>\n",
       "      <td>1.589413</td>\n",
       "      <td>2.689557</td>\n",
       "    </tr>\n",
       "    <tr>\n",
       "      <th>std</th>\n",
       "      <td>6.170957e+05</td>\n",
       "      <td>2.815741</td>\n",
       "      <td>3.051459</td>\n",
       "      <td>2.971913</td>\n",
       "      <td>2.855379</td>\n",
       "      <td>2.214300</td>\n",
       "      <td>2.438364</td>\n",
       "      <td>3.053634</td>\n",
       "      <td>1.715078</td>\n",
       "      <td>0.951273</td>\n",
       "    </tr>\n",
       "    <tr>\n",
       "      <th>min</th>\n",
       "      <td>6.163400e+04</td>\n",
       "      <td>1.000000</td>\n",
       "      <td>1.000000</td>\n",
       "      <td>1.000000</td>\n",
       "      <td>1.000000</td>\n",
       "      <td>1.000000</td>\n",
       "      <td>1.000000</td>\n",
       "      <td>1.000000</td>\n",
       "      <td>1.000000</td>\n",
       "      <td>2.000000</td>\n",
       "    </tr>\n",
       "    <tr>\n",
       "      <th>25%</th>\n",
       "      <td>8.706885e+05</td>\n",
       "      <td>2.000000</td>\n",
       "      <td>1.000000</td>\n",
       "      <td>1.000000</td>\n",
       "      <td>1.000000</td>\n",
       "      <td>2.000000</td>\n",
       "      <td>2.000000</td>\n",
       "      <td>1.000000</td>\n",
       "      <td>1.000000</td>\n",
       "      <td>2.000000</td>\n",
       "    </tr>\n",
       "    <tr>\n",
       "      <th>50%</th>\n",
       "      <td>1.171710e+06</td>\n",
       "      <td>4.000000</td>\n",
       "      <td>1.000000</td>\n",
       "      <td>1.000000</td>\n",
       "      <td>1.000000</td>\n",
       "      <td>2.000000</td>\n",
       "      <td>3.000000</td>\n",
       "      <td>1.000000</td>\n",
       "      <td>1.000000</td>\n",
       "      <td>2.000000</td>\n",
       "    </tr>\n",
       "    <tr>\n",
       "      <th>75%</th>\n",
       "      <td>1.238298e+06</td>\n",
       "      <td>6.000000</td>\n",
       "      <td>5.000000</td>\n",
       "      <td>5.000000</td>\n",
       "      <td>4.000000</td>\n",
       "      <td>4.000000</td>\n",
       "      <td>5.000000</td>\n",
       "      <td>4.000000</td>\n",
       "      <td>1.000000</td>\n",
       "      <td>4.000000</td>\n",
       "    </tr>\n",
       "    <tr>\n",
       "      <th>max</th>\n",
       "      <td>1.345435e+07</td>\n",
       "      <td>10.000000</td>\n",
       "      <td>10.000000</td>\n",
       "      <td>10.000000</td>\n",
       "      <td>10.000000</td>\n",
       "      <td>10.000000</td>\n",
       "      <td>10.000000</td>\n",
       "      <td>10.000000</td>\n",
       "      <td>10.000000</td>\n",
       "      <td>4.000000</td>\n",
       "    </tr>\n",
       "  </tbody>\n",
       "</table>\n",
       "</div>"
      ],
      "text/plain": [
       "       Sample code number  Clump Thickness  ...     Mitoses       Class\n",
       "count        6.990000e+02       699.000000  ...  699.000000  699.000000\n",
       "mean         1.071704e+06         4.417740  ...    1.589413    2.689557\n",
       "std          6.170957e+05         2.815741  ...    1.715078    0.951273\n",
       "min          6.163400e+04         1.000000  ...    1.000000    2.000000\n",
       "25%          8.706885e+05         2.000000  ...    1.000000    2.000000\n",
       "50%          1.171710e+06         4.000000  ...    1.000000    2.000000\n",
       "75%          1.238298e+06         6.000000  ...    1.000000    4.000000\n",
       "max          1.345435e+07        10.000000  ...   10.000000    4.000000\n",
       "\n",
       "[8 rows x 10 columns]"
      ]
     },
     "execution_count": 16,
     "metadata": {
      "tags": []
     },
     "output_type": "execute_result"
    }
   ],
   "source": [
    "datos.describe()"
   ]
  },
  {
   "cell_type": "markdown",
   "metadata": {
    "id": "4QhjLzGDpkqo"
   },
   "source": [
    "6. muestre todas las columnas del DF"
   ]
  },
  {
   "cell_type": "code",
   "execution_count": null,
   "metadata": {
    "colab": {
     "base_uri": "https://localhost:8080/"
    },
    "executionInfo": {
     "elapsed": 428,
     "status": "ok",
     "timestamp": 1618849622909,
     "user": {
      "displayName": "STIWARD JHERIKOF CARRILLO RAMIREZ",
      "photoUrl": "https://lh3.googleusercontent.com/a-/AOh14GjfzniVHGCh7d3_wtWDwsXC_iVN1kQfXdo12vF_cQ=s64",
      "userId": "14913105575458408419"
     },
     "user_tz": 300
    },
    "id": "FDUUaCpEpkqo",
    "outputId": "1cbc713a-eef3-463e-8fb9-cf257aa36f55"
   },
   "outputs": [
    {
     "data": {
      "text/plain": [
       "Index(['Sample code number', 'Clump Thickness', 'Uniformity of Cell Size',\n",
       "       'Uniformity of Cell Shape', 'Marginal Adhesion',\n",
       "       'Single Epithelial Cell Size', 'Bare Nuclei', 'Bland Chromatin',\n",
       "       'Normal Nucleoli', 'Mitoses', 'Class'],\n",
       "      dtype='object')"
      ]
     },
     "execution_count": 18,
     "metadata": {
      "tags": []
     },
     "output_type": "execute_result"
    }
   ],
   "source": [
    "datos.columns"
   ]
  },
  {
   "cell_type": "markdown",
   "metadata": {
    "id": "9EzyaJcypkqo"
   },
   "source": [
    "7. Escribir el DF a un archivo tipo json llamado breast-cancer-wisconsin.data.json"
   ]
  },
  {
   "cell_type": "code",
   "execution_count": null,
   "metadata": {
    "colab": {
     "base_uri": "https://localhost:8080/",
     "height": 137
    },
    "executionInfo": {
     "elapsed": 505,
     "status": "ok",
     "timestamp": 1618849775710,
     "user": {
      "displayName": "STIWARD JHERIKOF CARRILLO RAMIREZ",
      "photoUrl": "https://lh3.googleusercontent.com/a-/AOh14GjfzniVHGCh7d3_wtWDwsXC_iVN1kQfXdo12vF_cQ=s64",
      "userId": "14913105575458408419"
     },
     "user_tz": 300
    },
    "id": "jyN_YjxBpkqp",
    "outputId": "96bed1f3-b609-4c08-9a61-01b72dc189e0"
   },
   "outputs": [
    {
     "data": {
      "application/vnd.google.colaboratory.intrinsic+json": {
       "type": "string"
      },
      "text/plain": [
       "'{\"Sample code number\":{\"0\":1000025,\"1\":1002945,\"2\":1015425,\"3\":1016277,\"4\":1017023,\"5\":1017122,\"6\":1018099,\"7\":1018561,\"8\":1033078,\"9\":1033078,\"10\":1035283,\"11\":1036172,\"12\":1041801,\"13\":1043999,\"14\":1044572,\"15\":1047630,\"16\":1048672,\"17\":1049815,\"18\":1050670,\"19\":1050718,\"20\":1054590,\"21\":1054593,\"22\":1056784,\"23\":1057013,\"24\":1059552,\"25\":1065726,\"26\":1066373,\"27\":1066979,\"28\":1067444,\"29\":1070935,\"30\":1070935,\"31\":1071760,\"32\":1072179,\"33\":1074610,\"34\":1075123,\"35\":1079304,\"36\":1080185,\"37\":1081791,\"38\":1084584,\"39\":1091262,\"40\":1096800,\"41\":1099510,\"42\":1100524,\"43\":1102573,\"44\":1103608,\"45\":1103722,\"46\":1105257,\"47\":1105524,\"48\":1106095,\"49\":1106829,\"50\":1108370,\"51\":1108449,\"52\":1110102,\"53\":1110503,\"54\":1110524,\"55\":1111249,\"56\":1112209,\"57\":1113038,\"58\":1113483,\"59\":1113906,\"60\":1115282,\"61\":1115293,\"62\":1116116,\"63\":1116132,\"64\":1116192,\"65\":1116998,\"66\":1117152,\"67\":1118039,\"68\":1120559,\"69\":1121732,\"70\":1121919,\"71\":1123061,\"72\":1124651,\"73\":1125035,\"74\":1126417,\"75\":1131294,\"76\":1132347,\"77\":1133041,\"78\":1133136,\"79\":1136142,\"80\":1137156,\"81\":1143978,\"82\":1143978,\"83\":1147044,\"84\":1147699,\"85\":1147748,\"86\":1148278,\"87\":1148873,\"88\":1152331,\"89\":1155546,\"90\":1156272,\"91\":1156948,\"92\":1157734,\"93\":1158247,\"94\":1160476,\"95\":1164066,\"96\":1165297,\"97\":1165790,\"98\":1165926,\"99\":1166630,\"100\":1166654,\"101\":1167439,\"102\":1167471,\"103\":1168359,\"104\":1168736,\"105\":1169049,\"106\":1170419,\"107\":1170420,\"108\":1171710,\"109\":1171710,\"110\":1171795,\"111\":1171845,\"112\":1172152,\"113\":1173216,\"114\":1173235,\"115\":1173347,\"116\":1173347,\"117\":1173509,\"118\":1173514,\"119\":1173681,\"120\":1174057,\"121\":1174057,\"122\":1174131,\"123\":1174428,\"124\":1175937,\"125\":1176406,\"126\":1176881,\"127\":1177027,\"128\":1177399,\"129\":1177512,\"130\":1178580,\"131\":1179818,\"132\":1180194,\"133\":1180523,\"134\":1180831,\"135\":1181356,\"136\":1182404,\"137\":1182410,\"138\":1183240,\"139\":1183246,\"140\":1183516,\"141\":1183911,\"142\":1183983,\"143\":1184184,\"144\":1184241,\"145\":1184840,\"146\":1185609,\"147\":1185610,\"148\":1187457,\"149\":1187805,\"150\":1188472,\"151\":1189266,\"152\":1189286,\"153\":1190394,\"154\":1190485,\"155\":1192325,\"156\":1193091,\"157\":1193210,\"158\":1193683,\"159\":1196295,\"160\":1196915,\"161\":1197080,\"162\":1197270,\"163\":1197440,\"164\":1197510,\"165\":1197979,\"166\":1197993,\"167\":1198128,\"168\":1198641,\"169\":1199219,\"170\":1199731,\"171\":1199983,\"172\":1200772,\"173\":1200847,\"174\":1200892,\"175\":1200952,\"176\":1201834,\"177\":1201936,\"178\":1202125,\"179\":1202812,\"180\":1203096,\"181\":1204242,\"182\":1204898,\"183\":1205138,\"184\":1205579,\"185\":1206089,\"186\":1206695,\"187\":1206841,\"188\":1207986,\"189\":1208301,\"190\":1210963,\"191\":1211202,\"192\":1212232,\"193\":1212251,\"194\":1212422,\"195\":1212422,\"196\":1213375,\"197\":1213383,\"198\":1214092,\"199\":1214556,\"200\":1214966,\"201\":1216694,\"202\":1216947,\"203\":1217051,\"204\":1217264,\"205\":1218105,\"206\":1218741,\"207\":1218860,\"208\":1218860,\"209\":1219406,\"210\":1219525,\"211\":1219859,\"212\":1220330,\"213\":1221863,\"214\":1222047,\"215\":1222936,\"216\":1223282,\"217\":1223426,\"218\":1223793,\"219\":1223967,\"220\":1224329,\"221\":1225799,\"222\":1226012,\"223\":1226612,\"224\":1227210,\"225\":1227244,\"226\":1227481,\"227\":1228152,\"228\":1228311,\"229\":1230175,\"230\":1230688,\"231\":1231387,\"232\":1231706,\"233\":1232225,\"234\":1236043,\"235\":1241232,\"236\":1241559,\"237\":1241679,\"238\":1242364,\"239\":1243256,\"240\":1270479,\"241\":1276091,\"242\":1277018,\"243\":128059,\"244\":1285531,\"245\":1287775,\"246\":144888,\"247\":145447,\"248\":167528,\"249\":169356,\"250\":183913,\"251\":191250,\"252\":1017023,\"253\":1100524,\"254\":1116116,\"255\":1168736,\"256\":1182404,\"257\":1182404,\"258\":1198641,\"259\":242970,\"260\":255644,\"261\":263538,\"262\":274137,\"263\":303213,\"264\":314428,\"265\":1182404,\"266\":1198641,\"267\":320675,\"268\":324427,\"269\":385103,\"270\":390840,\"271\":411453,\"272\":320675,\"273\":428903,\"274\":431495,\"275\":432809,\"276\":434518,\"277\":452264,\"278\":456282,\"279\":476903,\"280\":486283,\"281\":486662,\"282\":488173,\"283\":492268,\"284\":508234,\"285\":527363,\"286\":529329,\"287\":535331,\"288\":543558,\"289\":555977,\"290\":560680,\"291\":561477,\"292\":563649,\"293\":601265,\"294\":606140,\"295\":606722,\"296\":616240,\"297\":61634,\"298\":625201,\"299\":63375,\"300\":635844,\"301\":636130,\"302\":640744,\"303\":646904,\"304\":653777,\"305\":659642,\"306\":666090,\"307\":666942,\"308\":667204,\"309\":673637,\"310\":684955,\"311\":688033,\"312\":691628,\"313\":693702,\"314\":704097,\"315\":704168,\"316\":706426,\"317\":709287,\"318\":718641,\"319\":721482,\"320\":730881,\"321\":733639,\"322\":733639,\"323\":733823,\"324\":740492,\"325\":743348,\"326\":752904,\"327\":756136,\"328\":760001,\"329\":760239,\"330\":76389,\"331\":764974,\"332\":770066,\"333\":785208,\"334\":785615,\"335\":792744,\"336\":797327,\"337\":798429,\"338\":704097,\"339\":806423,\"340\":809912,\"341\":810104,\"342\":814265,\"343\":814911,\"344\":822829,\"345\":826923,\"346\":830690,\"347\":831268,\"348\":832226,\"349\":832567,\"350\":836433,\"351\":837082,\"352\":846832,\"353\":850831,\"354\":855524,\"355\":857774,\"356\":859164,\"357\":859350,\"358\":866325,\"359\":873549,\"360\":877291,\"361\":877943,\"362\":888169,\"363\":888523,\"364\":896404,\"365\":897172,\"366\":95719,\"367\":160296,\"368\":342245,\"369\":428598,\"370\":492561,\"371\":493452,\"372\":493452,\"373\":521441,\"374\":560680,\"375\":636437,\"376\":640712,\"377\":654244,\"378\":657753,\"379\":685977,\"380\":805448,\"381\":846423,\"382\":1002504,\"383\":1022257,\"384\":1026122,\"385\":1071084,\"386\":1080233,\"387\":1114570,\"388\":1114570,\"389\":1116715,\"390\":1131411,\"391\":1151734,\"392\":1156017,\"393\":1158247,\"394\":1158405,\"395\":1168278,\"396\":1176187,\"397\":1196263,\"398\":1196475,\"399\":1206314,\"400\":1211265,\"401\":1213784,\"402\":1223003,\"403\":1223306,\"404\":1223543,\"405\":1229929,\"406\":1231853,\"407\":1234554,\"408\":1236837,\"409\":1237674,\"410\":1238021,\"411\":1238464,\"412\":1238633,\"413\":1238915,\"414\":1238948,\"415\":1239232,\"416\":1239347,\"417\":1239967,\"418\":1240337,\"419\":1253505,\"420\":1255384,\"421\":1257200,\"422\":1257648,\"423\":1257815,\"424\":1257938,\"425\":1258549,\"426\":1258556,\"427\":1266154,\"428\":1272039,\"429\":1276091,\"430\":1276091,\"431\":1276091,\"432\":1277629,\"433\":1293439,\"434\":1293439,\"435\":1294562,\"436\":1295186,\"437\":527337,\"438\":558538,\"439\":566509,\"440\":608157,\"441\":677910,\"442\":734111,\"443\":734111,\"444\":780555,\"445\":827627,\"446\":1049837,\"447\":1058849,\"448\":1182404,\"449\":1193544,\"450\":1201870,\"451\":1202253,\"452\":1227081,\"453\":1230994,\"454\":1238410,\"455\":1246562,\"456\":1257470,\"457\":1259008,\"458\":1266124,\"459\":1267898,\"460\":1268313,\"461\":1268804,\"462\":1276091,\"463\":1280258,\"464\":1293966,\"465\":1296572,\"466\":1298416,\"467\":1299596,\"468\":1105524,\"469\":1181685,\"470\":1211594,\"471\":1238777,\"472\":1257608,\"473\":1269574,\"474\":1277145,\"475\":1287282,\"476\":1296025,\"477\":1296263,\"478\":1296593,\"479\":1299161,\"480\":1301945,\"481\":1302428,\"482\":1318169,\"483\":474162,\"484\":787451,\"485\":1002025,\"486\":1070522,\"487\":1073960,\"488\":1076352,\"489\":1084139,\"490\":1115293,\"491\":1119189,\"492\":1133991,\"493\":1142706,\"494\":1155967,\"495\":1170945,\"496\":1181567,\"497\":1182404,\"498\":1204558,\"499\":1217952,\"500\":1224565,\"501\":1238186,\"502\":1253917,\"503\":1265899,\"504\":1268766,\"505\":1277268,\"506\":1286943,\"507\":1295508,\"508\":1297327,\"509\":1297522,\"510\":1298360,\"511\":1299924,\"512\":1299994,\"513\":1304595,\"514\":1306282,\"515\":1313325,\"516\":1320077,\"517\":1320077,\"518\":1320304,\"519\":1330439,\"520\":333093,\"521\":369565,\"522\":412300,\"523\":672113,\"524\":749653,\"525\":769612,\"526\":769612,\"527\":798429,\"528\":807657,\"529\":8233704,\"530\":837480,\"531\":867392,\"532\":869828,\"533\":1043068,\"534\":1056171,\"535\":1061990,\"536\":1113061,\"537\":1116192,\"538\":1135090,\"539\":1145420,\"540\":1158157,\"541\":1171578,\"542\":1174841,\"543\":1184586,\"544\":1186936,\"545\":1197527,\"546\":1222464,\"547\":1240603,\"548\":1240603,\"549\":1241035,\"550\":1287971,\"551\":1289391,\"552\":1299924,\"553\":1306339,\"554\":1313658,\"555\":1313982,\"556\":1321264,\"557\":1321321,\"558\":1321348,\"559\":1321931,\"560\":1321942,\"561\":1321942,\"562\":1328331,\"563\":1328755,\"564\":1331405,\"565\":1331412,\"566\":1333104,\"567\":1334071,\"568\":1343068,\"569\":1343374,\"570\":1344121,\"571\":142932,\"572\":183936,\"573\":324382,\"574\":378275,\"575\":385103,\"576\":690557,\"577\":695091,\"578\":695219,\"579\":824249,\"580\":871549,\"581\":878358,\"582\":1107684,\"583\":1115762,\"584\":1217717,\"585\":1239420,\"586\":1254538,\"587\":1261751,\"588\":1268275,\"589\":1272166,\"590\":1294261,\"591\":1295529,\"592\":1298484,\"593\":1311875,\"594\":1315506,\"595\":1320141,\"596\":1325309,\"597\":1333063,\"598\":1333495,\"599\":1334659,\"600\":1336798,\"601\":1344449,\"602\":1350568,\"603\":1352663,\"604\":188336,\"605\":352431,\"606\":353098,\"607\":411453,\"608\":557583,\"609\":636375,\"610\":736150,\"611\":803531,\"612\":822829,\"613\":1016634,\"614\":1031608,\"615\":1041043,\"616\":1042252,\"617\":1057067,\"618\":1061990,\"619\":1073836,\"620\":1083817,\"621\":1096352,\"622\":1140597,\"623\":1149548,\"624\":1174009,\"625\":1183596,\"626\":1190386,\"627\":1190546,\"628\":1213273,\"629\":1218982,\"630\":1225382,\"631\":1235807,\"632\":1238777,\"633\":1253955,\"634\":1257366,\"635\":1260659,\"636\":1268952,\"637\":1275807,\"638\":1277792,\"639\":1277792,\"640\":1285722,\"641\":1288608,\"642\":1290203,\"643\":1294413,\"644\":1299596,\"645\":1303489,\"646\":1311033,\"647\":1311108,\"648\":1315807,\"649\":1318671,\"650\":1319609,\"651\":1323477,\"652\":1324572,\"653\":1324681,\"654\":1325159,\"655\":1326892,\"656\":1330361,\"657\":1333877,\"658\":1334015,\"659\":1334667,\"660\":1339781,\"661\":1339781,\"662\":13454352,\"663\":1345452,\"664\":1345593,\"665\":1347749,\"666\":1347943,\"667\":1348851,\"668\":1350319,\"669\":1350423,\"670\":1352848,\"671\":1353092,\"672\":1354840,\"673\":1354840,\"674\":1355260,\"675\":1365075,\"676\":1365328,\"677\":1368267,\"678\":1368273,\"679\":1368882,\"680\":1369821,\"681\":1371026,\"682\":1371920,\"683\":466906,\"684\":466906,\"685\":534555,\"686\":536708,\"687\":566346,\"688\":603148,\"689\":654546,\"690\":654546,\"691\":695091,\"692\":714039,\"693\":763235,\"694\":776715,\"695\":841769,\"696\":888820,\"697\":897471,\"698\":897471},\"Clump Thickness\":{\"0\":5,\"1\":5,\"2\":3,\"3\":6,\"4\":4,\"5\":8,\"6\":1,\"7\":2,\"8\":2,\"9\":4,\"10\":1,\"11\":2,\"12\":5,\"13\":1,\"14\":8,\"15\":7,\"16\":4,\"17\":4,\"18\":10,\"19\":6,\"20\":7,\"21\":10,\"22\":3,\"23\":8,\"24\":1,\"25\":5,\"26\":3,\"27\":5,\"28\":2,\"29\":1,\"30\":3,\"31\":2,\"32\":10,\"33\":2,\"34\":3,\"35\":2,\"36\":10,\"37\":6,\"38\":5,\"39\":2,\"40\":6,\"41\":10,\"42\":6,\"43\":5,\"44\":10,\"45\":1,\"46\":3,\"47\":1,\"48\":4,\"49\":7,\"50\":9,\"51\":5,\"52\":10,\"53\":5,\"54\":10,\"55\":10,\"56\":8,\"57\":8,\"58\":5,\"59\":9,\"60\":5,\"61\":1,\"62\":9,\"63\":6,\"64\":1,\"65\":10,\"66\":4,\"67\":5,\"68\":8,\"69\":1,\"70\":5,\"71\":6,\"72\":1,\"73\":9,\"74\":10,\"75\":1,\"76\":1,\"77\":5,\"78\":3,\"79\":2,\"80\":2,\"81\":4,\"82\":5,\"83\":3,\"84\":3,\"85\":5,\"86\":3,\"87\":3,\"88\":4,\"89\":2,\"90\":1,\"91\":3,\"92\":4,\"93\":1,\"94\":2,\"95\":1,\"96\":2,\"97\":5,\"98\":9,\"99\":7,\"100\":10,\"101\":2,\"102\":4,\"103\":8,\"104\":10,\"105\":7,\"106\":10,\"107\":1,\"108\":1,\"109\":6,\"110\":1,\"111\":8,\"112\":10,\"113\":10,\"114\":3,\"115\":1,\"116\":8,\"117\":4,\"118\":1,\"119\":3,\"120\":1,\"121\":4,\"122\":10,\"123\":5,\"124\":5,\"125\":1,\"126\":7,\"127\":3,\"128\":8,\"129\":1,\"130\":5,\"131\":2,\"132\":5,\"133\":3,\"134\":3,\"135\":5,\"136\":4,\"137\":3,\"138\":4,\"139\":1,\"140\":3,\"141\":2,\"142\":9,\"143\":1,\"144\":2,\"145\":1,\"146\":3,\"147\":1,\"148\":3,\"149\":8,\"150\":1,\"151\":7,\"152\":10,\"153\":4,\"154\":1,\"155\":5,\"156\":1,\"157\":2,\"158\":1,\"159\":9,\"160\":10,\"161\":4,\"162\":3,\"163\":1,\"164\":5,\"165\":4,\"166\":5,\"167\":10,\"168\":3,\"169\":1,\"170\":3,\"171\":1,\"172\":1,\"173\":6,\"174\":8,\"175\":5,\"176\":2,\"177\":5,\"178\":4,\"179\":5,\"180\":1,\"181\":1,\"182\":6,\"183\":5,\"184\":8,\"185\":2,\"186\":1,\"187\":10,\"188\":5,\"189\":1,\"190\":10,\"191\":7,\"192\":5,\"193\":1,\"194\":3,\"195\":4,\"196\":8,\"197\":5,\"198\":1,\"199\":3,\"200\":9,\"201\":10,\"202\":1,\"203\":5,\"204\":1,\"205\":5,\"206\":10,\"207\":1,\"208\":1,\"209\":5,\"210\":8,\"211\":8,\"212\":1,\"213\":10,\"214\":10,\"215\":8,\"216\":1,\"217\":1,\"218\":6,\"219\":6,\"220\":1,\"221\":10,\"222\":4,\"223\":7,\"224\":10,\"225\":1,\"226\":10,\"227\":8,\"228\":1,\"229\":10,\"230\":7,\"231\":6,\"232\":8,\"233\":10,\"234\":3,\"235\":3,\"236\":10,\"237\":9,\"238\":8,\"239\":10,\"240\":5,\"241\":3,\"242\":2,\"243\":1,\"244\":1,\"245\":5,\"246\":8,\"247\":8,\"248\":4,\"249\":3,\"250\":1,\"251\":10,\"252\":6,\"253\":6,\"254\":9,\"255\":5,\"256\":3,\"257\":3,\"258\":3,\"259\":5,\"260\":10,\"261\":5,\"262\":8,\"263\":10,\"264\":7,\"265\":5,\"266\":10,\"267\":3,\"268\":10,\"269\":1,\"270\":8,\"271\":5,\"272\":3,\"273\":7,\"274\":3,\"275\":3,\"276\":3,\"277\":1,\"278\":1,\"279\":10,\"280\":3,\"281\":2,\"282\":1,\"283\":10,\"284\":7,\"285\":8,\"286\":10,\"287\":3,\"288\":6,\"289\":5,\"290\":1,\"291\":1,\"292\":8,\"293\":10,\"294\":1,\"295\":5,\"296\":5,\"297\":5,\"298\":8,\"299\":9,\"300\":8,\"301\":1,\"302\":10,\"303\":1,\"304\":8,\"305\":10,\"306\":1,\"307\":1,\"308\":7,\"309\":3,\"310\":2,\"311\":1,\"312\":8,\"313\":1,\"314\":1,\"315\":4,\"316\":5,\"317\":6,\"318\":1,\"319\":4,\"320\":7,\"321\":3,\"322\":3,\"323\":5,\"324\":1,\"325\":3,\"326\":10,\"327\":1,\"328\":8,\"329\":10,\"330\":10,\"331\":5,\"332\":5,\"333\":5,\"334\":8,\"335\":1,\"336\":6,\"337\":1,\"338\":1,\"339\":8,\"340\":10,\"341\":1,\"342\":2,\"343\":1,\"344\":7,\"345\":1,\"346\":5,\"347\":1,\"348\":3,\"349\":4,\"350\":5,\"351\":2,\"352\":3,\"353\":2,\"354\":1,\"355\":4,\"356\":5,\"357\":8,\"358\":8,\"359\":10,\"360\":6,\"361\":3,\"362\":3,\"363\":4,\"364\":2,\"365\":2,\"366\":6,\"367\":5,\"368\":1,\"369\":1,\"370\":4,\"371\":1,\"372\":4,\"373\":5,\"374\":3,\"375\":1,\"376\":1,\"377\":1,\"378\":3,\"379\":5,\"380\":1,\"381\":10,\"382\":3,\"383\":2,\"384\":2,\"385\":3,\"386\":7,\"387\":5,\"388\":2,\"389\":5,\"390\":1,\"391\":10,\"392\":3,\"393\":1,\"394\":1,\"395\":3,\"396\":3,\"397\":4,\"398\":3,\"399\":1,\"400\":3,\"401\":3,\"402\":5,\"403\":3,\"404\":1,\"405\":1,\"406\":4,\"407\":1,\"408\":2,\"409\":3,\"410\":1,\"411\":1,\"412\":10,\"413\":5,\"414\":8,\"415\":3,\"416\":8,\"417\":1,\"418\":5,\"419\":2,\"420\":3,\"421\":10,\"422\":4,\"423\":5,\"424\":3,\"425\":9,\"426\":5,\"427\":8,\"428\":1,\"429\":2,\"430\":1,\"431\":5,\"432\":5,\"433\":3,\"434\":6,\"435\":10,\"436\":10,\"437\":4,\"438\":4,\"439\":5,\"440\":10,\"441\":5,\"442\":1,\"443\":1,\"444\":5,\"445\":2,\"446\":1,\"447\":5,\"448\":1,\"449\":5,\"450\":4,\"451\":5,\"452\":3,\"453\":4,\"454\":2,\"455\":10,\"456\":10,\"457\":8,\"458\":5,\"459\":5,\"460\":5,\"461\":3,\"462\":6,\"463\":4,\"464\":4,\"465\":10,\"466\":10,\"467\":6,\"468\":4,\"469\":1,\"470\":3,\"471\":6,\"472\":6,\"473\":4,\"474\":5,\"475\":3,\"476\":4,\"477\":4,\"478\":5,\"479\":4,\"480\":5,\"481\":5,\"482\":9,\"483\":8,\"484\":5,\"485\":1,\"486\":3,\"487\":10,\"488\":3,\"489\":6,\"490\":1,\"491\":5,\"492\":4,\"493\":5,\"494\":5,\"495\":3,\"496\":1,\"497\":4,\"498\":4,\"499\":4,\"500\":6,\"501\":4,\"502\":4,\"503\":4,\"504\":1,\"505\":3,\"506\":8,\"507\":1,\"508\":5,\"509\":2,\"510\":1,\"511\":5,\"512\":5,\"513\":3,\"514\":6,\"515\":4,\"516\":1,\"517\":1,\"518\":3,\"519\":4,\"520\":1,\"521\":4,\"522\":10,\"523\":7,\"524\":3,\"525\":3,\"526\":4,\"527\":4,\"528\":6,\"529\":4,\"530\":7,\"531\":4,\"532\":1,\"533\":3,\"534\":2,\"535\":1,\"536\":5,\"537\":5,\"538\":4,\"539\":6,\"540\":5,\"541\":3,\"542\":5,\"543\":4,\"544\":2,\"545\":5,\"546\":6,\"547\":2,\"548\":3,\"549\":7,\"550\":3,\"551\":1,\"552\":3,\"553\":4,\"554\":3,\"555\":4,\"556\":5,\"557\":5,\"558\":2,\"559\":5,\"560\":5,\"561\":5,\"562\":1,\"563\":3,\"564\":4,\"565\":5,\"566\":3,\"567\":4,\"568\":8,\"569\":10,\"570\":8,\"571\":7,\"572\":3,\"573\":1,\"574\":10,\"575\":5,\"576\":5,\"577\":1,\"578\":1,\"579\":1,\"580\":5,\"581\":5,\"582\":6,\"583\":3,\"584\":5,\"585\":1,\"586\":8,\"587\":5,\"588\":9,\"589\":5,\"590\":4,\"591\":2,\"592\":10,\"593\":5,\"594\":4,\"595\":5,\"596\":4,\"597\":5,\"598\":3,\"599\":5,\"600\":3,\"601\":1,\"602\":4,\"603\":5,\"604\":5,\"605\":10,\"606\":4,\"607\":1,\"608\":5,\"609\":5,\"610\":10,\"611\":5,\"612\":8,\"613\":2,\"614\":2,\"615\":4,\"616\":3,\"617\":1,\"618\":4,\"619\":5,\"620\":3,\"621\":6,\"622\":7,\"623\":1,\"624\":5,\"625\":3,\"626\":4,\"627\":2,\"628\":2,\"629\":4,\"630\":6,\"631\":5,\"632\":1,\"633\":8,\"634\":3,\"635\":3,\"636\":10,\"637\":4,\"638\":4,\"639\":5,\"640\":4,\"641\":3,\"642\":3,\"643\":1,\"644\":2,\"645\":3,\"646\":1,\"647\":1,\"648\":5,\"649\":3,\"650\":3,\"651\":1,\"652\":5,\"653\":4,\"654\":3,\"655\":3,\"656\":5,\"657\":5,\"658\":7,\"659\":1,\"660\":1,\"661\":4,\"662\":1,\"663\":1,\"664\":3,\"665\":1,\"666\":5,\"667\":3,\"668\":5,\"669\":5,\"670\":3,\"671\":3,\"672\":2,\"673\":5,\"674\":1,\"675\":4,\"676\":1,\"677\":5,\"678\":1,\"679\":2,\"680\":10,\"681\":5,\"682\":5,\"683\":1,\"684\":1,\"685\":1,\"686\":1,\"687\":3,\"688\":4,\"689\":1,\"690\":1,\"691\":5,\"692\":3,\"693\":3,\"694\":3,\"695\":2,\"696\":5,\"697\":4,\"698\":4},\"Uniformity of Cell Size\":{\"0\":1,\"1\":4,\"2\":1,\"3\":8,\"4\":1,\"5\":10,\"6\":1,\"7\":1,\"8\":1,\"9\":2,\"10\":1,\"11\":1,\"12\":3,\"13\":1,\"14\":7,\"15\":4,\"16\":1,\"17\":1,\"18\":7,\"19\":1,\"20\":3,\"21\":5,\"22\":1,\"23\":4,\"24\":1,\"25\":2,\"26\":2,\"27\":1,\"28\":1,\"29\":1,\"30\":1,\"31\":1,\"32\":7,\"33\":1,\"34\":1,\"35\":1,\"36\":10,\"37\":2,\"38\":4,\"39\":5,\"40\":6,\"41\":4,\"42\":10,\"43\":6,\"44\":10,\"45\":1,\"46\":7,\"47\":1,\"48\":1,\"49\":8,\"50\":5,\"51\":3,\"52\":3,\"53\":5,\"54\":5,\"55\":6,\"56\":10,\"57\":2,\"58\":2,\"59\":5,\"60\":3,\"61\":1,\"62\":10,\"63\":3,\"64\":1,\"65\":4,\"66\":1,\"67\":3,\"68\":3,\"69\":1,\"70\":1,\"71\":10,\"72\":3,\"73\":4,\"74\":6,\"75\":1,\"76\":1,\"77\":3,\"78\":1,\"79\":1,\"80\":2,\"81\":1,\"82\":2,\"83\":1,\"84\":5,\"85\":10,\"86\":3,\"87\":6,\"88\":1,\"89\":1,\"90\":1,\"91\":1,\"92\":1,\"93\":1,\"94\":1,\"95\":1,\"96\":1,\"97\":1,\"98\":6,\"99\":5,\"100\":3,\"101\":3,\"102\":1,\"103\":2,\"104\":10,\"105\":3,\"106\":10,\"107\":6,\"108\":1,\"109\":5,\"110\":3,\"111\":6,\"112\":3,\"113\":10,\"114\":3,\"115\":1,\"116\":3,\"117\":5,\"118\":1,\"119\":2,\"120\":1,\"121\":2,\"122\":10,\"123\":3,\"124\":4,\"125\":1,\"126\":5,\"127\":1,\"128\":3,\"129\":1,\"130\":1,\"131\":1,\"132\":10,\"133\":1,\"134\":1,\"135\":1,\"136\":1,\"137\":1,\"138\":1,\"139\":1,\"140\":1,\"141\":1,\"142\":5,\"143\":1,\"144\":1,\"145\":1,\"146\":4,\"147\":1,\"148\":1,\"149\":8,\"150\":1,\"151\":2,\"152\":10,\"153\":1,\"154\":1,\"155\":5,\"156\":2,\"157\":1,\"158\":1,\"159\":9,\"160\":7,\"161\":1,\"162\":1,\"163\":1,\"164\":1,\"165\":1,\"166\":6,\"167\":8,\"168\":1,\"169\":1,\"170\":1,\"171\":1,\"172\":1,\"173\":10,\"174\":6,\"175\":8,\"176\":1,\"177\":10,\"178\":1,\"179\":3,\"180\":1,\"181\":1,\"182\":1,\"183\":8,\"184\":7,\"185\":1,\"186\":5,\"187\":5,\"188\":8,\"189\":2,\"190\":10,\"191\":5,\"192\":1,\"193\":1,\"194\":1,\"195\":1,\"196\":4,\"197\":1,\"198\":1,\"199\":1,\"200\":7,\"201\":8,\"202\":1,\"203\":1,\"204\":1,\"205\":10,\"206\":10,\"207\":1,\"208\":1,\"209\":1,\"210\":10,\"211\":10,\"212\":1,\"213\":10,\"214\":10,\"215\":7,\"216\":1,\"217\":1,\"218\":10,\"219\":1,\"220\":1,\"221\":6,\"222\":1,\"223\":5,\"224\":5,\"225\":1,\"226\":5,\"227\":9,\"228\":1,\"229\":10,\"230\":4,\"231\":8,\"232\":4,\"233\":4,\"234\":3,\"235\":1,\"236\":8,\"237\":8,\"238\":10,\"239\":4,\"240\":1,\"241\":1,\"242\":1,\"243\":1,\"244\":1,\"245\":1,\"246\":10,\"247\":4,\"248\":1,\"249\":1,\"250\":2,\"251\":4,\"252\":3,\"253\":10,\"254\":10,\"255\":6,\"256\":1,\"257\":1,\"258\":1,\"259\":7,\"260\":5,\"261\":10,\"262\":8,\"263\":4,\"264\":9,\"265\":1,\"266\":10,\"267\":3,\"268\":8,\"269\":1,\"270\":4,\"271\":1,\"272\":3,\"273\":2,\"274\":1,\"275\":1,\"276\":1,\"277\":1,\"278\":1,\"279\":5,\"280\":1,\"281\":1,\"282\":4,\"283\":4,\"284\":4,\"285\":10,\"286\":10,\"287\":1,\"288\":1,\"289\":6,\"290\":1,\"291\":1,\"292\":8,\"293\":4,\"294\":1,\"295\":5,\"296\":3,\"297\":4,\"298\":2,\"299\":1,\"300\":4,\"301\":1,\"302\":10,\"303\":1,\"304\":3,\"305\":8,\"306\":1,\"307\":1,\"308\":8,\"309\":1,\"310\":1,\"311\":1,\"312\":6,\"313\":1,\"314\":1,\"315\":6,\"316\":5,\"317\":8,\"318\":1,\"319\":4,\"320\":6,\"321\":1,\"322\":1,\"323\":4,\"324\":1,\"325\":2,\"326\":1,\"327\":1,\"328\":10,\"329\":4,\"330\":4,\"331\":1,\"332\":2,\"333\":4,\"334\":6,\"335\":1,\"336\":5,\"337\":1,\"338\":1,\"339\":5,\"340\":3,\"341\":1,\"342\":1,\"343\":1,\"344\":6,\"345\":1,\"346\":2,\"347\":1,\"348\":4,\"349\":2,\"350\":1,\"351\":1,\"352\":4,\"353\":7,\"354\":1,\"355\":1,\"356\":3,\"357\":10,\"358\":10,\"359\":3,\"360\":10,\"361\":10,\"362\":2,\"363\":4,\"364\":1,\"365\":1,\"366\":10,\"367\":8,\"368\":1,\"369\":1,\"370\":3,\"371\":1,\"372\":1,\"373\":1,\"374\":1,\"375\":1,\"376\":1,\"377\":1,\"378\":1,\"379\":3,\"380\":1,\"381\":6,\"382\":2,\"383\":1,\"384\":1,\"385\":3,\"386\":6,\"387\":3,\"388\":1,\"389\":1,\"390\":1,\"391\":8,\"392\":1,\"393\":1,\"394\":2,\"395\":1,\"396\":1,\"397\":1,\"398\":2,\"399\":2,\"400\":10,\"401\":1,\"402\":3,\"403\":1,\"404\":2,\"405\":1,\"406\":2,\"407\":1,\"408\":3,\"409\":1,\"410\":1,\"411\":1,\"412\":10,\"413\":1,\"414\":5,\"415\":3,\"416\":7,\"417\":1,\"418\":2,\"419\":3,\"420\":2,\"421\":10,\"422\":3,\"423\":1,\"424\":1,\"425\":10,\"426\":3,\"427\":7,\"428\":1,\"429\":1,\"430\":3,\"431\":1,\"432\":1,\"433\":2,\"434\":9,\"435\":8,\"436\":10,\"437\":1,\"438\":1,\"439\":1,\"440\":4,\"441\":2,\"442\":1,\"443\":1,\"444\":1,\"445\":1,\"446\":1,\"447\":1,\"448\":1,\"449\":7,\"450\":1,\"451\":1,\"452\":1,\"453\":5,\"454\":3,\"455\":2,\"456\":6,\"457\":8,\"458\":1,\"459\":1,\"460\":1,\"461\":1,\"462\":1,\"463\":1,\"464\":1,\"465\":9,\"466\":6,\"467\":6,\"468\":1,\"469\":1,\"470\":1,\"471\":1,\"472\":1,\"473\":1,\"474\":1,\"475\":1,\"476\":1,\"477\":1,\"478\":2,\"479\":8,\"480\":1,\"481\":3,\"482\":10,\"483\":7,\"484\":1,\"485\":1,\"486\":1,\"487\":10,\"488\":6,\"489\":3,\"490\":1,\"491\":8,\"492\":1,\"493\":10,\"494\":1,\"495\":1,\"496\":1,\"497\":2,\"498\":1,\"499\":1,\"500\":1,\"501\":1,\"502\":1,\"503\":1,\"504\":1,\"505\":3,\"506\":10,\"507\":1,\"508\":1,\"509\":1,\"510\":1,\"511\":1,\"512\":1,\"513\":1,\"514\":6,\"515\":10,\"516\":1,\"517\":1,\"518\":1,\"519\":7,\"520\":1,\"521\":1,\"522\":4,\"523\":5,\"524\":1,\"525\":1,\"526\":1,\"527\":1,\"528\":1,\"529\":1,\"530\":4,\"531\":2,\"532\":1,\"533\":1,\"534\":1,\"535\":1,\"536\":1,\"537\":1,\"538\":1,\"539\":1,\"540\":1,\"541\":1,\"542\":3,\"543\":1,\"544\":1,\"545\":1,\"546\":10,\"547\":1,\"548\":1,\"549\":8,\"550\":1,\"551\":1,\"552\":2,\"553\":4,\"554\":1,\"555\":3,\"556\":2,\"557\":1,\"558\":1,\"559\":1,\"560\":1,\"561\":1,\"562\":1,\"563\":1,\"564\":1,\"565\":7,\"566\":1,\"567\":1,\"568\":4,\"569\":10,\"570\":10,\"571\":6,\"572\":1,\"573\":1,\"574\":9,\"575\":1,\"576\":1,\"577\":1,\"578\":1,\"579\":1,\"580\":1,\"581\":7,\"582\":10,\"583\":1,\"584\":1,\"585\":1,\"586\":10,\"587\":1,\"588\":8,\"589\":1,\"590\":10,\"591\":5,\"592\":3,\"593\":1,\"594\":8,\"595\":1,\"596\":1,\"597\":1,\"598\":1,\"599\":2,\"600\":1,\"601\":1,\"602\":1,\"603\":4,\"604\":3,\"605\":5,\"606\":1,\"607\":1,\"608\":10,\"609\":1,\"610\":4,\"611\":10,\"612\":10,\"613\":3,\"614\":1,\"615\":1,\"616\":1,\"617\":1,\"618\":1,\"619\":1,\"620\":1,\"621\":3,\"622\":1,\"623\":1,\"624\":1,\"625\":1,\"626\":6,\"627\":1,\"628\":1,\"629\":1,\"630\":2,\"631\":1,\"632\":1,\"633\":7,\"634\":1,\"635\":1,\"636\":10,\"637\":2,\"638\":1,\"639\":1,\"640\":1,\"641\":1,\"642\":1,\"643\":1,\"644\":1,\"645\":1,\"646\":2,\"647\":1,\"648\":10,\"649\":1,\"650\":1,\"651\":2,\"652\":1,\"653\":1,\"654\":1,\"655\":1,\"656\":1,\"657\":4,\"658\":8,\"659\":1,\"660\":1,\"661\":1,\"662\":1,\"663\":1,\"664\":1,\"665\":1,\"666\":2,\"667\":1,\"668\":7,\"669\":10,\"670\":10,\"671\":2,\"672\":1,\"673\":3,\"674\":1,\"675\":1,\"676\":1,\"677\":1,\"678\":1,\"679\":1,\"680\":10,\"681\":10,\"682\":1,\"683\":1,\"684\":1,\"685\":1,\"686\":1,\"687\":1,\"688\":1,\"689\":1,\"690\":1,\"691\":10,\"692\":1,\"693\":1,\"694\":1,\"695\":1,\"696\":10,\"697\":8,\"698\":8},\"Uniformity of Cell Shape\":{\"0\":1,\"1\":4,\"2\":1,\"3\":8,\"4\":1,\"5\":10,\"6\":1,\"7\":2,\"8\":1,\"9\":1,\"10\":1,\"11\":1,\"12\":3,\"13\":1,\"14\":5,\"15\":6,\"16\":1,\"17\":1,\"18\":7,\"19\":1,\"20\":2,\"21\":5,\"22\":1,\"23\":5,\"24\":1,\"25\":3,\"26\":1,\"27\":1,\"28\":1,\"29\":3,\"30\":1,\"31\":1,\"32\":7,\"33\":1,\"34\":2,\"35\":1,\"36\":10,\"37\":1,\"38\":4,\"39\":3,\"40\":6,\"41\":3,\"42\":10,\"43\":5,\"44\":10,\"45\":1,\"46\":7,\"47\":1,\"48\":1,\"49\":7,\"50\":8,\"51\":3,\"52\":6,\"53\":5,\"54\":5,\"55\":6,\"56\":10,\"57\":4,\"58\":3,\"59\":5,\"60\":5,\"61\":1,\"62\":10,\"63\":4,\"64\":1,\"65\":2,\"66\":1,\"67\":4,\"68\":8,\"69\":1,\"70\":3,\"71\":2,\"72\":3,\"73\":5,\"74\":4,\"75\":2,\"76\":4,\"77\":1,\"78\":1,\"79\":1,\"80\":2,\"81\":1,\"82\":1,\"83\":1,\"84\":7,\"85\":6,\"86\":6,\"87\":6,\"88\":1,\"89\":1,\"90\":1,\"91\":1,\"92\":1,\"93\":1,\"94\":1,\"95\":1,\"96\":1,\"97\":1,\"98\":9,\"99\":6,\"100\":5,\"101\":4,\"102\":2,\"103\":3,\"104\":10,\"105\":4,\"106\":10,\"107\":8,\"108\":1,\"109\":4,\"110\":1,\"111\":4,\"112\":3,\"113\":10,\"114\":2,\"115\":1,\"116\":3,\"117\":5,\"118\":1,\"119\":1,\"120\":2,\"121\":1,\"122\":10,\"123\":5,\"124\":6,\"125\":1,\"126\":3,\"127\":1,\"128\":5,\"129\":1,\"130\":3,\"131\":1,\"132\":8,\"133\":1,\"134\":1,\"135\":1,\"136\":1,\"137\":1,\"138\":2,\"139\":1,\"140\":1,\"141\":1,\"142\":5,\"143\":1,\"144\":1,\"145\":3,\"146\":5,\"147\":1,\"148\":1,\"149\":7,\"150\":1,\"151\":4,\"152\":8,\"153\":1,\"154\":1,\"155\":5,\"156\":2,\"157\":1,\"158\":2,\"159\":10,\"160\":7,\"161\":1,\"162\":1,\"163\":1,\"164\":1,\"165\":1,\"166\":7,\"167\":10,\"168\":1,\"169\":1,\"170\":1,\"171\":1,\"172\":1,\"173\":10,\"174\":5,\"175\":7,\"176\":1,\"177\":10,\"178\":1,\"179\":3,\"180\":1,\"181\":1,\"182\":1,\"183\":8,\"184\":6,\"185\":1,\"186\":8,\"187\":6,\"188\":4,\"189\":3,\"190\":10,\"191\":10,\"192\":1,\"193\":1,\"194\":1,\"195\":1,\"196\":4,\"197\":1,\"198\":1,\"199\":1,\"200\":7,\"201\":8,\"202\":1,\"203\":1,\"204\":1,\"205\":10,\"206\":9,\"207\":1,\"208\":1,\"209\":1,\"210\":10,\"211\":8,\"212\":1,\"213\":10,\"214\":10,\"215\":8,\"216\":1,\"217\":1,\"218\":7,\"219\":3,\"220\":1,\"221\":4,\"222\":1,\"223\":6,\"224\":5,\"225\":1,\"226\":7,\"227\":9,\"228\":1,\"229\":10,\"230\":7,\"231\":7,\"232\":6,\"233\":5,\"234\":2,\"235\":4,\"236\":8,\"237\":8,\"238\":10,\"239\":3,\"240\":3,\"241\":1,\"242\":1,\"243\":1,\"244\":1,\"245\":1,\"246\":10,\"247\":4,\"248\":1,\"249\":1,\"250\":2,\"251\":4,\"252\":3,\"253\":10,\"254\":10,\"255\":6,\"256\":1,\"257\":1,\"258\":1,\"259\":7,\"260\":8,\"261\":10,\"262\":9,\"263\":4,\"264\":4,\"265\":4,\"266\":6,\"267\":5,\"268\":8,\"269\":1,\"270\":7,\"271\":1,\"272\":5,\"273\":4,\"274\":1,\"275\":3,\"276\":1,\"277\":1,\"278\":1,\"279\":7,\"280\":1,\"281\":1,\"282\":3,\"283\":6,\"284\":5,\"285\":10,\"286\":10,\"287\":1,\"288\":3,\"289\":6,\"290\":1,\"291\":1,\"292\":8,\"293\":4,\"294\":1,\"295\":7,\"296\":4,\"297\":3,\"298\":1,\"299\":2,\"300\":10,\"301\":1,\"302\":10,\"303\":1,\"304\":4,\"305\":4,\"306\":1,\"307\":1,\"308\":7,\"309\":1,\"310\":1,\"311\":1,\"312\":4,\"313\":1,\"314\":1,\"315\":5,\"316\":5,\"317\":7,\"318\":1,\"319\":4,\"320\":3,\"321\":1,\"322\":1,\"323\":6,\"324\":1,\"325\":2,\"326\":1,\"327\":1,\"328\":3,\"329\":6,\"330\":7,\"331\":1,\"332\":2,\"333\":6,\"334\":7,\"335\":1,\"336\":5,\"337\":1,\"338\":1,\"339\":5,\"340\":3,\"341\":1,\"342\":1,\"343\":1,\"344\":4,\"345\":1,\"346\":2,\"347\":1,\"348\":4,\"349\":3,\"350\":1,\"351\":1,\"352\":5,\"353\":10,\"354\":1,\"355\":1,\"356\":3,\"357\":10,\"358\":5,\"359\":5,\"360\":10,\"361\":3,\"362\":2,\"363\":4,\"364\":1,\"365\":1,\"366\":10,\"367\":8,\"368\":3,\"369\":3,\"370\":2,\"371\":3,\"372\":2,\"373\":1,\"374\":2,\"375\":1,\"376\":1,\"377\":1,\"378\":1,\"379\":4,\"380\":1,\"381\":3,\"382\":2,\"383\":1,\"384\":1,\"385\":2,\"386\":6,\"387\":3,\"388\":1,\"389\":1,\"390\":1,\"391\":7,\"392\":1,\"393\":1,\"394\":3,\"395\":1,\"396\":1,\"397\":1,\"398\":1,\"399\":3,\"400\":8,\"401\":1,\"402\":3,\"403\":1,\"404\":1,\"405\":1,\"406\":2,\"407\":1,\"408\":2,\"409\":2,\"410\":1,\"411\":1,\"412\":10,\"413\":2,\"414\":6,\"415\":2,\"416\":8,\"417\":1,\"418\":2,\"419\":1,\"420\":2,\"421\":10,\"422\":3,\"423\":3,\"424\":1,\"425\":10,\"426\":6,\"427\":8,\"428\":1,\"429\":1,\"430\":1,\"431\":1,\"432\":1,\"433\":2,\"434\":7,\"435\":10,\"436\":10,\"437\":1,\"438\":3,\"439\":1,\"440\":3,\"441\":2,\"442\":1,\"443\":1,\"444\":1,\"445\":1,\"446\":1,\"447\":1,\"448\":1,\"449\":9,\"450\":1,\"451\":1,\"452\":1,\"453\":5,\"454\":1,\"455\":2,\"456\":5,\"457\":9,\"458\":2,\"459\":3,\"460\":1,\"461\":1,\"462\":1,\"463\":1,\"464\":1,\"465\":8,\"466\":6,\"467\":6,\"468\":1,\"469\":2,\"470\":1,\"471\":1,\"472\":1,\"473\":1,\"474\":1,\"475\":1,\"476\":2,\"477\":1,\"478\":1,\"479\":7,\"480\":1,\"481\":2,\"482\":10,\"483\":8,\"484\":2,\"485\":1,\"486\":1,\"487\":10,\"488\":4,\"489\":2,\"490\":1,\"491\":9,\"492\":1,\"493\":10,\"494\":2,\"495\":1,\"496\":1,\"497\":1,\"498\":1,\"499\":1,\"500\":1,\"501\":1,\"502\":1,\"503\":1,\"504\":1,\"505\":1,\"506\":10,\"507\":1,\"508\":1,\"509\":1,\"510\":1,\"511\":1,\"512\":1,\"513\":1,\"514\":7,\"515\":4,\"516\":1,\"517\":1,\"518\":2,\"519\":8,\"520\":1,\"521\":1,\"522\":5,\"523\":6,\"524\":1,\"525\":1,\"526\":1,\"527\":1,\"528\":3,\"529\":1,\"530\":4,\"531\":2,\"532\":1,\"533\":1,\"534\":1,\"535\":3,\"536\":1,\"537\":2,\"538\":1,\"539\":1,\"540\":1,\"541\":1,\"542\":1,\"543\":1,\"544\":3,\"545\":1,\"546\":10,\"547\":1,\"548\":1,\"549\":3,\"550\":1,\"551\":1,\"552\":2,\"553\":2,\"554\":1,\"555\":1,\"556\":2,\"557\":1,\"558\":1,\"559\":1,\"560\":1,\"561\":1,\"562\":1,\"563\":1,\"564\":1,\"565\":10,\"566\":2,\"567\":1,\"568\":4,\"569\":8,\"570\":4,\"571\":10,\"572\":1,\"573\":1,\"574\":7,\"575\":2,\"576\":1,\"577\":1,\"578\":1,\"579\":1,\"580\":2,\"581\":10,\"582\":5,\"583\":1,\"584\":1,\"585\":1,\"586\":10,\"587\":1,\"588\":8,\"589\":1,\"590\":8,\"591\":7,\"592\":4,\"593\":2,\"594\":6,\"595\":1,\"596\":2,\"597\":3,\"598\":1,\"599\":4,\"600\":1,\"601\":1,\"602\":1,\"603\":6,\"604\":2,\"605\":10,\"606\":1,\"607\":1,\"608\":10,\"609\":1,\"610\":3,\"611\":10,\"612\":10,\"613\":1,\"614\":1,\"615\":3,\"616\":1,\"617\":1,\"618\":1,\"619\":1,\"620\":1,\"621\":3,\"622\":2,\"623\":1,\"624\":1,\"625\":3,\"626\":6,\"627\":1,\"628\":1,\"629\":1,\"630\":3,\"631\":1,\"632\":1,\"633\":4,\"634\":1,\"635\":4,\"636\":7,\"637\":4,\"638\":1,\"639\":1,\"640\":1,\"641\":1,\"642\":1,\"643\":1,\"644\":1,\"645\":1,\"646\":2,\"647\":1,\"648\":10,\"649\":1,\"650\":1,\"651\":1,\"652\":1,\"653\":1,\"654\":1,\"655\":1,\"656\":1,\"657\":5,\"658\":8,\"659\":1,\"660\":1,\"661\":1,\"662\":3,\"663\":3,\"664\":1,\"665\":1,\"666\":2,\"667\":1,\"668\":4,\"669\":10,\"670\":7,\"671\":1,\"672\":1,\"673\":2,\"674\":1,\"675\":4,\"676\":2,\"677\":1,\"678\":1,\"679\":1,\"680\":10,\"681\":10,\"682\":1,\"683\":1,\"684\":1,\"685\":1,\"686\":1,\"687\":1,\"688\":1,\"689\":1,\"690\":1,\"691\":10,\"692\":1,\"693\":1,\"694\":1,\"695\":1,\"696\":10,\"697\":6,\"698\":8},\"Marginal Adhesion\":{\"0\":1,\"1\":5,\"2\":1,\"3\":1,\"4\":3,\"5\":8,\"6\":1,\"7\":1,\"8\":1,\"9\":1,\"10\":1,\"11\":1,\"12\":3,\"13\":1,\"14\":10,\"15\":4,\"16\":1,\"17\":1,\"18\":6,\"19\":1,\"20\":10,\"21\":3,\"22\":1,\"23\":1,\"24\":1,\"25\":4,\"26\":1,\"27\":1,\"28\":1,\"29\":1,\"30\":1,\"31\":1,\"32\":3,\"33\":2,\"34\":1,\"35\":1,\"36\":8,\"37\":1,\"38\":9,\"39\":3,\"40\":9,\"41\":1,\"42\":2,\"43\":6,\"44\":4,\"45\":1,\"46\":4,\"47\":1,\"48\":3,\"49\":2,\"50\":1,\"51\":4,\"52\":2,\"53\":8,\"54\":6,\"55\":3,\"56\":1,\"57\":1,\"58\":1,\"59\":2,\"60\":5,\"61\":1,\"62\":1,\"63\":1,\"64\":1,\"65\":1,\"66\":1,\"67\":1,\"68\":3,\"69\":1,\"70\":1,\"71\":8,\"72\":2,\"73\":10,\"74\":1,\"75\":1,\"76\":1,\"77\":2,\"78\":1,\"79\":1,\"80\":1,\"81\":2,\"82\":1,\"83\":1,\"84\":8,\"85\":1,\"86\":4,\"87\":6,\"88\":1,\"89\":2,\"90\":1,\"91\":2,\"92\":1,\"93\":1,\"94\":1,\"95\":1,\"96\":2,\"97\":1,\"98\":2,\"99\":10,\"100\":1,\"101\":4,\"102\":1,\"103\":1,\"104\":10,\"105\":4,\"106\":8,\"107\":10,\"108\":1,\"109\":4,\"110\":2,\"111\":3,\"112\":10,\"113\":3,\"114\":1,\"115\":1,\"116\":1,\"117\":10,\"118\":1,\"119\":1,\"120\":2,\"121\":1,\"122\":2,\"123\":1,\"124\":7,\"125\":1,\"126\":7,\"127\":1,\"128\":4,\"129\":1,\"130\":1,\"131\":1,\"132\":10,\"133\":1,\"134\":1,\"135\":1,\"136\":1,\"137\":1,\"138\":1,\"139\":1,\"140\":1,\"141\":1,\"142\":4,\"143\":1,\"144\":1,\"145\":1,\"146\":2,\"147\":1,\"148\":3,\"149\":4,\"150\":1,\"151\":1,\"152\":6,\"153\":1,\"154\":1,\"155\":6,\"156\":1,\"157\":1,\"158\":1,\"159\":3,\"160\":4,\"161\":1,\"162\":1,\"163\":2,\"164\":1,\"165\":1,\"166\":8,\"167\":10,\"168\":1,\"169\":2,\"170\":1,\"171\":1,\"172\":1,\"173\":10,\"174\":4,\"175\":7,\"176\":1,\"177\":3,\"178\":1,\"179\":3,\"180\":1,\"181\":1,\"182\":1,\"183\":8,\"184\":4,\"185\":1,\"186\":6,\"187\":10,\"188\":10,\"189\":1,\"190\":8,\"191\":10,\"192\":1,\"193\":1,\"194\":1,\"195\":1,\"196\":5,\"197\":4,\"198\":1,\"199\":1,\"200\":5,\"201\":4,\"202\":1,\"203\":1,\"204\":1,\"205\":9,\"206\":3,\"207\":1,\"208\":1,\"209\":1,\"210\":10,\"211\":8,\"212\":1,\"213\":10,\"214\":10,\"215\":7,\"216\":1,\"217\":1,\"218\":7,\"219\":1,\"220\":2,\"221\":3,\"222\":3,\"223\":3,\"224\":6,\"225\":1,\"226\":4,\"227\":5,\"228\":1,\"229\":3,\"230\":4,\"231\":5,\"232\":3,\"233\":5,\"234\":1,\"235\":1,\"236\":2,\"237\":5,\"238\":8,\"239\":2,\"240\":3,\"241\":3,\"242\":1,\"243\":1,\"244\":1,\"245\":2,\"246\":8,\"247\":1,\"248\":1,\"249\":1,\"250\":1,\"251\":10,\"252\":5,\"253\":2,\"254\":1,\"255\":2,\"256\":1,\"257\":1,\"258\":1,\"259\":1,\"260\":10,\"261\":6,\"262\":4,\"263\":10,\"264\":10,\"265\":1,\"266\":3,\"267\":2,\"268\":2,\"269\":1,\"270\":1,\"271\":1,\"272\":2,\"273\":1,\"274\":1,\"275\":1,\"276\":1,\"277\":1,\"278\":1,\"279\":3,\"280\":1,\"281\":2,\"282\":10,\"283\":1,\"284\":10,\"285\":10,\"286\":10,\"287\":1,\"288\":1,\"289\":8,\"290\":1,\"291\":1,\"292\":1,\"293\":6,\"294\":1,\"295\":8,\"296\":3,\"297\":1,\"298\":1,\"299\":6,\"300\":5,\"301\":1,\"302\":7,\"303\":1,\"304\":9,\"305\":4,\"306\":1,\"307\":1,\"308\":6,\"309\":1,\"310\":1,\"311\":1,\"312\":10,\"313\":1,\"314\":1,\"315\":6,\"316\":2,\"317\":8,\"318\":1,\"319\":4,\"320\":2,\"321\":1,\"322\":1,\"323\":10,\"324\":1,\"325\":1,\"326\":1,\"327\":1,\"328\":2,\"329\":4,\"330\":2,\"331\":1,\"332\":2,\"333\":6,\"334\":3,\"335\":1,\"336\":8,\"337\":1,\"338\":1,\"339\":5,\"340\":1,\"341\":1,\"342\":1,\"343\":1,\"344\":8,\"345\":1,\"346\":2,\"347\":1,\"348\":10,\"349\":5,\"350\":3,\"351\":1,\"352\":3,\"353\":10,\"354\":1,\"355\":1,\"356\":1,\"357\":7,\"358\":3,\"359\":4,\"360\":10,\"361\":10,\"362\":1,\"363\":2,\"364\":1,\"365\":1,\"366\":10,\"367\":10,\"368\":1,\"369\":1,\"370\":1,\"371\":1,\"372\":1,\"373\":2,\"374\":1,\"375\":1,\"376\":1,\"377\":1,\"378\":4,\"379\":1,\"380\":1,\"381\":6,\"382\":2,\"383\":1,\"384\":1,\"385\":2,\"386\":3,\"387\":2,\"388\":1,\"389\":1,\"390\":2,\"391\":4,\"392\":1,\"393\":1,\"394\":1,\"395\":1,\"396\":1,\"397\":1,\"398\":1,\"399\":1,\"400\":7,\"401\":1,\"402\":1,\"403\":1,\"404\":3,\"405\":1,\"406\":1,\"407\":1,\"408\":2,\"409\":1,\"410\":1,\"411\":1,\"412\":6,\"413\":1,\"414\":2,\"415\":6,\"416\":5,\"417\":1,\"418\":2,\"419\":1,\"420\":3,\"421\":7,\"422\":1,\"423\":1,\"424\":1,\"425\":10,\"426\":1,\"427\":2,\"428\":1,\"429\":1,\"430\":1,\"431\":3,\"432\":1,\"433\":3,\"434\":5,\"435\":1,\"436\":1,\"437\":1,\"438\":3,\"439\":1,\"440\":10,\"441\":4,\"442\":3,\"443\":1,\"444\":6,\"445\":1,\"446\":1,\"447\":1,\"448\":1,\"449\":8,\"450\":3,\"451\":1,\"452\":3,\"453\":8,\"454\":1,\"455\":1,\"456\":8,\"457\":6,\"458\":1,\"459\":1,\"460\":3,\"461\":1,\"462\":3,\"463\":1,\"464\":1,\"465\":7,\"466\":2,\"467\":5,\"468\":1,\"469\":1,\"470\":1,\"471\":3,\"472\":1,\"473\":1,\"474\":1,\"475\":1,\"476\":1,\"477\":1,\"478\":1,\"479\":10,\"480\":1,\"481\":4,\"482\":10,\"483\":5,\"484\":1,\"485\":3,\"486\":1,\"487\":10,\"488\":10,\"489\":1,\"490\":1,\"491\":4,\"492\":1,\"493\":10,\"494\":10,\"495\":1,\"496\":1,\"497\":1,\"498\":1,\"499\":1,\"500\":1,\"501\":1,\"502\":2,\"503\":1,\"504\":1,\"505\":1,\"506\":10,\"507\":1,\"508\":1,\"509\":1,\"510\":1,\"511\":1,\"512\":1,\"513\":1,\"514\":10,\"515\":7,\"516\":1,\"517\":1,\"518\":2,\"519\":3,\"520\":1,\"521\":1,\"522\":4,\"523\":10,\"524\":1,\"525\":2,\"526\":1,\"527\":1,\"528\":2,\"529\":1,\"530\":3,\"531\":1,\"532\":1,\"533\":1,\"534\":1,\"535\":2,\"536\":1,\"537\":1,\"538\":1,\"539\":1,\"540\":1,\"541\":1,\"542\":1,\"543\":1,\"544\":2,\"545\":1,\"546\":10,\"547\":1,\"548\":1,\"549\":7,\"550\":1,\"551\":1,\"552\":2,\"553\":1,\"554\":1,\"555\":1,\"556\":2,\"557\":3,\"558\":1,\"559\":1,\"560\":1,\"561\":1,\"562\":1,\"563\":1,\"564\":1,\"565\":10,\"566\":1,\"567\":1,\"568\":1,\"569\":10,\"570\":4,\"571\":5,\"572\":1,\"573\":1,\"574\":3,\"575\":1,\"576\":1,\"577\":1,\"578\":1,\"579\":1,\"580\":1,\"581\":6,\"582\":5,\"583\":1,\"584\":6,\"585\":1,\"586\":10,\"587\":1,\"588\":9,\"589\":1,\"590\":5,\"591\":6,\"592\":5,\"593\":1,\"594\":3,\"595\":1,\"596\":1,\"597\":1,\"598\":1,\"599\":1,\"600\":1,\"601\":1,\"602\":1,\"603\":8,\"604\":8,\"605\":3,\"606\":2,\"607\":1,\"608\":10,\"609\":1,\"610\":10,\"611\":10,\"612\":10,\"613\":1,\"614\":1,\"615\":1,\"616\":1,\"617\":1,\"618\":1,\"619\":1,\"620\":1,\"621\":3,\"622\":3,\"623\":1,\"624\":2,\"625\":1,\"626\":5,\"627\":1,\"628\":1,\"629\":1,\"630\":1,\"631\":1,\"632\":1,\"633\":4,\"634\":1,\"635\":1,\"636\":8,\"637\":3,\"638\":1,\"639\":3,\"640\":3,\"641\":1,\"642\":1,\"643\":1,\"644\":1,\"645\":1,\"646\":1,\"647\":3,\"648\":10,\"649\":1,\"650\":2,\"651\":3,\"652\":1,\"653\":1,\"654\":1,\"655\":1,\"656\":1,\"657\":1,\"658\":7,\"659\":1,\"660\":1,\"661\":1,\"662\":1,\"663\":1,\"664\":3,\"665\":1,\"666\":2,\"667\":1,\"668\":1,\"669\":8,\"670\":8,\"671\":2,\"672\":1,\"673\":1,\"674\":1,\"675\":1,\"676\":1,\"677\":1,\"678\":1,\"679\":1,\"680\":10,\"681\":10,\"682\":1,\"683\":1,\"684\":1,\"685\":1,\"686\":1,\"687\":1,\"688\":1,\"689\":1,\"690\":3,\"691\":5,\"692\":1,\"693\":1,\"694\":1,\"695\":1,\"696\":3,\"697\":4,\"698\":5},\"Single Epithelial Cell Size\":{\"0\":2,\"1\":7,\"2\":2,\"3\":3,\"4\":2,\"5\":7,\"6\":2,\"7\":2,\"8\":2,\"9\":2,\"10\":1,\"11\":2,\"12\":2,\"13\":2,\"14\":7,\"15\":6,\"16\":2,\"17\":2,\"18\":4,\"19\":2,\"20\":5,\"21\":6,\"22\":2,\"23\":2,\"24\":2,\"25\":2,\"26\":1,\"27\":2,\"28\":2,\"29\":2,\"30\":1,\"31\":2,\"32\":8,\"33\":2,\"34\":2,\"35\":2,\"36\":6,\"37\":1,\"38\":2,\"39\":6,\"40\":6,\"41\":3,\"42\":8,\"43\":10,\"44\":8,\"45\":2,\"46\":4,\"47\":2,\"48\":2,\"49\":4,\"50\":2,\"51\":2,\"52\":3,\"53\":10,\"54\":8,\"55\":4,\"56\":3,\"57\":5,\"58\":6,\"59\":2,\"60\":3,\"61\":2,\"62\":10,\"63\":5,\"64\":2,\"65\":3,\"66\":2,\"67\":8,\"68\":4,\"69\":2,\"70\":2,\"71\":10,\"72\":2,\"73\":6,\"74\":3,\"75\":2,\"76\":2,\"77\":2,\"78\":2,\"79\":3,\"80\":1,\"81\":2,\"82\":2,\"83\":2,\"84\":8,\"85\":10,\"86\":5,\"87\":5,\"88\":2,\"89\":3,\"90\":2,\"91\":2,\"92\":2,\"93\":2,\"94\":2,\"95\":2,\"96\":2,\"97\":2,\"98\":10,\"99\":5,\"100\":10,\"101\":2,\"102\":2,\"103\":6,\"104\":10,\"105\":3,\"106\":2,\"107\":8,\"108\":2,\"109\":3,\"110\":2,\"111\":5,\"112\":2,\"113\":10,\"114\":2,\"115\":2,\"116\":2,\"117\":4,\"118\":4,\"119\":2,\"120\":2,\"121\":2,\"122\":10,\"123\":8,\"124\":9,\"125\":2,\"126\":4,\"127\":2,\"128\":5,\"129\":10,\"130\":2,\"131\":2,\"132\":8,\"133\":2,\"134\":3,\"135\":2,\"136\":2,\"137\":2,\"138\":2,\"139\":1,\"140\":2,\"141\":2,\"142\":4,\"143\":2,\"144\":2,\"145\":2,\"146\":6,\"147\":3,\"148\":8,\"149\":10,\"150\":1,\"151\":6,\"152\":4,\"153\":2,\"154\":2,\"155\":3,\"156\":2,\"157\":2,\"158\":3,\"159\":6,\"160\":5,\"161\":2,\"162\":2,\"163\":1,\"164\":2,\"165\":2,\"166\":8,\"167\":6,\"168\":2,\"169\":1,\"170\":2,\"171\":2,\"172\":2,\"173\":8,\"174\":3,\"175\":10,\"176\":2,\"177\":8,\"178\":2,\"179\":6,\"180\":1,\"181\":2,\"182\":2,\"183\":5,\"184\":4,\"185\":1,\"186\":5,\"187\":6,\"188\":5,\"189\":2,\"190\":6,\"191\":10,\"192\":2,\"193\":2,\"194\":2,\"195\":2,\"196\":4,\"197\":2,\"198\":2,\"199\":2,\"200\":5,\"201\":10,\"202\":2,\"203\":2,\"204\":2,\"205\":6,\"206\":7,\"207\":1,\"208\":1,\"209\":1,\"210\":5,\"211\":4,\"212\":2,\"213\":7,\"214\":3,\"215\":5,\"216\":2,\"217\":2,\"218\":6,\"219\":2,\"220\":2,\"221\":10,\"222\":1,\"223\":3,\"224\":3,\"225\":2,\"226\":4,\"227\":3,\"228\":1,\"229\":10,\"230\":3,\"231\":6,\"232\":3,\"233\":5,\"234\":3,\"235\":2,\"236\":8,\"237\":6,\"238\":6,\"239\":3,\"240\":2,\"241\":1,\"242\":2,\"243\":2,\"244\":2,\"245\":2,\"246\":5,\"247\":2,\"248\":2,\"249\":2,\"250\":2,\"251\":2,\"252\":3,\"253\":8,\"254\":10,\"255\":4,\"256\":2,\"257\":2,\"258\":2,\"259\":5,\"260\":3,\"261\":10,\"262\":5,\"263\":6,\"264\":10,\"265\":2,\"266\":3,\"267\":3,\"268\":3,\"269\":2,\"270\":3,\"271\":2,\"272\":3,\"273\":3,\"274\":2,\"275\":2,\"276\":2,\"277\":2,\"278\":2,\"279\":3,\"280\":2,\"281\":2,\"282\":4,\"283\":2,\"284\":2,\"285\":8,\"286\":10,\"287\":3,\"288\":4,\"289\":6,\"290\":2,\"291\":2,\"292\":2,\"293\":2,\"294\":2,\"295\":6,\"296\":4,\"297\":2,\"298\":5,\"299\":4,\"300\":4,\"301\":2,\"302\":9,\"303\":2,\"304\":3,\"305\":4,\"306\":2,\"307\":2,\"308\":4,\"309\":2,\"310\":3,\"311\":2,\"312\":10,\"313\":2,\"314\":1,\"315\":7,\"316\":5,\"317\":6,\"318\":5,\"319\":6,\"320\":5,\"321\":2,\"322\":2,\"323\":2,\"324\":2,\"325\":2,\"326\":2,\"327\":2,\"328\":6,\"329\":5,\"330\":2,\"331\":2,\"332\":2,\"333\":4,\"334\":3,\"335\":2,\"336\":4,\"337\":2,\"338\":1,\"339\":2,\"340\":2,\"341\":2,\"342\":2,\"343\":2,\"344\":10,\"345\":2,\"346\":3,\"347\":1,\"348\":5,\"349\":3,\"350\":2,\"351\":2,\"352\":7,\"353\":7,\"354\":2,\"355\":3,\"356\":3,\"357\":10,\"358\":8,\"359\":3,\"360\":10,\"361\":6,\"362\":4,\"363\":2,\"364\":2,\"365\":2,\"366\":8,\"367\":5,\"368\":2,\"369\":1,\"370\":3,\"371\":2,\"372\":2,\"373\":2,\"374\":2,\"375\":2,\"376\":2,\"377\":1,\"378\":3,\"379\":4,\"380\":2,\"381\":4,\"382\":2,\"383\":2,\"384\":2,\"385\":3,\"386\":2,\"387\":3,\"388\":2,\"389\":3,\"390\":2,\"391\":3,\"392\":2,\"393\":1,\"394\":2,\"395\":2,\"396\":2,\"397\":2,\"398\":2,\"399\":2,\"400\":6,\"401\":2,\"402\":2,\"403\":2,\"404\":2,\"405\":2,\"406\":2,\"407\":2,\"408\":2,\"409\":2,\"410\":2,\"411\":1,\"412\":8,\"413\":2,\"414\":3,\"415\":3,\"416\":10,\"417\":2,\"418\":2,\"419\":5,\"420\":2,\"421\":10,\"422\":2,\"423\":2,\"424\":2,\"425\":10,\"426\":2,\"427\":4,\"428\":2,\"429\":2,\"430\":2,\"431\":4,\"432\":2,\"433\":2,\"434\":5,\"435\":3,\"436\":6,\"437\":2,\"438\":2,\"439\":2,\"440\":4,\"441\":2,\"442\":2,\"443\":2,\"444\":3,\"445\":2,\"446\":2,\"447\":2,\"448\":1,\"449\":6,\"450\":1,\"451\":2,\"452\":2,\"453\":6,\"454\":3,\"455\":2,\"456\":5,\"457\":6,\"458\":2,\"459\":2,\"460\":2,\"461\":2,\"462\":2,\"463\":2,\"464\":2,\"465\":6,\"466\":4,\"467\":4,\"468\":2,\"469\":2,\"470\":1,\"471\":2,\"472\":1,\"473\":2,\"474\":2,\"475\":2,\"476\":2,\"477\":2,\"478\":2,\"479\":4,\"480\":1,\"481\":2,\"482\":10,\"483\":5,\"484\":2,\"485\":1,\"486\":1,\"487\":6,\"488\":3,\"489\":3,\"490\":2,\"491\":3,\"492\":1,\"493\":6,\"494\":4,\"495\":1,\"496\":1,\"497\":2,\"498\":2,\"499\":2,\"500\":2,\"501\":2,\"502\":2,\"503\":2,\"504\":2,\"505\":2,\"506\":7,\"507\":2,\"508\":2,\"509\":2,\"510\":2,\"511\":2,\"512\":2,\"513\":1,\"514\":3,\"515\":3,\"516\":1,\"517\":1,\"518\":2,\"519\":4,\"520\":3,\"521\":3,\"522\":3,\"523\":4,\"524\":2,\"525\":2,\"526\":2,\"527\":2,\"528\":2,\"529\":1,\"530\":4,\"531\":2,\"532\":1,\"533\":2,\"534\":2,\"535\":2,\"536\":2,\"537\":2,\"538\":2,\"539\":2,\"540\":2,\"541\":2,\"542\":2,\"543\":2,\"544\":2,\"545\":2,\"546\":4,\"547\":1,\"548\":1,\"549\":4,\"550\":2,\"551\":2,\"552\":2,\"553\":2,\"554\":2,\"555\":2,\"556\":1,\"557\":2,\"558\":2,\"559\":2,\"560\":2,\"561\":2,\"562\":2,\"563\":2,\"564\":2,\"565\":5,\"566\":2,\"567\":2,\"568\":6,\"569\":6,\"570\":8,\"571\":3,\"572\":2,\"573\":2,\"574\":4,\"575\":2,\"576\":2,\"577\":2,\"578\":2,\"579\":2,\"580\":2,\"581\":5,\"582\":4,\"583\":2,\"584\":3,\"585\":2,\"586\":6,\"587\":2,\"588\":6,\"589\":2,\"590\":4,\"591\":4,\"592\":3,\"593\":2,\"594\":4,\"595\":2,\"596\":2,\"597\":2,\"598\":2,\"599\":1,\"600\":2,\"601\":1,\"602\":2,\"603\":4,\"604\":5,\"605\":5,\"606\":2,\"607\":2,\"608\":10,\"609\":2,\"610\":3,\"611\":5,\"612\":6,\"613\":2,\"614\":1,\"615\":2,\"616\":2,\"617\":1,\"618\":2,\"619\":2,\"620\":2,\"621\":3,\"622\":2,\"623\":2,\"624\":1,\"625\":3,\"626\":7,\"627\":2,\"628\":2,\"629\":2,\"630\":2,\"631\":2,\"632\":2,\"633\":5,\"634\":2,\"635\":2,\"636\":7,\"637\":2,\"638\":2,\"639\":2,\"640\":2,\"641\":2,\"642\":2,\"643\":2,\"644\":2,\"645\":2,\"646\":2,\"647\":2,\"648\":10,\"649\":2,\"650\":3,\"651\":2,\"652\":2,\"653\":2,\"654\":2,\"655\":2,\"656\":2,\"657\":8,\"658\":3,\"659\":2,\"660\":2,\"661\":2,\"662\":2,\"663\":2,\"664\":2,\"665\":2,\"666\":2,\"667\":2,\"668\":6,\"669\":5,\"670\":5,\"671\":2,\"672\":2,\"673\":3,\"674\":2,\"675\":2,\"676\":2,\"677\":2,\"678\":2,\"679\":2,\"680\":5,\"681\":4,\"682\":2,\"683\":2,\"684\":2,\"685\":2,\"686\":2,\"687\":2,\"688\":2,\"689\":2,\"690\":2,\"691\":4,\"692\":2,\"693\":2,\"694\":3,\"695\":2,\"696\":7,\"697\":3,\"698\":4},\"Bare Nuclei\":{\"0\":\"1\",\"1\":\"10\",\"2\":\"2\",\"3\":\"4\",\"4\":\"1\",\"5\":\"10\",\"6\":\"10\",\"7\":\"1\",\"8\":\"1\",\"9\":\"1\",\"10\":\"1\",\"11\":\"1\",\"12\":\"3\",\"13\":\"3\",\"14\":\"9\",\"15\":\"1\",\"16\":\"1\",\"17\":\"1\",\"18\":\"10\",\"19\":\"1\",\"20\":\"10\",\"21\":\"7\",\"22\":\"1\",\"23\":\"?\",\"24\":\"1\",\"25\":\"7\",\"26\":\"1\",\"27\":\"1\",\"28\":\"1\",\"29\":\"1\",\"30\":\"1\",\"31\":\"1\",\"32\":\"5\",\"33\":\"1\",\"34\":\"1\",\"35\":\"1\",\"36\":\"1\",\"37\":\"1\",\"38\":\"10\",\"39\":\"7\",\"40\":\"?\",\"41\":\"3\",\"42\":\"10\",\"43\":\"1\",\"44\":\"1\",\"45\":\"1\",\"46\":\"9\",\"47\":\"1\",\"48\":\"1\",\"49\":\"8\",\"50\":\"3\",\"51\":\"4\",\"52\":\"5\",\"53\":\"8\",\"54\":\"8\",\"55\":\"5\",\"56\":\"6\",\"57\":\"1\",\"58\":\"10\",\"59\":\"2\",\"60\":\"3\",\"61\":\"2\",\"62\":\"8\",\"63\":\"2\",\"64\":\"1\",\"65\":\"2\",\"66\":\"1\",\"67\":\"10\",\"68\":\"9\",\"69\":\"1\",\"70\":\"1\",\"71\":\"2\",\"72\":\"1\",\"73\":\"10\",\"74\":\"4\",\"75\":\"2\",\"76\":\"1\",\"77\":\"1\",\"78\":\"3\",\"79\":\"1\",\"80\":\"1\",\"81\":\"1\",\"82\":\"1\",\"83\":\"2\",\"84\":\"9\",\"85\":\"4\",\"86\":\"8\",\"87\":\"10\",\"88\":\"1\",\"89\":\"1\",\"90\":\"1\",\"91\":\"1\",\"92\":\"1\",\"93\":\"1\",\"94\":\"1\",\"95\":\"1\",\"96\":\"1\",\"97\":\"1\",\"98\":\"6\",\"99\":\"10\",\"100\":\"5\",\"101\":\"5\",\"102\":\"1\",\"103\":\"3\",\"104\":\"1\",\"105\":\"3\",\"106\":\"10\",\"107\":\"10\",\"108\":\"1\",\"109\":\"9\",\"110\":\"2\",\"111\":\"9\",\"112\":\"10\",\"113\":\"8\",\"114\":\"3\",\"115\":\"5\",\"116\":\"2\",\"117\":\"10\",\"118\":\"3\",\"119\":\"2\",\"120\":\"1\",\"121\":\"2\",\"122\":\"10\",\"123\":\"10\",\"124\":\"7\",\"125\":\"1\",\"126\":\"10\",\"127\":\"1\",\"128\":\"10\",\"129\":\"1\",\"130\":\"1\",\"131\":\"1\",\"132\":\"10\",\"133\":\"1\",\"134\":\"1\",\"135\":\"2\",\"136\":\"1\",\"137\":\"1\",\"138\":\"1\",\"139\":\"?\",\"140\":\"1\",\"141\":\"1\",\"142\":\"5\",\"143\":\"5\",\"144\":\"1\",\"145\":\"?\",\"146\":\"8\",\"147\":\"2\",\"148\":\"1\",\"149\":\"10\",\"150\":\"1\",\"151\":\"10\",\"152\":\"5\",\"153\":\"3\",\"154\":\"1\",\"155\":\"10\",\"156\":\"1\",\"157\":\"1\",\"158\":\"?\",\"159\":\"10\",\"160\":\"10\",\"161\":\"1\",\"162\":\"1\",\"163\":\"3\",\"164\":\"?\",\"165\":\"2\",\"166\":\"10\",\"167\":\"1\",\"168\":\"1\",\"169\":\"1\",\"170\":\"1\",\"171\":\"1\",\"172\":\"1\",\"173\":\"10\",\"174\":\"10\",\"175\":\"10\",\"176\":\"1\",\"177\":\"1\",\"178\":\"1\",\"179\":\"10\",\"180\":\"1\",\"181\":\"1\",\"182\":\"1\",\"183\":\"10\",\"184\":\"10\",\"185\":\"1\",\"186\":\"8\",\"187\":\"10\",\"188\":\"8\",\"189\":\"1\",\"190\":\"8\",\"191\":\"10\",\"192\":\"1\",\"193\":\"1\",\"194\":\"1\",\"195\":\"1\",\"196\":\"7\",\"197\":\"1\",\"198\":\"1\",\"199\":\"1\",\"200\":\"10\",\"201\":\"10\",\"202\":\"1\",\"203\":\"1\",\"204\":\"1\",\"205\":\"10\",\"206\":\"5\",\"207\":\"1\",\"208\":\"1\",\"209\":\"1\",\"210\":\"10\",\"211\":\"8\",\"212\":\"1\",\"213\":\"10\",\"214\":\"10\",\"215\":\"5\",\"216\":\"1\",\"217\":\"1\",\"218\":\"4\",\"219\":\"1\",\"220\":\"1\",\"221\":\"10\",\"222\":\"5\",\"223\":\"8\",\"224\":\"10\",\"225\":\"1\",\"226\":\"10\",\"227\":\"5\",\"228\":\"1\",\"229\":\"10\",\"230\":\"7\",\"231\":\"8\",\"232\":\"1\",\"233\":\"10\",\"234\":\"1\",\"235\":\"?\",\"236\":\"10\",\"237\":\"2\",\"238\":\"9\",\"239\":\"10\",\"240\":\"2\",\"241\":\"1\",\"242\":\"1\",\"243\":\"5\",\"244\":\"1\",\"245\":\"2\",\"246\":\"10\",\"247\":\"9\",\"248\":\"1\",\"249\":\"?\",\"250\":\"1\",\"251\":\"10\",\"252\":\"10\",\"253\":\"10\",\"254\":\"8\",\"255\":\"10\",\"256\":\"1\",\"257\":\"1\",\"258\":\"1\",\"259\":\"8\",\"260\":\"10\",\"261\":\"10\",\"262\":\"10\",\"263\":\"10\",\"264\":\"3\",\"265\":\"1\",\"266\":\"10\",\"267\":\"10\",\"268\":\"4\",\"269\":\"1\",\"270\":\"10\",\"271\":\"1\",\"272\":\"10\",\"273\":\"4\",\"274\":\"1\",\"275\":\"?\",\"276\":\"1\",\"277\":\"1\",\"278\":\"1\",\"279\":\"7\",\"280\":\"1\",\"281\":\"1\",\"282\":\"10\",\"283\":\"10\",\"284\":\"10\",\"285\":\"10\",\"286\":\"10\",\"287\":\"1\",\"288\":\"5\",\"289\":\"10\",\"290\":\"1\",\"291\":\"1\",\"292\":\"?\",\"293\":\"10\",\"294\":\"?\",\"295\":\"10\",\"296\":\"5\",\"297\":\"?\",\"298\":\"1\",\"299\":\"10\",\"300\":\"4\",\"301\":\"1\",\"302\":\"10\",\"303\":\"1\",\"304\":\"10\",\"305\":\"10\",\"306\":\"1\",\"307\":\"1\",\"308\":\"3\",\"309\":\"5\",\"310\":\"1\",\"311\":\"1\",\"312\":\"1\",\"313\":\"1\",\"314\":\"1\",\"315\":\"?\",\"316\":\"10\",\"317\":\"8\",\"318\":\"1\",\"319\":\"5\",\"320\":\"10\",\"321\":\"?\",\"322\":\"1\",\"323\":\"10\",\"324\":\"1\",\"325\":\"1\",\"326\":\"10\",\"327\":\"1\",\"328\":\"4\",\"329\":\"10\",\"330\":\"8\",\"331\":\"1\",\"332\":\"1\",\"333\":\"10\",\"334\":\"10\",\"335\":\"1\",\"336\":\"10\",\"337\":\"1\",\"338\":\"1\",\"339\":\"10\",\"340\":\"10\",\"341\":\"1\",\"342\":\"1\",\"343\":\"1\",\"344\":\"10\",\"345\":\"1\",\"346\":\"1\",\"347\":\"1\",\"348\":\"1\",\"349\":\"8\",\"350\":\"1\",\"351\":\"1\",\"352\":\"3\",\"353\":\"10\",\"354\":\"1\",\"355\":\"1\",\"356\":\"3\",\"357\":\"10\",\"358\":\"4\",\"359\":\"7\",\"360\":\"10\",\"361\":\"10\",\"362\":\"3\",\"363\":\"3\",\"364\":\"1\",\"365\":\"1\",\"366\":\"10\",\"367\":\"10\",\"368\":\"1\",\"369\":\"1\",\"370\":\"1\",\"371\":\"1\",\"372\":\"1\",\"373\":\"1\",\"374\":\"1\",\"375\":\"1\",\"376\":\"1\",\"377\":\"1\",\"378\":\"1\",\"379\":\"1\",\"380\":\"1\",\"381\":\"10\",\"382\":\"1\",\"383\":\"1\",\"384\":\"1\",\"385\":\"1\",\"386\":\"10\",\"387\":\"1\",\"388\":\"1\",\"389\":\"2\",\"390\":\"1\",\"391\":\"10\",\"392\":\"1\",\"393\":\"1\",\"394\":\"1\",\"395\":\"1\",\"396\":\"1\",\"397\":\"1\",\"398\":\"1\",\"399\":\"1\",\"400\":\"9\",\"401\":\"1\",\"402\":\"1\",\"403\":\"4\",\"404\":\"1\",\"405\":\"1\",\"406\":\"1\",\"407\":\"1\",\"408\":\"2\",\"409\":\"1\",\"410\":\"1\",\"411\":\"?\",\"412\":\"4\",\"413\":\"1\",\"414\":\"10\",\"415\":\"3\",\"416\":\"10\",\"417\":\"1\",\"418\":\"2\",\"419\":\"1\",\"420\":\"3\",\"421\":\"10\",\"422\":\"1\",\"423\":\"1\",\"424\":\"1\",\"425\":\"10\",\"426\":\"1\",\"427\":\"2\",\"428\":\"1\",\"429\":\"1\",\"430\":\"1\",\"431\":\"1\",\"432\":\"1\",\"433\":\"1\",\"434\":\"8\",\"435\":\"10\",\"436\":\"1\",\"437\":\"1\",\"438\":\"1\",\"439\":\"1\",\"440\":\"10\",\"441\":\"4\",\"442\":\"3\",\"443\":\"2\",\"444\":\"1\",\"445\":\"1\",\"446\":\"1\",\"447\":\"1\",\"448\":\"1\",\"449\":\"10\",\"450\":\"1\",\"451\":\"1\",\"452\":\"1\",\"453\":\"10\",\"454\":\"1\",\"455\":\"6\",\"456\":\"10\",\"457\":\"3\",\"458\":\"1\",\"459\":\"1\",\"460\":\"1\",\"461\":\"5\",\"462\":\"1\",\"463\":\"1\",\"464\":\"1\",\"465\":\"4\",\"466\":\"10\",\"467\":\"10\",\"468\":\"1\",\"469\":\"1\",\"470\":\"1\",\"471\":\"1\",\"472\":\"1\",\"473\":\"1\",\"474\":\"1\",\"475\":\"1\",\"476\":\"1\",\"477\":\"1\",\"478\":\"1\",\"479\":\"10\",\"480\":\"1\",\"481\":\"1\",\"482\":\"5\",\"483\":\"10\",\"484\":\"1\",\"485\":\"3\",\"486\":\"1\",\"487\":\"10\",\"488\":\"3\",\"489\":\"4\",\"490\":\"1\",\"491\":\"10\",\"492\":\"1\",\"493\":\"10\",\"494\":\"5\",\"495\":\"1\",\"496\":\"1\",\"497\":\"1\",\"498\":\"1\",\"499\":\"1\",\"500\":\"1\",\"501\":\"1\",\"502\":\"1\",\"503\":\"1\",\"504\":\"1\",\"505\":\"1\",\"506\":\"5\",\"507\":\"4\",\"508\":\"1\",\"509\":\"1\",\"510\":\"1\",\"511\":\"1\",\"512\":\"1\",\"513\":\"1\",\"514\":\"10\",\"515\":\"10\",\"516\":\"1\",\"517\":\"1\",\"518\":\"1\",\"519\":\"10\",\"520\":\"1\",\"521\":\"1\",\"522\":\"5\",\"523\":\"10\",\"524\":\"1\",\"525\":\"1\",\"526\":\"1\",\"527\":\"1\",\"528\":\"1\",\"529\":\"1\",\"530\":\"10\",\"531\":\"1\",\"532\":\"1\",\"533\":\"1\",\"534\":\"1\",\"535\":\"1\",\"536\":\"1\",\"537\":\"1\",\"538\":\"1\",\"539\":\"1\",\"540\":\"2\",\"541\":\"1\",\"542\":\"1\",\"543\":\"1\",\"544\":\"1\",\"545\":\"1\",\"546\":\"10\",\"547\":\"1\",\"548\":\"1\",\"549\":\"5\",\"550\":\"1\",\"551\":\"1\",\"552\":\"1\",\"553\":\"5\",\"554\":\"1\",\"555\":\"1\",\"556\":\"1\",\"557\":\"1\",\"558\":\"1\",\"559\":\"1\",\"560\":\"1\",\"561\":\"1\",\"562\":\"1\",\"563\":\"1\",\"564\":\"1\",\"565\":\"10\",\"566\":\"1\",\"567\":\"3\",\"568\":\"10\",\"569\":\"5\",\"570\":\"10\",\"571\":\"10\",\"572\":\"1\",\"573\":\"1\",\"574\":\"2\",\"575\":\"1\",\"576\":\"1\",\"577\":\"1\",\"578\":\"1\",\"579\":\"1\",\"580\":\"1\",\"581\":\"10\",\"582\":\"10\",\"583\":\"1\",\"584\":\"1\",\"585\":\"1\",\"586\":\"10\",\"587\":\"1\",\"588\":\"3\",\"589\":\"1\",\"590\":\"1\",\"591\":\"10\",\"592\":\"10\",\"593\":\"1\",\"594\":\"10\",\"595\":\"1\",\"596\":\"1\",\"597\":\"1\",\"598\":\"1\",\"599\":\"1\",\"600\":\"1\",\"601\":\"1\",\"602\":\"1\",\"603\":\"1\",\"604\":\"10\",\"605\":\"8\",\"606\":\"1\",\"607\":\"1\",\"608\":\"10\",\"609\":\"1\",\"610\":\"10\",\"611\":\"2\",\"612\":\"10\",\"613\":\"1\",\"614\":\"1\",\"615\":\"1\",\"616\":\"1\",\"617\":\"?\",\"618\":\"1\",\"619\":\"1\",\"620\":\"1\",\"621\":\"2\",\"622\":\"1\",\"623\":\"1\",\"624\":\"1\",\"625\":\"4\",\"626\":\"6\",\"627\":\"5\",\"628\":\"1\",\"629\":\"1\",\"630\":\"1\",\"631\":\"1\",\"632\":\"1\",\"633\":\"3\",\"634\":\"1\",\"635\":\"1\",\"636\":\"1\",\"637\":\"2\",\"638\":\"1\",\"639\":\"1\",\"640\":\"1\",\"641\":\"1\",\"642\":\"1\",\"643\":\"1\",\"644\":\"1\",\"645\":\"1\",\"646\":\"1\",\"647\":\"1\",\"648\":\"2\",\"649\":\"1\",\"650\":\"4\",\"651\":\"1\",\"652\":\"1\",\"653\":\"1\",\"654\":\"1\",\"655\":\"1\",\"656\":\"1\",\"657\":\"1\",\"658\":\"10\",\"659\":\"1\",\"660\":\"1\",\"661\":\"1\",\"662\":\"1\",\"663\":\"1\",\"664\":\"1\",\"665\":\"1\",\"666\":\"1\",\"667\":\"1\",\"668\":\"1\",\"669\":\"5\",\"670\":\"8\",\"671\":\"1\",\"672\":\"1\",\"673\":\"1\",\"674\":\"1\",\"675\":\"1\",\"676\":\"1\",\"677\":\"1\",\"678\":\"1\",\"679\":\"1\",\"680\":\"10\",\"681\":\"10\",\"682\":\"1\",\"683\":\"1\",\"684\":\"1\",\"685\":\"1\",\"686\":\"1\",\"687\":\"1\",\"688\":\"1\",\"689\":\"1\",\"690\":\"1\",\"691\":\"5\",\"692\":\"1\",\"693\":\"1\",\"694\":\"2\",\"695\":\"1\",\"696\":\"3\",\"697\":\"4\",\"698\":\"5\"},\"Bland Chromatin\":{\"0\":3,\"1\":3,\"2\":3,\"3\":3,\"4\":3,\"5\":9,\"6\":3,\"7\":3,\"8\":1,\"9\":2,\"10\":3,\"11\":2,\"12\":4,\"13\":3,\"14\":5,\"15\":4,\"16\":2,\"17\":3,\"18\":4,\"19\":3,\"20\":5,\"21\":7,\"22\":2,\"23\":7,\"24\":3,\"25\":3,\"26\":2,\"27\":2,\"28\":2,\"29\":1,\"30\":2,\"31\":3,\"32\":7,\"33\":3,\"34\":2,\"35\":2,\"36\":8,\"37\":7,\"38\":5,\"39\":7,\"40\":7,\"41\":6,\"42\":7,\"43\":3,\"44\":8,\"45\":2,\"46\":4,\"47\":2,\"48\":3,\"49\":3,\"50\":2,\"51\":3,\"52\":4,\"53\":7,\"54\":7,\"55\":3,\"56\":3,\"57\":5,\"58\":5,\"59\":5,\"60\":4,\"61\":2,\"62\":3,\"63\":3,\"64\":2,\"65\":4,\"66\":3,\"67\":4,\"68\":8,\"69\":3,\"70\":2,\"71\":7,\"72\":7,\"73\":4,\"74\":3,\"75\":4,\"76\":2,\"77\":2,\"78\":3,\"79\":2,\"80\":7,\"81\":2,\"82\":3,\"83\":7,\"84\":7,\"85\":4,\"86\":4,\"87\":6,\"88\":3,\"89\":2,\"90\":3,\"91\":1,\"92\":3,\"93\":2,\"94\":3,\"95\":3,\"96\":1,\"97\":3,\"98\":2,\"99\":7,\"100\":3,\"101\":2,\"102\":3,\"103\":7,\"104\":8,\"105\":3,\"106\":4,\"107\":5,\"108\":2,\"109\":7,\"110\":5,\"111\":3,\"112\":7,\"113\":8,\"114\":3,\"115\":1,\"116\":3,\"117\":7,\"118\":1,\"119\":3,\"120\":3,\"121\":3,\"122\":5,\"123\":5,\"124\":8,\"125\":2,\"126\":7,\"127\":3,\"128\":1,\"129\":1,\"130\":2,\"131\":3,\"132\":3,\"133\":2,\"134\":2,\"135\":3,\"136\":2,\"137\":1,\"138\":2,\"139\":2,\"140\":1,\"141\":1,\"142\":4,\"143\":1,\"144\":2,\"145\":2,\"146\":4,\"147\":2,\"148\":5,\"149\":7,\"150\":3,\"151\":5,\"152\":8,\"153\":1,\"154\":1,\"155\":3,\"156\":2,\"157\":3,\"158\":1,\"159\":7,\"160\":5,\"161\":3,\"162\":3,\"163\":1,\"164\":3,\"165\":3,\"166\":3,\"167\":3,\"168\":3,\"169\":1,\"170\":1,\"171\":3,\"172\":2,\"173\":10,\"174\":6,\"175\":5,\"176\":3,\"177\":5,\"178\":3,\"179\":3,\"180\":3,\"181\":1,\"182\":3,\"183\":7,\"184\":5,\"185\":3,\"186\":7,\"187\":7,\"188\":9,\"189\":3,\"190\":7,\"191\":4,\"192\":2,\"193\":3,\"194\":3,\"195\":3,\"196\":7,\"197\":3,\"198\":1,\"199\":2,\"200\":7,\"201\":8,\"202\":3,\"203\":3,\"204\":3,\"205\":7,\"206\":3,\"207\":3,\"208\":3,\"209\":3,\"210\":8,\"211\":7,\"212\":3,\"213\":7,\"214\":10,\"215\":5,\"216\":2,\"217\":3,\"218\":8,\"219\":3,\"220\":3,\"221\":9,\"222\":2,\"223\":7,\"224\":7,\"225\":2,\"226\":8,\"227\":7,\"228\":3,\"229\":9,\"230\":7,\"231\":8,\"232\":4,\"233\":4,\"234\":3,\"235\":3,\"236\":4,\"237\":4,\"238\":3,\"239\":5,\"240\":2,\"241\":3,\"242\":3,\"243\":5,\"244\":3,\"245\":3,\"246\":7,\"247\":3,\"248\":3,\"249\":3,\"250\":1,\"251\":5,\"252\":3,\"253\":7,\"254\":3,\"255\":3,\"256\":1,\"257\":2,\"258\":3,\"259\":3,\"260\":5,\"261\":10,\"262\":7,\"263\":5,\"264\":5,\"265\":3,\"266\":4,\"267\":7,\"268\":8,\"269\":3,\"270\":3,\"271\":3,\"272\":7,\"273\":3,\"274\":3,\"275\":2,\"276\":2,\"277\":2,\"278\":3,\"279\":3,\"280\":3,\"281\":3,\"282\":5,\"283\":5,\"284\":3,\"285\":10,\"286\":4,\"287\":2,\"288\":5,\"289\":4,\"290\":1,\"291\":3,\"292\":6,\"293\":2,\"294\":2,\"295\":7,\"296\":4,\"297\":2,\"298\":1,\"299\":7,\"300\":7,\"301\":3,\"302\":7,\"303\":3,\"304\":3,\"305\":3,\"306\":3,\"307\":3,\"308\":8,\"309\":5,\"310\":2,\"311\":1,\"312\":3,\"313\":1,\"314\":2,\"315\":4,\"316\":4,\"317\":8,\"318\":3,\"319\":7,\"320\":7,\"321\":3,\"322\":3,\"323\":4,\"324\":3,\"325\":2,\"326\":5,\"327\":2,\"328\":3,\"329\":7,\"330\":6,\"331\":3,\"332\":2,\"333\":4,\"334\":3,\"335\":1,\"336\":3,\"337\":3,\"338\":2,\"339\":4,\"340\":7,\"341\":3,\"342\":1,\"343\":1,\"344\":9,\"345\":1,\"346\":1,\"347\":1,\"348\":3,\"349\":7,\"350\":1,\"351\":3,\"352\":4,\"353\":4,\"354\":2,\"355\":2,\"356\":3,\"357\":7,\"358\":4,\"359\":3,\"360\":8,\"361\":5,\"362\":2,\"363\":2,\"364\":3,\"365\":2,\"366\":7,\"367\":8,\"368\":1,\"369\":2,\"370\":2,\"371\":1,\"372\":2,\"373\":2,\"374\":2,\"375\":1,\"376\":2,\"377\":2,\"378\":2,\"379\":3,\"380\":1,\"381\":7,\"382\":3,\"383\":1,\"384\":1,\"385\":1,\"386\":7,\"387\":3,\"388\":2,\"389\":2,\"390\":2,\"391\":7,\"392\":2,\"393\":1,\"394\":2,\"395\":2,\"396\":3,\"397\":1,\"398\":2,\"399\":1,\"400\":9,\"401\":1,\"402\":2,\"403\":1,\"404\":1,\"405\":2,\"406\":2,\"407\":2,\"408\":3,\"409\":2,\"410\":2,\"411\":2,\"412\":8,\"413\":3,\"414\":6,\"415\":3,\"416\":7,\"417\":2,\"418\":3,\"419\":1,\"420\":3,\"421\":8,\"422\":3,\"423\":2,\"424\":1,\"425\":10,\"426\":1,\"427\":5,\"428\":2,\"429\":2,\"430\":2,\"431\":3,\"432\":2,\"433\":1,\"434\":4,\"435\":5,\"436\":2,\"437\":1,\"438\":1,\"439\":1,\"440\":10,\"441\":1,\"442\":1,\"443\":1,\"444\":2,\"445\":1,\"446\":1,\"447\":1,\"448\":1,\"449\":8,\"450\":2,\"451\":1,\"452\":1,\"453\":10,\"454\":1,\"455\":1,\"456\":8,\"457\":10,\"458\":1,\"459\":1,\"460\":1,\"461\":1,\"462\":1,\"463\":1,\"464\":1,\"465\":7,\"466\":9,\"467\":7,\"468\":1,\"469\":2,\"470\":2,\"471\":1,\"472\":1,\"473\":1,\"474\":1,\"475\":1,\"476\":1,\"477\":1,\"478\":1,\"479\":7,\"480\":1,\"481\":1,\"482\":10,\"483\":9,\"484\":1,\"485\":1,\"486\":2,\"487\":8,\"488\":3,\"489\":4,\"490\":1,\"491\":7,\"492\":2,\"493\":6,\"494\":2,\"495\":2,\"496\":1,\"497\":1,\"498\":2,\"499\":2,\"500\":3,\"501\":2,\"502\":2,\"503\":3,\"504\":1,\"505\":1,\"506\":4,\"507\":1,\"508\":1,\"509\":1,\"510\":1,\"511\":2,\"512\":1,\"513\":2,\"514\":8,\"515\":9,\"516\":1,\"517\":2,\"518\":1,\"519\":9,\"520\":1,\"521\":1,\"522\":7,\"523\":5,\"524\":2,\"525\":1,\"526\":1,\"527\":3,\"528\":1,\"529\":2,\"530\":6,\"531\":2,\"532\":3,\"533\":2,\"534\":2,\"535\":3,\"536\":3,\"537\":3,\"538\":2,\"539\":2,\"540\":2,\"541\":1,\"542\":1,\"543\":2,\"544\":2,\"545\":2,\"546\":7,\"547\":1,\"548\":1,\"549\":7,\"550\":2,\"551\":3,\"552\":4,\"553\":2,\"554\":1,\"555\":4,\"556\":2,\"557\":1,\"558\":2,\"559\":2,\"560\":3,\"561\":3,\"562\":3,\"563\":2,\"564\":3,\"565\":10,\"566\":3,\"567\":2,\"568\":2,\"569\":10,\"570\":8,\"571\":9,\"572\":2,\"573\":2,\"574\":7,\"575\":3,\"576\":2,\"577\":2,\"578\":2,\"579\":3,\"580\":2,\"581\":7,\"582\":6,\"583\":1,\"584\":1,\"585\":1,\"586\":10,\"587\":2,\"588\":4,\"589\":1,\"590\":10,\"591\":7,\"592\":4,\"593\":1,\"594\":7,\"595\":2,\"596\":2,\"597\":3,\"598\":2,\"599\":1,\"600\":2,\"601\":2,\"602\":2,\"603\":8,\"604\":8,\"605\":7,\"606\":1,\"607\":1,\"608\":10,\"609\":1,\"610\":7,\"611\":8,\"612\":10,\"613\":2,\"614\":2,\"615\":2,\"616\":2,\"617\":1,\"618\":2,\"619\":2,\"620\":2,\"621\":6,\"622\":2,\"623\":1,\"624\":2,\"625\":1,\"626\":7,\"627\":1,\"628\":1,\"629\":1,\"630\":1,\"631\":2,\"632\":1,\"633\":5,\"634\":1,\"635\":1,\"636\":10,\"637\":2,\"638\":1,\"639\":1,\"640\":1,\"641\":2,\"642\":2,\"643\":1,\"644\":1,\"645\":2,\"646\":1,\"647\":1,\"648\":10,\"649\":2,\"650\":1,\"651\":2,\"652\":2,\"653\":2,\"654\":3,\"655\":2,\"656\":2,\"657\":3,\"658\":7,\"659\":1,\"660\":2,\"661\":3,\"662\":2,\"663\":2,\"664\":2,\"665\":1,\"666\":1,\"667\":3,\"668\":7,\"669\":7,\"670\":7,\"671\":3,\"672\":3,\"673\":1,\"674\":2,\"675\":1,\"676\":2,\"677\":1,\"678\":1,\"679\":1,\"680\":10,\"681\":5,\"682\":3,\"683\":1,\"684\":1,\"685\":1,\"686\":1,\"687\":2,\"688\":1,\"689\":1,\"690\":1,\"691\":4,\"692\":1,\"693\":2,\"694\":1,\"695\":1,\"696\":8,\"697\":10,\"698\":10},\"Normal Nucleoli\":{\"0\":1,\"1\":2,\"2\":1,\"3\":7,\"4\":1,\"5\":7,\"6\":1,\"7\":1,\"8\":1,\"9\":1,\"10\":1,\"11\":1,\"12\":4,\"13\":1,\"14\":5,\"15\":3,\"16\":1,\"17\":1,\"18\":1,\"19\":1,\"20\":4,\"21\":10,\"22\":1,\"23\":3,\"24\":1,\"25\":6,\"26\":1,\"27\":1,\"28\":1,\"29\":1,\"30\":1,\"31\":1,\"32\":4,\"33\":1,\"34\":1,\"35\":1,\"36\":9,\"37\":1,\"38\":6,\"39\":5,\"40\":8,\"41\":5,\"42\":3,\"43\":1,\"44\":10,\"45\":1,\"46\":8,\"47\":1,\"48\":1,\"49\":8,\"50\":1,\"51\":4,\"52\":10,\"53\":3,\"54\":1,\"55\":6,\"56\":9,\"57\":4,\"58\":1,\"59\":1,\"60\":10,\"61\":1,\"62\":3,\"63\":9,\"64\":1,\"65\":3,\"66\":1,\"67\":9,\"68\":9,\"69\":2,\"70\":1,\"71\":8,\"72\":2,\"73\":8,\"74\":2,\"75\":2,\"76\":1,\"77\":1,\"78\":1,\"79\":1,\"80\":1,\"81\":1,\"82\":1,\"83\":1,\"84\":10,\"85\":10,\"86\":4,\"87\":8,\"88\":1,\"89\":1,\"90\":1,\"91\":1,\"92\":1,\"93\":1,\"94\":1,\"95\":1,\"96\":1,\"97\":1,\"98\":9,\"99\":9,\"100\":10,\"101\":5,\"102\":1,\"103\":1,\"104\":8,\"105\":2,\"106\":1,\"107\":7,\"108\":3,\"109\":8,\"110\":3,\"111\":1,\"112\":3,\"113\":1,\"114\":1,\"115\":1,\"116\":2,\"117\":5,\"118\":1,\"119\":1,\"120\":1,\"121\":1,\"122\":3,\"123\":3,\"124\":10,\"125\":1,\"126\":5,\"127\":1,\"128\":6,\"129\":1,\"130\":1,\"131\":1,\"132\":6,\"133\":2,\"134\":1,\"135\":3,\"136\":1,\"137\":1,\"138\":1,\"139\":1,\"140\":1,\"141\":1,\"142\":3,\"143\":1,\"144\":1,\"145\":1,\"146\":1,\"147\":1,\"148\":8,\"149\":8,\"150\":1,\"151\":4,\"152\":10,\"153\":1,\"154\":1,\"155\":1,\"156\":1,\"157\":1,\"158\":1,\"159\":10,\"160\":7,\"161\":2,\"162\":1,\"163\":1,\"164\":1,\"165\":2,\"166\":10,\"167\":1,\"168\":1,\"169\":1,\"170\":1,\"171\":1,\"172\":1,\"173\":10,\"174\":1,\"175\":7,\"176\":1,\"177\":10,\"178\":1,\"179\":1,\"180\":1,\"181\":1,\"182\":1,\"183\":8,\"184\":1,\"185\":1,\"186\":10,\"187\":7,\"188\":10,\"189\":1,\"190\":10,\"191\":10,\"192\":1,\"193\":1,\"194\":1,\"195\":1,\"196\":8,\"197\":1,\"198\":1,\"199\":1,\"200\":8,\"201\":1,\"202\":1,\"203\":1,\"204\":1,\"205\":10,\"206\":5,\"207\":1,\"208\":1,\"209\":1,\"210\":10,\"211\":7,\"212\":1,\"213\":10,\"214\":6,\"215\":10,\"216\":1,\"217\":1,\"218\":10,\"219\":1,\"220\":1,\"221\":10,\"222\":1,\"223\":4,\"224\":9,\"225\":1,\"226\":9,\"227\":7,\"228\":1,\"229\":10,\"230\":6,\"231\":9,\"232\":3,\"233\":1,\"234\":6,\"235\":1,\"236\":8,\"237\":10,\"238\":10,\"239\":3,\"240\":3,\"241\":1,\"242\":1,\"243\":1,\"244\":1,\"245\":1,\"246\":8,\"247\":3,\"248\":6,\"249\":1,\"250\":1,\"251\":3,\"252\":5,\"253\":3,\"254\":3,\"255\":6,\"256\":1,\"257\":1,\"258\":1,\"259\":4,\"260\":1,\"261\":6,\"262\":8,\"263\":5,\"264\":3,\"265\":2,\"266\":3,\"267\":1,\"268\":7,\"269\":1,\"270\":9,\"271\":1,\"272\":1,\"273\":3,\"274\":2,\"275\":1,\"276\":1,\"277\":1,\"278\":1,\"279\":3,\"280\":1,\"281\":1,\"282\":6,\"283\":3,\"284\":8,\"285\":7,\"286\":10,\"287\":1,\"288\":10,\"289\":10,\"290\":1,\"291\":1,\"292\":10,\"293\":3,\"294\":1,\"295\":4,\"296\":7,\"297\":3,\"298\":1,\"299\":7,\"300\":10,\"301\":1,\"302\":10,\"303\":1,\"304\":3,\"305\":10,\"306\":1,\"307\":1,\"308\":8,\"309\":1,\"310\":1,\"311\":1,\"312\":5,\"313\":1,\"314\":1,\"315\":9,\"316\":3,\"317\":9,\"318\":1,\"319\":3,\"320\":4,\"321\":1,\"322\":1,\"323\":1,\"324\":1,\"325\":3,\"326\":4,\"327\":1,\"328\":10,\"329\":1,\"330\":1,\"331\":1,\"332\":2,\"333\":3,\"334\":4,\"335\":1,\"336\":4,\"337\":1,\"338\":1,\"339\":3,\"340\":6,\"341\":1,\"342\":1,\"343\":1,\"344\":5,\"345\":1,\"346\":3,\"347\":3,\"348\":3,\"349\":6,\"350\":1,\"351\":1,\"352\":6,\"353\":9,\"354\":1,\"355\":2,\"356\":3,\"357\":3,\"358\":10,\"359\":5,\"360\":10,\"361\":1,\"362\":1,\"363\":1,\"364\":1,\"365\":1,\"366\":10,\"367\":10,\"368\":1,\"369\":1,\"370\":1,\"371\":1,\"372\":1,\"373\":1,\"374\":1,\"375\":1,\"376\":1,\"377\":1,\"378\":2,\"379\":1,\"380\":1,\"381\":8,\"382\":2,\"383\":1,\"384\":1,\"385\":2,\"386\":1,\"387\":1,\"388\":2,\"389\":2,\"390\":1,\"391\":9,\"392\":1,\"393\":1,\"394\":1,\"395\":1,\"396\":1,\"397\":1,\"398\":2,\"399\":1,\"400\":3,\"401\":1,\"402\":1,\"403\":1,\"404\":2,\"405\":1,\"406\":1,\"407\":1,\"408\":1,\"409\":1,\"410\":1,\"411\":1,\"412\":5,\"413\":1,\"414\":6,\"415\":5,\"416\":2,\"417\":1,\"418\":2,\"419\":1,\"420\":1,\"421\":2,\"422\":3,\"423\":1,\"424\":1,\"425\":10,\"426\":1,\"427\":10,\"428\":1,\"429\":1,\"430\":2,\"431\":2,\"432\":2,\"433\":1,\"434\":2,\"435\":1,\"436\":8,\"437\":1,\"438\":1,\"439\":1,\"440\":1,\"441\":1,\"442\":1,\"443\":1,\"444\":1,\"445\":1,\"446\":1,\"447\":1,\"448\":1,\"449\":10,\"450\":1,\"451\":1,\"452\":1,\"453\":7,\"454\":1,\"455\":1,\"456\":6,\"457\":10,\"458\":1,\"459\":1,\"460\":1,\"461\":1,\"462\":1,\"463\":2,\"464\":1,\"465\":10,\"466\":7,\"467\":6,\"468\":1,\"469\":1,\"470\":1,\"471\":1,\"472\":1,\"473\":1,\"474\":1,\"475\":1,\"476\":1,\"477\":1,\"478\":1,\"479\":5,\"480\":1,\"481\":1,\"482\":10,\"483\":10,\"484\":1,\"485\":1,\"486\":1,\"487\":1,\"488\":4,\"489\":1,\"490\":1,\"491\":1,\"492\":1,\"493\":5,\"494\":1,\"495\":1,\"496\":1,\"497\":1,\"498\":1,\"499\":1,\"500\":1,\"501\":1,\"502\":1,\"503\":1,\"504\":1,\"505\":1,\"506\":8,\"507\":1,\"508\":1,\"509\":1,\"510\":1,\"511\":1,\"512\":1,\"513\":1,\"514\":10,\"515\":10,\"516\":1,\"517\":1,\"518\":1,\"519\":1,\"520\":1,\"521\":1,\"522\":3,\"523\":3,\"524\":1,\"525\":1,\"526\":1,\"527\":1,\"528\":1,\"529\":1,\"530\":9,\"531\":1,\"532\":1,\"533\":1,\"534\":1,\"535\":1,\"536\":1,\"537\":1,\"538\":1,\"539\":1,\"540\":1,\"541\":1,\"542\":1,\"543\":1,\"544\":1,\"545\":1,\"546\":10,\"547\":1,\"548\":1,\"549\":8,\"550\":1,\"551\":1,\"552\":2,\"553\":1,\"554\":1,\"555\":8,\"556\":1,\"557\":1,\"558\":1,\"559\":1,\"560\":1,\"561\":1,\"562\":1,\"563\":1,\"564\":2,\"565\":10,\"566\":1,\"567\":1,\"568\":5,\"569\":3,\"570\":2,\"571\":10,\"572\":1,\"573\":1,\"574\":7,\"575\":1,\"576\":1,\"577\":1,\"578\":1,\"579\":1,\"580\":1,\"581\":5,\"582\":10,\"583\":1,\"584\":1,\"585\":1,\"586\":10,\"587\":2,\"588\":1,\"589\":1,\"590\":1,\"591\":6,\"592\":1,\"593\":1,\"594\":1,\"595\":1,\"596\":1,\"597\":1,\"598\":1,\"599\":1,\"600\":1,\"601\":1,\"602\":1,\"603\":10,\"604\":1,\"605\":8,\"606\":1,\"607\":1,\"608\":1,\"609\":1,\"610\":1,\"611\":5,\"612\":10,\"613\":1,\"614\":1,\"615\":1,\"616\":1,\"617\":1,\"618\":1,\"619\":1,\"620\":1,\"621\":1,\"622\":1,\"623\":1,\"624\":1,\"625\":1,\"626\":7,\"627\":1,\"628\":1,\"629\":1,\"630\":1,\"631\":1,\"632\":1,\"633\":10,\"634\":1,\"635\":1,\"636\":10,\"637\":1,\"638\":1,\"639\":1,\"640\":1,\"641\":1,\"642\":1,\"643\":1,\"644\":1,\"645\":1,\"646\":1,\"647\":1,\"648\":10,\"649\":1,\"650\":1,\"651\":1,\"652\":2,\"653\":1,\"654\":1,\"655\":1,\"656\":1,\"657\":6,\"658\":2,\"659\":1,\"660\":1,\"661\":1,\"662\":1,\"663\":1,\"664\":1,\"665\":1,\"666\":1,\"667\":1,\"668\":10,\"669\":10,\"670\":4,\"671\":1,\"672\":1,\"673\":1,\"674\":1,\"675\":1,\"676\":1,\"677\":1,\"678\":1,\"679\":1,\"680\":10,\"681\":6,\"682\":2,\"683\":1,\"684\":1,\"685\":1,\"686\":1,\"687\":3,\"688\":1,\"689\":1,\"690\":1,\"691\":4,\"692\":1,\"693\":1,\"694\":1,\"695\":1,\"696\":10,\"697\":6,\"698\":4},\"Mitoses\":{\"0\":1,\"1\":1,\"2\":1,\"3\":1,\"4\":1,\"5\":1,\"6\":1,\"7\":1,\"8\":5,\"9\":1,\"10\":1,\"11\":1,\"12\":1,\"13\":1,\"14\":4,\"15\":1,\"16\":1,\"17\":1,\"18\":2,\"19\":1,\"20\":4,\"21\":1,\"22\":1,\"23\":1,\"24\":1,\"25\":1,\"26\":1,\"27\":1,\"28\":1,\"29\":1,\"30\":1,\"31\":1,\"32\":3,\"33\":1,\"34\":1,\"35\":1,\"36\":1,\"37\":1,\"38\":1,\"39\":1,\"40\":1,\"41\":2,\"42\":3,\"43\":1,\"44\":1,\"45\":2,\"46\":1,\"47\":1,\"48\":1,\"49\":2,\"50\":5,\"51\":1,\"52\":2,\"53\":7,\"54\":1,\"55\":1,\"56\":1,\"57\":4,\"58\":1,\"59\":1,\"60\":1,\"61\":1,\"62\":1,\"63\":1,\"64\":1,\"65\":10,\"66\":1,\"67\":1,\"68\":8,\"69\":1,\"70\":1,\"71\":10,\"72\":1,\"73\":1,\"74\":3,\"75\":1,\"76\":1,\"77\":1,\"78\":1,\"79\":1,\"80\":1,\"81\":1,\"82\":1,\"83\":1,\"84\":7,\"85\":10,\"86\":1,\"87\":3,\"88\":1,\"89\":1,\"90\":1,\"91\":1,\"92\":1,\"93\":1,\"94\":1,\"95\":1,\"96\":1,\"97\":1,\"98\":10,\"99\":4,\"100\":2,\"101\":1,\"102\":1,\"103\":1,\"104\":8,\"105\":7,\"106\":1,\"107\":1,\"108\":1,\"109\":3,\"110\":2,\"111\":1,\"112\":3,\"113\":1,\"114\":1,\"115\":1,\"116\":1,\"117\":8,\"118\":1,\"119\":1,\"120\":1,\"121\":1,\"122\":3,\"123\":1,\"124\":1,\"125\":1,\"126\":5,\"127\":1,\"128\":2,\"129\":1,\"130\":1,\"131\":1,\"132\":3,\"133\":1,\"134\":1,\"135\":1,\"136\":1,\"137\":1,\"138\":1,\"139\":1,\"140\":1,\"141\":1,\"142\":3,\"143\":1,\"144\":1,\"145\":1,\"146\":1,\"147\":1,\"148\":1,\"149\":7,\"150\":1,\"151\":3,\"152\":1,\"153\":1,\"154\":1,\"155\":1,\"156\":1,\"157\":1,\"158\":1,\"159\":6,\"160\":2,\"161\":1,\"162\":1,\"163\":7,\"164\":1,\"165\":1,\"166\":3,\"167\":10,\"168\":1,\"169\":1,\"170\":1,\"171\":1,\"172\":1,\"173\":7,\"174\":1,\"175\":1,\"176\":1,\"177\":3,\"178\":1,\"179\":1,\"180\":1,\"181\":1,\"182\":1,\"183\":1,\"184\":1,\"185\":1,\"186\":1,\"187\":10,\"188\":1,\"189\":1,\"190\":1,\"191\":3,\"192\":1,\"193\":1,\"194\":1,\"195\":1,\"196\":2,\"197\":1,\"198\":1,\"199\":1,\"200\":3,\"201\":1,\"202\":1,\"203\":1,\"204\":1,\"205\":5,\"206\":1,\"207\":1,\"208\":1,\"209\":1,\"210\":6,\"211\":1,\"212\":1,\"213\":4,\"214\":1,\"215\":2,\"216\":1,\"217\":1,\"218\":2,\"219\":1,\"220\":1,\"221\":1,\"222\":1,\"223\":1,\"224\":2,\"225\":1,\"226\":1,\"227\":1,\"228\":1,\"229\":1,\"230\":1,\"231\":2,\"232\":1,\"233\":1,\"234\":1,\"235\":1,\"236\":10,\"237\":4,\"238\":10,\"239\":2,\"240\":1,\"241\":1,\"242\":1,\"243\":1,\"244\":1,\"245\":1,\"246\":1,\"247\":1,\"248\":1,\"249\":1,\"250\":1,\"251\":3,\"252\":3,\"253\":3,\"254\":1,\"255\":1,\"256\":1,\"257\":1,\"258\":1,\"259\":1,\"260\":3,\"261\":5,\"262\":1,\"263\":1,\"264\":3,\"265\":1,\"266\":2,\"267\":1,\"268\":8,\"269\":1,\"270\":2,\"271\":1,\"272\":1,\"273\":1,\"274\":1,\"275\":1,\"276\":1,\"277\":1,\"278\":1,\"279\":8,\"280\":1,\"281\":1,\"282\":1,\"283\":1,\"284\":2,\"285\":3,\"286\":10,\"287\":1,\"288\":1,\"289\":4,\"290\":1,\"291\":1,\"292\":1,\"293\":1,\"294\":1,\"295\":1,\"296\":1,\"297\":1,\"298\":1,\"299\":2,\"300\":1,\"301\":1,\"302\":10,\"303\":1,\"304\":1,\"305\":4,\"306\":1,\"307\":1,\"308\":4,\"309\":1,\"310\":1,\"311\":1,\"312\":1,\"313\":1,\"314\":1,\"315\":1,\"316\":1,\"317\":1,\"318\":1,\"319\":1,\"320\":6,\"321\":1,\"322\":1,\"323\":1,\"324\":1,\"325\":1,\"326\":1,\"327\":1,\"328\":1,\"329\":1,\"330\":1,\"331\":2,\"332\":1,\"333\":1,\"334\":2,\"335\":1,\"336\":1,\"337\":1,\"338\":1,\"339\":1,\"340\":1,\"341\":1,\"342\":1,\"343\":1,\"344\":3,\"345\":1,\"346\":1,\"347\":1,\"348\":1,\"349\":1,\"350\":1,\"351\":1,\"352\":1,\"353\":4,\"354\":1,\"355\":1,\"356\":3,\"357\":8,\"358\":3,\"359\":3,\"360\":10,\"361\":4,\"362\":1,\"363\":1,\"364\":1,\"365\":1,\"366\":7,\"367\":3,\"368\":1,\"369\":1,\"370\":1,\"371\":1,\"372\":1,\"373\":1,\"374\":1,\"375\":1,\"376\":1,\"377\":1,\"378\":1,\"379\":1,\"380\":1,\"381\":4,\"382\":1,\"383\":1,\"384\":1,\"385\":3,\"386\":1,\"387\":1,\"388\":1,\"389\":1,\"390\":1,\"391\":1,\"392\":1,\"393\":1,\"394\":1,\"395\":1,\"396\":1,\"397\":1,\"398\":1,\"399\":1,\"400\":8,\"401\":1,\"402\":1,\"403\":1,\"404\":1,\"405\":1,\"406\":1,\"407\":1,\"408\":1,\"409\":1,\"410\":1,\"411\":1,\"412\":1,\"413\":1,\"414\":1,\"415\":1,\"416\":1,\"417\":1,\"418\":2,\"419\":1,\"420\":1,\"421\":1,\"422\":1,\"423\":1,\"424\":1,\"425\":1,\"426\":1,\"427\":1,\"428\":1,\"429\":1,\"430\":1,\"431\":1,\"432\":1,\"433\":1,\"434\":1,\"435\":1,\"436\":1,\"437\":1,\"438\":1,\"439\":1,\"440\":1,\"441\":1,\"442\":1,\"443\":1,\"444\":1,\"445\":1,\"446\":1,\"447\":1,\"448\":1,\"449\":1,\"450\":1,\"451\":1,\"452\":1,\"453\":1,\"454\":1,\"455\":2,\"456\":1,\"457\":1,\"458\":1,\"459\":1,\"460\":1,\"461\":1,\"462\":1,\"463\":1,\"464\":1,\"465\":3,\"466\":1,\"467\":2,\"468\":1,\"469\":1,\"470\":1,\"471\":1,\"472\":1,\"473\":1,\"474\":1,\"475\":1,\"476\":1,\"477\":1,\"478\":1,\"479\":1,\"480\":1,\"481\":1,\"482\":10,\"483\":1,\"484\":1,\"485\":1,\"486\":1,\"487\":5,\"488\":1,\"489\":1,\"490\":1,\"491\":1,\"492\":1,\"493\":2,\"494\":1,\"495\":1,\"496\":1,\"497\":1,\"498\":1,\"499\":1,\"500\":1,\"501\":1,\"502\":1,\"503\":1,\"504\":1,\"505\":1,\"506\":7,\"507\":1,\"508\":1,\"509\":1,\"510\":1,\"511\":1,\"512\":1,\"513\":1,\"514\":2,\"515\":1,\"516\":1,\"517\":1,\"518\":1,\"519\":1,\"520\":1,\"521\":1,\"522\":1,\"523\":1,\"524\":1,\"525\":1,\"526\":1,\"527\":1,\"528\":1,\"529\":1,\"530\":1,\"531\":1,\"532\":1,\"533\":1,\"534\":1,\"535\":1,\"536\":1,\"537\":1,\"538\":1,\"539\":1,\"540\":1,\"541\":1,\"542\":1,\"543\":1,\"544\":1,\"545\":1,\"546\":1,\"547\":1,\"548\":1,\"549\":2,\"550\":1,\"551\":1,\"552\":1,\"553\":2,\"554\":1,\"555\":1,\"556\":1,\"557\":1,\"558\":1,\"559\":1,\"560\":1,\"561\":1,\"562\":1,\"563\":1,\"564\":1,\"565\":1,\"566\":1,\"567\":1,\"568\":2,\"569\":1,\"570\":1,\"571\":2,\"572\":1,\"573\":1,\"574\":1,\"575\":1,\"576\":1,\"577\":1,\"578\":1,\"579\":1,\"580\":1,\"581\":1,\"582\":1,\"583\":1,\"584\":1,\"585\":1,\"586\":1,\"587\":1,\"588\":1,\"589\":1,\"590\":1,\"591\":1,\"592\":1,\"593\":1,\"594\":1,\"595\":1,\"596\":1,\"597\":1,\"598\":1,\"599\":1,\"600\":1,\"601\":1,\"602\":1,\"603\":1,\"604\":2,\"605\":3,\"606\":1,\"607\":1,\"608\":1,\"609\":1,\"610\":2,\"611\":1,\"612\":10,\"613\":1,\"614\":1,\"615\":1,\"616\":1,\"617\":1,\"618\":1,\"619\":1,\"620\":1,\"621\":1,\"622\":1,\"623\":1,\"624\":1,\"625\":1,\"626\":3,\"627\":1,\"628\":1,\"629\":1,\"630\":1,\"631\":1,\"632\":1,\"633\":1,\"634\":1,\"635\":1,\"636\":3,\"637\":1,\"638\":1,\"639\":1,\"640\":1,\"641\":1,\"642\":1,\"643\":1,\"644\":1,\"645\":1,\"646\":1,\"647\":1,\"648\":10,\"649\":1,\"650\":1,\"651\":1,\"652\":1,\"653\":1,\"654\":1,\"655\":1,\"656\":1,\"657\":1,\"658\":3,\"659\":1,\"660\":1,\"661\":1,\"662\":1,\"663\":1,\"664\":1,\"665\":1,\"666\":2,\"667\":1,\"668\":3,\"669\":1,\"670\":1,\"671\":1,\"672\":1,\"673\":1,\"674\":1,\"675\":1,\"676\":1,\"677\":1,\"678\":1,\"679\":1,\"680\":7,\"681\":3,\"682\":1,\"683\":1,\"684\":1,\"685\":1,\"686\":1,\"687\":1,\"688\":1,\"689\":8,\"690\":1,\"691\":1,\"692\":1,\"693\":2,\"694\":1,\"695\":1,\"696\":2,\"697\":1,\"698\":1},\"Class\":{\"0\":2,\"1\":2,\"2\":2,\"3\":2,\"4\":2,\"5\":4,\"6\":2,\"7\":2,\"8\":2,\"9\":2,\"10\":2,\"11\":2,\"12\":4,\"13\":2,\"14\":4,\"15\":4,\"16\":2,\"17\":2,\"18\":4,\"19\":2,\"20\":4,\"21\":4,\"22\":2,\"23\":4,\"24\":2,\"25\":4,\"26\":2,\"27\":2,\"28\":2,\"29\":2,\"30\":2,\"31\":2,\"32\":4,\"33\":2,\"34\":2,\"35\":2,\"36\":4,\"37\":2,\"38\":4,\"39\":4,\"40\":2,\"41\":4,\"42\":4,\"43\":4,\"44\":4,\"45\":2,\"46\":4,\"47\":2,\"48\":2,\"49\":4,\"50\":4,\"51\":4,\"52\":4,\"53\":4,\"54\":4,\"55\":4,\"56\":4,\"57\":4,\"58\":4,\"59\":4,\"60\":4,\"61\":2,\"62\":4,\"63\":4,\"64\":2,\"65\":4,\"66\":2,\"67\":4,\"68\":4,\"69\":2,\"70\":2,\"71\":4,\"72\":2,\"73\":4,\"74\":4,\"75\":2,\"76\":2,\"77\":2,\"78\":2,\"79\":2,\"80\":2,\"81\":2,\"82\":2,\"83\":2,\"84\":4,\"85\":4,\"86\":4,\"87\":4,\"88\":2,\"89\":2,\"90\":2,\"91\":2,\"92\":2,\"93\":2,\"94\":2,\"95\":2,\"96\":2,\"97\":2,\"98\":4,\"99\":4,\"100\":4,\"101\":4,\"102\":2,\"103\":4,\"104\":4,\"105\":4,\"106\":4,\"107\":4,\"108\":2,\"109\":4,\"110\":2,\"111\":4,\"112\":4,\"113\":4,\"114\":2,\"115\":2,\"116\":2,\"117\":4,\"118\":2,\"119\":2,\"120\":2,\"121\":2,\"122\":4,\"123\":4,\"124\":4,\"125\":2,\"126\":4,\"127\":2,\"128\":4,\"129\":2,\"130\":2,\"131\":2,\"132\":4,\"133\":2,\"134\":2,\"135\":2,\"136\":2,\"137\":2,\"138\":2,\"139\":2,\"140\":2,\"141\":2,\"142\":4,\"143\":2,\"144\":2,\"145\":2,\"146\":4,\"147\":2,\"148\":2,\"149\":4,\"150\":2,\"151\":4,\"152\":4,\"153\":2,\"154\":2,\"155\":4,\"156\":2,\"157\":2,\"158\":2,\"159\":4,\"160\":4,\"161\":2,\"162\":2,\"163\":2,\"164\":2,\"165\":2,\"166\":4,\"167\":4,\"168\":2,\"169\":2,\"170\":2,\"171\":2,\"172\":2,\"173\":4,\"174\":4,\"175\":4,\"176\":2,\"177\":4,\"178\":2,\"179\":4,\"180\":2,\"181\":2,\"182\":2,\"183\":4,\"184\":4,\"185\":2,\"186\":4,\"187\":4,\"188\":4,\"189\":2,\"190\":4,\"191\":4,\"192\":2,\"193\":2,\"194\":2,\"195\":2,\"196\":2,\"197\":2,\"198\":2,\"199\":2,\"200\":4,\"201\":4,\"202\":2,\"203\":2,\"204\":2,\"205\":4,\"206\":4,\"207\":2,\"208\":2,\"209\":2,\"210\":4,\"211\":4,\"212\":2,\"213\":4,\"214\":4,\"215\":4,\"216\":2,\"217\":2,\"218\":4,\"219\":2,\"220\":2,\"221\":4,\"222\":4,\"223\":4,\"224\":4,\"225\":2,\"226\":4,\"227\":4,\"228\":2,\"229\":4,\"230\":4,\"231\":4,\"232\":2,\"233\":4,\"234\":2,\"235\":2,\"236\":4,\"237\":4,\"238\":4,\"239\":4,\"240\":2,\"241\":2,\"242\":2,\"243\":2,\"244\":2,\"245\":2,\"246\":4,\"247\":4,\"248\":2,\"249\":2,\"250\":2,\"251\":4,\"252\":2,\"253\":4,\"254\":4,\"255\":4,\"256\":2,\"257\":2,\"258\":2,\"259\":2,\"260\":4,\"261\":4,\"262\":4,\"263\":4,\"264\":4,\"265\":2,\"266\":4,\"267\":4,\"268\":4,\"269\":2,\"270\":4,\"271\":2,\"272\":4,\"273\":4,\"274\":2,\"275\":2,\"276\":2,\"277\":2,\"278\":2,\"279\":4,\"280\":2,\"281\":2,\"282\":4,\"283\":4,\"284\":4,\"285\":4,\"286\":4,\"287\":2,\"288\":4,\"289\":4,\"290\":2,\"291\":2,\"292\":4,\"293\":4,\"294\":2,\"295\":4,\"296\":2,\"297\":2,\"298\":2,\"299\":4,\"300\":4,\"301\":2,\"302\":4,\"303\":2,\"304\":4,\"305\":4,\"306\":2,\"307\":2,\"308\":4,\"309\":2,\"310\":2,\"311\":2,\"312\":4,\"313\":2,\"314\":2,\"315\":2,\"316\":4,\"317\":4,\"318\":2,\"319\":2,\"320\":4,\"321\":2,\"322\":2,\"323\":4,\"324\":2,\"325\":2,\"326\":4,\"327\":2,\"328\":4,\"329\":4,\"330\":4,\"331\":2,\"332\":2,\"333\":4,\"334\":4,\"335\":2,\"336\":4,\"337\":2,\"338\":2,\"339\":4,\"340\":4,\"341\":2,\"342\":2,\"343\":2,\"344\":4,\"345\":2,\"346\":2,\"347\":2,\"348\":4,\"349\":4,\"350\":2,\"351\":2,\"352\":2,\"353\":4,\"354\":2,\"355\":2,\"356\":4,\"357\":4,\"358\":4,\"359\":4,\"360\":4,\"361\":4,\"362\":2,\"363\":2,\"364\":2,\"365\":2,\"366\":4,\"367\":4,\"368\":2,\"369\":2,\"370\":2,\"371\":2,\"372\":2,\"373\":2,\"374\":2,\"375\":2,\"376\":2,\"377\":2,\"378\":2,\"379\":2,\"380\":2,\"381\":4,\"382\":2,\"383\":2,\"384\":2,\"385\":2,\"386\":4,\"387\":2,\"388\":2,\"389\":2,\"390\":2,\"391\":4,\"392\":2,\"393\":2,\"394\":2,\"395\":2,\"396\":2,\"397\":2,\"398\":2,\"399\":2,\"400\":4,\"401\":2,\"402\":2,\"403\":2,\"404\":2,\"405\":2,\"406\":2,\"407\":2,\"408\":2,\"409\":2,\"410\":2,\"411\":2,\"412\":4,\"413\":2,\"414\":4,\"415\":2,\"416\":4,\"417\":2,\"418\":2,\"419\":2,\"420\":2,\"421\":4,\"422\":2,\"423\":2,\"424\":2,\"425\":4,\"426\":2,\"427\":4,\"428\":2,\"429\":2,\"430\":2,\"431\":2,\"432\":2,\"433\":2,\"434\":2,\"435\":4,\"436\":4,\"437\":2,\"438\":2,\"439\":2,\"440\":4,\"441\":2,\"442\":2,\"443\":2,\"444\":2,\"445\":2,\"446\":2,\"447\":2,\"448\":2,\"449\":4,\"450\":2,\"451\":2,\"452\":2,\"453\":4,\"454\":2,\"455\":4,\"456\":4,\"457\":4,\"458\":2,\"459\":2,\"460\":2,\"461\":2,\"462\":2,\"463\":2,\"464\":2,\"465\":4,\"466\":4,\"467\":4,\"468\":2,\"469\":2,\"470\":2,\"471\":2,\"472\":2,\"473\":2,\"474\":2,\"475\":2,\"476\":2,\"477\":2,\"478\":2,\"479\":4,\"480\":2,\"481\":2,\"482\":4,\"483\":4,\"484\":2,\"485\":2,\"486\":2,\"487\":4,\"488\":4,\"489\":4,\"490\":2,\"491\":4,\"492\":2,\"493\":4,\"494\":2,\"495\":2,\"496\":2,\"497\":2,\"498\":2,\"499\":2,\"500\":2,\"501\":2,\"502\":2,\"503\":2,\"504\":2,\"505\":2,\"506\":4,\"507\":2,\"508\":2,\"509\":2,\"510\":2,\"511\":2,\"512\":2,\"513\":2,\"514\":4,\"515\":4,\"516\":2,\"517\":2,\"518\":2,\"519\":4,\"520\":2,\"521\":2,\"522\":4,\"523\":4,\"524\":2,\"525\":2,\"526\":2,\"527\":2,\"528\":2,\"529\":2,\"530\":4,\"531\":2,\"532\":2,\"533\":2,\"534\":2,\"535\":2,\"536\":2,\"537\":2,\"538\":2,\"539\":2,\"540\":2,\"541\":2,\"542\":2,\"543\":2,\"544\":2,\"545\":2,\"546\":4,\"547\":2,\"548\":2,\"549\":4,\"550\":2,\"551\":2,\"552\":2,\"553\":2,\"554\":2,\"555\":2,\"556\":2,\"557\":2,\"558\":2,\"559\":2,\"560\":2,\"561\":2,\"562\":2,\"563\":2,\"564\":2,\"565\":4,\"566\":2,\"567\":2,\"568\":4,\"569\":4,\"570\":4,\"571\":4,\"572\":2,\"573\":2,\"574\":4,\"575\":2,\"576\":2,\"577\":2,\"578\":2,\"579\":2,\"580\":2,\"581\":4,\"582\":4,\"583\":2,\"584\":2,\"585\":2,\"586\":4,\"587\":2,\"588\":4,\"589\":2,\"590\":4,\"591\":4,\"592\":4,\"593\":2,\"594\":4,\"595\":2,\"596\":2,\"597\":2,\"598\":2,\"599\":2,\"600\":2,\"601\":2,\"602\":2,\"603\":4,\"604\":4,\"605\":4,\"606\":2,\"607\":2,\"608\":4,\"609\":2,\"610\":4,\"611\":4,\"612\":4,\"613\":2,\"614\":2,\"615\":2,\"616\":2,\"617\":2,\"618\":2,\"619\":2,\"620\":2,\"621\":2,\"622\":2,\"623\":2,\"624\":2,\"625\":2,\"626\":4,\"627\":2,\"628\":2,\"629\":2,\"630\":2,\"631\":2,\"632\":2,\"633\":4,\"634\":2,\"635\":2,\"636\":4,\"637\":2,\"638\":2,\"639\":2,\"640\":2,\"641\":2,\"642\":2,\"643\":2,\"644\":2,\"645\":2,\"646\":2,\"647\":2,\"648\":4,\"649\":2,\"650\":2,\"651\":2,\"652\":2,\"653\":2,\"654\":2,\"655\":2,\"656\":2,\"657\":2,\"658\":4,\"659\":2,\"660\":2,\"661\":2,\"662\":2,\"663\":2,\"664\":2,\"665\":2,\"666\":2,\"667\":2,\"668\":4,\"669\":4,\"670\":4,\"671\":2,\"672\":2,\"673\":2,\"674\":2,\"675\":2,\"676\":2,\"677\":2,\"678\":2,\"679\":2,\"680\":4,\"681\":4,\"682\":2,\"683\":2,\"684\":2,\"685\":2,\"686\":2,\"687\":2,\"688\":2,\"689\":2,\"690\":2,\"691\":4,\"692\":2,\"693\":2,\"694\":2,\"695\":2,\"696\":4,\"697\":4,\"698\":4}}'"
      ]
     },
     "execution_count": 20,
     "metadata": {
      "tags": []
     },
     "output_type": "execute_result"
    }
   ],
   "source": [
    "datos.to_json()"
   ]
  },
  {
   "cell_type": "markdown",
   "metadata": {
    "id": "w45Sh9f9pkqp"
   },
   "source": [
    "8. -muestre los tipos de datos del DF\n"
   ]
  },
  {
   "cell_type": "code",
   "execution_count": null,
   "metadata": {
    "colab": {
     "base_uri": "https://localhost:8080/"
    },
    "executionInfo": {
     "elapsed": 411,
     "status": "ok",
     "timestamp": 1618849826360,
     "user": {
      "displayName": "STIWARD JHERIKOF CARRILLO RAMIREZ",
      "photoUrl": "https://lh3.googleusercontent.com/a-/AOh14GjfzniVHGCh7d3_wtWDwsXC_iVN1kQfXdo12vF_cQ=s64",
      "userId": "14913105575458408419"
     },
     "user_tz": 300
    },
    "id": "kf956M1kpkqp",
    "outputId": "b61907d8-aea6-4b33-df5b-57148a9acc77"
   },
   "outputs": [
    {
     "data": {
      "text/plain": [
       "Sample code number              int64\n",
       "Clump Thickness                 int64\n",
       "Uniformity of Cell Size         int64\n",
       "Uniformity of Cell Shape        int64\n",
       "Marginal Adhesion               int64\n",
       "Single Epithelial Cell Size     int64\n",
       "Bare Nuclei                    object\n",
       "Bland Chromatin                 int64\n",
       "Normal Nucleoli                 int64\n",
       "Mitoses                         int64\n",
       "Class                           int64\n",
       "dtype: object"
      ]
     },
     "execution_count": 21,
     "metadata": {
      "tags": []
     },
     "output_type": "execute_result"
    }
   ],
   "source": [
    "datos.dtypes"
   ]
  },
  {
   "cell_type": "markdown",
   "metadata": {
    "id": "mMlQ9Nehpkqp"
   },
   "source": [
    "9. muestre las filas que tienen al menos un Nan y cuentelas"
   ]
  },
  {
   "cell_type": "code",
   "execution_count": null,
   "metadata": {
    "colab": {
     "base_uri": "https://localhost:8080/",
     "height": 436
    },
    "executionInfo": {
     "elapsed": 435,
     "status": "ok",
     "timestamp": 1618849925032,
     "user": {
      "displayName": "STIWARD JHERIKOF CARRILLO RAMIREZ",
      "photoUrl": "https://lh3.googleusercontent.com/a-/AOh14GjfzniVHGCh7d3_wtWDwsXC_iVN1kQfXdo12vF_cQ=s64",
      "userId": "14913105575458408419"
     },
     "user_tz": 300
    },
    "id": "EcJoBHXepkqp",
    "outputId": "17bf9af4-7e29-4851-95b6-db463083d7e5"
   },
   "outputs": [
    {
     "data": {
      "text/html": [
       "<div>\n",
       "<style scoped>\n",
       "    .dataframe tbody tr th:only-of-type {\n",
       "        vertical-align: middle;\n",
       "    }\n",
       "\n",
       "    .dataframe tbody tr th {\n",
       "        vertical-align: top;\n",
       "    }\n",
       "\n",
       "    .dataframe thead th {\n",
       "        text-align: right;\n",
       "    }\n",
       "</style>\n",
       "<table border=\"1\" class=\"dataframe\">\n",
       "  <thead>\n",
       "    <tr style=\"text-align: right;\">\n",
       "      <th></th>\n",
       "      <th>Sample code number</th>\n",
       "      <th>Clump Thickness</th>\n",
       "      <th>Uniformity of Cell Size</th>\n",
       "      <th>Uniformity of Cell Shape</th>\n",
       "      <th>Marginal Adhesion</th>\n",
       "      <th>Single Epithelial Cell Size</th>\n",
       "      <th>Bare Nuclei</th>\n",
       "      <th>Bland Chromatin</th>\n",
       "      <th>Normal Nucleoli</th>\n",
       "      <th>Mitoses</th>\n",
       "      <th>Class</th>\n",
       "    </tr>\n",
       "  </thead>\n",
       "  <tbody>\n",
       "    <tr>\n",
       "      <th>0</th>\n",
       "      <td>False</td>\n",
       "      <td>False</td>\n",
       "      <td>False</td>\n",
       "      <td>False</td>\n",
       "      <td>False</td>\n",
       "      <td>False</td>\n",
       "      <td>False</td>\n",
       "      <td>False</td>\n",
       "      <td>False</td>\n",
       "      <td>False</td>\n",
       "      <td>False</td>\n",
       "    </tr>\n",
       "    <tr>\n",
       "      <th>1</th>\n",
       "      <td>False</td>\n",
       "      <td>False</td>\n",
       "      <td>False</td>\n",
       "      <td>False</td>\n",
       "      <td>False</td>\n",
       "      <td>False</td>\n",
       "      <td>False</td>\n",
       "      <td>False</td>\n",
       "      <td>False</td>\n",
       "      <td>False</td>\n",
       "      <td>False</td>\n",
       "    </tr>\n",
       "    <tr>\n",
       "      <th>2</th>\n",
       "      <td>False</td>\n",
       "      <td>False</td>\n",
       "      <td>False</td>\n",
       "      <td>False</td>\n",
       "      <td>False</td>\n",
       "      <td>False</td>\n",
       "      <td>False</td>\n",
       "      <td>False</td>\n",
       "      <td>False</td>\n",
       "      <td>False</td>\n",
       "      <td>False</td>\n",
       "    </tr>\n",
       "    <tr>\n",
       "      <th>3</th>\n",
       "      <td>False</td>\n",
       "      <td>False</td>\n",
       "      <td>False</td>\n",
       "      <td>False</td>\n",
       "      <td>False</td>\n",
       "      <td>False</td>\n",
       "      <td>False</td>\n",
       "      <td>False</td>\n",
       "      <td>False</td>\n",
       "      <td>False</td>\n",
       "      <td>False</td>\n",
       "    </tr>\n",
       "    <tr>\n",
       "      <th>4</th>\n",
       "      <td>False</td>\n",
       "      <td>False</td>\n",
       "      <td>False</td>\n",
       "      <td>False</td>\n",
       "      <td>False</td>\n",
       "      <td>False</td>\n",
       "      <td>False</td>\n",
       "      <td>False</td>\n",
       "      <td>False</td>\n",
       "      <td>False</td>\n",
       "      <td>False</td>\n",
       "    </tr>\n",
       "    <tr>\n",
       "      <th>...</th>\n",
       "      <td>...</td>\n",
       "      <td>...</td>\n",
       "      <td>...</td>\n",
       "      <td>...</td>\n",
       "      <td>...</td>\n",
       "      <td>...</td>\n",
       "      <td>...</td>\n",
       "      <td>...</td>\n",
       "      <td>...</td>\n",
       "      <td>...</td>\n",
       "      <td>...</td>\n",
       "    </tr>\n",
       "    <tr>\n",
       "      <th>694</th>\n",
       "      <td>False</td>\n",
       "      <td>False</td>\n",
       "      <td>False</td>\n",
       "      <td>False</td>\n",
       "      <td>False</td>\n",
       "      <td>False</td>\n",
       "      <td>False</td>\n",
       "      <td>False</td>\n",
       "      <td>False</td>\n",
       "      <td>False</td>\n",
       "      <td>False</td>\n",
       "    </tr>\n",
       "    <tr>\n",
       "      <th>695</th>\n",
       "      <td>False</td>\n",
       "      <td>False</td>\n",
       "      <td>False</td>\n",
       "      <td>False</td>\n",
       "      <td>False</td>\n",
       "      <td>False</td>\n",
       "      <td>False</td>\n",
       "      <td>False</td>\n",
       "      <td>False</td>\n",
       "      <td>False</td>\n",
       "      <td>False</td>\n",
       "    </tr>\n",
       "    <tr>\n",
       "      <th>696</th>\n",
       "      <td>False</td>\n",
       "      <td>False</td>\n",
       "      <td>False</td>\n",
       "      <td>False</td>\n",
       "      <td>False</td>\n",
       "      <td>False</td>\n",
       "      <td>False</td>\n",
       "      <td>False</td>\n",
       "      <td>False</td>\n",
       "      <td>False</td>\n",
       "      <td>False</td>\n",
       "    </tr>\n",
       "    <tr>\n",
       "      <th>697</th>\n",
       "      <td>False</td>\n",
       "      <td>False</td>\n",
       "      <td>False</td>\n",
       "      <td>False</td>\n",
       "      <td>False</td>\n",
       "      <td>False</td>\n",
       "      <td>False</td>\n",
       "      <td>False</td>\n",
       "      <td>False</td>\n",
       "      <td>False</td>\n",
       "      <td>False</td>\n",
       "    </tr>\n",
       "    <tr>\n",
       "      <th>698</th>\n",
       "      <td>False</td>\n",
       "      <td>False</td>\n",
       "      <td>False</td>\n",
       "      <td>False</td>\n",
       "      <td>False</td>\n",
       "      <td>False</td>\n",
       "      <td>False</td>\n",
       "      <td>False</td>\n",
       "      <td>False</td>\n",
       "      <td>False</td>\n",
       "      <td>False</td>\n",
       "    </tr>\n",
       "  </tbody>\n",
       "</table>\n",
       "<p>699 rows × 11 columns</p>\n",
       "</div>"
      ],
      "text/plain": [
       "     Sample code number  Clump Thickness  ...  Mitoses  Class\n",
       "0                 False            False  ...    False  False\n",
       "1                 False            False  ...    False  False\n",
       "2                 False            False  ...    False  False\n",
       "3                 False            False  ...    False  False\n",
       "4                 False            False  ...    False  False\n",
       "..                  ...              ...  ...      ...    ...\n",
       "694               False            False  ...    False  False\n",
       "695               False            False  ...    False  False\n",
       "696               False            False  ...    False  False\n",
       "697               False            False  ...    False  False\n",
       "698               False            False  ...    False  False\n",
       "\n",
       "[699 rows x 11 columns]"
      ]
     },
     "execution_count": 25,
     "metadata": {
      "tags": []
     },
     "output_type": "execute_result"
    }
   ],
   "source": [
    "datos.isnull()"
   ]
  },
  {
   "cell_type": "code",
   "execution_count": null,
   "metadata": {
    "colab": {
     "base_uri": "https://localhost:8080/"
    },
    "executionInfo": {
     "elapsed": 558,
     "status": "ok",
     "timestamp": 1618849927607,
     "user": {
      "displayName": "STIWARD JHERIKOF CARRILLO RAMIREZ",
      "photoUrl": "https://lh3.googleusercontent.com/a-/AOh14GjfzniVHGCh7d3_wtWDwsXC_iVN1kQfXdo12vF_cQ=s64",
      "userId": "14913105575458408419"
     },
     "user_tz": 300
    },
    "id": "maxJV50spkqq",
    "outputId": "656f7e5a-213f-4727-df0f-1d2c56fb05f4"
   },
   "outputs": [
    {
     "data": {
      "text/plain": [
       "Sample code number             0\n",
       "Clump Thickness                0\n",
       "Uniformity of Cell Size        0\n",
       "Uniformity of Cell Shape       0\n",
       "Marginal Adhesion              0\n",
       "Single Epithelial Cell Size    0\n",
       "Bare Nuclei                    0\n",
       "Bland Chromatin                0\n",
       "Normal Nucleoli                0\n",
       "Mitoses                        0\n",
       "Class                          0\n",
       "dtype: int64"
      ]
     },
     "execution_count": 26,
     "metadata": {
      "tags": []
     },
     "output_type": "execute_result"
    }
   ],
   "source": [
    "datos.isnull().sum()"
   ]
  },
  {
   "cell_type": "markdown",
   "metadata": {
    "id": "WBpP5VsCpkqq"
   },
   "source": [
    "10. reemplace los valores Nan por la media en las columnas numericas y almacenelo en el dataframe original\n"
   ]
  },
  {
   "cell_type": "code",
   "execution_count": null,
   "metadata": {
    "colab": {
     "base_uri": "https://localhost:8080/",
     "height": 436
    },
    "executionInfo": {
     "elapsed": 435,
     "status": "ok",
     "timestamp": 1618850031287,
     "user": {
      "displayName": "STIWARD JHERIKOF CARRILLO RAMIREZ",
      "photoUrl": "https://lh3.googleusercontent.com/a-/AOh14GjfzniVHGCh7d3_wtWDwsXC_iVN1kQfXdo12vF_cQ=s64",
      "userId": "14913105575458408419"
     },
     "user_tz": 300
    },
    "id": "5BZdIAnPpkqq",
    "outputId": "3e203476-0d1e-4ad4-f1d1-8f0816110286"
   },
   "outputs": [
    {
     "data": {
      "text/html": [
       "<div>\n",
       "<style scoped>\n",
       "    .dataframe tbody tr th:only-of-type {\n",
       "        vertical-align: middle;\n",
       "    }\n",
       "\n",
       "    .dataframe tbody tr th {\n",
       "        vertical-align: top;\n",
       "    }\n",
       "\n",
       "    .dataframe thead th {\n",
       "        text-align: right;\n",
       "    }\n",
       "</style>\n",
       "<table border=\"1\" class=\"dataframe\">\n",
       "  <thead>\n",
       "    <tr style=\"text-align: right;\">\n",
       "      <th></th>\n",
       "      <th>Sample code number</th>\n",
       "      <th>Clump Thickness</th>\n",
       "      <th>Uniformity of Cell Size</th>\n",
       "      <th>Uniformity of Cell Shape</th>\n",
       "      <th>Marginal Adhesion</th>\n",
       "      <th>Single Epithelial Cell Size</th>\n",
       "      <th>Bare Nuclei</th>\n",
       "      <th>Bland Chromatin</th>\n",
       "      <th>Normal Nucleoli</th>\n",
       "      <th>Mitoses</th>\n",
       "      <th>Class</th>\n",
       "    </tr>\n",
       "  </thead>\n",
       "  <tbody>\n",
       "    <tr>\n",
       "      <th>0</th>\n",
       "      <td>1000025</td>\n",
       "      <td>5</td>\n",
       "      <td>1</td>\n",
       "      <td>1</td>\n",
       "      <td>1</td>\n",
       "      <td>2</td>\n",
       "      <td>1</td>\n",
       "      <td>3</td>\n",
       "      <td>1</td>\n",
       "      <td>1</td>\n",
       "      <td>2</td>\n",
       "    </tr>\n",
       "    <tr>\n",
       "      <th>1</th>\n",
       "      <td>1002945</td>\n",
       "      <td>5</td>\n",
       "      <td>4</td>\n",
       "      <td>4</td>\n",
       "      <td>5</td>\n",
       "      <td>7</td>\n",
       "      <td>10</td>\n",
       "      <td>3</td>\n",
       "      <td>2</td>\n",
       "      <td>1</td>\n",
       "      <td>2</td>\n",
       "    </tr>\n",
       "    <tr>\n",
       "      <th>2</th>\n",
       "      <td>1015425</td>\n",
       "      <td>3</td>\n",
       "      <td>1</td>\n",
       "      <td>1</td>\n",
       "      <td>1</td>\n",
       "      <td>2</td>\n",
       "      <td>2</td>\n",
       "      <td>3</td>\n",
       "      <td>1</td>\n",
       "      <td>1</td>\n",
       "      <td>2</td>\n",
       "    </tr>\n",
       "    <tr>\n",
       "      <th>3</th>\n",
       "      <td>1016277</td>\n",
       "      <td>6</td>\n",
       "      <td>8</td>\n",
       "      <td>8</td>\n",
       "      <td>1</td>\n",
       "      <td>3</td>\n",
       "      <td>4</td>\n",
       "      <td>3</td>\n",
       "      <td>7</td>\n",
       "      <td>1</td>\n",
       "      <td>2</td>\n",
       "    </tr>\n",
       "    <tr>\n",
       "      <th>4</th>\n",
       "      <td>1017023</td>\n",
       "      <td>4</td>\n",
       "      <td>1</td>\n",
       "      <td>1</td>\n",
       "      <td>3</td>\n",
       "      <td>2</td>\n",
       "      <td>1</td>\n",
       "      <td>3</td>\n",
       "      <td>1</td>\n",
       "      <td>1</td>\n",
       "      <td>2</td>\n",
       "    </tr>\n",
       "    <tr>\n",
       "      <th>...</th>\n",
       "      <td>...</td>\n",
       "      <td>...</td>\n",
       "      <td>...</td>\n",
       "      <td>...</td>\n",
       "      <td>...</td>\n",
       "      <td>...</td>\n",
       "      <td>...</td>\n",
       "      <td>...</td>\n",
       "      <td>...</td>\n",
       "      <td>...</td>\n",
       "      <td>...</td>\n",
       "    </tr>\n",
       "    <tr>\n",
       "      <th>694</th>\n",
       "      <td>776715</td>\n",
       "      <td>3</td>\n",
       "      <td>1</td>\n",
       "      <td>1</td>\n",
       "      <td>1</td>\n",
       "      <td>3</td>\n",
       "      <td>2</td>\n",
       "      <td>1</td>\n",
       "      <td>1</td>\n",
       "      <td>1</td>\n",
       "      <td>2</td>\n",
       "    </tr>\n",
       "    <tr>\n",
       "      <th>695</th>\n",
       "      <td>841769</td>\n",
       "      <td>2</td>\n",
       "      <td>1</td>\n",
       "      <td>1</td>\n",
       "      <td>1</td>\n",
       "      <td>2</td>\n",
       "      <td>1</td>\n",
       "      <td>1</td>\n",
       "      <td>1</td>\n",
       "      <td>1</td>\n",
       "      <td>2</td>\n",
       "    </tr>\n",
       "    <tr>\n",
       "      <th>696</th>\n",
       "      <td>888820</td>\n",
       "      <td>5</td>\n",
       "      <td>10</td>\n",
       "      <td>10</td>\n",
       "      <td>3</td>\n",
       "      <td>7</td>\n",
       "      <td>3</td>\n",
       "      <td>8</td>\n",
       "      <td>10</td>\n",
       "      <td>2</td>\n",
       "      <td>4</td>\n",
       "    </tr>\n",
       "    <tr>\n",
       "      <th>697</th>\n",
       "      <td>897471</td>\n",
       "      <td>4</td>\n",
       "      <td>8</td>\n",
       "      <td>6</td>\n",
       "      <td>4</td>\n",
       "      <td>3</td>\n",
       "      <td>4</td>\n",
       "      <td>10</td>\n",
       "      <td>6</td>\n",
       "      <td>1</td>\n",
       "      <td>4</td>\n",
       "    </tr>\n",
       "    <tr>\n",
       "      <th>698</th>\n",
       "      <td>897471</td>\n",
       "      <td>4</td>\n",
       "      <td>8</td>\n",
       "      <td>8</td>\n",
       "      <td>5</td>\n",
       "      <td>4</td>\n",
       "      <td>5</td>\n",
       "      <td>10</td>\n",
       "      <td>4</td>\n",
       "      <td>1</td>\n",
       "      <td>4</td>\n",
       "    </tr>\n",
       "  </tbody>\n",
       "</table>\n",
       "<p>699 rows × 11 columns</p>\n",
       "</div>"
      ],
      "text/plain": [
       "     Sample code number  Clump Thickness  ...  Mitoses  Class\n",
       "0               1000025                5  ...        1      2\n",
       "1               1002945                5  ...        1      2\n",
       "2               1015425                3  ...        1      2\n",
       "3               1016277                6  ...        1      2\n",
       "4               1017023                4  ...        1      2\n",
       "..                  ...              ...  ...      ...    ...\n",
       "694              776715                3  ...        1      2\n",
       "695              841769                2  ...        1      2\n",
       "696              888820                5  ...        2      4\n",
       "697              897471                4  ...        1      4\n",
       "698              897471                4  ...        1      4\n",
       "\n",
       "[699 rows x 11 columns]"
      ]
     },
     "execution_count": 27,
     "metadata": {
      "tags": []
     },
     "output_type": "execute_result"
    }
   ],
   "source": [
    "datos.fillna(datos.mean())"
   ]
  },
  {
   "cell_type": "markdown",
   "metadata": {
    "id": "sLhvt8Nmpkqq"
   },
   "source": [
    "11.  Construya una variable dummy para la columna class (2= benigno, 4= maligno) en un Dataframe llamado DF_class"
   ]
  },
  {
   "cell_type": "code",
   "execution_count": null,
   "metadata": {
    "colab": {
     "base_uri": "https://localhost:8080/",
     "height": 419
    },
    "executionInfo": {
     "elapsed": 423,
     "status": "ok",
     "timestamp": 1618850582017,
     "user": {
      "displayName": "STIWARD JHERIKOF CARRILLO RAMIREZ",
      "photoUrl": "https://lh3.googleusercontent.com/a-/AOh14GjfzniVHGCh7d3_wtWDwsXC_iVN1kQfXdo12vF_cQ=s64",
      "userId": "14913105575458408419"
     },
     "user_tz": 300
    },
    "id": "UB3y0F_4pkqq",
    "outputId": "d62bfad9-1fc8-4ace-c938-87fcb490a11a"
   },
   "outputs": [
    {
     "data": {
      "text/html": [
       "<div>\n",
       "<style scoped>\n",
       "    .dataframe tbody tr th:only-of-type {\n",
       "        vertical-align: middle;\n",
       "    }\n",
       "\n",
       "    .dataframe tbody tr th {\n",
       "        vertical-align: top;\n",
       "    }\n",
       "\n",
       "    .dataframe thead th {\n",
       "        text-align: right;\n",
       "    }\n",
       "</style>\n",
       "<table border=\"1\" class=\"dataframe\">\n",
       "  <thead>\n",
       "    <tr style=\"text-align: right;\">\n",
       "      <th></th>\n",
       "      <th>Benigno</th>\n",
       "      <th>Maligno</th>\n",
       "    </tr>\n",
       "  </thead>\n",
       "  <tbody>\n",
       "    <tr>\n",
       "      <th>0</th>\n",
       "      <td>1</td>\n",
       "      <td>0</td>\n",
       "    </tr>\n",
       "    <tr>\n",
       "      <th>1</th>\n",
       "      <td>1</td>\n",
       "      <td>0</td>\n",
       "    </tr>\n",
       "    <tr>\n",
       "      <th>2</th>\n",
       "      <td>1</td>\n",
       "      <td>0</td>\n",
       "    </tr>\n",
       "    <tr>\n",
       "      <th>3</th>\n",
       "      <td>1</td>\n",
       "      <td>0</td>\n",
       "    </tr>\n",
       "    <tr>\n",
       "      <th>4</th>\n",
       "      <td>1</td>\n",
       "      <td>0</td>\n",
       "    </tr>\n",
       "    <tr>\n",
       "      <th>...</th>\n",
       "      <td>...</td>\n",
       "      <td>...</td>\n",
       "    </tr>\n",
       "    <tr>\n",
       "      <th>694</th>\n",
       "      <td>1</td>\n",
       "      <td>0</td>\n",
       "    </tr>\n",
       "    <tr>\n",
       "      <th>695</th>\n",
       "      <td>1</td>\n",
       "      <td>0</td>\n",
       "    </tr>\n",
       "    <tr>\n",
       "      <th>696</th>\n",
       "      <td>0</td>\n",
       "      <td>1</td>\n",
       "    </tr>\n",
       "    <tr>\n",
       "      <th>697</th>\n",
       "      <td>0</td>\n",
       "      <td>1</td>\n",
       "    </tr>\n",
       "    <tr>\n",
       "      <th>698</th>\n",
       "      <td>0</td>\n",
       "      <td>1</td>\n",
       "    </tr>\n",
       "  </tbody>\n",
       "</table>\n",
       "<p>699 rows × 2 columns</p>\n",
       "</div>"
      ],
      "text/plain": [
       "     Benigno  Maligno\n",
       "0          1        0\n",
       "1          1        0\n",
       "2          1        0\n",
       "3          1        0\n",
       "4          1        0\n",
       "..       ...      ...\n",
       "694        1        0\n",
       "695        1        0\n",
       "696        0        1\n",
       "697        0        1\n",
       "698        0        1\n",
       "\n",
       "[699 rows x 2 columns]"
      ]
     },
     "execution_count": 35,
     "metadata": {
      "tags": []
     },
     "output_type": "execute_result"
    }
   ],
   "source": [
    "dummy = pd.get_dummies(datos.Class)\n",
    "dummy.columns = [\"Benigno\", \"Maligno\"]\n",
    "dummy"
   ]
  },
  {
   "cell_type": "markdown",
   "metadata": {
    "id": "rhx5p3mnpkqq"
   },
   "source": [
    "12. una el DF_class como columnas del Df datos"
   ]
  },
  {
   "cell_type": "code",
   "execution_count": null,
   "metadata": {
    "colab": {
     "base_uri": "https://localhost:8080/",
     "height": 436
    },
    "executionInfo": {
     "elapsed": 416,
     "status": "ok",
     "timestamp": 1618850585079,
     "user": {
      "displayName": "STIWARD JHERIKOF CARRILLO RAMIREZ",
      "photoUrl": "https://lh3.googleusercontent.com/a-/AOh14GjfzniVHGCh7d3_wtWDwsXC_iVN1kQfXdo12vF_cQ=s64",
      "userId": "14913105575458408419"
     },
     "user_tz": 300
    },
    "id": "KWHaS3qzpkqq",
    "outputId": "793bbefb-d81e-4850-f025-11364e6a9782"
   },
   "outputs": [
    {
     "data": {
      "text/html": [
       "<div>\n",
       "<style scoped>\n",
       "    .dataframe tbody tr th:only-of-type {\n",
       "        vertical-align: middle;\n",
       "    }\n",
       "\n",
       "    .dataframe tbody tr th {\n",
       "        vertical-align: top;\n",
       "    }\n",
       "\n",
       "    .dataframe thead th {\n",
       "        text-align: right;\n",
       "    }\n",
       "</style>\n",
       "<table border=\"1\" class=\"dataframe\">\n",
       "  <thead>\n",
       "    <tr style=\"text-align: right;\">\n",
       "      <th></th>\n",
       "      <th>Sample code number</th>\n",
       "      <th>Clump Thickness</th>\n",
       "      <th>Uniformity of Cell Size</th>\n",
       "      <th>Uniformity of Cell Shape</th>\n",
       "      <th>Marginal Adhesion</th>\n",
       "      <th>Single Epithelial Cell Size</th>\n",
       "      <th>Bare Nuclei</th>\n",
       "      <th>Bland Chromatin</th>\n",
       "      <th>Normal Nucleoli</th>\n",
       "      <th>Mitoses</th>\n",
       "      <th>Class</th>\n",
       "      <th>Benigno</th>\n",
       "      <th>Maligno</th>\n",
       "    </tr>\n",
       "  </thead>\n",
       "  <tbody>\n",
       "    <tr>\n",
       "      <th>0</th>\n",
       "      <td>1000025</td>\n",
       "      <td>5</td>\n",
       "      <td>1</td>\n",
       "      <td>1</td>\n",
       "      <td>1</td>\n",
       "      <td>2</td>\n",
       "      <td>1</td>\n",
       "      <td>3</td>\n",
       "      <td>1</td>\n",
       "      <td>1</td>\n",
       "      <td>2</td>\n",
       "      <td>1</td>\n",
       "      <td>0</td>\n",
       "    </tr>\n",
       "    <tr>\n",
       "      <th>1</th>\n",
       "      <td>1002945</td>\n",
       "      <td>5</td>\n",
       "      <td>4</td>\n",
       "      <td>4</td>\n",
       "      <td>5</td>\n",
       "      <td>7</td>\n",
       "      <td>10</td>\n",
       "      <td>3</td>\n",
       "      <td>2</td>\n",
       "      <td>1</td>\n",
       "      <td>2</td>\n",
       "      <td>1</td>\n",
       "      <td>0</td>\n",
       "    </tr>\n",
       "    <tr>\n",
       "      <th>2</th>\n",
       "      <td>1015425</td>\n",
       "      <td>3</td>\n",
       "      <td>1</td>\n",
       "      <td>1</td>\n",
       "      <td>1</td>\n",
       "      <td>2</td>\n",
       "      <td>2</td>\n",
       "      <td>3</td>\n",
       "      <td>1</td>\n",
       "      <td>1</td>\n",
       "      <td>2</td>\n",
       "      <td>1</td>\n",
       "      <td>0</td>\n",
       "    </tr>\n",
       "    <tr>\n",
       "      <th>3</th>\n",
       "      <td>1016277</td>\n",
       "      <td>6</td>\n",
       "      <td>8</td>\n",
       "      <td>8</td>\n",
       "      <td>1</td>\n",
       "      <td>3</td>\n",
       "      <td>4</td>\n",
       "      <td>3</td>\n",
       "      <td>7</td>\n",
       "      <td>1</td>\n",
       "      <td>2</td>\n",
       "      <td>1</td>\n",
       "      <td>0</td>\n",
       "    </tr>\n",
       "    <tr>\n",
       "      <th>4</th>\n",
       "      <td>1017023</td>\n",
       "      <td>4</td>\n",
       "      <td>1</td>\n",
       "      <td>1</td>\n",
       "      <td>3</td>\n",
       "      <td>2</td>\n",
       "      <td>1</td>\n",
       "      <td>3</td>\n",
       "      <td>1</td>\n",
       "      <td>1</td>\n",
       "      <td>2</td>\n",
       "      <td>1</td>\n",
       "      <td>0</td>\n",
       "    </tr>\n",
       "    <tr>\n",
       "      <th>...</th>\n",
       "      <td>...</td>\n",
       "      <td>...</td>\n",
       "      <td>...</td>\n",
       "      <td>...</td>\n",
       "      <td>...</td>\n",
       "      <td>...</td>\n",
       "      <td>...</td>\n",
       "      <td>...</td>\n",
       "      <td>...</td>\n",
       "      <td>...</td>\n",
       "      <td>...</td>\n",
       "      <td>...</td>\n",
       "      <td>...</td>\n",
       "    </tr>\n",
       "    <tr>\n",
       "      <th>694</th>\n",
       "      <td>776715</td>\n",
       "      <td>3</td>\n",
       "      <td>1</td>\n",
       "      <td>1</td>\n",
       "      <td>1</td>\n",
       "      <td>3</td>\n",
       "      <td>2</td>\n",
       "      <td>1</td>\n",
       "      <td>1</td>\n",
       "      <td>1</td>\n",
       "      <td>2</td>\n",
       "      <td>1</td>\n",
       "      <td>0</td>\n",
       "    </tr>\n",
       "    <tr>\n",
       "      <th>695</th>\n",
       "      <td>841769</td>\n",
       "      <td>2</td>\n",
       "      <td>1</td>\n",
       "      <td>1</td>\n",
       "      <td>1</td>\n",
       "      <td>2</td>\n",
       "      <td>1</td>\n",
       "      <td>1</td>\n",
       "      <td>1</td>\n",
       "      <td>1</td>\n",
       "      <td>2</td>\n",
       "      <td>1</td>\n",
       "      <td>0</td>\n",
       "    </tr>\n",
       "    <tr>\n",
       "      <th>696</th>\n",
       "      <td>888820</td>\n",
       "      <td>5</td>\n",
       "      <td>10</td>\n",
       "      <td>10</td>\n",
       "      <td>3</td>\n",
       "      <td>7</td>\n",
       "      <td>3</td>\n",
       "      <td>8</td>\n",
       "      <td>10</td>\n",
       "      <td>2</td>\n",
       "      <td>4</td>\n",
       "      <td>0</td>\n",
       "      <td>1</td>\n",
       "    </tr>\n",
       "    <tr>\n",
       "      <th>697</th>\n",
       "      <td>897471</td>\n",
       "      <td>4</td>\n",
       "      <td>8</td>\n",
       "      <td>6</td>\n",
       "      <td>4</td>\n",
       "      <td>3</td>\n",
       "      <td>4</td>\n",
       "      <td>10</td>\n",
       "      <td>6</td>\n",
       "      <td>1</td>\n",
       "      <td>4</td>\n",
       "      <td>0</td>\n",
       "      <td>1</td>\n",
       "    </tr>\n",
       "    <tr>\n",
       "      <th>698</th>\n",
       "      <td>897471</td>\n",
       "      <td>4</td>\n",
       "      <td>8</td>\n",
       "      <td>8</td>\n",
       "      <td>5</td>\n",
       "      <td>4</td>\n",
       "      <td>5</td>\n",
       "      <td>10</td>\n",
       "      <td>4</td>\n",
       "      <td>1</td>\n",
       "      <td>4</td>\n",
       "      <td>0</td>\n",
       "      <td>1</td>\n",
       "    </tr>\n",
       "  </tbody>\n",
       "</table>\n",
       "<p>699 rows × 13 columns</p>\n",
       "</div>"
      ],
      "text/plain": [
       "     Sample code number  Clump Thickness  ...  Benigno  Maligno\n",
       "0               1000025                5  ...        1        0\n",
       "1               1002945                5  ...        1        0\n",
       "2               1015425                3  ...        1        0\n",
       "3               1016277                6  ...        1        0\n",
       "4               1017023                4  ...        1        0\n",
       "..                  ...              ...  ...      ...      ...\n",
       "694              776715                3  ...        1        0\n",
       "695              841769                2  ...        1        0\n",
       "696              888820                5  ...        0        1\n",
       "697              897471                4  ...        0        1\n",
       "698              897471                4  ...        0        1\n",
       "\n",
       "[699 rows x 13 columns]"
      ]
     },
     "execution_count": 36,
     "metadata": {
      "tags": []
     },
     "output_type": "execute_result"
    }
   ],
   "source": [
    "union = pd.concat([datos,dummy],axis=1)\n",
    "union"
   ]
  },
  {
   "cell_type": "markdown",
   "metadata": {
    "id": "Sftsq5xYpkqq"
   },
   "source": [
    "13. Muestre el histograma de cada columna"
   ]
  },
  {
   "cell_type": "code",
   "execution_count": null,
   "metadata": {
    "colab": {
     "base_uri": "https://localhost:8080/",
     "height": 502
    },
    "executionInfo": {
     "elapsed": 2359,
     "status": "ok",
     "timestamp": 1618850619634,
     "user": {
      "displayName": "STIWARD JHERIKOF CARRILLO RAMIREZ",
      "photoUrl": "https://lh3.googleusercontent.com/a-/AOh14GjfzniVHGCh7d3_wtWDwsXC_iVN1kQfXdo12vF_cQ=s64",
      "userId": "14913105575458408419"
     },
     "user_tz": 300
    },
    "id": "WVlVbEkmpkqr",
    "outputId": "67d6916a-f2a4-4701-8b4c-6af33c4a81a3"
   },
   "outputs": [
    {
     "data": {
      "text/plain": [
       "array([[<matplotlib.axes._subplots.AxesSubplot object at 0x7f72fc351790>,\n",
       "        <matplotlib.axes._subplots.AxesSubplot object at 0x7f72fb41f790>,\n",
       "        <matplotlib.axes._subplots.AxesSubplot object at 0x7f72fb3d2d90>],\n",
       "       [<matplotlib.axes._subplots.AxesSubplot object at 0x7f72fb390450>,\n",
       "        <matplotlib.axes._subplots.AxesSubplot object at 0x7f72fb343ad0>,\n",
       "        <matplotlib.axes._subplots.AxesSubplot object at 0x7f72fb306190>],\n",
       "       [<matplotlib.axes._subplots.AxesSubplot object at 0x7f72fb33a890>,\n",
       "        <matplotlib.axes._subplots.AxesSubplot object at 0x7f72fb2f0e50>,\n",
       "        <matplotlib.axes._subplots.AxesSubplot object at 0x7f72fb2f0e90>],\n",
       "       [<matplotlib.axes._subplots.AxesSubplot object at 0x7f72fb2b1650>,\n",
       "        <matplotlib.axes._subplots.AxesSubplot object at 0x7f72fb229290>,\n",
       "        <matplotlib.axes._subplots.AxesSubplot object at 0x7f72fb1de910>]],\n",
       "      dtype=object)"
      ]
     },
     "execution_count": 37,
     "metadata": {
      "tags": []
     },
     "output_type": "execute_result"
    },
    {
     "data": {
      "image/png": "[encoded data removed]",
      "text/plain": [
       "<Figure size 432x288 with 12 Axes>"
      ]
     },
     "metadata": {
      "needs_background": "light",
      "tags": []
     },
     "output_type": "display_data"
    }
   ],
   "source": [
    "union.hist()"
   ]
  },
  {
   "cell_type": "markdown",
   "metadata": {
    "id": "67_11hLbpkqr"
   },
   "source": [
    "14. Realice el diagrama de caja y bigotes de todas las columnas "
   ]
  },
  {
   "cell_type": "code",
   "execution_count": null,
   "metadata": {
    "colab": {
     "base_uri": "https://localhost:8080/",
     "height": 293
    },
    "executionInfo": {
     "elapsed": 891,
     "status": "ok",
     "timestamp": 1618852301290,
     "user": {
      "displayName": "STIWARD JHERIKOF CARRILLO RAMIREZ",
      "photoUrl": "https://lh3.googleusercontent.com/a-/AOh14GjfzniVHGCh7d3_wtWDwsXC_iVN1kQfXdo12vF_cQ=s64",
      "userId": "14913105575458408419"
     },
     "user_tz": 300
    },
    "id": "eZFNF5g-pkqr",
    "outputId": "3a178bfc-e4f4-476e-a65a-3e9aa55f6132"
   },
   "outputs": [
    {
     "data": {
      "text/plain": [
       "<matplotlib.axes._subplots.AxesSubplot at 0x7f72f9099bd0>"
      ]
     },
     "execution_count": 57,
     "metadata": {
      "tags": []
     },
     "output_type": "execute_result"
    },
    {
     "data": {
      "image/png": "[encoded data removed]",
      "text/plain": [
       "<Figure size 432x288 with 1 Axes>"
      ]
     },
     "metadata": {
      "needs_background": "light",
      "tags": []
     },
     "output_type": "display_data"
    }
   ],
   "source": [
    "grafica = union.boxplot()\n",
    "grafica"
   ]
  },
  {
   "cell_type": "code",
   "execution_count": null,
   "metadata": {
    "colab": {
     "base_uri": "https://localhost:8080/",
     "height": 265
    },
    "executionInfo": {
     "elapsed": 748,
     "status": "ok",
     "timestamp": 1618852742297,
     "user": {
      "displayName": "STIWARD JHERIKOF CARRILLO RAMIREZ",
      "photoUrl": "https://lh3.googleusercontent.com/a-/AOh14GjfzniVHGCh7d3_wtWDwsXC_iVN1kQfXdo12vF_cQ=s64",
      "userId": "14913105575458408419"
     },
     "user_tz": 300
    },
    "id": "K5zLzrtAHn20",
    "outputId": "6f8a94e2-8248-4bda-befa-8764280da3a7"
   },
   "outputs": [
    {
     "data": {
      "image/png": "[encoded data removed]",
      "text/plain": [
       "<Figure size 432x288 with 1 Axes>"
      ]
     },
     "metadata": {
      "needs_background": "light",
      "tags": []
     },
     "output_type": "display_data"
    }
   ],
   "source": [
    "plt.hist(datos.iloc[[],[1]])\n",
    "plt.show()"
   ]
  },
  {
   "cell_type": "code",
   "execution_count": null,
   "metadata": {
    "colab": {
     "base_uri": "https://localhost:8080/",
     "height": 516
    },
    "executionInfo": {
     "elapsed": 763,
     "status": "ok",
     "timestamp": 1618852891207,
     "user": {
      "displayName": "STIWARD JHERIKOF CARRILLO RAMIREZ",
      "photoUrl": "https://lh3.googleusercontent.com/a-/AOh14GjfzniVHGCh7d3_wtWDwsXC_iVN1kQfXdo12vF_cQ=s64",
      "userId": "14913105575458408419"
     },
     "user_tz": 300
    },
    "id": "WEHY0iDEJWZl",
    "outputId": "106077e3-8bdb-47f1-bb0f-fc162d3cf9c7"
   },
   "outputs": [
    {
     "name": "stdout",
     "output_type": "stream",
     "text": [
      "       Date  Price\n",
      "0  April-10      3\n",
      "1  April-10      1\n",
      "2  April-11      2\n",
      "3  April-11      4\n",
      "4  April-11      5\n"
     ]
    },
    {
     "name": "stderr",
     "output_type": "stream",
     "text": [
      "/usr/local/lib/python3.7/dist-packages/numpy/core/_asarray.py:83: VisibleDeprecationWarning: Creating an ndarray from ragged nested sequences (which is a list-or-tuple of lists-or-tuples-or ndarrays with different lengths or shapes) is deprecated. If you meant to do this, you must specify 'dtype=object' when creating the ndarray\n",
      "  return array(a, dtype, copy=False, order=order)\n"
     ]
    },
    {
     "data": {
      "text/plain": [
       "[]"
      ]
     },
     "execution_count": 74,
     "metadata": {
      "tags": []
     },
     "output_type": "execute_result"
    },
    {
     "data": {
      "image/png": "[encoded data removed]",
      "text/plain": [
       "<Figure size 432x288 with 1 Axes>"
      ]
     },
     "metadata": {
      "needs_background": "light",
      "tags": []
     },
     "output_type": "display_data"
    }
   ],
   "source": [
    "dates=['April-10', 'April-10', 'April-11', 'April-11','April-11']\n",
    "prices=[3, 1, 2, 4,5]\n",
    "\n",
    "df = pd.DataFrame({'Date':dates ,\n",
    "                   'Price': prices})\n",
    "print(df)\n",
    "\n",
    "boxplot = df.boxplot(column=['Price'],by=\"Date\",grid=False, rot=45, fontsize=15)\n",
    "boxplot.plot()"
   ]
  },
  {
   "cell_type": "markdown",
   "metadata": {
    "id": "d8WUZ8m1pkqr"
   },
   "source": [
    "15. Cree un nuevo DF sin la columna class llamado datos_sin_class"
   ]
  },
  {
   "cell_type": "code",
   "execution_count": null,
   "metadata": {
    "colab": {
     "base_uri": "https://localhost:8080/",
     "height": 436
    },
    "executionInfo": {
     "elapsed": 580,
     "status": "ok",
     "timestamp": 1618850843174,
     "user": {
      "displayName": "STIWARD JHERIKOF CARRILLO RAMIREZ",
      "photoUrl": "https://lh3.googleusercontent.com/a-/AOh14GjfzniVHGCh7d3_wtWDwsXC_iVN1kQfXdo12vF_cQ=s64",
      "userId": "14913105575458408419"
     },
     "user_tz": 300
    },
    "id": "jzO9s3yPpkqr",
    "outputId": "a8df16c9-5f70-4367-a34f-150dfffcecf5"
   },
   "outputs": [
    {
     "data": {
      "text/html": [
       "<div>\n",
       "<style scoped>\n",
       "    .dataframe tbody tr th:only-of-type {\n",
       "        vertical-align: middle;\n",
       "    }\n",
       "\n",
       "    .dataframe tbody tr th {\n",
       "        vertical-align: top;\n",
       "    }\n",
       "\n",
       "    .dataframe thead th {\n",
       "        text-align: right;\n",
       "    }\n",
       "</style>\n",
       "<table border=\"1\" class=\"dataframe\">\n",
       "  <thead>\n",
       "    <tr style=\"text-align: right;\">\n",
       "      <th></th>\n",
       "      <th>Sample code number</th>\n",
       "      <th>Clump Thickness</th>\n",
       "      <th>Uniformity of Cell Size</th>\n",
       "      <th>Uniformity of Cell Shape</th>\n",
       "      <th>Marginal Adhesion</th>\n",
       "      <th>Single Epithelial Cell Size</th>\n",
       "      <th>Bare Nuclei</th>\n",
       "      <th>Bland Chromatin</th>\n",
       "      <th>Normal Nucleoli</th>\n",
       "      <th>Mitoses</th>\n",
       "      <th>Benigno</th>\n",
       "      <th>Maligno</th>\n",
       "    </tr>\n",
       "  </thead>\n",
       "  <tbody>\n",
       "    <tr>\n",
       "      <th>0</th>\n",
       "      <td>1000025</td>\n",
       "      <td>5</td>\n",
       "      <td>1</td>\n",
       "      <td>1</td>\n",
       "      <td>1</td>\n",
       "      <td>2</td>\n",
       "      <td>1</td>\n",
       "      <td>3</td>\n",
       "      <td>1</td>\n",
       "      <td>1</td>\n",
       "      <td>1</td>\n",
       "      <td>0</td>\n",
       "    </tr>\n",
       "    <tr>\n",
       "      <th>1</th>\n",
       "      <td>1002945</td>\n",
       "      <td>5</td>\n",
       "      <td>4</td>\n",
       "      <td>4</td>\n",
       "      <td>5</td>\n",
       "      <td>7</td>\n",
       "      <td>10</td>\n",
       "      <td>3</td>\n",
       "      <td>2</td>\n",
       "      <td>1</td>\n",
       "      <td>1</td>\n",
       "      <td>0</td>\n",
       "    </tr>\n",
       "    <tr>\n",
       "      <th>2</th>\n",
       "      <td>1015425</td>\n",
       "      <td>3</td>\n",
       "      <td>1</td>\n",
       "      <td>1</td>\n",
       "      <td>1</td>\n",
       "      <td>2</td>\n",
       "      <td>2</td>\n",
       "      <td>3</td>\n",
       "      <td>1</td>\n",
       "      <td>1</td>\n",
       "      <td>1</td>\n",
       "      <td>0</td>\n",
       "    </tr>\n",
       "    <tr>\n",
       "      <th>3</th>\n",
       "      <td>1016277</td>\n",
       "      <td>6</td>\n",
       "      <td>8</td>\n",
       "      <td>8</td>\n",
       "      <td>1</td>\n",
       "      <td>3</td>\n",
       "      <td>4</td>\n",
       "      <td>3</td>\n",
       "      <td>7</td>\n",
       "      <td>1</td>\n",
       "      <td>1</td>\n",
       "      <td>0</td>\n",
       "    </tr>\n",
       "    <tr>\n",
       "      <th>4</th>\n",
       "      <td>1017023</td>\n",
       "      <td>4</td>\n",
       "      <td>1</td>\n",
       "      <td>1</td>\n",
       "      <td>3</td>\n",
       "      <td>2</td>\n",
       "      <td>1</td>\n",
       "      <td>3</td>\n",
       "      <td>1</td>\n",
       "      <td>1</td>\n",
       "      <td>1</td>\n",
       "      <td>0</td>\n",
       "    </tr>\n",
       "    <tr>\n",
       "      <th>...</th>\n",
       "      <td>...</td>\n",
       "      <td>...</td>\n",
       "      <td>...</td>\n",
       "      <td>...</td>\n",
       "      <td>...</td>\n",
       "      <td>...</td>\n",
       "      <td>...</td>\n",
       "      <td>...</td>\n",
       "      <td>...</td>\n",
       "      <td>...</td>\n",
       "      <td>...</td>\n",
       "      <td>...</td>\n",
       "    </tr>\n",
       "    <tr>\n",
       "      <th>694</th>\n",
       "      <td>776715</td>\n",
       "      <td>3</td>\n",
       "      <td>1</td>\n",
       "      <td>1</td>\n",
       "      <td>1</td>\n",
       "      <td>3</td>\n",
       "      <td>2</td>\n",
       "      <td>1</td>\n",
       "      <td>1</td>\n",
       "      <td>1</td>\n",
       "      <td>1</td>\n",
       "      <td>0</td>\n",
       "    </tr>\n",
       "    <tr>\n",
       "      <th>695</th>\n",
       "      <td>841769</td>\n",
       "      <td>2</td>\n",
       "      <td>1</td>\n",
       "      <td>1</td>\n",
       "      <td>1</td>\n",
       "      <td>2</td>\n",
       "      <td>1</td>\n",
       "      <td>1</td>\n",
       "      <td>1</td>\n",
       "      <td>1</td>\n",
       "      <td>1</td>\n",
       "      <td>0</td>\n",
       "    </tr>\n",
       "    <tr>\n",
       "      <th>696</th>\n",
       "      <td>888820</td>\n",
       "      <td>5</td>\n",
       "      <td>10</td>\n",
       "      <td>10</td>\n",
       "      <td>3</td>\n",
       "      <td>7</td>\n",
       "      <td>3</td>\n",
       "      <td>8</td>\n",
       "      <td>10</td>\n",
       "      <td>2</td>\n",
       "      <td>0</td>\n",
       "      <td>1</td>\n",
       "    </tr>\n",
       "    <tr>\n",
       "      <th>697</th>\n",
       "      <td>897471</td>\n",
       "      <td>4</td>\n",
       "      <td>8</td>\n",
       "      <td>6</td>\n",
       "      <td>4</td>\n",
       "      <td>3</td>\n",
       "      <td>4</td>\n",
       "      <td>10</td>\n",
       "      <td>6</td>\n",
       "      <td>1</td>\n",
       "      <td>0</td>\n",
       "      <td>1</td>\n",
       "    </tr>\n",
       "    <tr>\n",
       "      <th>698</th>\n",
       "      <td>897471</td>\n",
       "      <td>4</td>\n",
       "      <td>8</td>\n",
       "      <td>8</td>\n",
       "      <td>5</td>\n",
       "      <td>4</td>\n",
       "      <td>5</td>\n",
       "      <td>10</td>\n",
       "      <td>4</td>\n",
       "      <td>1</td>\n",
       "      <td>0</td>\n",
       "      <td>1</td>\n",
       "    </tr>\n",
       "  </tbody>\n",
       "</table>\n",
       "<p>699 rows × 12 columns</p>\n",
       "</div>"
      ],
      "text/plain": [
       "     Sample code number  Clump Thickness  ...  Benigno  Maligno\n",
       "0               1000025                5  ...        1        0\n",
       "1               1002945                5  ...        1        0\n",
       "2               1015425                3  ...        1        0\n",
       "3               1016277                6  ...        1        0\n",
       "4               1017023                4  ...        1        0\n",
       "..                  ...              ...  ...      ...      ...\n",
       "694              776715                3  ...        1        0\n",
       "695              841769                2  ...        1        0\n",
       "696              888820                5  ...        0        1\n",
       "697              897471                4  ...        0        1\n",
       "698              897471                4  ...        0        1\n",
       "\n",
       "[699 rows x 12 columns]"
      ]
     },
     "execution_count": 40,
     "metadata": {
      "tags": []
     },
     "output_type": "execute_result"
    }
   ],
   "source": [
    "datos_sin_class = union.drop([\"Class\"], axis=1)\n",
    "datos_sin_class"
   ]
  },
  {
   "cell_type": "markdown",
   "metadata": {
    "id": "jjoFYaYOpkqr"
   },
   "source": [
    "16. Muestre la fila 4 y 15 de datos"
   ]
  },
  {
   "cell_type": "code",
   "execution_count": null,
   "metadata": {
    "id": "USxOIKu4pkqr"
   },
   "outputs": [],
   "source": [
    "datos_sin_class.loc()"
   ]
  },
  {
   "cell_type": "code",
   "execution_count": null,
   "metadata": {
    "colab": {
     "base_uri": "https://localhost:8080/",
     "height": 128
    },
    "executionInfo": {
     "elapsed": 471,
     "status": "ok",
     "timestamp": 1618851193898,
     "user": {
      "displayName": "STIWARD JHERIKOF CARRILLO RAMIREZ",
      "photoUrl": "https://lh3.googleusercontent.com/a-/AOh14GjfzniVHGCh7d3_wtWDwsXC_iVN1kQfXdo12vF_cQ=s64",
      "userId": "14913105575458408419"
     },
     "user_tz": 300
    },
    "id": "-NaKr7vqCMvd",
    "outputId": "b91ee0db-f820-42cf-eb0f-ddd89902da16"
   },
   "outputs": [
    {
     "data": {
      "text/html": [
       "<div>\n",
       "<style scoped>\n",
       "    .dataframe tbody tr th:only-of-type {\n",
       "        vertical-align: middle;\n",
       "    }\n",
       "\n",
       "    .dataframe tbody tr th {\n",
       "        vertical-align: top;\n",
       "    }\n",
       "\n",
       "    .dataframe thead th {\n",
       "        text-align: right;\n",
       "    }\n",
       "</style>\n",
       "<table border=\"1\" class=\"dataframe\">\n",
       "  <thead>\n",
       "    <tr style=\"text-align: right;\">\n",
       "      <th></th>\n",
       "      <th>Sample code number</th>\n",
       "      <th>Clump Thickness</th>\n",
       "      <th>Uniformity of Cell Size</th>\n",
       "      <th>Uniformity of Cell Shape</th>\n",
       "      <th>Marginal Adhesion</th>\n",
       "      <th>Single Epithelial Cell Size</th>\n",
       "      <th>Bare Nuclei</th>\n",
       "      <th>Bland Chromatin</th>\n",
       "      <th>Normal Nucleoli</th>\n",
       "      <th>Mitoses</th>\n",
       "      <th>Benigno</th>\n",
       "      <th>Maligno</th>\n",
       "    </tr>\n",
       "  </thead>\n",
       "  <tbody>\n",
       "    <tr>\n",
       "      <th>4</th>\n",
       "      <td>1017023</td>\n",
       "      <td>4</td>\n",
       "      <td>1</td>\n",
       "      <td>1</td>\n",
       "      <td>3</td>\n",
       "      <td>2</td>\n",
       "      <td>1</td>\n",
       "      <td>3</td>\n",
       "      <td>1</td>\n",
       "      <td>1</td>\n",
       "      <td>1</td>\n",
       "      <td>0</td>\n",
       "    </tr>\n",
       "    <tr>\n",
       "      <th>15</th>\n",
       "      <td>1047630</td>\n",
       "      <td>7</td>\n",
       "      <td>4</td>\n",
       "      <td>6</td>\n",
       "      <td>4</td>\n",
       "      <td>6</td>\n",
       "      <td>1</td>\n",
       "      <td>4</td>\n",
       "      <td>3</td>\n",
       "      <td>1</td>\n",
       "      <td>0</td>\n",
       "      <td>1</td>\n",
       "    </tr>\n",
       "  </tbody>\n",
       "</table>\n",
       "</div>"
      ],
      "text/plain": [
       "    Sample code number  Clump Thickness  ...  Benigno  Maligno\n",
       "4              1017023                4  ...        1        0\n",
       "15             1047630                7  ...        0        1\n",
       "\n",
       "[2 rows x 12 columns]"
      ]
     },
     "execution_count": 42,
     "metadata": {
      "tags": []
     },
     "output_type": "execute_result"
    }
   ],
   "source": [
    "row = datos_sin_class.iloc[[4,15],]\n",
    "row"
   ]
  },
  {
   "cell_type": "markdown",
   "metadata": {
    "id": "bnHzEZ15pkqr"
   },
   "source": [
    "17. muestre la fila 8 y 10 con solo las columnas 1, 3, 6 de datos"
   ]
  },
  {
   "cell_type": "code",
   "execution_count": null,
   "metadata": {
    "colab": {
     "base_uri": "https://localhost:8080/",
     "height": 111
    },
    "executionInfo": {
     "elapsed": 475,
     "status": "ok",
     "timestamp": 1618851273580,
     "user": {
      "displayName": "STIWARD JHERIKOF CARRILLO RAMIREZ",
      "photoUrl": "https://lh3.googleusercontent.com/a-/AOh14GjfzniVHGCh7d3_wtWDwsXC_iVN1kQfXdo12vF_cQ=s64",
      "userId": "14913105575458408419"
     },
     "user_tz": 300
    },
    "id": "gYybjH-Cpkqs",
    "outputId": "6ae0dce0-0709-4b91-c507-e2680195b4bb"
   },
   "outputs": [
    {
     "data": {
      "text/html": [
       "<div>\n",
       "<style scoped>\n",
       "    .dataframe tbody tr th:only-of-type {\n",
       "        vertical-align: middle;\n",
       "    }\n",
       "\n",
       "    .dataframe tbody tr th {\n",
       "        vertical-align: top;\n",
       "    }\n",
       "\n",
       "    .dataframe thead th {\n",
       "        text-align: right;\n",
       "    }\n",
       "</style>\n",
       "<table border=\"1\" class=\"dataframe\">\n",
       "  <thead>\n",
       "    <tr style=\"text-align: right;\">\n",
       "      <th></th>\n",
       "      <th>Clump Thickness</th>\n",
       "      <th>Uniformity of Cell Shape</th>\n",
       "      <th>Bare Nuclei</th>\n",
       "    </tr>\n",
       "  </thead>\n",
       "  <tbody>\n",
       "    <tr>\n",
       "      <th>8</th>\n",
       "      <td>2</td>\n",
       "      <td>1</td>\n",
       "      <td>1</td>\n",
       "    </tr>\n",
       "    <tr>\n",
       "      <th>10</th>\n",
       "      <td>1</td>\n",
       "      <td>1</td>\n",
       "      <td>1</td>\n",
       "    </tr>\n",
       "  </tbody>\n",
       "</table>\n",
       "</div>"
      ],
      "text/plain": [
       "    Clump Thickness  Uniformity of Cell Shape Bare Nuclei\n",
       "8                 2                         1           1\n",
       "10                1                         1           1"
      ]
     },
     "execution_count": 43,
     "metadata": {
      "tags": []
     },
     "output_type": "execute_result"
    }
   ],
   "source": [
    "rowI = datos_sin_class.iloc[[8,10],[1,3,6]]\n",
    "rowI"
   ]
  },
  {
   "cell_type": "markdown",
   "metadata": {
    "id": "uRbOAL8upkqs"
   },
   "source": [
    "18. muestre las filas 11, 15, 18 con las columnas de datos Sample code number y Clump Thickness\n"
   ]
  },
  {
   "cell_type": "code",
   "execution_count": null,
   "metadata": {
    "colab": {
     "base_uri": "https://localhost:8080/",
     "height": 142
    },
    "executionInfo": {
     "elapsed": 754,
     "status": "ok",
     "timestamp": 1618851379074,
     "user": {
      "displayName": "STIWARD JHERIKOF CARRILLO RAMIREZ",
      "photoUrl": "https://lh3.googleusercontent.com/a-/AOh14GjfzniVHGCh7d3_wtWDwsXC_iVN1kQfXdo12vF_cQ=s64",
      "userId": "14913105575458408419"
     },
     "user_tz": 300
    },
    "id": "qIPbz5N0pkqs",
    "outputId": "06f7e8ae-15dc-4e20-9bdc-7af8255f434b"
   },
   "outputs": [
    {
     "data": {
      "text/html": [
       "<div>\n",
       "<style scoped>\n",
       "    .dataframe tbody tr th:only-of-type {\n",
       "        vertical-align: middle;\n",
       "    }\n",
       "\n",
       "    .dataframe tbody tr th {\n",
       "        vertical-align: top;\n",
       "    }\n",
       "\n",
       "    .dataframe thead th {\n",
       "        text-align: right;\n",
       "    }\n",
       "</style>\n",
       "<table border=\"1\" class=\"dataframe\">\n",
       "  <thead>\n",
       "    <tr style=\"text-align: right;\">\n",
       "      <th></th>\n",
       "      <th>Sample code number</th>\n",
       "      <th>Clump Thickness</th>\n",
       "    </tr>\n",
       "  </thead>\n",
       "  <tbody>\n",
       "    <tr>\n",
       "      <th>11</th>\n",
       "      <td>1036172</td>\n",
       "      <td>2</td>\n",
       "    </tr>\n",
       "    <tr>\n",
       "      <th>15</th>\n",
       "      <td>1047630</td>\n",
       "      <td>7</td>\n",
       "    </tr>\n",
       "    <tr>\n",
       "      <th>18</th>\n",
       "      <td>1050670</td>\n",
       "      <td>10</td>\n",
       "    </tr>\n",
       "  </tbody>\n",
       "</table>\n",
       "</div>"
      ],
      "text/plain": [
       "    Sample code number  Clump Thickness\n",
       "11             1036172                2\n",
       "15             1047630                7\n",
       "18             1050670               10"
      ]
     },
     "execution_count": 46,
     "metadata": {
      "tags": []
     },
     "output_type": "execute_result"
    }
   ],
   "source": [
    "rowII = datos_sin_class.loc[[11,15,18],[\"Sample code number\",\"Clump Thickness\"]]\n",
    "rowII"
   ]
  },
  {
   "cell_type": "markdown",
   "metadata": {
    "id": "P64CvFOFpkqs"
   },
   "source": [
    "19. Realice una grafica tipo scatter que muestre la relacion entre \"class\" y \"Single Epithelial Cell Size\""
   ]
  },
  {
   "cell_type": "code",
   "execution_count": null,
   "metadata": {
    "colab": {
     "base_uri": "https://localhost:8080/",
     "height": 282
    },
    "executionInfo": {
     "elapsed": 1921,
     "status": "ok",
     "timestamp": 1618852265391,
     "user": {
      "displayName": "STIWARD JHERIKOF CARRILLO RAMIREZ",
      "photoUrl": "https://lh3.googleusercontent.com/a-/AOh14GjfzniVHGCh7d3_wtWDwsXC_iVN1kQfXdo12vF_cQ=s64",
      "userId": "14913105575458408419"
     },
     "user_tz": 300
    },
    "id": "ShEhM0SDpkqt",
    "outputId": "75727502-0d18-4d12-b25a-3359c8b0e1ba"
   },
   "outputs": [
    {
     "data": {
      "text/plain": [
       "<matplotlib.collections.PathCollection at 0x7f72f90e9690>"
      ]
     },
     "execution_count": 55,
     "metadata": {
      "tags": []
     },
     "output_type": "execute_result"
    },
    {
     "data": {
      "image/png": "[encoded data removed]",
      "text/plain": [
       "<Figure size 432x288 with 1 Axes>"
      ]
     },
     "metadata": {
      "needs_background": "light",
      "tags": []
     },
     "output_type": "display_data"
    }
   ],
   "source": [
    "plt.scatter(datos[\"Class\"],datos[\"Single Epithelial Cell Size\"])"
   ]
  },
  {
   "cell_type": "markdown",
   "metadata": {
    "id": "qDwUs8IJpkqt"
   },
   "source": [
    "20. muestre las filas cuya \"Single Epithelial Cell Size\" sea mayor a 5"
   ]
  },
  {
   "cell_type": "code",
   "execution_count": null,
   "metadata": {
    "colab": {
     "base_uri": "https://localhost:8080/",
     "height": 436
    },
    "executionInfo": {
     "elapsed": 489,
     "status": "ok",
     "timestamp": 1618851860412,
     "user": {
      "displayName": "STIWARD JHERIKOF CARRILLO RAMIREZ",
      "photoUrl": "https://lh3.googleusercontent.com/a-/AOh14GjfzniVHGCh7d3_wtWDwsXC_iVN1kQfXdo12vF_cQ=s64",
      "userId": "14913105575458408419"
     },
     "user_tz": 300
    },
    "id": "SwJbuTXcpkqt",
    "outputId": "845924ab-0669-4cd9-87f5-d06b77b94232"
   },
   "outputs": [
    {
     "data": {
      "text/html": [
       "<div>\n",
       "<style scoped>\n",
       "    .dataframe tbody tr th:only-of-type {\n",
       "        vertical-align: middle;\n",
       "    }\n",
       "\n",
       "    .dataframe tbody tr th {\n",
       "        vertical-align: top;\n",
       "    }\n",
       "\n",
       "    .dataframe thead th {\n",
       "        text-align: right;\n",
       "    }\n",
       "</style>\n",
       "<table border=\"1\" class=\"dataframe\">\n",
       "  <thead>\n",
       "    <tr style=\"text-align: right;\">\n",
       "      <th></th>\n",
       "      <th>Sample code number</th>\n",
       "      <th>Clump Thickness</th>\n",
       "      <th>Uniformity of Cell Size</th>\n",
       "      <th>Uniformity of Cell Shape</th>\n",
       "      <th>Marginal Adhesion</th>\n",
       "      <th>Single Epithelial Cell Size</th>\n",
       "      <th>Bare Nuclei</th>\n",
       "      <th>Bland Chromatin</th>\n",
       "      <th>Normal Nucleoli</th>\n",
       "      <th>Mitoses</th>\n",
       "      <th>Class</th>\n",
       "    </tr>\n",
       "  </thead>\n",
       "  <tbody>\n",
       "    <tr>\n",
       "      <th>1</th>\n",
       "      <td>1002945</td>\n",
       "      <td>5</td>\n",
       "      <td>4</td>\n",
       "      <td>4</td>\n",
       "      <td>5</td>\n",
       "      <td>7</td>\n",
       "      <td>10</td>\n",
       "      <td>3</td>\n",
       "      <td>2</td>\n",
       "      <td>1</td>\n",
       "      <td>2</td>\n",
       "    </tr>\n",
       "    <tr>\n",
       "      <th>5</th>\n",
       "      <td>1017122</td>\n",
       "      <td>8</td>\n",
       "      <td>10</td>\n",
       "      <td>10</td>\n",
       "      <td>8</td>\n",
       "      <td>7</td>\n",
       "      <td>10</td>\n",
       "      <td>9</td>\n",
       "      <td>7</td>\n",
       "      <td>1</td>\n",
       "      <td>4</td>\n",
       "    </tr>\n",
       "    <tr>\n",
       "      <th>14</th>\n",
       "      <td>1044572</td>\n",
       "      <td>8</td>\n",
       "      <td>7</td>\n",
       "      <td>5</td>\n",
       "      <td>10</td>\n",
       "      <td>7</td>\n",
       "      <td>9</td>\n",
       "      <td>5</td>\n",
       "      <td>5</td>\n",
       "      <td>4</td>\n",
       "      <td>4</td>\n",
       "    </tr>\n",
       "    <tr>\n",
       "      <th>15</th>\n",
       "      <td>1047630</td>\n",
       "      <td>7</td>\n",
       "      <td>4</td>\n",
       "      <td>6</td>\n",
       "      <td>4</td>\n",
       "      <td>6</td>\n",
       "      <td>1</td>\n",
       "      <td>4</td>\n",
       "      <td>3</td>\n",
       "      <td>1</td>\n",
       "      <td>4</td>\n",
       "    </tr>\n",
       "    <tr>\n",
       "      <th>21</th>\n",
       "      <td>1054593</td>\n",
       "      <td>10</td>\n",
       "      <td>5</td>\n",
       "      <td>5</td>\n",
       "      <td>3</td>\n",
       "      <td>6</td>\n",
       "      <td>7</td>\n",
       "      <td>7</td>\n",
       "      <td>10</td>\n",
       "      <td>1</td>\n",
       "      <td>4</td>\n",
       "    </tr>\n",
       "    <tr>\n",
       "      <th>...</th>\n",
       "      <td>...</td>\n",
       "      <td>...</td>\n",
       "      <td>...</td>\n",
       "      <td>...</td>\n",
       "      <td>...</td>\n",
       "      <td>...</td>\n",
       "      <td>...</td>\n",
       "      <td>...</td>\n",
       "      <td>...</td>\n",
       "      <td>...</td>\n",
       "      <td>...</td>\n",
       "    </tr>\n",
       "    <tr>\n",
       "      <th>636</th>\n",
       "      <td>1268952</td>\n",
       "      <td>10</td>\n",
       "      <td>10</td>\n",
       "      <td>7</td>\n",
       "      <td>8</td>\n",
       "      <td>7</td>\n",
       "      <td>1</td>\n",
       "      <td>10</td>\n",
       "      <td>10</td>\n",
       "      <td>3</td>\n",
       "      <td>4</td>\n",
       "    </tr>\n",
       "    <tr>\n",
       "      <th>648</th>\n",
       "      <td>1315807</td>\n",
       "      <td>5</td>\n",
       "      <td>10</td>\n",
       "      <td>10</td>\n",
       "      <td>10</td>\n",
       "      <td>10</td>\n",
       "      <td>2</td>\n",
       "      <td>10</td>\n",
       "      <td>10</td>\n",
       "      <td>10</td>\n",
       "      <td>4</td>\n",
       "    </tr>\n",
       "    <tr>\n",
       "      <th>657</th>\n",
       "      <td>1333877</td>\n",
       "      <td>5</td>\n",
       "      <td>4</td>\n",
       "      <td>5</td>\n",
       "      <td>1</td>\n",
       "      <td>8</td>\n",
       "      <td>1</td>\n",
       "      <td>3</td>\n",
       "      <td>6</td>\n",
       "      <td>1</td>\n",
       "      <td>2</td>\n",
       "    </tr>\n",
       "    <tr>\n",
       "      <th>668</th>\n",
       "      <td>1350319</td>\n",
       "      <td>5</td>\n",
       "      <td>7</td>\n",
       "      <td>4</td>\n",
       "      <td>1</td>\n",
       "      <td>6</td>\n",
       "      <td>1</td>\n",
       "      <td>7</td>\n",
       "      <td>10</td>\n",
       "      <td>3</td>\n",
       "      <td>4</td>\n",
       "    </tr>\n",
       "    <tr>\n",
       "      <th>696</th>\n",
       "      <td>888820</td>\n",
       "      <td>5</td>\n",
       "      <td>10</td>\n",
       "      <td>10</td>\n",
       "      <td>3</td>\n",
       "      <td>7</td>\n",
       "      <td>3</td>\n",
       "      <td>8</td>\n",
       "      <td>10</td>\n",
       "      <td>2</td>\n",
       "      <td>4</td>\n",
       "    </tr>\n",
       "  </tbody>\n",
       "</table>\n",
       "<p>107 rows × 11 columns</p>\n",
       "</div>"
      ],
      "text/plain": [
       "     Sample code number  Clump Thickness  ...  Mitoses  Class\n",
       "1               1002945                5  ...        1      2\n",
       "5               1017122                8  ...        1      4\n",
       "14              1044572                8  ...        4      4\n",
       "15              1047630                7  ...        1      4\n",
       "21              1054593               10  ...        1      4\n",
       "..                  ...              ...  ...      ...    ...\n",
       "636             1268952               10  ...        3      4\n",
       "648             1315807                5  ...       10      4\n",
       "657             1333877                5  ...        1      2\n",
       "668             1350319                5  ...        3      4\n",
       "696              888820                5  ...        2      4\n",
       "\n",
       "[107 rows x 11 columns]"
      ]
     },
     "execution_count": 51,
     "metadata": {
      "tags": []
     },
     "output_type": "execute_result"
    }
   ],
   "source": [
    "rowIII = datos[datos[\"Single Epithelial Cell Size\"] > 5]\n",
    "rowIII"
   ]
  },
  {
   "cell_type": "code",
   "execution_count": null,
   "metadata": {
    "id": "LYYq3NyQFw2f"
   },
   "outputs": [],
   "source": []
  }
 ],
 "metadata": {
  "colab": {
   "name": "EJERCICIO_EDA.ipynb",
   "provenance": []
  },
  "kernelspec": {
   "display_name": "Python 3",
   "language": "python",
   "name": "python3"
  },
  "language_info": {
   "codemirror_mode": {
    "name": "ipython",
    "version": 3
   },
   "file_extension": ".py",
   "mimetype": "text/x-python",
   "name": "python",
   "nbconvert_exporter": "python",
   "pygments_lexer": "ipython3",
   "version": "3.8.8"
  }
 },
 "nbformat": 4,
 "nbformat_minor": 1
}
